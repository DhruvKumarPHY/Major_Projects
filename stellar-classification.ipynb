{
 "cells": [
  {
   "cell_type": "code",
   "execution_count": 1,
   "id": "0a657b83",
   "metadata": {
    "_cell_guid": "b1076dfc-b9ad-4769-8c92-a6c4dae69d19",
    "_uuid": "8f2839f25d086af736a60e9eeb907d3b93b6e0e5",
    "execution": {
     "iopub.execute_input": "2022-08-16T15:45:06.334638Z",
     "iopub.status.busy": "2022-08-16T15:45:06.333636Z",
     "iopub.status.idle": "2022-08-16T15:45:06.356693Z",
     "shell.execute_reply": "2022-08-16T15:45:06.355477Z"
    },
    "papermill": {
     "duration": 0.037,
     "end_time": "2022-08-16T15:45:06.359189",
     "exception": false,
     "start_time": "2022-08-16T15:45:06.322189",
     "status": "completed"
    },
    "tags": []
   },
   "outputs": [
    {
     "name": "stdout",
     "output_type": "stream",
     "text": [
      "/kaggle/input/stellar-classification-dataset-sdss17/star_classification.csv\n"
     ]
    }
   ],
   "source": [
    "# This Python 3 environment comes with many helpful analytics libraries installed\n",
    "# It is defined by the kaggle/python Docker image: https://github.com/kaggle/docker-python\n",
    "# For example, here's several helpful packages to load\n",
    "\n",
    "import numpy as np # linear algebra\n",
    "import pandas as pd # data processing, CSV file I/O (e.g. pd.read_csv)\n",
    "import matplotlib.pyplot as plt\n",
    "# Input data files are available in the read-only \"../input/\" directory\n",
    "# For example, running this (by clicking run or pressing Shift+Enter) will list all files under the input directory\n",
    "\n",
    "import os\n",
    "for dirname, _, filenames in os.walk('/kaggle/input'):\n",
    "    for filename in filenames:\n",
    "        print(os.path.join(dirname, filename))\n",
    "\n",
    "# You can write up to 20GB to the current directory (/kaggle/working/) that gets preserved as output when you create a version using \"Save & Run All\" \n",
    "# You can also write temporary files to /kaggle/temp/, but they won't be saved outside of the current session"
   ]
  },
  {
   "cell_type": "code",
   "execution_count": 2,
   "id": "1d1a452b",
   "metadata": {
    "execution": {
     "iopub.execute_input": "2022-08-16T15:45:06.378205Z",
     "iopub.status.busy": "2022-08-16T15:45:06.377574Z",
     "iopub.status.idle": "2022-08-16T15:45:06.816354Z",
     "shell.execute_reply": "2022-08-16T15:45:06.815153Z"
    },
    "papermill": {
     "duration": 0.45128,
     "end_time": "2022-08-16T15:45:06.819090",
     "exception": false,
     "start_time": "2022-08-16T15:45:06.367810",
     "status": "completed"
    },
    "tags": []
   },
   "outputs": [
    {
     "data": {
      "text/html": [
       "<div>\n",
       "<style scoped>\n",
       "    .dataframe tbody tr th:only-of-type {\n",
       "        vertical-align: middle;\n",
       "    }\n",
       "\n",
       "    .dataframe tbody tr th {\n",
       "        vertical-align: top;\n",
       "    }\n",
       "\n",
       "    .dataframe thead th {\n",
       "        text-align: right;\n",
       "    }\n",
       "</style>\n",
       "<table border=\"1\" class=\"dataframe\">\n",
       "  <thead>\n",
       "    <tr style=\"text-align: right;\">\n",
       "      <th></th>\n",
       "      <th>obj_ID</th>\n",
       "      <th>alpha</th>\n",
       "      <th>delta</th>\n",
       "      <th>u</th>\n",
       "      <th>g</th>\n",
       "      <th>r</th>\n",
       "      <th>i</th>\n",
       "      <th>z</th>\n",
       "      <th>run_ID</th>\n",
       "      <th>rerun_ID</th>\n",
       "      <th>cam_col</th>\n",
       "      <th>field_ID</th>\n",
       "      <th>spec_obj_ID</th>\n",
       "      <th>class</th>\n",
       "      <th>redshift</th>\n",
       "      <th>plate</th>\n",
       "      <th>MJD</th>\n",
       "      <th>fiber_ID</th>\n",
       "    </tr>\n",
       "  </thead>\n",
       "  <tbody>\n",
       "    <tr>\n",
       "      <th>0</th>\n",
       "      <td>1.237661e+18</td>\n",
       "      <td>135.689107</td>\n",
       "      <td>32.494632</td>\n",
       "      <td>23.87882</td>\n",
       "      <td>22.27530</td>\n",
       "      <td>20.39501</td>\n",
       "      <td>19.16573</td>\n",
       "      <td>18.79371</td>\n",
       "      <td>3606</td>\n",
       "      <td>301</td>\n",
       "      <td>2</td>\n",
       "      <td>79</td>\n",
       "      <td>6.543777e+18</td>\n",
       "      <td>GALAXY</td>\n",
       "      <td>0.634794</td>\n",
       "      <td>5812</td>\n",
       "      <td>56354</td>\n",
       "      <td>171</td>\n",
       "    </tr>\n",
       "    <tr>\n",
       "      <th>1</th>\n",
       "      <td>1.237665e+18</td>\n",
       "      <td>144.826101</td>\n",
       "      <td>31.274185</td>\n",
       "      <td>24.77759</td>\n",
       "      <td>22.83188</td>\n",
       "      <td>22.58444</td>\n",
       "      <td>21.16812</td>\n",
       "      <td>21.61427</td>\n",
       "      <td>4518</td>\n",
       "      <td>301</td>\n",
       "      <td>5</td>\n",
       "      <td>119</td>\n",
       "      <td>1.176014e+19</td>\n",
       "      <td>GALAXY</td>\n",
       "      <td>0.779136</td>\n",
       "      <td>10445</td>\n",
       "      <td>58158</td>\n",
       "      <td>427</td>\n",
       "    </tr>\n",
       "    <tr>\n",
       "      <th>2</th>\n",
       "      <td>1.237661e+18</td>\n",
       "      <td>142.188790</td>\n",
       "      <td>35.582444</td>\n",
       "      <td>25.26307</td>\n",
       "      <td>22.66389</td>\n",
       "      <td>20.60976</td>\n",
       "      <td>19.34857</td>\n",
       "      <td>18.94827</td>\n",
       "      <td>3606</td>\n",
       "      <td>301</td>\n",
       "      <td>2</td>\n",
       "      <td>120</td>\n",
       "      <td>5.152200e+18</td>\n",
       "      <td>GALAXY</td>\n",
       "      <td>0.644195</td>\n",
       "      <td>4576</td>\n",
       "      <td>55592</td>\n",
       "      <td>299</td>\n",
       "    </tr>\n",
       "    <tr>\n",
       "      <th>3</th>\n",
       "      <td>1.237663e+18</td>\n",
       "      <td>338.741038</td>\n",
       "      <td>-0.402828</td>\n",
       "      <td>22.13682</td>\n",
       "      <td>23.77656</td>\n",
       "      <td>21.61162</td>\n",
       "      <td>20.50454</td>\n",
       "      <td>19.25010</td>\n",
       "      <td>4192</td>\n",
       "      <td>301</td>\n",
       "      <td>3</td>\n",
       "      <td>214</td>\n",
       "      <td>1.030107e+19</td>\n",
       "      <td>GALAXY</td>\n",
       "      <td>0.932346</td>\n",
       "      <td>9149</td>\n",
       "      <td>58039</td>\n",
       "      <td>775</td>\n",
       "    </tr>\n",
       "    <tr>\n",
       "      <th>4</th>\n",
       "      <td>1.237680e+18</td>\n",
       "      <td>345.282593</td>\n",
       "      <td>21.183866</td>\n",
       "      <td>19.43718</td>\n",
       "      <td>17.58028</td>\n",
       "      <td>16.49747</td>\n",
       "      <td>15.97711</td>\n",
       "      <td>15.54461</td>\n",
       "      <td>8102</td>\n",
       "      <td>301</td>\n",
       "      <td>3</td>\n",
       "      <td>137</td>\n",
       "      <td>6.891865e+18</td>\n",
       "      <td>GALAXY</td>\n",
       "      <td>0.116123</td>\n",
       "      <td>6121</td>\n",
       "      <td>56187</td>\n",
       "      <td>842</td>\n",
       "    </tr>\n",
       "  </tbody>\n",
       "</table>\n",
       "</div>"
      ],
      "text/plain": [
       "         obj_ID       alpha      delta         u         g         r  \\\n",
       "0  1.237661e+18  135.689107  32.494632  23.87882  22.27530  20.39501   \n",
       "1  1.237665e+18  144.826101  31.274185  24.77759  22.83188  22.58444   \n",
       "2  1.237661e+18  142.188790  35.582444  25.26307  22.66389  20.60976   \n",
       "3  1.237663e+18  338.741038  -0.402828  22.13682  23.77656  21.61162   \n",
       "4  1.237680e+18  345.282593  21.183866  19.43718  17.58028  16.49747   \n",
       "\n",
       "          i         z  run_ID  rerun_ID  cam_col  field_ID   spec_obj_ID  \\\n",
       "0  19.16573  18.79371    3606       301        2        79  6.543777e+18   \n",
       "1  21.16812  21.61427    4518       301        5       119  1.176014e+19   \n",
       "2  19.34857  18.94827    3606       301        2       120  5.152200e+18   \n",
       "3  20.50454  19.25010    4192       301        3       214  1.030107e+19   \n",
       "4  15.97711  15.54461    8102       301        3       137  6.891865e+18   \n",
       "\n",
       "    class  redshift  plate    MJD  fiber_ID  \n",
       "0  GALAXY  0.634794   5812  56354       171  \n",
       "1  GALAXY  0.779136  10445  58158       427  \n",
       "2  GALAXY  0.644195   4576  55592       299  \n",
       "3  GALAXY  0.932346   9149  58039       775  \n",
       "4  GALAXY  0.116123   6121  56187       842  "
      ]
     },
     "execution_count": 2,
     "metadata": {},
     "output_type": "execute_result"
    }
   ],
   "source": [
    "data = pd.read_csv('/kaggle/input/stellar-classification-dataset-sdss17/star_classification.csv')\n",
    "data.head(5)"
   ]
  },
  {
   "cell_type": "code",
   "execution_count": 3,
   "id": "d7363a6b",
   "metadata": {
    "execution": {
     "iopub.execute_input": "2022-08-16T15:45:06.838397Z",
     "iopub.status.busy": "2022-08-16T15:45:06.837820Z",
     "iopub.status.idle": "2022-08-16T15:45:06.868821Z",
     "shell.execute_reply": "2022-08-16T15:45:06.868029Z"
    },
    "papermill": {
     "duration": 0.043454,
     "end_time": "2022-08-16T15:45:06.871213",
     "exception": false,
     "start_time": "2022-08-16T15:45:06.827759",
     "status": "completed"
    },
    "tags": []
   },
   "outputs": [
    {
     "name": "stdout",
     "output_type": "stream",
     "text": [
      "<class 'pandas.core.frame.DataFrame'>\n",
      "RangeIndex: 100000 entries, 0 to 99999\n",
      "Data columns (total 18 columns):\n",
      " #   Column       Non-Null Count   Dtype  \n",
      "---  ------       --------------   -----  \n",
      " 0   obj_ID       100000 non-null  float64\n",
      " 1   alpha        100000 non-null  float64\n",
      " 2   delta        100000 non-null  float64\n",
      " 3   u            100000 non-null  float64\n",
      " 4   g            100000 non-null  float64\n",
      " 5   r            100000 non-null  float64\n",
      " 6   i            100000 non-null  float64\n",
      " 7   z            100000 non-null  float64\n",
      " 8   run_ID       100000 non-null  int64  \n",
      " 9   rerun_ID     100000 non-null  int64  \n",
      " 10  cam_col      100000 non-null  int64  \n",
      " 11  field_ID     100000 non-null  int64  \n",
      " 12  spec_obj_ID  100000 non-null  float64\n",
      " 13  class        100000 non-null  object \n",
      " 14  redshift     100000 non-null  float64\n",
      " 15  plate        100000 non-null  int64  \n",
      " 16  MJD          100000 non-null  int64  \n",
      " 17  fiber_ID     100000 non-null  int64  \n",
      "dtypes: float64(10), int64(7), object(1)\n",
      "memory usage: 13.7+ MB\n"
     ]
    }
   ],
   "source": [
    "data.info()"
   ]
  },
  {
   "cell_type": "code",
   "execution_count": 4,
   "id": "84794e54",
   "metadata": {
    "execution": {
     "iopub.execute_input": "2022-08-16T15:45:06.890560Z",
     "iopub.status.busy": "2022-08-16T15:45:06.890123Z",
     "iopub.status.idle": "2022-08-16T15:45:06.913329Z",
     "shell.execute_reply": "2022-08-16T15:45:06.912463Z"
    },
    "papermill": {
     "duration": 0.035675,
     "end_time": "2022-08-16T15:45:06.915733",
     "exception": false,
     "start_time": "2022-08-16T15:45:06.880058",
     "status": "completed"
    },
    "tags": []
   },
   "outputs": [
    {
     "name": "stdout",
     "output_type": "stream",
     "text": [
      "<class 'pandas.core.frame.DataFrame'>\n",
      "RangeIndex: 100000 entries, 0 to 99999\n",
      "Data columns (total 9 columns):\n",
      " #   Column    Non-Null Count   Dtype  \n",
      "---  ------    --------------   -----  \n",
      " 0   alpha     100000 non-null  float64\n",
      " 1   delta     100000 non-null  float64\n",
      " 2   u         100000 non-null  float64\n",
      " 3   g         100000 non-null  float64\n",
      " 4   r         100000 non-null  float64\n",
      " 5   i         100000 non-null  float64\n",
      " 6   z         100000 non-null  float64\n",
      " 7   class     100000 non-null  object \n",
      " 8   redshift  100000 non-null  float64\n",
      "dtypes: float64(8), object(1)\n",
      "memory usage: 6.9+ MB\n"
     ]
    }
   ],
   "source": [
    "# Here, i will first remove the columns which are not useful at all\n",
    "data.drop(data.columns[[0,8,9,10,11,12,15,16,17]],axis=1,inplace=True)\n",
    "data.info()"
   ]
  },
  {
   "cell_type": "code",
   "execution_count": 5,
   "id": "e313860e",
   "metadata": {
    "execution": {
     "iopub.execute_input": "2022-08-16T15:45:06.934661Z",
     "iopub.status.busy": "2022-08-16T15:45:06.934037Z",
     "iopub.status.idle": "2022-08-16T15:45:06.949211Z",
     "shell.execute_reply": "2022-08-16T15:45:06.948190Z"
    },
    "papermill": {
     "duration": 0.027005,
     "end_time": "2022-08-16T15:45:06.951344",
     "exception": false,
     "start_time": "2022-08-16T15:45:06.924339",
     "status": "completed"
    },
    "tags": []
   },
   "outputs": [
    {
     "data": {
      "text/plain": [
       "GALAXY    59445\n",
       "STAR      21594\n",
       "QSO       18961\n",
       "Name: class, dtype: int64"
      ]
     },
     "execution_count": 5,
     "metadata": {},
     "output_type": "execute_result"
    }
   ],
   "source": [
    "data['class'].value_counts()"
   ]
  },
  {
   "cell_type": "code",
   "execution_count": 6,
   "id": "31d844e7",
   "metadata": {
    "execution": {
     "iopub.execute_input": "2022-08-16T15:45:06.970610Z",
     "iopub.status.busy": "2022-08-16T15:45:06.969940Z",
     "iopub.status.idle": "2022-08-16T15:45:08.024469Z",
     "shell.execute_reply": "2022-08-16T15:45:08.023204Z"
    },
    "papermill": {
     "duration": 1.066807,
     "end_time": "2022-08-16T15:45:08.026840",
     "exception": false,
     "start_time": "2022-08-16T15:45:06.960033",
     "status": "completed"
    },
    "tags": []
   },
   "outputs": [
    {
     "data": {
      "text/plain": [
       "0    59445\n",
       "2    21594\n",
       "1    18961\n",
       "Name: class, dtype: int64"
      ]
     },
     "execution_count": 6,
     "metadata": {},
     "output_type": "execute_result"
    }
   ],
   "source": [
    "from sklearn.preprocessing import LabelEncoder\n",
    "le_class = LabelEncoder()\n",
    "data['class'] = le_class.fit_transform(data['class'])\n",
    "data['class'].value_counts()"
   ]
  },
  {
   "cell_type": "code",
   "execution_count": 7,
   "id": "1e3263fc",
   "metadata": {
    "execution": {
     "iopub.execute_input": "2022-08-16T15:45:08.046172Z",
     "iopub.status.busy": "2022-08-16T15:45:08.045789Z",
     "iopub.status.idle": "2022-08-16T15:45:08.060614Z",
     "shell.execute_reply": "2022-08-16T15:45:08.059079Z"
    },
    "papermill": {
     "duration": 0.027523,
     "end_time": "2022-08-16T15:45:08.063241",
     "exception": false,
     "start_time": "2022-08-16T15:45:08.035718",
     "status": "completed"
    },
    "tags": []
   },
   "outputs": [
    {
     "name": "stdout",
     "output_type": "stream",
     "text": [
      "<class 'pandas.core.frame.DataFrame'>\n",
      "RangeIndex: 100000 entries, 0 to 99999\n",
      "Data columns (total 9 columns):\n",
      " #   Column    Non-Null Count   Dtype  \n",
      "---  ------    --------------   -----  \n",
      " 0   alpha     100000 non-null  float64\n",
      " 1   delta     100000 non-null  float64\n",
      " 2   u         100000 non-null  float64\n",
      " 3   g         100000 non-null  float64\n",
      " 4   r         100000 non-null  float64\n",
      " 5   i         100000 non-null  float64\n",
      " 6   z         100000 non-null  float64\n",
      " 7   class     100000 non-null  int64  \n",
      " 8   redshift  100000 non-null  float64\n",
      "dtypes: float64(8), int64(1)\n",
      "memory usage: 6.9 MB\n"
     ]
    }
   ],
   "source": [
    "data.info()"
   ]
  },
  {
   "cell_type": "code",
   "execution_count": 8,
   "id": "5e971c9f",
   "metadata": {
    "execution": {
     "iopub.execute_input": "2022-08-16T15:45:08.084535Z",
     "iopub.status.busy": "2022-08-16T15:45:08.084113Z",
     "iopub.status.idle": "2022-08-16T15:45:08.092379Z",
     "shell.execute_reply": "2022-08-16T15:45:08.091503Z"
    },
    "papermill": {
     "duration": 0.02109,
     "end_time": "2022-08-16T15:45:08.094515",
     "exception": false,
     "start_time": "2022-08-16T15:45:08.073425",
     "status": "completed"
    },
    "tags": []
   },
   "outputs": [],
   "source": [
    "data2 = data.copy()"
   ]
  },
  {
   "cell_type": "code",
   "execution_count": 9,
   "id": "0bda7386",
   "metadata": {
    "execution": {
     "iopub.execute_input": "2022-08-16T15:45:08.114492Z",
     "iopub.status.busy": "2022-08-16T15:45:08.113514Z",
     "iopub.status.idle": "2022-08-16T15:45:08.124265Z",
     "shell.execute_reply": "2022-08-16T15:45:08.122870Z"
    },
    "papermill": {
     "duration": 0.023614,
     "end_time": "2022-08-16T15:45:08.127087",
     "exception": false,
     "start_time": "2022-08-16T15:45:08.103473",
     "status": "completed"
    },
    "tags": []
   },
   "outputs": [],
   "source": [
    "# Here we will try to predict the class for the given parameters.\n",
    "X = data.drop('class',axis=1)\n",
    "Y = data['class']"
   ]
  },
  {
   "cell_type": "code",
   "execution_count": 10,
   "id": "6b72e498",
   "metadata": {
    "execution": {
     "iopub.execute_input": "2022-08-16T15:45:08.147438Z",
     "iopub.status.busy": "2022-08-16T15:45:08.146442Z",
     "iopub.status.idle": "2022-08-16T15:45:08.218353Z",
     "shell.execute_reply": "2022-08-16T15:45:08.217042Z"
    },
    "papermill": {
     "duration": 0.08501,
     "end_time": "2022-08-16T15:45:08.221241",
     "exception": false,
     "start_time": "2022-08-16T15:45:08.136231",
     "status": "completed"
    },
    "tags": []
   },
   "outputs": [],
   "source": [
    "from sklearn.model_selection import train_test_split\n",
    "X_train, X_test, y_train, y_test = train_test_split(X, Y, test_size=0.2,random_state=42)"
   ]
  },
  {
   "cell_type": "code",
   "execution_count": 11,
   "id": "6b52daac",
   "metadata": {
    "execution": {
     "iopub.execute_input": "2022-08-16T15:45:08.240863Z",
     "iopub.status.busy": "2022-08-16T15:45:08.240447Z",
     "iopub.status.idle": "2022-08-16T15:45:32.438559Z",
     "shell.execute_reply": "2022-08-16T15:45:32.437504Z"
    },
    "papermill": {
     "duration": 24.21098,
     "end_time": "2022-08-16T15:45:32.441373",
     "exception": false,
     "start_time": "2022-08-16T15:45:08.230393",
     "status": "completed"
    },
    "tags": []
   },
   "outputs": [
    {
     "data": {
      "text/plain": [
       "0.97785"
      ]
     },
     "execution_count": 11,
     "metadata": {},
     "output_type": "execute_result"
    }
   ],
   "source": [
    "from sklearn.ensemble import RandomForestClassifier\n",
    "Rmodel = RandomForestClassifier()\n",
    "Rmodel.fit(X_train,y_train)\n",
    "Rmodel.score(X_test,y_test)"
   ]
  },
  {
   "cell_type": "code",
   "execution_count": 12,
   "id": "02220327",
   "metadata": {
    "execution": {
     "iopub.execute_input": "2022-08-16T15:45:32.462227Z",
     "iopub.status.busy": "2022-08-16T15:45:32.460858Z",
     "iopub.status.idle": "2022-08-16T15:45:33.116761Z",
     "shell.execute_reply": "2022-08-16T15:45:33.115494Z"
    },
    "papermill": {
     "duration": 0.668707,
     "end_time": "2022-08-16T15:45:33.119131",
     "exception": false,
     "start_time": "2022-08-16T15:45:32.450424",
     "status": "completed"
    },
    "tags": []
   },
   "outputs": [
    {
     "data": {
      "image/png": "[encoded data removed]",
      "text/plain": [
       "<Figure size 432x288 with 1 Axes>"
      ]
     },
     "metadata": {
      "needs_background": "light"
     },
     "output_type": "display_data"
    }
   ],
   "source": [
    "y_pred = Rmodel.predict(X_test)\n",
    "plt.scatter(y_test,y_pred)\n",
    "plt.show()"
   ]
  },
  {
   "cell_type": "code",
   "execution_count": 13,
   "id": "1b7b5e27",
   "metadata": {
    "execution": {
     "iopub.execute_input": "2022-08-16T15:45:33.139196Z",
     "iopub.status.busy": "2022-08-16T15:45:33.138789Z",
     "iopub.status.idle": "2022-08-16T15:45:34.098913Z",
     "shell.execute_reply": "2022-08-16T15:45:34.097803Z"
    },
    "papermill": {
     "duration": 0.972675,
     "end_time": "2022-08-16T15:45:34.101144",
     "exception": false,
     "start_time": "2022-08-16T15:45:33.128469",
     "status": "completed"
    },
    "tags": []
   },
   "outputs": [
    {
     "data": {
      "text/plain": [
       "0.8348"
      ]
     },
     "execution_count": 13,
     "metadata": {},
     "output_type": "execute_result"
    }
   ],
   "source": [
    "#K nearest neighbors\n",
    "\n",
    "from sklearn.neighbors import KNeighborsClassifier\n",
    "\n",
    "knn = KNeighborsClassifier(3) # Define classifier\n",
    "knn.fit(X_train, y_train) # Train model\n",
    "knn.score(X_test,y_test)"
   ]
  },
  {
   "cell_type": "code",
   "execution_count": 14,
   "id": "db91b61c",
   "metadata": {
    "execution": {
     "iopub.execute_input": "2022-08-16T15:45:34.121461Z",
     "iopub.status.busy": "2022-08-16T15:45:34.121053Z",
     "iopub.status.idle": "2022-08-16T15:45:35.176957Z",
     "shell.execute_reply": "2022-08-16T15:45:35.175838Z"
    },
    "papermill": {
     "duration": 1.068981,
     "end_time": "2022-08-16T15:45:35.179492",
     "exception": false,
     "start_time": "2022-08-16T15:45:34.110511",
     "status": "completed"
    },
    "tags": []
   },
   "outputs": [
    {
     "data": {
      "image/png": "[encoded data removed]",
      "text/plain": [
       "<Figure size 432x288 with 1 Axes>"
      ]
     },
     "metadata": {
      "needs_background": "light"
     },
     "output_type": "display_data"
    }
   ],
   "source": [
    "y_pred = knn.predict(X_test)\n",
    "plt.scatter(y_test,y_pred)\n",
    "plt.show()"
   ]
  },
  {
   "cell_type": "code",
   "execution_count": 15,
   "id": "237d3fd0",
   "metadata": {
    "execution": {
     "iopub.execute_input": "2022-08-16T15:45:35.202233Z",
     "iopub.status.busy": "2022-08-16T15:45:35.201839Z",
     "iopub.status.idle": "2022-08-16T15:45:35.545964Z",
     "shell.execute_reply": "2022-08-16T15:45:35.544738Z"
    },
    "papermill": {
     "duration": 0.357979,
     "end_time": "2022-08-16T15:45:35.548750",
     "exception": false,
     "start_time": "2022-08-16T15:45:35.190771",
     "status": "completed"
    },
    "tags": []
   },
   "outputs": [
    {
     "data": {
      "text/plain": [
       "0.95105"
      ]
     },
     "execution_count": 15,
     "metadata": {},
     "output_type": "execute_result"
    }
   ],
   "source": [
    "# Decision tree\n",
    "\n",
    "from sklearn.tree import DecisionTreeClassifier\n",
    "\n",
    "dt = DecisionTreeClassifier(max_depth=3) # Define classifier\n",
    "dt.fit(X_train, y_train) # Train model\n",
    "dt.score(X_test,y_test)"
   ]
  },
  {
   "cell_type": "code",
   "execution_count": 16,
   "id": "59aa849e",
   "metadata": {
    "execution": {
     "iopub.execute_input": "2022-08-16T15:45:35.570235Z",
     "iopub.status.busy": "2022-08-16T15:45:35.569818Z",
     "iopub.status.idle": "2022-08-16T15:45:35.819368Z",
     "shell.execute_reply": "2022-08-16T15:45:35.818368Z"
    },
    "papermill": {
     "duration": 0.263134,
     "end_time": "2022-08-16T15:45:35.821768",
     "exception": false,
     "start_time": "2022-08-16T15:45:35.558634",
     "status": "completed"
    },
    "tags": []
   },
   "outputs": [
    {
     "data": {
      "image/png": "[encoded data removed]",
      "text/plain": [
       "<Figure size 432x288 with 1 Axes>"
      ]
     },
     "metadata": {
      "needs_background": "light"
     },
     "output_type": "display_data"
    }
   ],
   "source": [
    "y_pred = dt.predict(X_test)\n",
    "plt.scatter(y_test,y_pred)\n",
    "plt.show()"
   ]
  },
  {
   "cell_type": "code",
   "execution_count": 17,
   "id": "e05e34d0",
   "metadata": {
    "execution": {
     "iopub.execute_input": "2022-08-16T15:45:35.844267Z",
     "iopub.status.busy": "2022-08-16T15:45:35.843543Z",
     "iopub.status.idle": "2022-08-16T15:45:58.664281Z",
     "shell.execute_reply": "2022-08-16T15:45:58.662980Z"
    },
    "papermill": {
     "duration": 22.836189,
     "end_time": "2022-08-16T15:45:58.668199",
     "exception": false,
     "start_time": "2022-08-16T15:45:35.832010",
     "status": "completed"
    },
    "tags": []
   },
   "outputs": [
    {
     "data": {
      "text/plain": [
       "0.91335"
      ]
     },
     "execution_count": 17,
     "metadata": {},
     "output_type": "execute_result"
    }
   ],
   "source": [
    "#Neural network\n",
    "\n",
    "from sklearn.neural_network import MLPClassifier\n",
    "\n",
    "mlp = MLPClassifier(alpha=1, max_iter=1000)\n",
    "mlp.fit(X_train, y_train)\n",
    "mlp.score(X_test,y_test)"
   ]
  },
  {
   "cell_type": "code",
   "execution_count": 18,
   "id": "c5cf2dc3",
   "metadata": {
    "execution": {
     "iopub.execute_input": "2022-08-16T15:45:58.721664Z",
     "iopub.status.busy": "2022-08-16T15:45:58.721083Z",
     "iopub.status.idle": "2022-08-16T15:45:59.029874Z",
     "shell.execute_reply": "2022-08-16T15:45:59.028951Z"
    },
    "papermill": {
     "duration": 0.338159,
     "end_time": "2022-08-16T15:45:59.032532",
     "exception": false,
     "start_time": "2022-08-16T15:45:58.694373",
     "status": "completed"
    },
    "tags": []
   },
   "outputs": [
    {
     "data": {
      "image/png": "[encoded data removed]",
      "text/plain": [
       "<Figure size 432x288 with 1 Axes>"
      ]
     },
     "metadata": {
      "needs_background": "light"
     },
     "output_type": "display_data"
    }
   ],
   "source": [
    "y_pred = mlp.predict(X_test)\n",
    "plt.scatter(y_test,y_pred)\n",
    "plt.show()"
   ]
  },
  {
   "cell_type": "code",
   "execution_count": 19,
   "id": "ab3a069c",
   "metadata": {
    "execution": {
     "iopub.execute_input": "2022-08-16T15:45:59.055125Z",
     "iopub.status.busy": "2022-08-16T15:45:59.054722Z",
     "iopub.status.idle": "2022-08-16T15:46:00.793750Z",
     "shell.execute_reply": "2022-08-16T15:46:00.792493Z"
    },
    "papermill": {
     "duration": 1.753597,
     "end_time": "2022-08-16T15:46:00.796594",
     "exception": false,
     "start_time": "2022-08-16T15:45:59.042997",
     "status": "completed"
    },
    "tags": []
   },
   "outputs": [
    {
     "name": "stderr",
     "output_type": "stream",
     "text": [
      "/opt/conda/lib/python3.7/site-packages/ipykernel_launcher.py:3: SettingWithCopyWarning: \n",
      "A value is trying to be set on a copy of a slice from a DataFrame.\n",
      "Try using .loc[row_indexer,col_indexer] = value instead\n",
      "\n",
      "See the caveats in the documentation: https://pandas.pydata.org/pandas-docs/stable/user_guide/indexing.html#returning-a-view-versus-a-copy\n",
      "  This is separate from the ipykernel package so we can avoid doing imports until\n"
     ]
    },
    {
     "data": {
      "text/html": [
       "<div>\n",
       "<style scoped>\n",
       "    .dataframe tbody tr th:only-of-type {\n",
       "        vertical-align: middle;\n",
       "    }\n",
       "\n",
       "    .dataframe tbody tr th {\n",
       "        vertical-align: top;\n",
       "    }\n",
       "\n",
       "    .dataframe thead th {\n",
       "        text-align: right;\n",
       "    }\n",
       "</style>\n",
       "<table border=\"1\" class=\"dataframe\">\n",
       "  <thead>\n",
       "    <tr style=\"text-align: right;\">\n",
       "      <th></th>\n",
       "      <th>redshift</th>\n",
       "      <th>class</th>\n",
       "      <th>Prediction</th>\n",
       "    </tr>\n",
       "  </thead>\n",
       "  <tbody>\n",
       "    <tr>\n",
       "      <th>0</th>\n",
       "      <td>0.634794</td>\n",
       "      <td>0</td>\n",
       "      <td>0</td>\n",
       "    </tr>\n",
       "    <tr>\n",
       "      <th>1</th>\n",
       "      <td>0.779136</td>\n",
       "      <td>0</td>\n",
       "      <td>0</td>\n",
       "    </tr>\n",
       "    <tr>\n",
       "      <th>2</th>\n",
       "      <td>0.644195</td>\n",
       "      <td>0</td>\n",
       "      <td>0</td>\n",
       "    </tr>\n",
       "  </tbody>\n",
       "</table>\n",
       "</div>"
      ],
      "text/plain": [
       "   redshift  class  Prediction\n",
       "0  0.634794      0           0\n",
       "1  0.779136      0           0\n",
       "2  0.644195      0           0"
      ]
     },
     "execution_count": 19,
     "metadata": {},
     "output_type": "execute_result"
    }
   ],
   "source": [
    "data3 = data2[['redshift','class']]\n",
    "y_pred = Rmodel.predict(X)\n",
    "data3['Prediction'] = y_pred\n",
    "data3.head(3)"
   ]
  },
  {
   "cell_type": "code",
   "execution_count": 20,
   "id": "3c20075e",
   "metadata": {
    "execution": {
     "iopub.execute_input": "2022-08-16T15:46:00.820053Z",
     "iopub.status.busy": "2022-08-16T15:46:00.818829Z",
     "iopub.status.idle": "2022-08-16T15:46:02.349416Z",
     "shell.execute_reply": "2022-08-16T15:46:02.348544Z"
    },
    "papermill": {
     "duration": 1.544825,
     "end_time": "2022-08-16T15:46:02.351901",
     "exception": false,
     "start_time": "2022-08-16T15:46:00.807076",
     "status": "completed"
    },
    "tags": []
   },
   "outputs": [
    {
     "data": {
      "image/png": "[encoded data removed]",
      "text/plain": [
       "<Figure size 1440x1080 with 1 Axes>"
      ]
     },
     "metadata": {
      "needs_background": "light"
     },
     "output_type": "display_data"
    }
   ],
   "source": [
    "plt.figure(figsize=(20,15))\n",
    "plt.scatter(data3['redshift'],data3['class'],label='Actual')\n",
    "plt.scatter(data3['redshift'],data3['Prediction'],label='Predicted',color='r',marker='+')\n",
    "plt.title(\"Steller Classification\")\n",
    "plt.xlabel(\"redshift\")\n",
    "plt.ylabel(\"Class\")\n",
    "plt.legend()\n",
    "plt.show()"
   ]
  },
  {
   "cell_type": "code",
   "execution_count": 21,
   "id": "0d090cf8",
   "metadata": {
    "execution": {
     "iopub.execute_input": "2022-08-16T15:46:02.375843Z",
     "iopub.status.busy": "2022-08-16T15:46:02.375455Z",
     "iopub.status.idle": "2022-08-16T15:47:15.534113Z",
     "shell.execute_reply": "2022-08-16T15:47:15.532686Z"
    },
    "papermill": {
     "duration": 73.173965,
     "end_time": "2022-08-16T15:47:15.536917",
     "exception": false,
     "start_time": "2022-08-16T15:46:02.362952",
     "status": "completed"
    },
    "tags": []
   },
   "outputs": [
    {
     "name": "stdout",
     "output_type": "stream",
     "text": [
      "Collecting git+https://github.com/pycaret/pycaret.git\r\n",
      "  Cloning https://github.com/pycaret/pycaret.git to /tmp/pip-req-build-qx7xc1pr\r\n",
      "  Running command git clone --filter=blob:none --quiet https://github.com/pycaret/pycaret.git /tmp/pip-req-build-qx7xc1pr\r\n",
      "  Resolved https://github.com/pycaret/pycaret.git to commit f93e7087a671458a20bed6dd3a8bcca891034cfc\r\n",
      "  Preparing metadata (setup.py) ... \u001b[?25l-\b \bdone\r\n",
      "\u001b[?25hRequirement already satisfied: ipython>=5.5.0 in /opt/conda/lib/python3.7/site-packages (from pycaret==3.0.0rc3) (7.33.0)\r\n",
      "Requirement already satisfied: ipywidgets>=7.6.5 in /opt/conda/lib/python3.7/site-packages (from pycaret==3.0.0rc3) (7.7.1)\r\n",
      "Requirement already satisfied: tqdm>=4.62.0 in /opt/conda/lib/python3.7/site-packages (from pycaret==3.0.0rc3) (4.64.0)\r\n",
      "Requirement already satisfied: numpy<1.23,>=1.21 in /opt/conda/lib/python3.7/site-packages (from pycaret==3.0.0rc3) (1.21.6)\r\n",
      "Requirement already satisfied: pandas<1.5.0,>=1.3.0 in /opt/conda/lib/python3.7/site-packages (from pycaret==3.0.0rc3) (1.3.5)\r\n",
      "Requirement already satisfied: jinja2>=1.2 in /opt/conda/lib/python3.7/site-packages (from pycaret==3.0.0rc3) (3.1.2)\r\n",
      "Requirement already satisfied: scipy<1.9.0 in /opt/conda/lib/python3.7/site-packages (from pycaret==3.0.0rc3) (1.7.3)\r\n",
      "Collecting joblib>=1.1.0\r\n",
      "  Downloading joblib-1.1.0-py2.py3-none-any.whl (306 kB)\r\n",
      "\u001b[2K     \u001b[90m━━━━━━━━━━━━━━━━━━━━━━━━━━━━━━━━━━━━━━━\u001b[0m \u001b[32m307.0/307.0 kB\u001b[0m \u001b[31m1.0 MB/s\u001b[0m eta \u001b[36m0:00:00\u001b[0m\r\n",
      "\u001b[?25hRequirement already satisfied: scikit-learn>=1.0 in /opt/conda/lib/python3.7/site-packages (from pycaret==3.0.0rc3) (1.0.2)\r\n",
      "Collecting pyod>=0.9.8\r\n",
      "  Downloading pyod-1.0.4.tar.gz (134 kB)\r\n",
      "\u001b[2K     \u001b[90m━━━━━━━━━━━━━━━━━━━━━━━━━━━━━━━━━━━━━━━\u001b[0m \u001b[32m134.3/134.3 kB\u001b[0m \u001b[31m5.6 MB/s\u001b[0m eta \u001b[36m0:00:00\u001b[0m\r\n",
      "\u001b[?25h  Preparing metadata (setup.py) ... \u001b[?25l-\b \bdone\r\n",
      "\u001b[?25hRequirement already satisfied: imbalanced-learn>=0.8.1 in /opt/conda/lib/python3.7/site-packages (from pycaret==3.0.0rc3) (0.9.0)\r\n",
      "Requirement already satisfied: category-encoders>=2.4.0 in /opt/conda/lib/python3.7/site-packages (from pycaret==3.0.0rc3) (2.5.0)\r\n",
      "Requirement already satisfied: lightgbm>=3.0.0 in /opt/conda/lib/python3.7/site-packages (from pycaret==3.0.0rc3) (3.3.2)\r\n",
      "Requirement already satisfied: numba~=0.55.0 in /opt/conda/lib/python3.7/site-packages (from pycaret==3.0.0rc3) (0.55.2)\r\n",
      "Requirement already satisfied: requests>=2.27.1 in /opt/conda/lib/python3.7/site-packages (from pycaret==3.0.0rc3) (2.28.1)\r\n",
      "Requirement already satisfied: psutil>=5.9.0 in /opt/conda/lib/python3.7/site-packages (from pycaret==3.0.0rc3) (5.9.1)\r\n",
      "Requirement already satisfied: markupsafe>=2.0.1 in /opt/conda/lib/python3.7/site-packages (from pycaret==3.0.0rc3) (2.0.1)\r\n",
      "Requirement already satisfied: importlib_metadata in /opt/conda/lib/python3.7/site-packages (from pycaret==3.0.0rc3) (4.12.0)\r\n",
      "Requirement already satisfied: matplotlib>=3.3.0 in /opt/conda/lib/python3.7/site-packages (from pycaret==3.0.0rc3) (3.5.2)\r\n",
      "Requirement already satisfied: scikit-plot>=0.3.7 in /opt/conda/lib/python3.7/site-packages (from pycaret==3.0.0rc3) (0.3.7)\r\n",
      "Requirement already satisfied: yellowbrick>=1.4 in /opt/conda/lib/python3.7/site-packages (from pycaret==3.0.0rc3) (1.4)\r\n",
      "Requirement already satisfied: plotly>=5.0.0 in /opt/conda/lib/python3.7/site-packages (from pycaret==3.0.0rc3) (5.9.0)\r\n",
      "Collecting kaleido>=0.2.1\r\n",
      "  Downloading kaleido-0.2.1-py2.py3-none-manylinux1_x86_64.whl (79.9 MB)\r\n",
      "\u001b[2K     \u001b[90m━━━━━━━━━━━━━━━━━━━━━━━━━━━━━━━━━━━━━━━━\u001b[0m \u001b[32m79.9/79.9 MB\u001b[0m \u001b[31m10.9 MB/s\u001b[0m eta \u001b[36m0:00:00\u001b[0m\r\n",
      "\u001b[?25hCollecting schemdraw>=0.14\r\n",
      "  Downloading schemdraw-0.15-py3-none-any.whl (106 kB)\r\n",
      "\u001b[2K     \u001b[90m━━━━━━━━━━━━━━━━━━━━━━━━━━━━━━━━━━━━━━━\u001b[0m \u001b[32m106.8/106.8 kB\u001b[0m \u001b[31m7.6 MB/s\u001b[0m eta \u001b[36m0:00:00\u001b[0m\r\n",
      "\u001b[?25hCollecting plotly-resampler>=0.7.2.2\r\n",
      "  Downloading plotly-resampler-0.8.0.tar.gz (43 kB)\r\n",
      "\u001b[2K     \u001b[90m━━━━━━━━━━━━━━━━━━━━━━━━━━━━━━━━━━━━━━━━\u001b[0m \u001b[32m44.0/44.0 kB\u001b[0m \u001b[31m2.8 MB/s\u001b[0m eta \u001b[36m0:00:00\u001b[0m\r\n",
      "\u001b[?25h  Installing build dependencies ... \u001b[?25l-\b \b\\\b \b|\b \b/\b \b-\b \b\\\b \b|\b \b/\b \b-\b \b\\\b \b|\b \b/\b \b-\b \bdone\r\n",
      "\u001b[?25h  Getting requirements to build wheel ... \u001b[?25ldone\r\n",
      "\u001b[?25h  Preparing metadata (pyproject.toml) ... \u001b[?25ldone\r\n",
      "\u001b[?25hRequirement already satisfied: statsmodels>=0.12.1 in /opt/conda/lib/python3.7/site-packages (from pycaret==3.0.0rc3) (0.13.2)\r\n",
      "Collecting sktime~=0.13.1\r\n",
      "  Downloading sktime-0.13.1-py3-none-any.whl (6.9 MB)\r\n",
      "\u001b[2K     \u001b[90m━━━━━━━━━━━━━━━━━━━━━━━━━━━━━━━━━━━━━━━━\u001b[0m \u001b[32m6.9/6.9 MB\u001b[0m \u001b[31m29.2 MB/s\u001b[0m eta \u001b[36m0:00:00\u001b[0m\r\n",
      "\u001b[?25hCollecting tbats>=1.1.0\r\n",
      "  Downloading tbats-1.1.0-py3-none-any.whl (43 kB)\r\n",
      "\u001b[2K     \u001b[90m━━━━━━━━━━━━━━━━━━━━━━━━━━━━━━━━━━━━━━━━\u001b[0m \u001b[32m43.8/43.8 kB\u001b[0m \u001b[31m3.0 MB/s\u001b[0m eta \u001b[36m0:00:00\u001b[0m\r\n",
      "\u001b[?25hCollecting pmdarima>=1.8.0\r\n",
      "  Downloading pmdarima-1.8.5-cp37-cp37m-manylinux_2_17_x86_64.manylinux2014_x86_64.manylinux_2_24_x86_64.whl (1.4 MB)\r\n",
      "\u001b[2K     \u001b[90m━━━━━━━━━━━━━━━━━━━━━━━━━━━━━━━━━━━━━━━━\u001b[0m \u001b[32m1.4/1.4 MB\u001b[0m \u001b[31m43.7 MB/s\u001b[0m eta \u001b[36m0:00:00\u001b[0m\r\n",
      "\u001b[?25hRequirement already satisfied: patsy>=0.5.1 in /opt/conda/lib/python3.7/site-packages (from category-encoders>=2.4.0->pycaret==3.0.0rc3) (0.5.2)\r\n",
      "Requirement already satisfied: threadpoolctl>=2.0.0 in /opt/conda/lib/python3.7/site-packages (from imbalanced-learn>=0.8.1->pycaret==3.0.0rc3) (3.1.0)\r\n",
      "Requirement already satisfied: setuptools>=18.5 in /opt/conda/lib/python3.7/site-packages (from ipython>=5.5.0->pycaret==3.0.0rc3) (59.8.0)\r\n",
      "Requirement already satisfied: jedi>=0.16 in /opt/conda/lib/python3.7/site-packages (from ipython>=5.5.0->pycaret==3.0.0rc3) (0.18.1)\r\n",
      "Requirement already satisfied: traitlets>=4.2 in /opt/conda/lib/python3.7/site-packages (from ipython>=5.5.0->pycaret==3.0.0rc3) (5.3.0)\r\n",
      "Requirement already satisfied: decorator in /opt/conda/lib/python3.7/site-packages (from ipython>=5.5.0->pycaret==3.0.0rc3) (5.1.1)\r\n",
      "Requirement already satisfied: pygments in /opt/conda/lib/python3.7/site-packages (from ipython>=5.5.0->pycaret==3.0.0rc3) (2.12.0)\r\n",
      "Requirement already satisfied: pexpect>4.3 in /opt/conda/lib/python3.7/site-packages (from ipython>=5.5.0->pycaret==3.0.0rc3) (4.8.0)\r\n",
      "Requirement already satisfied: prompt-toolkit!=3.0.0,!=3.0.1,<3.1.0,>=2.0.0 in /opt/conda/lib/python3.7/site-packages (from ipython>=5.5.0->pycaret==3.0.0rc3) (3.0.30)\r\n",
      "Requirement already satisfied: pickleshare in /opt/conda/lib/python3.7/site-packages (from ipython>=5.5.0->pycaret==3.0.0rc3) (0.7.5)\r\n",
      "Requirement already satisfied: matplotlib-inline in /opt/conda/lib/python3.7/site-packages (from ipython>=5.5.0->pycaret==3.0.0rc3) (0.1.3)\r\n",
      "Requirement already satisfied: backcall in /opt/conda/lib/python3.7/site-packages (from ipython>=5.5.0->pycaret==3.0.0rc3) (0.2.0)\r\n",
      "Requirement already satisfied: jupyterlab-widgets>=1.0.0 in /opt/conda/lib/python3.7/site-packages (from ipywidgets>=7.6.5->pycaret==3.0.0rc3) (1.1.1)\r\n",
      "Requirement already satisfied: ipykernel>=4.5.1 in /opt/conda/lib/python3.7/site-packages (from ipywidgets>=7.6.5->pycaret==3.0.0rc3) (6.15.0)\r\n",
      "Requirement already satisfied: ipython-genutils~=0.2.0 in /opt/conda/lib/python3.7/site-packages (from ipywidgets>=7.6.5->pycaret==3.0.0rc3) (0.2.0)\r\n",
      "Requirement already satisfied: widgetsnbextension~=3.6.0 in /opt/conda/lib/python3.7/site-packages (from ipywidgets>=7.6.5->pycaret==3.0.0rc3) (3.6.1)\r\n",
      "Requirement already satisfied: wheel in /opt/conda/lib/python3.7/site-packages (from lightgbm>=3.0.0->pycaret==3.0.0rc3) (0.37.1)\r\n",
      "Requirement already satisfied: python-dateutil>=2.7 in /opt/conda/lib/python3.7/site-packages (from matplotlib>=3.3.0->pycaret==3.0.0rc3) (2.8.2)\r\n",
      "Requirement already satisfied: fonttools>=4.22.0 in /opt/conda/lib/python3.7/site-packages (from matplotlib>=3.3.0->pycaret==3.0.0rc3) (4.33.3)\r\n",
      "Requirement already satisfied: kiwisolver>=1.0.1 in /opt/conda/lib/python3.7/site-packages (from matplotlib>=3.3.0->pycaret==3.0.0rc3) (1.4.3)\r\n",
      "Requirement already satisfied: pillow>=6.2.0 in /opt/conda/lib/python3.7/site-packages (from matplotlib>=3.3.0->pycaret==3.0.0rc3) (9.1.1)\r\n",
      "Requirement already satisfied: packaging>=20.0 in /opt/conda/lib/python3.7/site-packages (from matplotlib>=3.3.0->pycaret==3.0.0rc3) (21.3)\r\n",
      "Requirement already satisfied: pyparsing>=2.2.1 in /opt/conda/lib/python3.7/site-packages (from matplotlib>=3.3.0->pycaret==3.0.0rc3) (3.0.9)\r\n",
      "Requirement already satisfied: cycler>=0.10 in /opt/conda/lib/python3.7/site-packages (from matplotlib>=3.3.0->pycaret==3.0.0rc3) (0.11.0)\r\n",
      "Requirement already satisfied: llvmlite<0.39,>=0.38.0rc1 in /opt/conda/lib/python3.7/site-packages (from numba~=0.55.0->pycaret==3.0.0rc3) (0.38.1)\r\n",
      "Requirement already satisfied: pytz>=2017.3 in /opt/conda/lib/python3.7/site-packages (from pandas<1.5.0,>=1.3.0->pycaret==3.0.0rc3) (2022.1)\r\n",
      "Requirement already satisfied: tenacity>=6.2.0 in /opt/conda/lib/python3.7/site-packages (from plotly>=5.0.0->pycaret==3.0.0rc3) (8.0.1)\r\n",
      "Collecting orjson<4.0.0,>=3.7.7\r\n",
      "  Downloading orjson-3.7.12-cp37-cp37m-manylinux_2_28_x86_64.whl (147 kB)\r\n",
      "\u001b[2K     \u001b[90m━━━━━━━━━━━━━━━━━━━━━━━━━━━━━━━━━━━━━━\u001b[0m \u001b[32m148.0/148.0 kB\u001b[0m \u001b[31m12.7 MB/s\u001b[0m eta \u001b[36m0:00:00\u001b[0m\r\n",
      "\u001b[?25hCollecting jupyter-dash>=0.4.2\r\n",
      "  Downloading jupyter_dash-0.4.2-py3-none-any.whl (23 kB)\r\n",
      "Collecting Flask-Cors<4.0.0,>=3.0.10\r\n",
      "  Downloading Flask_Cors-3.0.10-py2.py3-none-any.whl (14 kB)\r\n",
      "Collecting trace-updater>=0.0.8\r\n",
      "  Downloading trace_updater-0.0.8-py3-none-any.whl (185 kB)\r\n",
      "\u001b[2K     \u001b[90m━━━━━━━━━━━━━━━━━━━━━━━━━━━━━━━━━━━━━━\u001b[0m \u001b[32m185.4/185.4 kB\u001b[0m \u001b[31m15.4 MB/s\u001b[0m eta \u001b[36m0:00:00\u001b[0m\r\n",
      "\u001b[?25hCollecting dash<3.0.0,>=2.2.0\r\n",
      "  Downloading dash-2.6.1-py3-none-any.whl (9.9 MB)\r\n",
      "\u001b[2K     \u001b[90m━━━━━━━━━━━━━━━━━━━━━━━━━━━━━━━━━━━━━━━━\u001b[0m \u001b[32m9.9/9.9 MB\u001b[0m \u001b[31m29.0 MB/s\u001b[0m eta \u001b[36m0:00:00\u001b[0m\r\n",
      "\u001b[?25hRequirement already satisfied: urllib3 in /opt/conda/lib/python3.7/site-packages (from pmdarima>=1.8.0->pycaret==3.0.0rc3) (1.26.9)\r\n",
      "Requirement already satisfied: Cython!=0.29.18,>=0.29 in /opt/conda/lib/python3.7/site-packages (from pmdarima>=1.8.0->pycaret==3.0.0rc3) (0.29.30)\r\n",
      "Requirement already satisfied: six in /opt/conda/lib/python3.7/site-packages (from pyod>=0.9.8->pycaret==3.0.0rc3) (1.16.0)\r\n",
      "Requirement already satisfied: certifi>=2017.4.17 in /opt/conda/lib/python3.7/site-packages (from requests>=2.27.1->pycaret==3.0.0rc3) (2022.6.15)\r\n",
      "Requirement already satisfied: idna<4,>=2.5 in /opt/conda/lib/python3.7/site-packages (from requests>=2.27.1->pycaret==3.0.0rc3) (3.3)\r\n",
      "Requirement already satisfied: charset-normalizer<3,>=2 in /opt/conda/lib/python3.7/site-packages (from requests>=2.27.1->pycaret==3.0.0rc3) (2.1.0)\r\n",
      "Requirement already satisfied: typing-extensions in /opt/conda/lib/python3.7/site-packages (from schemdraw>=0.14->pycaret==3.0.0rc3) (4.1.1)\r\n",
      "Collecting deprecated>=1.2.13\r\n",
      "  Downloading Deprecated-1.2.13-py2.py3-none-any.whl (9.6 kB)\r\n",
      "Requirement already satisfied: zipp>=0.5 in /opt/conda/lib/python3.7/site-packages (from importlib_metadata->pycaret==3.0.0rc3) (3.8.0)\r\n",
      "Requirement already satisfied: Flask>=1.0.4 in /opt/conda/lib/python3.7/site-packages (from dash<3.0.0,>=2.2.0->plotly-resampler>=0.7.2.2->pycaret==3.0.0rc3) (2.1.3)\r\n",
      "Collecting flask-compress\r\n",
      "  Downloading Flask_Compress-1.12-py3-none-any.whl (7.9 kB)\r\n",
      "Collecting dash-table==5.0.0\r\n",
      "  Downloading dash_table-5.0.0-py3-none-any.whl (3.9 kB)\r\n",
      "Collecting dash-core-components==2.0.0\r\n",
      "  Downloading dash_core_components-2.0.0-py3-none-any.whl (3.8 kB)\r\n",
      "Collecting dash-html-components==2.0.0\r\n",
      "  Downloading dash_html_components-2.0.0-py3-none-any.whl (4.1 kB)\r\n",
      "Requirement already satisfied: wrapt<2,>=1.10 in /opt/conda/lib/python3.7/site-packages (from deprecated>=1.2.13->sktime~=0.13.1->pycaret==3.0.0rc3) (1.14.1)\r\n",
      "Requirement already satisfied: jupyter-client>=6.1.12 in /opt/conda/lib/python3.7/site-packages (from ipykernel>=4.5.1->ipywidgets>=7.6.5->pycaret==3.0.0rc3) (7.3.4)\r\n",
      "Requirement already satisfied: debugpy>=1.0 in /opt/conda/lib/python3.7/site-packages (from ipykernel>=4.5.1->ipywidgets>=7.6.5->pycaret==3.0.0rc3) (1.6.0)\r\n",
      "Requirement already satisfied: tornado>=6.1 in /opt/conda/lib/python3.7/site-packages (from ipykernel>=4.5.1->ipywidgets>=7.6.5->pycaret==3.0.0rc3) (6.1)\r\n",
      "Requirement already satisfied: pyzmq>=17 in /opt/conda/lib/python3.7/site-packages (from ipykernel>=4.5.1->ipywidgets>=7.6.5->pycaret==3.0.0rc3) (23.2.0)\r\n",
      "Requirement already satisfied: nest-asyncio in /opt/conda/lib/python3.7/site-packages (from ipykernel>=4.5.1->ipywidgets>=7.6.5->pycaret==3.0.0rc3) (1.5.5)\r\n",
      "Requirement already satisfied: parso<0.9.0,>=0.8.0 in /opt/conda/lib/python3.7/site-packages (from jedi>=0.16->ipython>=5.5.0->pycaret==3.0.0rc3) (0.8.3)\r\n",
      "Requirement already satisfied: retrying in /opt/conda/lib/python3.7/site-packages (from jupyter-dash>=0.4.2->plotly-resampler>=0.7.2.2->pycaret==3.0.0rc3) (1.3.3)\r\n",
      "Collecting ansi2html\r\n",
      "  Downloading ansi2html-1.8.0-py3-none-any.whl (16 kB)\r\n",
      "Requirement already satisfied: ptyprocess>=0.5 in /opt/conda/lib/python3.7/site-packages (from pexpect>4.3->ipython>=5.5.0->pycaret==3.0.0rc3) (0.7.0)\r\n",
      "Requirement already satisfied: wcwidth in /opt/conda/lib/python3.7/site-packages (from prompt-toolkit!=3.0.0,!=3.0.1,<3.1.0,>=2.0.0->ipython>=5.5.0->pycaret==3.0.0rc3) (0.2.5)\r\n",
      "Requirement already satisfied: notebook>=4.4.1 in /opt/conda/lib/python3.7/site-packages (from widgetsnbextension~=3.6.0->ipywidgets>=7.6.5->pycaret==3.0.0rc3) (6.4.12)\r\n",
      "Requirement already satisfied: itsdangerous>=2.0 in /opt/conda/lib/python3.7/site-packages (from Flask>=1.0.4->dash<3.0.0,>=2.2.0->plotly-resampler>=0.7.2.2->pycaret==3.0.0rc3) (2.1.2)\r\n",
      "Requirement already satisfied: Werkzeug>=2.0 in /opt/conda/lib/python3.7/site-packages (from Flask>=1.0.4->dash<3.0.0,>=2.2.0->plotly-resampler>=0.7.2.2->pycaret==3.0.0rc3) (2.1.2)\r\n",
      "Requirement already satisfied: click>=8.0 in /opt/conda/lib/python3.7/site-packages (from Flask>=1.0.4->dash<3.0.0,>=2.2.0->plotly-resampler>=0.7.2.2->pycaret==3.0.0rc3) (8.0.4)\r\n",
      "Requirement already satisfied: jupyter-core>=4.9.2 in /opt/conda/lib/python3.7/site-packages (from jupyter-client>=6.1.12->ipykernel>=4.5.1->ipywidgets>=7.6.5->pycaret==3.0.0rc3) (4.10.0)\r\n",
      "Requirement already satisfied: entrypoints in /opt/conda/lib/python3.7/site-packages (from jupyter-client>=6.1.12->ipykernel>=4.5.1->ipywidgets>=7.6.5->pycaret==3.0.0rc3) (0.4)\r\n",
      "Requirement already satisfied: argon2-cffi in /opt/conda/lib/python3.7/site-packages (from notebook>=4.4.1->widgetsnbextension~=3.6.0->ipywidgets>=7.6.5->pycaret==3.0.0rc3) (21.3.0)\r\n",
      "Requirement already satisfied: nbconvert>=5 in /opt/conda/lib/python3.7/site-packages (from notebook>=4.4.1->widgetsnbextension~=3.6.0->ipywidgets>=7.6.5->pycaret==3.0.0rc3) (6.4.5)\r\n",
      "Requirement already satisfied: terminado>=0.8.3 in /opt/conda/lib/python3.7/site-packages (from notebook>=4.4.1->widgetsnbextension~=3.6.0->ipywidgets>=7.6.5->pycaret==3.0.0rc3) (0.15.0)\r\n",
      "Requirement already satisfied: prometheus-client in /opt/conda/lib/python3.7/site-packages (from notebook>=4.4.1->widgetsnbextension~=3.6.0->ipywidgets>=7.6.5->pycaret==3.0.0rc3) (0.14.1)\r\n",
      "Requirement already satisfied: nbformat in /opt/conda/lib/python3.7/site-packages (from notebook>=4.4.1->widgetsnbextension~=3.6.0->ipywidgets>=7.6.5->pycaret==3.0.0rc3) (5.4.0)\r\n",
      "Requirement already satisfied: Send2Trash>=1.8.0 in /opt/conda/lib/python3.7/site-packages (from notebook>=4.4.1->widgetsnbextension~=3.6.0->ipywidgets>=7.6.5->pycaret==3.0.0rc3) (1.8.0)\r\n",
      "Collecting brotli\r\n",
      "  Downloading Brotli-1.0.9-cp37-cp37m-manylinux1_x86_64.whl (357 kB)\r\n",
      "\u001b[2K     \u001b[90m━━━━━━━━━━━━━━━━━━━━━━━━━━━━━━━━━━━━━\u001b[0m \u001b[32m357.2/357.2 kB\u001b[0m \u001b[31m799.4 kB/s\u001b[0m eta \u001b[36m0:00:00\u001b[0m\r\n",
      "\u001b[?25hRequirement already satisfied: defusedxml in /opt/conda/lib/python3.7/site-packages (from nbconvert>=5->notebook>=4.4.1->widgetsnbextension~=3.6.0->ipywidgets>=7.6.5->pycaret==3.0.0rc3) (0.7.1)\r\n",
      "Requirement already satisfied: beautifulsoup4 in /opt/conda/lib/python3.7/site-packages (from nbconvert>=5->notebook>=4.4.1->widgetsnbextension~=3.6.0->ipywidgets>=7.6.5->pycaret==3.0.0rc3) (4.11.1)\r\n",
      "Requirement already satisfied: mistune<2,>=0.8.1 in /opt/conda/lib/python3.7/site-packages (from nbconvert>=5->notebook>=4.4.1->widgetsnbextension~=3.6.0->ipywidgets>=7.6.5->pycaret==3.0.0rc3) (0.8.4)\r\n",
      "Requirement already satisfied: nbclient<0.6.0,>=0.5.0 in /opt/conda/lib/python3.7/site-packages (from nbconvert>=5->notebook>=4.4.1->widgetsnbextension~=3.6.0->ipywidgets>=7.6.5->pycaret==3.0.0rc3) (0.5.13)\r\n",
      "Requirement already satisfied: bleach in /opt/conda/lib/python3.7/site-packages (from nbconvert>=5->notebook>=4.4.1->widgetsnbextension~=3.6.0->ipywidgets>=7.6.5->pycaret==3.0.0rc3) (5.0.1)\r\n",
      "Requirement already satisfied: jupyterlab-pygments in /opt/conda/lib/python3.7/site-packages (from nbconvert>=5->notebook>=4.4.1->widgetsnbextension~=3.6.0->ipywidgets>=7.6.5->pycaret==3.0.0rc3) (0.2.2)\r\n",
      "Requirement already satisfied: testpath in /opt/conda/lib/python3.7/site-packages (from nbconvert>=5->notebook>=4.4.1->widgetsnbextension~=3.6.0->ipywidgets>=7.6.5->pycaret==3.0.0rc3) (0.6.0)\r\n",
      "Requirement already satisfied: pandocfilters>=1.4.1 in /opt/conda/lib/python3.7/site-packages (from nbconvert>=5->notebook>=4.4.1->widgetsnbextension~=3.6.0->ipywidgets>=7.6.5->pycaret==3.0.0rc3) (1.5.0)\r\n",
      "Requirement already satisfied: fastjsonschema in /opt/conda/lib/python3.7/site-packages (from nbformat->notebook>=4.4.1->widgetsnbextension~=3.6.0->ipywidgets>=7.6.5->pycaret==3.0.0rc3) (2.15.3)\r\n",
      "Requirement already satisfied: jsonschema>=2.6 in /opt/conda/lib/python3.7/site-packages (from nbformat->notebook>=4.4.1->widgetsnbextension~=3.6.0->ipywidgets>=7.6.5->pycaret==3.0.0rc3) (4.6.1)\r\n",
      "Requirement already satisfied: argon2-cffi-bindings in /opt/conda/lib/python3.7/site-packages (from argon2-cffi->notebook>=4.4.1->widgetsnbextension~=3.6.0->ipywidgets>=7.6.5->pycaret==3.0.0rc3) (21.2.0)\r\n",
      "Requirement already satisfied: attrs>=17.4.0 in /opt/conda/lib/python3.7/site-packages (from jsonschema>=2.6->nbformat->notebook>=4.4.1->widgetsnbextension~=3.6.0->ipywidgets>=7.6.5->pycaret==3.0.0rc3) (21.4.0)\r\n",
      "Requirement already satisfied: importlib-resources>=1.4.0 in /opt/conda/lib/python3.7/site-packages (from jsonschema>=2.6->nbformat->notebook>=4.4.1->widgetsnbextension~=3.6.0->ipywidgets>=7.6.5->pycaret==3.0.0rc3) (5.8.0)\r\n",
      "Requirement already satisfied: pyrsistent!=0.17.0,!=0.17.1,!=0.17.2,>=0.14.0 in /opt/conda/lib/python3.7/site-packages (from jsonschema>=2.6->nbformat->notebook>=4.4.1->widgetsnbextension~=3.6.0->ipywidgets>=7.6.5->pycaret==3.0.0rc3) (0.18.1)\r\n",
      "Requirement already satisfied: cffi>=1.0.1 in /opt/conda/lib/python3.7/site-packages (from argon2-cffi-bindings->argon2-cffi->notebook>=4.4.1->widgetsnbextension~=3.6.0->ipywidgets>=7.6.5->pycaret==3.0.0rc3) (1.15.0)\r\n",
      "Requirement already satisfied: soupsieve>1.2 in /opt/conda/lib/python3.7/site-packages (from beautifulsoup4->nbconvert>=5->notebook>=4.4.1->widgetsnbextension~=3.6.0->ipywidgets>=7.6.5->pycaret==3.0.0rc3) (2.3.1)\r\n",
      "Requirement already satisfied: webencodings in /opt/conda/lib/python3.7/site-packages (from bleach->nbconvert>=5->notebook>=4.4.1->widgetsnbextension~=3.6.0->ipywidgets>=7.6.5->pycaret==3.0.0rc3) (0.5.1)\r\n",
      "Requirement already satisfied: pycparser in /opt/conda/lib/python3.7/site-packages (from cffi>=1.0.1->argon2-cffi-bindings->argon2-cffi->notebook>=4.4.1->widgetsnbextension~=3.6.0->ipywidgets>=7.6.5->pycaret==3.0.0rc3) (2.21)\r\n",
      "Building wheels for collected packages: pycaret, plotly-resampler, pyod\r\n",
      "  Building wheel for pycaret (setup.py) ... \u001b[?25l-\b \b\\\b \b|\b \b/\b \bdone\r\n",
      "\u001b[?25h  Created wheel for pycaret: filename=pycaret-3.0.0rc3-py3-none-any.whl size=488013 sha256=5737fd413269f078a4c4504d8bde19dcde94a89effd7162b08423cc04f7e7310\r\n",
      "  Stored in directory: /tmp/pip-ephem-wheel-cache-7nwuifsh/wheels/b9/a5/bd/10ded84d9adcdd130cf35f61d6270652b8181e551ed13723a3\r\n",
      "  Building wheel for plotly-resampler (pyproject.toml) ... \u001b[?25l-\b \b\\\b \bdone\r\n",
      "\u001b[?25h  Created wheel for plotly-resampler: filename=plotly_resampler-0.8.0-cp37-cp37m-manylinux_2_31_x86_64.whl size=73678 sha256=4a22b3e042f3581fab2fcbe2d473f7699722825c1eb2ed70d17309be0ab7d10d\r\n",
      "  Stored in directory: /root/.cache/pip/wheels/1d/6a/3e/6922f8fa643f4f07ce23510f52d1f08fd2407ddae04b725042\r\n",
      "  Building wheel for pyod (setup.py) ... \u001b[?25l-\b \b\\\b \bdone\r\n",
      "\u001b[?25h  Created wheel for pyod: filename=pyod-1.0.4-py3-none-any.whl size=165073 sha256=5b6c7feb4c3afe13abaf5ea8f4f1a21d5715989534200eeb93e0407e0f817c30\r\n",
      "  Stored in directory: /root/.cache/pip/wheels/3d/48/a8/87d61660791c7e6b0f5c3068da7fb17ade7fdc041e864fe053\r\n",
      "Successfully built pycaret plotly-resampler pyod\r\n",
      "Installing collected packages: trace-updater, kaleido, dash-table, dash-html-components, dash-core-components, brotli, schemdraw, orjson, joblib, deprecated, ansi2html, sktime, pyod, pmdarima, Flask-Cors, flask-compress, tbats, dash, jupyter-dash, plotly-resampler, pycaret\r\n",
      "  Attempting uninstall: orjson\r\n",
      "    Found existing installation: orjson 3.7.5\r\n",
      "    Uninstalling orjson-3.7.5:\r\n",
      "      Successfully uninstalled orjson-3.7.5\r\n",
      "  Attempting uninstall: joblib\r\n",
      "    Found existing installation: joblib 1.0.1\r\n",
      "    Uninstalling joblib-1.0.1:\r\n",
      "      Successfully uninstalled joblib-1.0.1\r\n",
      "\u001b[31mERROR: pip's dependency resolver does not currently take into account all the packages that are installed. This behaviour is the source of the following dependency conflicts.\r\n",
      "pdpbox 0.2.1 requires matplotlib==3.1.1, but you have matplotlib 3.5.2 which is incompatible.\r\n",
      "pandas-profiling 3.1.0 requires joblib~=1.0.1, but you have joblib 1.1.0 which is incompatible.\r\n",
      "apache-beam 2.40.0 requires dill<0.3.2,>=0.3.1.1, but you have dill 0.3.5.1 which is incompatible.\r\n",
      "apache-beam 2.40.0 requires pyarrow<8.0.0,>=0.15.1, but you have pyarrow 8.0.0 which is incompatible.\r\n",
      "allennlp 2.10.0 requires protobuf==3.20.0, but you have protobuf 3.19.4 which is incompatible.\u001b[0m\u001b[31m\r\n",
      "\u001b[0mSuccessfully installed Flask-Cors-3.0.10 ansi2html-1.8.0 brotli-1.0.9 dash-2.6.1 dash-core-components-2.0.0 dash-html-components-2.0.0 dash-table-5.0.0 deprecated-1.2.13 flask-compress-1.12 joblib-1.1.0 jupyter-dash-0.4.2 kaleido-0.2.1 orjson-3.7.12 plotly-resampler-0.8.0 pmdarima-1.8.5 pycaret-3.0.0rc3 pyod-1.0.4 schemdraw-0.15 sktime-0.13.1 tbats-1.1.0 trace-updater-0.0.8\r\n",
      "\u001b[33mWARNING: Running pip as the 'root' user can result in broken permissions and conflicting behaviour with the system package manager. It is recommended to use a virtual environment instead: https://pip.pypa.io/warnings/venv\u001b[0m\u001b[33m\r\n",
      "\u001b[0mNote: you may need to restart the kernel to use updated packages.\n"
     ]
    }
   ],
   "source": [
    "pip install git+https://github.com/pycaret/pycaret.git"
   ]
  },
  {
   "cell_type": "code",
   "execution_count": 22,
   "id": "0da17d76",
   "metadata": {
    "execution": {
     "iopub.execute_input": "2022-08-16T15:47:15.585884Z",
     "iopub.status.busy": "2022-08-16T15:47:15.585476Z",
     "iopub.status.idle": "2022-08-16T15:47:23.956423Z",
     "shell.execute_reply": "2022-08-16T15:47:23.955041Z"
    },
    "papermill": {
     "duration": 8.399027,
     "end_time": "2022-08-16T15:47:23.959248",
     "exception": false,
     "start_time": "2022-08-16T15:47:15.560221",
     "status": "completed"
    },
    "tags": []
   },
   "outputs": [
    {
     "data": {
      "text/html": [
       "<style type='text/css'>\n",
       ".datatable table.frame { margin-bottom: 0; }\n",
       ".datatable table.frame thead { border-bottom: none; }\n",
       ".datatable table.frame tr.coltypes td {  color: #FFFFFF;  line-height: 6px;  padding: 0 0.5em;}\n",
       ".datatable .bool    { background: #DDDD99; }\n",
       ".datatable .object  { background: #565656; }\n",
       ".datatable .int     { background: #5D9E5D; }\n",
       ".datatable .float   { background: #4040CC; }\n",
       ".datatable .str     { background: #CC4040; }\n",
       ".datatable .time    { background: #40CC40; }\n",
       ".datatable .row_index {  background: var(--jp-border-color3);  border-right: 1px solid var(--jp-border-color0);  color: var(--jp-ui-font-color3);  font-size: 9px;}\n",
       ".datatable .frame tbody td { text-align: left; }\n",
       ".datatable .frame tr.coltypes .row_index {  background: var(--jp-border-color0);}\n",
       ".datatable th:nth-child(2) { padding-left: 12px; }\n",
       ".datatable .hellipsis {  color: var(--jp-cell-editor-border-color);}\n",
       ".datatable .vellipsis {  background: var(--jp-layout-color0);  color: var(--jp-cell-editor-border-color);}\n",
       ".datatable .na {  color: var(--jp-cell-editor-border-color);  font-size: 80%;}\n",
       ".datatable .sp {  opacity: 0.25;}\n",
       ".datatable .footer { font-size: 9px; }\n",
       ".datatable .frame_dimensions {  background: var(--jp-border-color3);  border-top: 1px solid var(--jp-border-color0);  color: var(--jp-ui-font-color3);  display: inline-block;  opacity: 0.6;  padding: 1px 10px 1px 5px;}\n",
       "</style>\n"
      ],
      "text/plain": [
       "<IPython.core.display.HTML object>"
      ]
     },
     "metadata": {},
     "output_type": "display_data"
    },
    {
     "data": {
      "text/html": [
       "<style type=\"text/css\">\n",
       "#T_12ad8_row8_col1 {\n",
       "  background-color: lightgreen;\n",
       "}\n",
       "</style>\n",
       "<table id=\"T_12ad8_\">\n",
       "  <thead>\n",
       "    <tr>\n",
       "      <th class=\"blank level0\" >&nbsp;</th>\n",
       "      <th class=\"col_heading level0 col0\" >Description</th>\n",
       "      <th class=\"col_heading level0 col1\" >Value</th>\n",
       "    </tr>\n",
       "  </thead>\n",
       "  <tbody>\n",
       "    <tr>\n",
       "      <th id=\"T_12ad8_level0_row0\" class=\"row_heading level0 row0\" >0</th>\n",
       "      <td id=\"T_12ad8_row0_col0\" class=\"data row0 col0\" >Session id</td>\n",
       "      <td id=\"T_12ad8_row0_col1\" class=\"data row0 col1\" >669</td>\n",
       "    </tr>\n",
       "    <tr>\n",
       "      <th id=\"T_12ad8_level0_row1\" class=\"row_heading level0 row1\" >1</th>\n",
       "      <td id=\"T_12ad8_row1_col0\" class=\"data row1 col0\" >Target</td>\n",
       "      <td id=\"T_12ad8_row1_col1\" class=\"data row1 col1\" >class</td>\n",
       "    </tr>\n",
       "    <tr>\n",
       "      <th id=\"T_12ad8_level0_row2\" class=\"row_heading level0 row2\" >2</th>\n",
       "      <td id=\"T_12ad8_row2_col0\" class=\"data row2 col0\" >Target type</td>\n",
       "      <td id=\"T_12ad8_row2_col1\" class=\"data row2 col1\" >Multiclass</td>\n",
       "    </tr>\n",
       "    <tr>\n",
       "      <th id=\"T_12ad8_level0_row3\" class=\"row_heading level0 row3\" >3</th>\n",
       "      <td id=\"T_12ad8_row3_col0\" class=\"data row3 col0\" >Original data shape</td>\n",
       "      <td id=\"T_12ad8_row3_col1\" class=\"data row3 col1\" >(100000, 9)</td>\n",
       "    </tr>\n",
       "    <tr>\n",
       "      <th id=\"T_12ad8_level0_row4\" class=\"row_heading level0 row4\" >4</th>\n",
       "      <td id=\"T_12ad8_row4_col0\" class=\"data row4 col0\" >Transformed data shape</td>\n",
       "      <td id=\"T_12ad8_row4_col1\" class=\"data row4 col1\" >(100000, 9)</td>\n",
       "    </tr>\n",
       "    <tr>\n",
       "      <th id=\"T_12ad8_level0_row5\" class=\"row_heading level0 row5\" >5</th>\n",
       "      <td id=\"T_12ad8_row5_col0\" class=\"data row5 col0\" >Transformed train set shape</td>\n",
       "      <td id=\"T_12ad8_row5_col1\" class=\"data row5 col1\" >(69999, 9)</td>\n",
       "    </tr>\n",
       "    <tr>\n",
       "      <th id=\"T_12ad8_level0_row6\" class=\"row_heading level0 row6\" >6</th>\n",
       "      <td id=\"T_12ad8_row6_col0\" class=\"data row6 col0\" >Transformed test set shape</td>\n",
       "      <td id=\"T_12ad8_row6_col1\" class=\"data row6 col1\" >(30001, 9)</td>\n",
       "    </tr>\n",
       "    <tr>\n",
       "      <th id=\"T_12ad8_level0_row7\" class=\"row_heading level0 row7\" >7</th>\n",
       "      <td id=\"T_12ad8_row7_col0\" class=\"data row7 col0\" >Numeric features</td>\n",
       "      <td id=\"T_12ad8_row7_col1\" class=\"data row7 col1\" >8</td>\n",
       "    </tr>\n",
       "    <tr>\n",
       "      <th id=\"T_12ad8_level0_row8\" class=\"row_heading level0 row8\" >8</th>\n",
       "      <td id=\"T_12ad8_row8_col0\" class=\"data row8 col0\" >Preprocess</td>\n",
       "      <td id=\"T_12ad8_row8_col1\" class=\"data row8 col1\" >True</td>\n",
       "    </tr>\n",
       "    <tr>\n",
       "      <th id=\"T_12ad8_level0_row9\" class=\"row_heading level0 row9\" >9</th>\n",
       "      <td id=\"T_12ad8_row9_col0\" class=\"data row9 col0\" >Imputation type</td>\n",
       "      <td id=\"T_12ad8_row9_col1\" class=\"data row9 col1\" >simple</td>\n",
       "    </tr>\n",
       "    <tr>\n",
       "      <th id=\"T_12ad8_level0_row10\" class=\"row_heading level0 row10\" >10</th>\n",
       "      <td id=\"T_12ad8_row10_col0\" class=\"data row10 col0\" >Numeric imputation</td>\n",
       "      <td id=\"T_12ad8_row10_col1\" class=\"data row10 col1\" >mean</td>\n",
       "    </tr>\n",
       "    <tr>\n",
       "      <th id=\"T_12ad8_level0_row11\" class=\"row_heading level0 row11\" >11</th>\n",
       "      <td id=\"T_12ad8_row11_col0\" class=\"data row11 col0\" >Categorical imputation</td>\n",
       "      <td id=\"T_12ad8_row11_col1\" class=\"data row11 col1\" >constant</td>\n",
       "    </tr>\n",
       "    <tr>\n",
       "      <th id=\"T_12ad8_level0_row12\" class=\"row_heading level0 row12\" >12</th>\n",
       "      <td id=\"T_12ad8_row12_col0\" class=\"data row12 col0\" >Low variance threshold</td>\n",
       "      <td id=\"T_12ad8_row12_col1\" class=\"data row12 col1\" >0</td>\n",
       "    </tr>\n",
       "    <tr>\n",
       "      <th id=\"T_12ad8_level0_row13\" class=\"row_heading level0 row13\" >13</th>\n",
       "      <td id=\"T_12ad8_row13_col0\" class=\"data row13 col0\" >Fold Generator</td>\n",
       "      <td id=\"T_12ad8_row13_col1\" class=\"data row13 col1\" >StratifiedKFold</td>\n",
       "    </tr>\n",
       "    <tr>\n",
       "      <th id=\"T_12ad8_level0_row14\" class=\"row_heading level0 row14\" >14</th>\n",
       "      <td id=\"T_12ad8_row14_col0\" class=\"data row14 col0\" >Fold Number</td>\n",
       "      <td id=\"T_12ad8_row14_col1\" class=\"data row14 col1\" >10</td>\n",
       "    </tr>\n",
       "    <tr>\n",
       "      <th id=\"T_12ad8_level0_row15\" class=\"row_heading level0 row15\" >15</th>\n",
       "      <td id=\"T_12ad8_row15_col0\" class=\"data row15 col0\" >CPU Jobs</td>\n",
       "      <td id=\"T_12ad8_row15_col1\" class=\"data row15 col1\" >-1</td>\n",
       "    </tr>\n",
       "    <tr>\n",
       "      <th id=\"T_12ad8_level0_row16\" class=\"row_heading level0 row16\" >16</th>\n",
       "      <td id=\"T_12ad8_row16_col0\" class=\"data row16 col0\" >Use GPU</td>\n",
       "      <td id=\"T_12ad8_row16_col1\" class=\"data row16 col1\" >False</td>\n",
       "    </tr>\n",
       "    <tr>\n",
       "      <th id=\"T_12ad8_level0_row17\" class=\"row_heading level0 row17\" >17</th>\n",
       "      <td id=\"T_12ad8_row17_col0\" class=\"data row17 col0\" >Log Experiment</td>\n",
       "      <td id=\"T_12ad8_row17_col1\" class=\"data row17 col1\" >False</td>\n",
       "    </tr>\n",
       "    <tr>\n",
       "      <th id=\"T_12ad8_level0_row18\" class=\"row_heading level0 row18\" >18</th>\n",
       "      <td id=\"T_12ad8_row18_col0\" class=\"data row18 col0\" >Experiment Name</td>\n",
       "      <td id=\"T_12ad8_row18_col1\" class=\"data row18 col1\" >clf-default-name</td>\n",
       "    </tr>\n",
       "    <tr>\n",
       "      <th id=\"T_12ad8_level0_row19\" class=\"row_heading level0 row19\" >19</th>\n",
       "      <td id=\"T_12ad8_row19_col0\" class=\"data row19 col0\" >USI</td>\n",
       "      <td id=\"T_12ad8_row19_col1\" class=\"data row19 col1\" >bdce</td>\n",
       "    </tr>\n",
       "  </tbody>\n",
       "</table>\n"
      ],
      "text/plain": [
       "<pandas.io.formats.style.Styler at 0x7f0e50303f90>"
      ]
     },
     "metadata": {},
     "output_type": "display_data"
    }
   ],
   "source": [
    "from pycaret.classification import setup, compare_models, predict_model\n",
    "pycaret_automl = setup(data=data, target = 'class', session_id=669)"
   ]
  },
  {
   "cell_type": "code",
   "execution_count": 23,
   "id": "e1602811",
   "metadata": {
    "execution": {
     "iopub.execute_input": "2022-08-16T15:47:24.023580Z",
     "iopub.status.busy": "2022-08-16T15:47:24.022774Z",
     "iopub.status.idle": "2022-08-16T16:03:59.282443Z",
     "shell.execute_reply": "2022-08-16T16:03:59.281278Z"
    },
    "papermill": {
     "duration": 995.293511,
     "end_time": "2022-08-16T16:03:59.285744",
     "exception": false,
     "start_time": "2022-08-16T15:47:23.992233",
     "status": "completed"
    },
    "tags": []
   },
   "outputs": [
    {
     "data": {
      "text/html": [],
      "text/plain": [
       "<IPython.core.display.HTML object>"
      ]
     },
     "metadata": {},
     "output_type": "display_data"
    },
    {
     "data": {
      "text/html": [
       "<style type=\"text/css\">\n",
       "#T_e8c13_ th {\n",
       "  text-align: left;\n",
       "}\n",
       "#T_e8c13_row0_col0, #T_e8c13_row1_col0, #T_e8c13_row1_col1, #T_e8c13_row1_col3, #T_e8c13_row1_col4, #T_e8c13_row1_col5, #T_e8c13_row1_col6, #T_e8c13_row1_col7, #T_e8c13_row2_col0, #T_e8c13_row2_col1, #T_e8c13_row2_col3, #T_e8c13_row2_col4, #T_e8c13_row2_col5, #T_e8c13_row2_col6, #T_e8c13_row2_col7, #T_e8c13_row3_col0, #T_e8c13_row3_col1, #T_e8c13_row3_col2, #T_e8c13_row3_col3, #T_e8c13_row3_col4, #T_e8c13_row3_col5, #T_e8c13_row3_col6, #T_e8c13_row3_col7, #T_e8c13_row4_col0, #T_e8c13_row4_col1, #T_e8c13_row4_col2, #T_e8c13_row4_col3, #T_e8c13_row4_col4, #T_e8c13_row4_col5, #T_e8c13_row4_col6, #T_e8c13_row4_col7, #T_e8c13_row5_col0, #T_e8c13_row5_col1, #T_e8c13_row5_col2, #T_e8c13_row5_col3, #T_e8c13_row5_col4, #T_e8c13_row5_col5, #T_e8c13_row5_col6, #T_e8c13_row5_col7, #T_e8c13_row6_col0, #T_e8c13_row6_col1, #T_e8c13_row6_col2, #T_e8c13_row6_col3, #T_e8c13_row6_col4, #T_e8c13_row6_col5, #T_e8c13_row6_col6, #T_e8c13_row6_col7, #T_e8c13_row7_col0, #T_e8c13_row7_col1, #T_e8c13_row7_col2, #T_e8c13_row7_col3, #T_e8c13_row7_col4, #T_e8c13_row7_col5, #T_e8c13_row7_col6, #T_e8c13_row7_col7, #T_e8c13_row8_col0, #T_e8c13_row8_col1, #T_e8c13_row8_col2, #T_e8c13_row8_col3, #T_e8c13_row8_col4, #T_e8c13_row8_col5, #T_e8c13_row8_col6, #T_e8c13_row8_col7, #T_e8c13_row9_col0, #T_e8c13_row9_col1, #T_e8c13_row9_col2, #T_e8c13_row9_col3, #T_e8c13_row9_col4, #T_e8c13_row9_col5, #T_e8c13_row9_col6, #T_e8c13_row9_col7, #T_e8c13_row10_col0, #T_e8c13_row10_col1, #T_e8c13_row10_col2, #T_e8c13_row10_col3, #T_e8c13_row10_col4, #T_e8c13_row10_col5, #T_e8c13_row10_col6, #T_e8c13_row10_col7, #T_e8c13_row11_col0, #T_e8c13_row11_col1, #T_e8c13_row11_col2, #T_e8c13_row11_col3, #T_e8c13_row11_col4, #T_e8c13_row11_col5, #T_e8c13_row11_col6, #T_e8c13_row11_col7, #T_e8c13_row12_col0, #T_e8c13_row12_col1, #T_e8c13_row12_col2, #T_e8c13_row12_col3, #T_e8c13_row12_col4, #T_e8c13_row12_col5, #T_e8c13_row12_col6, #T_e8c13_row12_col7, #T_e8c13_row13_col0, #T_e8c13_row13_col1, #T_e8c13_row13_col2, #T_e8c13_row13_col3, #T_e8c13_row13_col4, #T_e8c13_row13_col5, #T_e8c13_row13_col6, #T_e8c13_row13_col7, #T_e8c13_row14_col0, #T_e8c13_row14_col1, #T_e8c13_row14_col2, #T_e8c13_row14_col3, #T_e8c13_row14_col4, #T_e8c13_row14_col5, #T_e8c13_row14_col6, #T_e8c13_row14_col7, #T_e8c13_row15_col0, #T_e8c13_row15_col1, #T_e8c13_row15_col2, #T_e8c13_row15_col3, #T_e8c13_row15_col4, #T_e8c13_row15_col5, #T_e8c13_row15_col6, #T_e8c13_row15_col7 {\n",
       "  text-align: left;\n",
       "}\n",
       "#T_e8c13_row0_col1, #T_e8c13_row0_col2, #T_e8c13_row0_col3, #T_e8c13_row0_col4, #T_e8c13_row0_col5, #T_e8c13_row0_col6, #T_e8c13_row0_col7, #T_e8c13_row1_col2, #T_e8c13_row2_col2 {\n",
       "  text-align: left;\n",
       "  background-color: yellow;\n",
       "}\n",
       "#T_e8c13_row0_col8, #T_e8c13_row1_col8, #T_e8c13_row2_col8, #T_e8c13_row3_col8, #T_e8c13_row4_col8, #T_e8c13_row5_col8, #T_e8c13_row6_col8, #T_e8c13_row7_col8, #T_e8c13_row8_col8, #T_e8c13_row9_col8, #T_e8c13_row10_col8, #T_e8c13_row11_col8, #T_e8c13_row12_col8, #T_e8c13_row13_col8, #T_e8c13_row14_col8 {\n",
       "  text-align: left;\n",
       "  background-color: lightgrey;\n",
       "}\n",
       "#T_e8c13_row15_col8 {\n",
       "  text-align: left;\n",
       "  background-color: yellow;\n",
       "  background-color: lightgrey;\n",
       "}\n",
       "</style>\n",
       "<table id=\"T_e8c13_\">\n",
       "  <thead>\n",
       "    <tr>\n",
       "      <th class=\"blank level0\" >&nbsp;</th>\n",
       "      <th class=\"col_heading level0 col0\" >Model</th>\n",
       "      <th class=\"col_heading level0 col1\" >Accuracy</th>\n",
       "      <th class=\"col_heading level0 col2\" >AUC</th>\n",
       "      <th class=\"col_heading level0 col3\" >Recall</th>\n",
       "      <th class=\"col_heading level0 col4\" >Prec.</th>\n",
       "      <th class=\"col_heading level0 col5\" >F1</th>\n",
       "      <th class=\"col_heading level0 col6\" >Kappa</th>\n",
       "      <th class=\"col_heading level0 col7\" >MCC</th>\n",
       "      <th class=\"col_heading level0 col8\" >TT (Sec)</th>\n",
       "    </tr>\n",
       "  </thead>\n",
       "  <tbody>\n",
       "    <tr>\n",
       "      <th id=\"T_e8c13_level0_row0\" class=\"row_heading level0 row0\" >catboost</th>\n",
       "      <td id=\"T_e8c13_row0_col0\" class=\"data row0 col0\" >CatBoost Classifier</td>\n",
       "      <td id=\"T_e8c13_row0_col1\" class=\"data row0 col1\" >0.9781</td>\n",
       "      <td id=\"T_e8c13_row0_col2\" class=\"data row0 col2\" >0.9954</td>\n",
       "      <td id=\"T_e8c13_row0_col3\" class=\"data row0 col3\" >0.9781</td>\n",
       "      <td id=\"T_e8c13_row0_col4\" class=\"data row0 col4\" >0.9780</td>\n",
       "      <td id=\"T_e8c13_row0_col5\" class=\"data row0 col5\" >0.9779</td>\n",
       "      <td id=\"T_e8c13_row0_col6\" class=\"data row0 col6\" >0.9609</td>\n",
       "      <td id=\"T_e8c13_row0_col7\" class=\"data row0 col7\" >0.9610</td>\n",
       "      <td id=\"T_e8c13_row0_col8\" class=\"data row0 col8\" >25.8190</td>\n",
       "    </tr>\n",
       "    <tr>\n",
       "      <th id=\"T_e8c13_level0_row1\" class=\"row_heading level0 row1\" >xgboost</th>\n",
       "      <td id=\"T_e8c13_row1_col0\" class=\"data row1 col0\" >Extreme Gradient Boosting</td>\n",
       "      <td id=\"T_e8c13_row1_col1\" class=\"data row1 col1\" >0.9778</td>\n",
       "      <td id=\"T_e8c13_row1_col2\" class=\"data row1 col2\" >0.9954</td>\n",
       "      <td id=\"T_e8c13_row1_col3\" class=\"data row1 col3\" >0.9778</td>\n",
       "      <td id=\"T_e8c13_row1_col4\" class=\"data row1 col4\" >0.9777</td>\n",
       "      <td id=\"T_e8c13_row1_col5\" class=\"data row1 col5\" >0.9777</td>\n",
       "      <td id=\"T_e8c13_row1_col6\" class=\"data row1 col6\" >0.9605</td>\n",
       "      <td id=\"T_e8c13_row1_col7\" class=\"data row1 col7\" >0.9606</td>\n",
       "      <td id=\"T_e8c13_row1_col8\" class=\"data row1 col8\" >16.2020</td>\n",
       "    </tr>\n",
       "    <tr>\n",
       "      <th id=\"T_e8c13_level0_row2\" class=\"row_heading level0 row2\" >lightgbm</th>\n",
       "      <td id=\"T_e8c13_row2_col0\" class=\"data row2 col0\" >Light Gradient Boosting Machine</td>\n",
       "      <td id=\"T_e8c13_row2_col1\" class=\"data row2 col1\" >0.9776</td>\n",
       "      <td id=\"T_e8c13_row2_col2\" class=\"data row2 col2\" >0.9954</td>\n",
       "      <td id=\"T_e8c13_row2_col3\" class=\"data row2 col3\" >0.9776</td>\n",
       "      <td id=\"T_e8c13_row2_col4\" class=\"data row2 col4\" >0.9775</td>\n",
       "      <td id=\"T_e8c13_row2_col5\" class=\"data row2 col5\" >0.9775</td>\n",
       "      <td id=\"T_e8c13_row2_col6\" class=\"data row2 col6\" >0.9601</td>\n",
       "      <td id=\"T_e8c13_row2_col7\" class=\"data row2 col7\" >0.9602</td>\n",
       "      <td id=\"T_e8c13_row2_col8\" class=\"data row2 col8\" >1.2220</td>\n",
       "    </tr>\n",
       "    <tr>\n",
       "      <th id=\"T_e8c13_level0_row3\" class=\"row_heading level0 row3\" >rf</th>\n",
       "      <td id=\"T_e8c13_row3_col0\" class=\"data row3 col0\" >Random Forest Classifier</td>\n",
       "      <td id=\"T_e8c13_row3_col1\" class=\"data row3 col1\" >0.9773</td>\n",
       "      <td id=\"T_e8c13_row3_col2\" class=\"data row3 col2\" >0.9945</td>\n",
       "      <td id=\"T_e8c13_row3_col3\" class=\"data row3 col3\" >0.9773</td>\n",
       "      <td id=\"T_e8c13_row3_col4\" class=\"data row3 col4\" >0.9772</td>\n",
       "      <td id=\"T_e8c13_row3_col5\" class=\"data row3 col5\" >0.9772</td>\n",
       "      <td id=\"T_e8c13_row3_col6\" class=\"data row3 col6\" >0.9596</td>\n",
       "      <td id=\"T_e8c13_row3_col7\" class=\"data row3 col7\" >0.9597</td>\n",
       "      <td id=\"T_e8c13_row3_col8\" class=\"data row3 col8\" >7.1900</td>\n",
       "    </tr>\n",
       "    <tr>\n",
       "      <th id=\"T_e8c13_level0_row4\" class=\"row_heading level0 row4\" >gbc</th>\n",
       "      <td id=\"T_e8c13_row4_col0\" class=\"data row4 col0\" >Gradient Boosting Classifier</td>\n",
       "      <td id=\"T_e8c13_row4_col1\" class=\"data row4 col1\" >0.9757</td>\n",
       "      <td id=\"T_e8c13_row4_col2\" class=\"data row4 col2\" >0.9947</td>\n",
       "      <td id=\"T_e8c13_row4_col3\" class=\"data row4 col3\" >0.9757</td>\n",
       "      <td id=\"T_e8c13_row4_col4\" class=\"data row4 col4\" >0.9756</td>\n",
       "      <td id=\"T_e8c13_row4_col5\" class=\"data row4 col5\" >0.9755</td>\n",
       "      <td id=\"T_e8c13_row4_col6\" class=\"data row4 col6\" >0.9567</td>\n",
       "      <td id=\"T_e8c13_row4_col7\" class=\"data row4 col7\" >0.9569</td>\n",
       "      <td id=\"T_e8c13_row4_col8\" class=\"data row4 col8\" >27.9130</td>\n",
       "    </tr>\n",
       "    <tr>\n",
       "      <th id=\"T_e8c13_level0_row5\" class=\"row_heading level0 row5\" >et</th>\n",
       "      <td id=\"T_e8c13_row5_col0\" class=\"data row5 col0\" >Extra Trees Classifier</td>\n",
       "      <td id=\"T_e8c13_row5_col1\" class=\"data row5 col1\" >0.9722</td>\n",
       "      <td id=\"T_e8c13_row5_col2\" class=\"data row5 col2\" >0.9932</td>\n",
       "      <td id=\"T_e8c13_row5_col3\" class=\"data row5 col3\" >0.9722</td>\n",
       "      <td id=\"T_e8c13_row5_col4\" class=\"data row5 col4\" >0.9722</td>\n",
       "      <td id=\"T_e8c13_row5_col5\" class=\"data row5 col5\" >0.9720</td>\n",
       "      <td id=\"T_e8c13_row5_col6\" class=\"data row5 col6\" >0.9506</td>\n",
       "      <td id=\"T_e8c13_row5_col7\" class=\"data row5 col7\" >0.9507</td>\n",
       "      <td id=\"T_e8c13_row5_col8\" class=\"data row5 col8\" >2.6810</td>\n",
       "    </tr>\n",
       "    <tr>\n",
       "      <th id=\"T_e8c13_level0_row6\" class=\"row_heading level0 row6\" >dt</th>\n",
       "      <td id=\"T_e8c13_row6_col0\" class=\"data row6 col0\" >Decision Tree Classifier</td>\n",
       "      <td id=\"T_e8c13_row6_col1\" class=\"data row6 col1\" >0.9645</td>\n",
       "      <td id=\"T_e8c13_row6_col2\" class=\"data row6 col2\" >0.9676</td>\n",
       "      <td id=\"T_e8c13_row6_col3\" class=\"data row6 col3\" >0.9645</td>\n",
       "      <td id=\"T_e8c13_row6_col4\" class=\"data row6 col4\" >0.9646</td>\n",
       "      <td id=\"T_e8c13_row6_col5\" class=\"data row6 col5\" >0.9645</td>\n",
       "      <td id=\"T_e8c13_row6_col6\" class=\"data row6 col6\" >0.9371</td>\n",
       "      <td id=\"T_e8c13_row6_col7\" class=\"data row6 col7\" >0.9371</td>\n",
       "      <td id=\"T_e8c13_row6_col8\" class=\"data row6 col8\" >0.4630</td>\n",
       "    </tr>\n",
       "    <tr>\n",
       "      <th id=\"T_e8c13_level0_row7\" class=\"row_heading level0 row7\" >lr</th>\n",
       "      <td id=\"T_e8c13_row7_col0\" class=\"data row7 col0\" >Logistic Regression</td>\n",
       "      <td id=\"T_e8c13_row7_col1\" class=\"data row7 col1\" >0.9497</td>\n",
       "      <td id=\"T_e8c13_row7_col2\" class=\"data row7 col2\" >0.9839</td>\n",
       "      <td id=\"T_e8c13_row7_col3\" class=\"data row7 col3\" >0.9497</td>\n",
       "      <td id=\"T_e8c13_row7_col4\" class=\"data row7 col4\" >0.9497</td>\n",
       "      <td id=\"T_e8c13_row7_col5\" class=\"data row7 col5\" >0.9493</td>\n",
       "      <td id=\"T_e8c13_row7_col6\" class=\"data row7 col6\" >0.9109</td>\n",
       "      <td id=\"T_e8c13_row7_col7\" class=\"data row7 col7\" >0.9111</td>\n",
       "      <td id=\"T_e8c13_row7_col8\" class=\"data row7 col8\" >10.3790</td>\n",
       "    </tr>\n",
       "    <tr>\n",
       "      <th id=\"T_e8c13_level0_row8\" class=\"row_heading level0 row8\" >qda</th>\n",
       "      <td id=\"T_e8c13_row8_col0\" class=\"data row8 col0\" >Quadratic Discriminant Analysis</td>\n",
       "      <td id=\"T_e8c13_row8_col1\" class=\"data row8 col1\" >0.8970</td>\n",
       "      <td id=\"T_e8c13_row8_col2\" class=\"data row8 col2\" >0.9776</td>\n",
       "      <td id=\"T_e8c13_row8_col3\" class=\"data row8 col3\" >0.8970</td>\n",
       "      <td id=\"T_e8c13_row8_col4\" class=\"data row8 col4\" >0.9023</td>\n",
       "      <td id=\"T_e8c13_row8_col5\" class=\"data row8 col5\" >0.8953</td>\n",
       "      <td id=\"T_e8c13_row8_col6\" class=\"data row8 col6\" >0.8130</td>\n",
       "      <td id=\"T_e8c13_row8_col7\" class=\"data row8 col7\" >0.8166</td>\n",
       "      <td id=\"T_e8c13_row8_col8\" class=\"data row8 col8\" >0.0650</td>\n",
       "    </tr>\n",
       "    <tr>\n",
       "      <th id=\"T_e8c13_level0_row9\" class=\"row_heading level0 row9\" >lda</th>\n",
       "      <td id=\"T_e8c13_row9_col0\" class=\"data row9 col0\" >Linear Discriminant Analysis</td>\n",
       "      <td id=\"T_e8c13_row9_col1\" class=\"data row9 col1\" >0.8459</td>\n",
       "      <td id=\"T_e8c13_row9_col2\" class=\"data row9 col2\" >0.9171</td>\n",
       "      <td id=\"T_e8c13_row9_col3\" class=\"data row9 col3\" >0.8459</td>\n",
       "      <td id=\"T_e8c13_row9_col4\" class=\"data row9 col4\" >0.8493</td>\n",
       "      <td id=\"T_e8c13_row9_col5\" class=\"data row9 col5\" >0.8400</td>\n",
       "      <td id=\"T_e8c13_row9_col6\" class=\"data row9 col6\" >0.7094</td>\n",
       "      <td id=\"T_e8c13_row9_col7\" class=\"data row9 col7\" >0.7198</td>\n",
       "      <td id=\"T_e8c13_row9_col8\" class=\"data row9 col8\" >0.0960</td>\n",
       "    </tr>\n",
       "    <tr>\n",
       "      <th id=\"T_e8c13_level0_row10\" class=\"row_heading level0 row10\" >ridge</th>\n",
       "      <td id=\"T_e8c13_row10_col0\" class=\"data row10 col0\" >Ridge Classifier</td>\n",
       "      <td id=\"T_e8c13_row10_col1\" class=\"data row10 col1\" >0.8309</td>\n",
       "      <td id=\"T_e8c13_row10_col2\" class=\"data row10 col2\" >0.0000</td>\n",
       "      <td id=\"T_e8c13_row10_col3\" class=\"data row10 col3\" >0.8309</td>\n",
       "      <td id=\"T_e8c13_row10_col4\" class=\"data row10 col4\" >0.8298</td>\n",
       "      <td id=\"T_e8c13_row10_col5\" class=\"data row10 col5\" >0.8206</td>\n",
       "      <td id=\"T_e8c13_row10_col6\" class=\"data row10 col6\" >0.6813</td>\n",
       "      <td id=\"T_e8c13_row10_col7\" class=\"data row10 col7\" >0.6927</td>\n",
       "      <td id=\"T_e8c13_row10_col8\" class=\"data row10 col8\" >0.0560</td>\n",
       "    </tr>\n",
       "    <tr>\n",
       "      <th id=\"T_e8c13_level0_row11\" class=\"row_heading level0 row11\" >knn</th>\n",
       "      <td id=\"T_e8c13_row11_col0\" class=\"data row11 col0\" >K Neighbors Classifier</td>\n",
       "      <td id=\"T_e8c13_row11_col1\" class=\"data row11 col1\" >0.8236</td>\n",
       "      <td id=\"T_e8c13_row11_col2\" class=\"data row11 col2\" >0.9004</td>\n",
       "      <td id=\"T_e8c13_row11_col3\" class=\"data row11 col3\" >0.8236</td>\n",
       "      <td id=\"T_e8c13_row11_col4\" class=\"data row11 col4\" >0.8199</td>\n",
       "      <td id=\"T_e8c13_row11_col5\" class=\"data row11 col5\" >0.8145</td>\n",
       "      <td id=\"T_e8c13_row11_col6\" class=\"data row11 col6\" >0.6693</td>\n",
       "      <td id=\"T_e8c13_row11_col7\" class=\"data row11 col7\" >0.6780</td>\n",
       "      <td id=\"T_e8c13_row11_col8\" class=\"data row11 col8\" >0.3240</td>\n",
       "    </tr>\n",
       "    <tr>\n",
       "      <th id=\"T_e8c13_level0_row12\" class=\"row_heading level0 row12\" >svm</th>\n",
       "      <td id=\"T_e8c13_row12_col0\" class=\"data row12 col0\" >SVM - Linear Kernel</td>\n",
       "      <td id=\"T_e8c13_row12_col1\" class=\"data row12 col1\" >0.7719</td>\n",
       "      <td id=\"T_e8c13_row12_col2\" class=\"data row12 col2\" >0.0000</td>\n",
       "      <td id=\"T_e8c13_row12_col3\" class=\"data row12 col3\" >0.7719</td>\n",
       "      <td id=\"T_e8c13_row12_col4\" class=\"data row12 col4\" >0.8073</td>\n",
       "      <td id=\"T_e8c13_row12_col5\" class=\"data row12 col5\" >0.7644</td>\n",
       "      <td id=\"T_e8c13_row12_col6\" class=\"data row12 col6\" >0.6068</td>\n",
       "      <td id=\"T_e8c13_row12_col7\" class=\"data row12 col7\" >0.6278</td>\n",
       "      <td id=\"T_e8c13_row12_col8\" class=\"data row12 col8\" >2.2880</td>\n",
       "    </tr>\n",
       "    <tr>\n",
       "      <th id=\"T_e8c13_level0_row13\" class=\"row_heading level0 row13\" >nb</th>\n",
       "      <td id=\"T_e8c13_row13_col0\" class=\"data row13 col0\" >Naive Bayes</td>\n",
       "      <td id=\"T_e8c13_row13_col1\" class=\"data row13 col1\" >0.7494</td>\n",
       "      <td id=\"T_e8c13_row13_col2\" class=\"data row13 col2\" >0.8923</td>\n",
       "      <td id=\"T_e8c13_row13_col3\" class=\"data row13 col3\" >0.7494</td>\n",
       "      <td id=\"T_e8c13_row13_col4\" class=\"data row13 col4\" >0.7942</td>\n",
       "      <td id=\"T_e8c13_row13_col5\" class=\"data row13 col5\" >0.6907</td>\n",
       "      <td id=\"T_e8c13_row13_col6\" class=\"data row13 col6\" >0.5118</td>\n",
       "      <td id=\"T_e8c13_row13_col7\" class=\"data row13 col7\" >0.5469</td>\n",
       "      <td id=\"T_e8c13_row13_col8\" class=\"data row13 col8\" >0.0570</td>\n",
       "    </tr>\n",
       "    <tr>\n",
       "      <th id=\"T_e8c13_level0_row14\" class=\"row_heading level0 row14\" >ada</th>\n",
       "      <td id=\"T_e8c13_row14_col0\" class=\"data row14 col0\" >Ada Boost Classifier</td>\n",
       "      <td id=\"T_e8c13_row14_col1\" class=\"data row14 col1\" >0.6836</td>\n",
       "      <td id=\"T_e8c13_row14_col2\" class=\"data row14 col2\" >0.7583</td>\n",
       "      <td id=\"T_e8c13_row14_col3\" class=\"data row14 col3\" >0.6836</td>\n",
       "      <td id=\"T_e8c13_row14_col4\" class=\"data row14 col4\" >0.6801</td>\n",
       "      <td id=\"T_e8c13_row14_col5\" class=\"data row14 col5\" >0.6615</td>\n",
       "      <td id=\"T_e8c13_row14_col6\" class=\"data row14 col6\" >0.4136</td>\n",
       "      <td id=\"T_e8c13_row14_col7\" class=\"data row14 col7\" >0.4392</td>\n",
       "      <td id=\"T_e8c13_row14_col8\" class=\"data row14 col8\" >2.1660</td>\n",
       "    </tr>\n",
       "    <tr>\n",
       "      <th id=\"T_e8c13_level0_row15\" class=\"row_heading level0 row15\" >dummy</th>\n",
       "      <td id=\"T_e8c13_row15_col0\" class=\"data row15 col0\" >Dummy Classifier</td>\n",
       "      <td id=\"T_e8c13_row15_col1\" class=\"data row15 col1\" >0.5945</td>\n",
       "      <td id=\"T_e8c13_row15_col2\" class=\"data row15 col2\" >0.5000</td>\n",
       "      <td id=\"T_e8c13_row15_col3\" class=\"data row15 col3\" >0.5945</td>\n",
       "      <td id=\"T_e8c13_row15_col4\" class=\"data row15 col4\" >0.3534</td>\n",
       "      <td id=\"T_e8c13_row15_col5\" class=\"data row15 col5\" >0.4433</td>\n",
       "      <td id=\"T_e8c13_row15_col6\" class=\"data row15 col6\" >0.0000</td>\n",
       "      <td id=\"T_e8c13_row15_col7\" class=\"data row15 col7\" >0.0000</td>\n",
       "      <td id=\"T_e8c13_row15_col8\" class=\"data row15 col8\" >0.0490</td>\n",
       "    </tr>\n",
       "  </tbody>\n",
       "</table>\n"
      ],
      "text/plain": [
       "<pandas.io.formats.style.Styler at 0x7f0dee0f2e90>"
      ]
     },
     "metadata": {},
     "output_type": "display_data"
    },
    {
     "data": {
      "application/vnd.jupyter.widget-view+json": {
       "model_id": "0c0c0f2422ff4ff4a87491ea43721291",
       "version_major": 2,
       "version_minor": 0
      },
      "text/plain": [
       "Processing:   0%|          | 0/69 [00:00<?, ?it/s]"
      ]
     },
     "metadata": {},
     "output_type": "display_data"
    }
   ],
   "source": [
    "pycaret_models = compare_models()"
   ]
  },
  {
   "cell_type": "code",
   "execution_count": 24,
   "id": "a8eb7bff",
   "metadata": {
    "execution": {
     "iopub.execute_input": "2022-08-16T16:03:59.336615Z",
     "iopub.status.busy": "2022-08-16T16:03:59.336002Z",
     "iopub.status.idle": "2022-08-16T16:03:59.341988Z",
     "shell.execute_reply": "2022-08-16T16:03:59.341188Z"
    },
    "papermill": {
     "duration": 0.033945,
     "end_time": "2022-08-16T16:03:59.344581",
     "exception": false,
     "start_time": "2022-08-16T16:03:59.310636",
     "status": "completed"
    },
    "tags": []
   },
   "outputs": [
    {
     "name": "stdout",
     "output_type": "stream",
     "text": [
      "<catboost.core.CatBoostClassifier object at 0x7f0dee03e650>\n"
     ]
    }
   ],
   "source": [
    "print(pycaret_models)"
   ]
  },
  {
   "cell_type": "code",
   "execution_count": 25,
   "id": "52c8bb48",
   "metadata": {
    "execution": {
     "iopub.execute_input": "2022-08-16T16:03:59.395158Z",
     "iopub.status.busy": "2022-08-16T16:03:59.394767Z",
     "iopub.status.idle": "2022-08-16T16:04:02.961968Z",
     "shell.execute_reply": "2022-08-16T16:04:02.960514Z"
    },
    "papermill": {
     "duration": 3.595611,
     "end_time": "2022-08-16T16:04:02.964405",
     "exception": false,
     "start_time": "2022-08-16T16:03:59.368794",
     "status": "completed"
    },
    "tags": []
   },
   "outputs": [
    {
     "data": {
      "text/plain": [
       "0.9604668145798412"
      ]
     },
     "execution_count": 25,
     "metadata": {},
     "output_type": "execute_result"
    }
   ],
   "source": [
    "from sklearn.ensemble import ExtraTreesRegressor\n",
    "model_2 = ExtraTreesRegressor(n_jobs=-1, random_state=669)\n",
    "model_2.fit(X_train,y_train)\n",
    "model_2.score(X_test,y_test)"
   ]
  },
  {
   "cell_type": "code",
   "execution_count": 26,
   "id": "897fb8b5",
   "metadata": {
    "execution": {
     "iopub.execute_input": "2022-08-16T16:04:03.015448Z",
     "iopub.status.busy": "2022-08-16T16:04:03.014547Z",
     "iopub.status.idle": "2022-08-16T16:05:15.061106Z",
     "shell.execute_reply": "2022-08-16T16:05:15.059951Z"
    },
    "papermill": {
     "duration": 72.074475,
     "end_time": "2022-08-16T16:05:15.063492",
     "exception": false,
     "start_time": "2022-08-16T16:04:02.989017",
     "status": "completed"
    },
    "tags": []
   },
   "outputs": [
    {
     "name": "stdout",
     "output_type": "stream",
     "text": [
      "Collecting autogluon\r\n",
      "  Downloading autogluon-0.5.2-py3-none-any.whl (9.6 kB)\r\n",
      "Collecting autogluon.tabular[all]==0.5.2\r\n",
      "  Downloading autogluon.tabular-0.5.2-py3-none-any.whl (274 kB)\r\n",
      "\u001b[2K     \u001b[90m━━━━━━━━━━━━━━━━━━━━━━━━━━━━━━━━━━━━━\u001b[0m \u001b[32m274.2/274.2 kB\u001b[0m \u001b[31m991.2 kB/s\u001b[0m eta \u001b[36m0:00:00\u001b[0m\r\n",
      "\u001b[?25hCollecting autogluon.core[all]==0.5.2\r\n",
      "  Downloading autogluon.core-0.5.2-py3-none-any.whl (210 kB)\r\n",
      "\u001b[2K     \u001b[90m━━━━━━━━━━━━━━━━━━━━━━━━━━━━━━━━━━━━━━━\u001b[0m \u001b[32m210.4/210.4 kB\u001b[0m \u001b[31m5.4 MB/s\u001b[0m eta \u001b[36m0:00:00\u001b[0m\r\n",
      "\u001b[?25hCollecting autogluon.vision==0.5.2\r\n",
      "  Downloading autogluon.vision-0.5.2-py3-none-any.whl (48 kB)\r\n",
      "\u001b[2K     \u001b[90m━━━━━━━━━━━━━━━━━━━━━━━━━━━━━━━━━━━━━━━━\u001b[0m \u001b[32m48.8/48.8 kB\u001b[0m \u001b[31m3.1 MB/s\u001b[0m eta \u001b[36m0:00:00\u001b[0m\r\n",
      "\u001b[?25hCollecting autogluon.text==0.5.2\r\n",
      "  Downloading autogluon.text-0.5.2-py3-none-any.whl (61 kB)\r\n",
      "\u001b[2K     \u001b[90m━━━━━━━━━━━━━━━━━━━━━━━━━━━━━━━━━━━━━━━━\u001b[0m \u001b[32m61.9/61.9 kB\u001b[0m \u001b[31m3.8 MB/s\u001b[0m eta \u001b[36m0:00:00\u001b[0m\r\n",
      "\u001b[?25hCollecting autogluon.timeseries[all]==0.5.2\r\n",
      "  Downloading autogluon.timeseries-0.5.2-py3-none-any.whl (65 kB)\r\n",
      "\u001b[2K     \u001b[90m━━━━━━━━━━━━━━━━━━━━━━━━━━━━━━━━━━━━━━━━\u001b[0m \u001b[32m65.4/65.4 kB\u001b[0m \u001b[31m3.4 MB/s\u001b[0m eta \u001b[36m0:00:00\u001b[0m\r\n",
      "\u001b[?25hCollecting autogluon.multimodal==0.5.2\r\n",
      "  Downloading autogluon.multimodal-0.5.2-py3-none-any.whl (149 kB)\r\n",
      "\u001b[2K     \u001b[90m━━━━━━━━━━━━━━━━━━━━━━━━━━━━━━━━━━━━━━━\u001b[0m \u001b[32m149.4/149.4 kB\u001b[0m \u001b[31m6.1 MB/s\u001b[0m eta \u001b[36m0:00:00\u001b[0m\r\n",
      "\u001b[?25hCollecting autogluon.features==0.5.2\r\n",
      "  Downloading autogluon.features-0.5.2-py3-none-any.whl (59 kB)\r\n",
      "\u001b[2K     \u001b[90m━━━━━━━━━━━━━━━━━━━━━━━━━━━━━━━━━━━━━━━━\u001b[0m \u001b[32m59.4/59.4 kB\u001b[0m \u001b[31m3.3 MB/s\u001b[0m eta \u001b[36m0:00:00\u001b[0m\r\n",
      "\u001b[?25hRequirement already satisfied: tqdm>=4.38.0 in /opt/conda/lib/python3.7/site-packages (from autogluon.core[all]==0.5.2->autogluon) (4.64.0)\r\n",
      "Requirement already satisfied: boto3 in /opt/conda/lib/python3.7/site-packages (from autogluon.core[all]==0.5.2->autogluon) (1.24.33)\r\n",
      "Requirement already satisfied: scikit-learn<1.1,>=1.0.0 in /opt/conda/lib/python3.7/site-packages (from autogluon.core[all]==0.5.2->autogluon) (1.0.2)\r\n",
      "Requirement already satisfied: scipy<1.8.0,>=1.5.4 in /opt/conda/lib/python3.7/site-packages (from autogluon.core[all]==0.5.2->autogluon) (1.7.3)\r\n",
      "Requirement already satisfied: matplotlib in /opt/conda/lib/python3.7/site-packages (from autogluon.core[all]==0.5.2->autogluon) (3.5.2)\r\n",
      "Collecting autogluon.common==0.5.2\r\n",
      "  Downloading autogluon.common-0.5.2-py3-none-any.whl (37 kB)\r\n",
      "Requirement already satisfied: pandas!=1.4.0,<1.5,>=1.2.5 in /opt/conda/lib/python3.7/site-packages (from autogluon.core[all]==0.5.2->autogluon) (1.3.5)\r\n",
      "Requirement already satisfied: requests in /opt/conda/lib/python3.7/site-packages (from autogluon.core[all]==0.5.2->autogluon) (2.28.1)\r\n",
      "Collecting dask<=2021.11.2,>=2021.09.1\r\n",
      "  Downloading dask-2021.11.2-py3-none-any.whl (1.0 MB)\r\n",
      "\u001b[2K     \u001b[90m━━━━━━━━━━━━━━━━━━━━━━━━━━━━━━━━━━━━━━━━\u001b[0m \u001b[32m1.0/1.0 MB\u001b[0m \u001b[31m6.3 MB/s\u001b[0m eta \u001b[36m0:00:00\u001b[0m\r\n",
      "\u001b[?25hRequirement already satisfied: numpy<1.23,>=1.21 in /opt/conda/lib/python3.7/site-packages (from autogluon.core[all]==0.5.2->autogluon) (1.21.6)\r\n",
      "Collecting distributed<=2021.11.2,>=2021.09.1\r\n",
      "  Downloading distributed-2021.11.2-py3-none-any.whl (802 kB)\r\n",
      "\u001b[2K     \u001b[90m━━━━━━━━━━━━━━━━━━━━━━━━━━━━━━━━━━━━━━\u001b[0m \u001b[32m802.2/802.2 kB\u001b[0m \u001b[31m16.4 MB/s\u001b[0m eta \u001b[36m0:00:00\u001b[0m\r\n",
      "\u001b[?25hRequirement already satisfied: ray<1.14,>=1.13 in /opt/conda/lib/python3.7/site-packages (from autogluon.core[all]==0.5.2->autogluon) (1.13.0)\r\n",
      "Requirement already satisfied: hyperopt<0.2.8,>=0.2.7 in /opt/conda/lib/python3.7/site-packages (from autogluon.core[all]==0.5.2->autogluon) (0.2.7)\r\n",
      "Requirement already satisfied: psutil<6,>=5.7.3 in /opt/conda/lib/python3.7/site-packages (from autogluon.features==0.5.2->autogluon) (5.9.1)\r\n",
      "Requirement already satisfied: nltk<4.0.0,>=3.4.5 in /opt/conda/lib/python3.7/site-packages (from autogluon.multimodal==0.5.2->autogluon) (3.7)\r\n",
      "Collecting omegaconf<2.2.0,>=2.1.1\r\n",
      "  Downloading omegaconf-2.1.2-py3-none-any.whl (74 kB)\r\n",
      "\u001b[2K     \u001b[90m━━━━━━━━━━━━━━━━━━━━━━━━━━━━━━━━━━━━━━━━\u001b[0m \u001b[32m74.7/74.7 kB\u001b[0m \u001b[31m4.8 MB/s\u001b[0m eta \u001b[36m0:00:00\u001b[0m\r\n",
      "\u001b[?25hRequirement already satisfied: torchvision<0.14.0 in /opt/conda/lib/python3.7/site-packages (from autogluon.multimodal==0.5.2->autogluon) (0.12.0+cpu)\r\n",
      "Requirement already satisfied: torch<1.13,>=1.9 in /opt/conda/lib/python3.7/site-packages (from autogluon.multimodal==0.5.2->autogluon) (1.11.0+cpu)\r\n",
      "Requirement already satisfied: scikit-image<0.20.0,>=0.19.1 in /opt/conda/lib/python3.7/site-packages (from autogluon.multimodal==0.5.2->autogluon) (0.19.3)\r\n",
      "Collecting protobuf<=3.18.1\r\n",
      "  Downloading protobuf-3.18.1-cp37-cp37m-manylinux_2_17_x86_64.manylinux2014_x86_64.whl (1.1 MB)\r\n",
      "\u001b[2K     \u001b[90m━━━━━━━━━━━━━━━━━━━━━━━━━━━━━━━━━━━━━━━━\u001b[0m \u001b[32m1.1/1.1 MB\u001b[0m \u001b[31m20.2 MB/s\u001b[0m eta \u001b[36m0:00:00\u001b[0m\r\n",
      "\u001b[?25hRequirement already satisfied: torchtext<0.14.0 in /opt/conda/lib/python3.7/site-packages (from autogluon.multimodal==0.5.2->autogluon) (0.12.0)\r\n",
      "Requirement already satisfied: transformers<4.21.0,>=4.18.0 in /opt/conda/lib/python3.7/site-packages (from autogluon.multimodal==0.5.2->autogluon) (4.20.1)\r\n",
      "Requirement already satisfied: fairscale<=0.4.6,>=0.4.5 in /opt/conda/lib/python3.7/site-packages (from autogluon.multimodal==0.5.2->autogluon) (0.4.6)\r\n",
      "Requirement already satisfied: sentencepiece<0.2.0,>=0.1.95 in /opt/conda/lib/python3.7/site-packages (from autogluon.multimodal==0.5.2->autogluon) (0.1.96)\r\n",
      "Requirement already satisfied: smart-open<5.3.0,>=5.2.1 in /opt/conda/lib/python3.7/site-packages (from autogluon.multimodal==0.5.2->autogluon) (5.2.1)\r\n",
      "Collecting torchmetrics<0.8.0,>=0.7.2\r\n",
      "  Downloading torchmetrics-0.7.3-py3-none-any.whl (398 kB)\r\n",
      "\u001b[2K     \u001b[90m━━━━━━━━━━━━━━━━━━━━━━━━━━━━━━━━━━━━━━\u001b[0m \u001b[32m398.2/398.2 kB\u001b[0m \u001b[31m16.1 MB/s\u001b[0m eta \u001b[36m0:00:00\u001b[0m\r\n",
      "\u001b[?25hRequirement already satisfied: pytorch-lightning<1.7.0,>=1.6.0 in /opt/conda/lib/python3.7/site-packages (from autogluon.multimodal==0.5.2->autogluon) (1.6.5)\r\n",
      "Collecting nlpaug<=1.1.10,>=1.1.10\r\n",
      "  Downloading nlpaug-1.1.10-py3-none-any.whl (410 kB)\r\n",
      "\u001b[2K     \u001b[90m━━━━━━━━━━━━━━━━━━━━━━━━━━━━━━━━━━━━━━\u001b[0m \u001b[32m410.8/410.8 kB\u001b[0m \u001b[31m21.9 MB/s\u001b[0m eta \u001b[36m0:00:00\u001b[0m\r\n",
      "\u001b[?25hCollecting nptyping<1.5.0,>=1.4.4\r\n",
      "  Downloading nptyping-1.4.4-py3-none-any.whl (31 kB)\r\n",
      "Collecting Pillow<9.1.0,>=9.0.1\r\n",
      "  Downloading Pillow-9.0.1-cp37-cp37m-manylinux_2_17_x86_64.manylinux2014_x86_64.whl (4.3 MB)\r\n",
      "\u001b[2K     \u001b[90m━━━━━━━━━━━━━━━━━━━━━━━━━━━━━━━━━━━━━━━━\u001b[0m \u001b[32m4.3/4.3 MB\u001b[0m \u001b[31m20.4 MB/s\u001b[0m eta \u001b[36m0:00:00\u001b[0m\r\n",
      "\u001b[?25hCollecting timm<0.6.0\r\n",
      "  Downloading timm-0.5.4-py3-none-any.whl (431 kB)\r\n",
      "\u001b[2K     \u001b[90m━━━━━━━━━━━━━━━━━━━━━━━━━━━━━━━━━━━━━━\u001b[0m \u001b[32m431.5/431.5 kB\u001b[0m \u001b[31m16.7 MB/s\u001b[0m eta \u001b[36m0:00:00\u001b[0m\r\n",
      "\u001b[?25hCollecting pytorch-metric-learning<1.4.0,>=1.3.0\r\n",
      "  Downloading pytorch_metric_learning-1.3.2-py3-none-any.whl (109 kB)\r\n",
      "\u001b[2K     \u001b[90m━━━━━━━━━━━━━━━━━━━━━━━━━━━━━━━━━━━━━━━\u001b[0m \u001b[32m109.4/109.4 kB\u001b[0m \u001b[31m6.7 MB/s\u001b[0m eta \u001b[36m0:00:00\u001b[0m\r\n",
      "\u001b[?25hRequirement already satisfied: networkx<3.0,>=2.3 in /opt/conda/lib/python3.7/site-packages (from autogluon.tabular[all]==0.5.2->autogluon) (2.5)\r\n",
      "Requirement already satisfied: fastai<2.8,>=2.3.1 in /opt/conda/lib/python3.7/site-packages (from autogluon.tabular[all]==0.5.2->autogluon) (2.7.7)\r\n",
      "Collecting xgboost<1.5,>=1.4\r\n",
      "  Downloading xgboost-1.4.2-py3-none-manylinux2010_x86_64.whl (166.7 MB)\r\n",
      "\u001b[2K     \u001b[90m━━━━━━━━━━━━━━━━━━━━━━━━━━━━━━━━━━━━━━━\u001b[0m \u001b[32m166.7/166.7 MB\u001b[0m \u001b[31m4.6 MB/s\u001b[0m eta \u001b[36m0:00:00\u001b[0m\r\n",
      "\u001b[?25hRequirement already satisfied: lightgbm<3.4,>=3.3 in /opt/conda/lib/python3.7/site-packages (from autogluon.tabular[all]==0.5.2->autogluon) (3.3.2)\r\n",
      "Requirement already satisfied: catboost<1.1,>=1.0 in /opt/conda/lib/python3.7/site-packages (from autogluon.tabular[all]==0.5.2->autogluon) (1.0.6)\r\n",
      "Collecting autogluon-contrib-nlp==0.0.1b20220208\r\n",
      "  Downloading autogluon_contrib_nlp-0.0.1b20220208-py3-none-any.whl (157 kB)\r\n",
      "\u001b[2K     \u001b[90m━━━━━━━━━━━━━━━━━━━━━━━━━━━━━━━━━━━━━━\u001b[0m \u001b[32m157.3/157.3 kB\u001b[0m \u001b[31m12.0 MB/s\u001b[0m eta \u001b[36m0:00:00\u001b[0m\r\n",
      "\u001b[?25hCollecting gluonts<0.10.0,>=0.8.0\r\n",
      "  Downloading gluonts-0.9.8-py3-none-any.whl (2.8 MB)\r\n",
      "\u001b[2K     \u001b[90m━━━━━━━━━━━━━━━━━━━━━━━━━━━━━━━━━━━━━━━━\u001b[0m \u001b[32m2.8/2.8 MB\u001b[0m \u001b[31m54.2 MB/s\u001b[0m eta \u001b[36m0:00:00\u001b[0m\r\n",
      "\u001b[?25hCollecting psutil<6,>=5.7.3\r\n",
      "  Downloading psutil-5.8.0-cp37-cp37m-manylinux2010_x86_64.whl (296 kB)\r\n",
      "\u001b[2K     \u001b[90m━━━━━━━━━━━━━━━━━━━━━━━━━━━━━━━━━━━━━━\u001b[0m \u001b[32m296.3/296.3 kB\u001b[0m \u001b[31m19.1 MB/s\u001b[0m eta \u001b[36m0:00:00\u001b[0m\r\n",
      "\u001b[?25hRequirement already satisfied: pmdarima~=1.8.2 in /opt/conda/lib/python3.7/site-packages (from autogluon.timeseries[all]==0.5.2->autogluon) (1.8.5)\r\n",
      "Collecting sktime~=0.11.4\r\n",
      "  Downloading sktime-0.11.4-py3-none-any.whl (6.7 MB)\r\n",
      "\u001b[2K     \u001b[90m━━━━━━━━━━━━━━━━━━━━━━━━━━━━━━━━━━━━━━━━\u001b[0m \u001b[32m6.7/6.7 MB\u001b[0m \u001b[31m28.9 MB/s\u001b[0m eta \u001b[36m0:00:00\u001b[0m\r\n",
      "\u001b[?25hRequirement already satisfied: tbats~=1.1 in /opt/conda/lib/python3.7/site-packages (from autogluon.timeseries[all]==0.5.2->autogluon) (1.1.0)\r\n",
      "Requirement already satisfied: gluoncv<0.10.6,>=0.10.5 in /opt/conda/lib/python3.7/site-packages (from autogluon.vision==0.5.2->autogluon) (0.10.5.post0)\r\n",
      "Requirement already satisfied: pyarrow in /opt/conda/lib/python3.7/site-packages (from autogluon-contrib-nlp==0.0.1b20220208->autogluon.text==0.5.2->autogluon) (8.0.0)\r\n",
      "Requirement already satisfied: flake8 in /opt/conda/lib/python3.7/site-packages (from autogluon-contrib-nlp==0.0.1b20220208->autogluon.text==0.5.2->autogluon) (4.0.1)\r\n",
      "Requirement already satisfied: yacs>=0.1.6 in /opt/conda/lib/python3.7/site-packages (from autogluon-contrib-nlp==0.0.1b20220208->autogluon.text==0.5.2->autogluon) (0.1.8)\r\n",
      "Collecting sacrebleu\r\n",
      "  Downloading sacrebleu-2.2.0-py3-none-any.whl (116 kB)\r\n",
      "\u001b[2K     \u001b[90m━━━━━━━━━━━━━━━━━━━━━━━━━━━━━━━━━━━━━━━\u001b[0m \u001b[32m116.6/116.6 kB\u001b[0m \u001b[31m8.0 MB/s\u001b[0m eta \u001b[36m0:00:00\u001b[0m\r\n",
      "\u001b[?25hRequirement already satisfied: regex in /opt/conda/lib/python3.7/site-packages (from autogluon-contrib-nlp==0.0.1b20220208->autogluon.text==0.5.2->autogluon) (2021.11.10)\r\n",
      "Collecting contextvars\r\n",
      "  Downloading contextvars-2.4.tar.gz (9.6 kB)\r\n",
      "  Preparing metadata (setup.py) ... \u001b[?25l-\b \bdone\r\n",
      "\u001b[?25hRequirement already satisfied: sacremoses>=0.0.38 in /opt/conda/lib/python3.7/site-packages (from autogluon-contrib-nlp==0.0.1b20220208->autogluon.text==0.5.2->autogluon) (0.0.53)\r\n",
      "Requirement already satisfied: tokenizers>=0.9.4 in /opt/conda/lib/python3.7/site-packages (from autogluon-contrib-nlp==0.0.1b20220208->autogluon.text==0.5.2->autogluon) (0.12.1)\r\n",
      "Collecting sentencepiece<0.2.0,>=0.1.95\r\n",
      "  Downloading sentencepiece-0.1.95-cp37-cp37m-manylinux2014_x86_64.whl (1.2 MB)\r\n",
      "\u001b[2K     \u001b[90m━━━━━━━━━━━━━━━━━━━━━━━━━━━━━━━━━━━━━━━━\u001b[0m \u001b[32m1.2/1.2 MB\u001b[0m \u001b[31m41.2 MB/s\u001b[0m eta \u001b[36m0:00:00\u001b[0m\r\n",
      "\u001b[?25hRequirement already satisfied: graphviz in /opt/conda/lib/python3.7/site-packages (from catboost<1.1,>=1.0->autogluon.tabular[all]==0.5.2->autogluon) (0.8.4)\r\n",
      "Requirement already satisfied: six in /opt/conda/lib/python3.7/site-packages (from catboost<1.1,>=1.0->autogluon.tabular[all]==0.5.2->autogluon) (1.16.0)\r\n",
      "Requirement already satisfied: plotly in /opt/conda/lib/python3.7/site-packages (from catboost<1.1,>=1.0->autogluon.tabular[all]==0.5.2->autogluon) (5.9.0)\r\n",
      "Requirement already satisfied: pyyaml in /opt/conda/lib/python3.7/site-packages (from dask<=2021.11.2,>=2021.09.1->autogluon.core[all]==0.5.2->autogluon) (6.0)\r\n",
      "Requirement already satisfied: partd>=0.3.10 in /opt/conda/lib/python3.7/site-packages (from dask<=2021.11.2,>=2021.09.1->autogluon.core[all]==0.5.2->autogluon) (1.2.0)\r\n",
      "Requirement already satisfied: fsspec>=0.6.0 in /opt/conda/lib/python3.7/site-packages (from dask<=2021.11.2,>=2021.09.1->autogluon.core[all]==0.5.2->autogluon) (2022.5.0)\r\n",
      "Requirement already satisfied: toolz>=0.8.2 in /opt/conda/lib/python3.7/site-packages (from dask<=2021.11.2,>=2021.09.1->autogluon.core[all]==0.5.2->autogluon) (0.11.2)\r\n",
      "Requirement already satisfied: cloudpickle>=1.1.1 in /opt/conda/lib/python3.7/site-packages (from dask<=2021.11.2,>=2021.09.1->autogluon.core[all]==0.5.2->autogluon) (2.1.0)\r\n",
      "Requirement already satisfied: packaging>=20.0 in /opt/conda/lib/python3.7/site-packages (from dask<=2021.11.2,>=2021.09.1->autogluon.core[all]==0.5.2->autogluon) (21.3)\r\n",
      "Requirement already satisfied: click>=6.6 in /opt/conda/lib/python3.7/site-packages (from distributed<=2021.11.2,>=2021.09.1->autogluon.core[all]==0.5.2->autogluon) (8.0.4)\r\n",
      "Requirement already satisfied: sortedcontainers!=2.0.0,!=2.0.1 in /opt/conda/lib/python3.7/site-packages (from distributed<=2021.11.2,>=2021.09.1->autogluon.core[all]==0.5.2->autogluon) (2.4.0)\r\n",
      "Requirement already satisfied: setuptools in /opt/conda/lib/python3.7/site-packages (from distributed<=2021.11.2,>=2021.09.1->autogluon.core[all]==0.5.2->autogluon) (59.8.0)\r\n",
      "Requirement already satisfied: tornado>=5 in /opt/conda/lib/python3.7/site-packages (from distributed<=2021.11.2,>=2021.09.1->autogluon.core[all]==0.5.2->autogluon) (6.1)\r\n",
      "Requirement already satisfied: tblib>=1.6.0 in /opt/conda/lib/python3.7/site-packages (from distributed<=2021.11.2,>=2021.09.1->autogluon.core[all]==0.5.2->autogluon) (1.7.0)\r\n",
      "Requirement already satisfied: zict>=0.1.3 in /opt/conda/lib/python3.7/site-packages (from distributed<=2021.11.2,>=2021.09.1->autogluon.core[all]==0.5.2->autogluon) (2.2.0)\r\n",
      "Requirement already satisfied: jinja2 in /opt/conda/lib/python3.7/site-packages (from distributed<=2021.11.2,>=2021.09.1->autogluon.core[all]==0.5.2->autogluon) (3.1.2)\r\n",
      "Requirement already satisfied: msgpack>=0.6.0 in /opt/conda/lib/python3.7/site-packages (from distributed<=2021.11.2,>=2021.09.1->autogluon.core[all]==0.5.2->autogluon) (1.0.4)\r\n",
      "Requirement already satisfied: pip in /opt/conda/lib/python3.7/site-packages (from fastai<2.8,>=2.3.1->autogluon.tabular[all]==0.5.2->autogluon) (22.1.2)\r\n",
      "Requirement already satisfied: fastdownload<2,>=0.0.5 in /opt/conda/lib/python3.7/site-packages (from fastai<2.8,>=2.3.1->autogluon.tabular[all]==0.5.2->autogluon) (0.0.7)\r\n",
      "Requirement already satisfied: spacy<4 in /opt/conda/lib/python3.7/site-packages (from fastai<2.8,>=2.3.1->autogluon.tabular[all]==0.5.2->autogluon) (3.3.1)\r\n",
      "Requirement already satisfied: fastcore<1.6,>=1.4.5 in /opt/conda/lib/python3.7/site-packages (from fastai<2.8,>=2.3.1->autogluon.tabular[all]==0.5.2->autogluon) (1.5.6)\r\n",
      "Requirement already satisfied: fastprogress>=0.2.4 in /opt/conda/lib/python3.7/site-packages (from fastai<2.8,>=2.3.1->autogluon.tabular[all]==0.5.2->autogluon) (1.0.2)\r\n",
      "Requirement already satisfied: autocfg in /opt/conda/lib/python3.7/site-packages (from gluoncv<0.10.6,>=0.10.5->autogluon.vision==0.5.2->autogluon) (0.0.8)\r\n",
      "Requirement already satisfied: portalocker in /opt/conda/lib/python3.7/site-packages (from gluoncv<0.10.6,>=0.10.5->autogluon.vision==0.5.2->autogluon) (2.5.1)\r\n",
      "Requirement already satisfied: opencv-python in /opt/conda/lib/python3.7/site-packages (from gluoncv<0.10.6,>=0.10.5->autogluon.vision==0.5.2->autogluon) (4.5.4.60)\r\n",
      "Requirement already satisfied: holidays>=0.9 in /opt/conda/lib/python3.7/site-packages (from gluonts<0.10.0,>=0.8.0->autogluon.timeseries[all]==0.5.2->autogluon) (0.14.2)\r\n",
      "Requirement already satisfied: typing-extensions~=4.0 in /opt/conda/lib/python3.7/site-packages (from gluonts<0.10.0,>=0.8.0->autogluon.timeseries[all]==0.5.2->autogluon) (4.1.1)\r\n",
      "Requirement already satisfied: pydantic~=1.1 in /opt/conda/lib/python3.7/site-packages (from gluonts<0.10.0,>=0.8.0->autogluon.timeseries[all]==0.5.2->autogluon) (1.8.2)\r\n",
      "Requirement already satisfied: future in /opt/conda/lib/python3.7/site-packages (from hyperopt<0.2.8,>=0.2.7->autogluon.core[all]==0.5.2->autogluon) (0.18.2)\r\n",
      "Requirement already satisfied: py4j in /opt/conda/lib/python3.7/site-packages (from hyperopt<0.2.8,>=0.2.7->autogluon.core[all]==0.5.2->autogluon) (0.10.9.5)\r\n",
      "Requirement already satisfied: wheel in /opt/conda/lib/python3.7/site-packages (from lightgbm<3.4,>=3.3->autogluon.tabular[all]==0.5.2->autogluon) (0.37.1)\r\n",
      "Requirement already satisfied: kiwisolver>=1.0.1 in /opt/conda/lib/python3.7/site-packages (from matplotlib->autogluon.core[all]==0.5.2->autogluon) (1.4.3)\r\n",
      "Requirement already satisfied: python-dateutil>=2.7 in /opt/conda/lib/python3.7/site-packages (from matplotlib->autogluon.core[all]==0.5.2->autogluon) (2.8.2)\r\n",
      "Requirement already satisfied: pyparsing>=2.2.1 in /opt/conda/lib/python3.7/site-packages (from matplotlib->autogluon.core[all]==0.5.2->autogluon) (3.0.9)\r\n",
      "Requirement already satisfied: fonttools>=4.22.0 in /opt/conda/lib/python3.7/site-packages (from matplotlib->autogluon.core[all]==0.5.2->autogluon) (4.33.3)\r\n",
      "Requirement already satisfied: cycler>=0.10 in /opt/conda/lib/python3.7/site-packages (from matplotlib->autogluon.core[all]==0.5.2->autogluon) (0.11.0)\r\n",
      "Requirement already satisfied: decorator>=4.3.0 in /opt/conda/lib/python3.7/site-packages (from networkx<3.0,>=2.3->autogluon.tabular[all]==0.5.2->autogluon) (5.1.1)\r\n",
      "Requirement already satisfied: joblib in /opt/conda/lib/python3.7/site-packages (from nltk<4.0.0,>=3.4.5->autogluon.multimodal==0.5.2->autogluon) (1.1.0)\r\n",
      "Collecting typish>=1.7.0\r\n",
      "  Downloading typish-1.9.3-py3-none-any.whl (45 kB)\r\n",
      "\u001b[2K     \u001b[90m━━━━━━━━━━━━━━━━━━━━━━━━━━━━━━━━━━━━━━━━\u001b[0m \u001b[32m45.1/45.1 kB\u001b[0m \u001b[31m3.4 MB/s\u001b[0m eta \u001b[36m0:00:00\u001b[0m\r\n",
      "\u001b[?25hCollecting antlr4-python3-runtime==4.8\r\n",
      "  Downloading antlr4-python3-runtime-4.8.tar.gz (112 kB)\r\n",
      "\u001b[2K     \u001b[90m━━━━━━━━━━━━━━━━━━━━━━━━━━━━━━━━━━━━━━━\u001b[0m \u001b[32m112.4/112.4 kB\u001b[0m \u001b[31m9.3 MB/s\u001b[0m eta \u001b[36m0:00:00\u001b[0m\r\n",
      "\u001b[?25h  Preparing metadata (setup.py) ... \u001b[?25l-\b \bdone\r\n",
      "\u001b[?25hRequirement already satisfied: pytz>=2017.3 in /opt/conda/lib/python3.7/site-packages (from pandas!=1.4.0,<1.5,>=1.2.5->autogluon.core[all]==0.5.2->autogluon) (2022.1)\r\n",
      "Requirement already satisfied: Cython!=0.29.18,>=0.29 in /opt/conda/lib/python3.7/site-packages (from pmdarima~=1.8.2->autogluon.timeseries[all]==0.5.2->autogluon) (0.29.30)\r\n",
      "Requirement already satisfied: urllib3 in /opt/conda/lib/python3.7/site-packages (from pmdarima~=1.8.2->autogluon.timeseries[all]==0.5.2->autogluon) (1.26.9)\r\n",
      "Requirement already satisfied: statsmodels!=0.12.0,>=0.11 in /opt/conda/lib/python3.7/site-packages (from pmdarima~=1.8.2->autogluon.timeseries[all]==0.5.2->autogluon) (0.13.2)\r\n",
      "Requirement already satisfied: tensorboard>=2.2.0 in /opt/conda/lib/python3.7/site-packages (from pytorch-lightning<1.7.0,>=1.6.0->autogluon.multimodal==0.5.2->autogluon) (2.6.0)\r\n",
      "Requirement already satisfied: pyDeprecate>=0.3.1 in /opt/conda/lib/python3.7/site-packages (from pytorch-lightning<1.7.0,>=1.6.0->autogluon.multimodal==0.5.2->autogluon) (0.3.2)\r\n",
      "Requirement already satisfied: attrs in /opt/conda/lib/python3.7/site-packages (from ray<1.14,>=1.13->autogluon.core[all]==0.5.2->autogluon) (21.4.0)\r\n",
      "Requirement already satisfied: aiosignal in /opt/conda/lib/python3.7/site-packages (from ray<1.14,>=1.13->autogluon.core[all]==0.5.2->autogluon) (1.2.0)\r\n",
      "Requirement already satisfied: virtualenv in /opt/conda/lib/python3.7/site-packages (from ray<1.14,>=1.13->autogluon.core[all]==0.5.2->autogluon) (20.15.1)\r\n",
      "Requirement already satisfied: frozenlist in /opt/conda/lib/python3.7/site-packages (from ray<1.14,>=1.13->autogluon.core[all]==0.5.2->autogluon) (1.3.0)\r\n",
      "Requirement already satisfied: grpcio<=1.43.0,>=1.28.1 in /opt/conda/lib/python3.7/site-packages (from ray<1.14,>=1.13->autogluon.core[all]==0.5.2->autogluon) (1.43.0)\r\n",
      "Requirement already satisfied: jsonschema in /opt/conda/lib/python3.7/site-packages (from ray<1.14,>=1.13->autogluon.core[all]==0.5.2->autogluon) (4.6.1)\r\n",
      "Requirement already satisfied: filelock in /opt/conda/lib/python3.7/site-packages (from ray<1.14,>=1.13->autogluon.core[all]==0.5.2->autogluon) (3.7.1)\r\n",
      "Requirement already satisfied: tabulate in /opt/conda/lib/python3.7/site-packages (from ray<1.14,>=1.13->autogluon.core[all]==0.5.2->autogluon) (0.8.10)\r\n",
      "Requirement already satisfied: tensorboardX>=1.9 in /opt/conda/lib/python3.7/site-packages (from ray<1.14,>=1.13->autogluon.core[all]==0.5.2->autogluon) (2.5.1)\r\n",
      "Requirement already satisfied: charset-normalizer<3,>=2 in /opt/conda/lib/python3.7/site-packages (from requests->autogluon.core[all]==0.5.2->autogluon) (2.1.0)\r\n",
      "Requirement already satisfied: certifi>=2017.4.17 in /opt/conda/lib/python3.7/site-packages (from requests->autogluon.core[all]==0.5.2->autogluon) (2022.6.15)\r\n",
      "Requirement already satisfied: idna<4,>=2.5 in /opt/conda/lib/python3.7/site-packages (from requests->autogluon.core[all]==0.5.2->autogluon) (3.3)\r\n",
      "Requirement already satisfied: imageio>=2.4.1 in /opt/conda/lib/python3.7/site-packages (from scikit-image<0.20.0,>=0.19.1->autogluon.multimodal==0.5.2->autogluon) (2.19.3)\r\n",
      "Requirement already satisfied: PyWavelets>=1.1.1 in /opt/conda/lib/python3.7/site-packages (from scikit-image<0.20.0,>=0.19.1->autogluon.multimodal==0.5.2->autogluon) (1.3.0)\r\n",
      "Requirement already satisfied: tifffile>=2019.7.26 in /opt/conda/lib/python3.7/site-packages (from scikit-image<0.20.0,>=0.19.1->autogluon.multimodal==0.5.2->autogluon) (2021.11.2)\r\n",
      "Requirement already satisfied: threadpoolctl>=2.0.0 in /opt/conda/lib/python3.7/site-packages (from scikit-learn<1.1,>=1.0.0->autogluon.core[all]==0.5.2->autogluon) (3.1.0)\r\n",
      "Requirement already satisfied: deprecated>=1.2.13 in /opt/conda/lib/python3.7/site-packages (from sktime~=0.11.4->autogluon.timeseries[all]==0.5.2->autogluon) (1.2.13)\r\n",
      "Requirement already satisfied: numba>=0.53 in /opt/conda/lib/python3.7/site-packages (from sktime~=0.11.4->autogluon.timeseries[all]==0.5.2->autogluon) (0.55.2)\r\n",
      "Requirement already satisfied: huggingface-hub<1.0,>=0.1.0 in /opt/conda/lib/python3.7/site-packages (from transformers<4.21.0,>=4.18.0->autogluon.multimodal==0.5.2->autogluon) (0.8.1)\r\n",
      "Requirement already satisfied: importlib-metadata in /opt/conda/lib/python3.7/site-packages (from transformers<4.21.0,>=4.18.0->autogluon.multimodal==0.5.2->autogluon) (4.12.0)\r\n",
      "Requirement already satisfied: s3transfer<0.7.0,>=0.6.0 in /opt/conda/lib/python3.7/site-packages (from boto3->autogluon.core[all]==0.5.2->autogluon) (0.6.0)\r\n",
      "Requirement already satisfied: jmespath<2.0.0,>=0.7.1 in /opt/conda/lib/python3.7/site-packages (from boto3->autogluon.core[all]==0.5.2->autogluon) (1.0.1)\r\n",
      "Requirement already satisfied: botocore<1.28.0,>=1.27.33 in /opt/conda/lib/python3.7/site-packages (from boto3->autogluon.core[all]==0.5.2->autogluon) (1.27.33)\r\n",
      "Requirement already satisfied: wrapt<2,>=1.10 in /opt/conda/lib/python3.7/site-packages (from deprecated>=1.2.13->sktime~=0.11.4->autogluon.timeseries[all]==0.5.2->autogluon) (1.14.1)\r\n",
      "Requirement already satisfied: aiohttp in /opt/conda/lib/python3.7/site-packages (from fsspec>=0.6.0->dask<=2021.11.2,>=2021.09.1->autogluon.core[all]==0.5.2->autogluon) (3.8.1)\r\n",
      "Requirement already satisfied: convertdate>=2.3.0 in /opt/conda/lib/python3.7/site-packages (from holidays>=0.9->gluonts<0.10.0,>=0.8.0->autogluon.timeseries[all]==0.5.2->autogluon) (2.4.0)\r\n",
      "Requirement already satisfied: korean-lunar-calendar in /opt/conda/lib/python3.7/site-packages (from holidays>=0.9->gluonts<0.10.0,>=0.8.0->autogluon.timeseries[all]==0.5.2->autogluon) (0.2.1)\r\n",
      "Requirement already satisfied: hijri-converter in /opt/conda/lib/python3.7/site-packages (from holidays>=0.9->gluonts<0.10.0,>=0.8.0->autogluon.timeseries[all]==0.5.2->autogluon) (2.2.4)\r\n",
      "Requirement already satisfied: llvmlite<0.39,>=0.38.0rc1 in /opt/conda/lib/python3.7/site-packages (from numba>=0.53->sktime~=0.11.4->autogluon.timeseries[all]==0.5.2->autogluon) (0.38.1)\r\n",
      "Requirement already satisfied: locket in /opt/conda/lib/python3.7/site-packages (from partd>=0.3.10->dask<=2021.11.2,>=2021.09.1->autogluon.core[all]==0.5.2->autogluon) (1.0.0)\r\n",
      "Requirement already satisfied: murmurhash<1.1.0,>=0.28.0 in /opt/conda/lib/python3.7/site-packages (from spacy<4->fastai<2.8,>=2.3.1->autogluon.tabular[all]==0.5.2->autogluon) (1.0.7)\r\n",
      "Requirement already satisfied: pathy>=0.3.5 in /opt/conda/lib/python3.7/site-packages (from spacy<4->fastai<2.8,>=2.3.1->autogluon.tabular[all]==0.5.2->autogluon) (0.6.2)\r\n",
      "Requirement already satisfied: spacy-legacy<3.1.0,>=3.0.9 in /opt/conda/lib/python3.7/site-packages (from spacy<4->fastai<2.8,>=2.3.1->autogluon.tabular[all]==0.5.2->autogluon) (3.0.9)\r\n",
      "Requirement already satisfied: blis<0.8.0,>=0.4.0 in /opt/conda/lib/python3.7/site-packages (from spacy<4->fastai<2.8,>=2.3.1->autogluon.tabular[all]==0.5.2->autogluon) (0.7.8)\r\n",
      "Requirement already satisfied: wasabi<1.1.0,>=0.9.1 in /opt/conda/lib/python3.7/site-packages (from spacy<4->fastai<2.8,>=2.3.1->autogluon.tabular[all]==0.5.2->autogluon) (0.9.1)\r\n",
      "Requirement already satisfied: catalogue<2.1.0,>=2.0.6 in /opt/conda/lib/python3.7/site-packages (from spacy<4->fastai<2.8,>=2.3.1->autogluon.tabular[all]==0.5.2->autogluon) (2.0.7)\r\n",
      "Requirement already satisfied: spacy-loggers<2.0.0,>=1.0.0 in /opt/conda/lib/python3.7/site-packages (from spacy<4->fastai<2.8,>=2.3.1->autogluon.tabular[all]==0.5.2->autogluon) (1.0.3)\r\n",
      "Requirement already satisfied: srsly<3.0.0,>=2.4.3 in /opt/conda/lib/python3.7/site-packages (from spacy<4->fastai<2.8,>=2.3.1->autogluon.tabular[all]==0.5.2->autogluon) (2.4.3)\r\n",
      "Requirement already satisfied: cymem<2.1.0,>=2.0.2 in /opt/conda/lib/python3.7/site-packages (from spacy<4->fastai<2.8,>=2.3.1->autogluon.tabular[all]==0.5.2->autogluon) (2.0.6)\r\n",
      "Requirement already satisfied: typer<0.5.0,>=0.3.0 in /opt/conda/lib/python3.7/site-packages (from spacy<4->fastai<2.8,>=2.3.1->autogluon.tabular[all]==0.5.2->autogluon) (0.4.2)\r\n",
      "Requirement already satisfied: preshed<3.1.0,>=3.0.2 in /opt/conda/lib/python3.7/site-packages (from spacy<4->fastai<2.8,>=2.3.1->autogluon.tabular[all]==0.5.2->autogluon) (3.0.6)\r\n",
      "Requirement already satisfied: langcodes<4.0.0,>=3.2.0 in /opt/conda/lib/python3.7/site-packages (from spacy<4->fastai<2.8,>=2.3.1->autogluon.tabular[all]==0.5.2->autogluon) (3.3.0)\r\n",
      "Requirement already satisfied: thinc<8.1.0,>=8.0.14 in /opt/conda/lib/python3.7/site-packages (from spacy<4->fastai<2.8,>=2.3.1->autogluon.tabular[all]==0.5.2->autogluon) (8.0.17)\r\n",
      "Requirement already satisfied: patsy>=0.5.2 in /opt/conda/lib/python3.7/site-packages (from statsmodels!=0.12.0,>=0.11->pmdarima~=1.8.2->autogluon.timeseries[all]==0.5.2->autogluon) (0.5.2)\r\n",
      "Requirement already satisfied: markdown>=2.6.8 in /opt/conda/lib/python3.7/site-packages (from tensorboard>=2.2.0->pytorch-lightning<1.7.0,>=1.6.0->autogluon.multimodal==0.5.2->autogluon) (3.3.7)\r\n",
      "Requirement already satisfied: tensorboard-data-server<0.7.0,>=0.6.0 in /opt/conda/lib/python3.7/site-packages (from tensorboard>=2.2.0->pytorch-lightning<1.7.0,>=1.6.0->autogluon.multimodal==0.5.2->autogluon) (0.6.1)\r\n",
      "Requirement already satisfied: google-auth-oauthlib<0.5,>=0.4.1 in /opt/conda/lib/python3.7/site-packages (from tensorboard>=2.2.0->pytorch-lightning<1.7.0,>=1.6.0->autogluon.multimodal==0.5.2->autogluon) (0.4.6)\r\n",
      "Requirement already satisfied: tensorboard-plugin-wit>=1.6.0 in /opt/conda/lib/python3.7/site-packages (from tensorboard>=2.2.0->pytorch-lightning<1.7.0,>=1.6.0->autogluon.multimodal==0.5.2->autogluon) (1.8.1)\r\n",
      "Requirement already satisfied: absl-py>=0.4 in /opt/conda/lib/python3.7/site-packages (from tensorboard>=2.2.0->pytorch-lightning<1.7.0,>=1.6.0->autogluon.multimodal==0.5.2->autogluon) (1.1.0)\r\n",
      "Requirement already satisfied: google-auth<2,>=1.6.3 in /opt/conda/lib/python3.7/site-packages (from tensorboard>=2.2.0->pytorch-lightning<1.7.0,>=1.6.0->autogluon.multimodal==0.5.2->autogluon) (1.35.0)\r\n",
      "Requirement already satisfied: werkzeug>=0.11.15 in /opt/conda/lib/python3.7/site-packages (from tensorboard>=2.2.0->pytorch-lightning<1.7.0,>=1.6.0->autogluon.multimodal==0.5.2->autogluon) (2.1.2)\r\n",
      "Requirement already satisfied: heapdict in /opt/conda/lib/python3.7/site-packages (from zict>=0.1.3->distributed<=2021.11.2,>=2021.09.1->autogluon.core[all]==0.5.2->autogluon) (1.0.1)\r\n",
      "Collecting immutables>=0.9\r\n",
      "  Downloading immutables-0.18-cp37-cp37m-manylinux_2_5_x86_64.manylinux1_x86_64.manylinux_2_17_x86_64.manylinux2014_x86_64.whl (116 kB)\r\n",
      "\u001b[2K     \u001b[90m━━━━━━━━━━━━━━━━━━━━━━━━━━━━━━━━━━━━━━━\u001b[0m \u001b[32m116.5/116.5 kB\u001b[0m \u001b[31m9.4 MB/s\u001b[0m eta \u001b[36m0:00:00\u001b[0m\r\n",
      "\u001b[?25hRequirement already satisfied: pycodestyle<2.9.0,>=2.8.0 in /opt/conda/lib/python3.7/site-packages (from flake8->autogluon-contrib-nlp==0.0.1b20220208->autogluon.text==0.5.2->autogluon) (2.8.0)\r\n",
      "Requirement already satisfied: pyflakes<2.5.0,>=2.4.0 in /opt/conda/lib/python3.7/site-packages (from flake8->autogluon-contrib-nlp==0.0.1b20220208->autogluon.text==0.5.2->autogluon) (2.4.0)\r\n",
      "Collecting importlib-metadata\r\n",
      "  Downloading importlib_metadata-4.2.0-py3-none-any.whl (16 kB)\r\n",
      "Requirement already satisfied: mccabe<0.7.0,>=0.6.0 in /opt/conda/lib/python3.7/site-packages (from flake8->autogluon-contrib-nlp==0.0.1b20220208->autogluon.text==0.5.2->autogluon) (0.6.1)\r\n",
      "Requirement already satisfied: zipp>=0.5 in /opt/conda/lib/python3.7/site-packages (from importlib-metadata->transformers<4.21.0,>=4.18.0->autogluon.multimodal==0.5.2->autogluon) (3.8.0)\r\n",
      "Requirement already satisfied: MarkupSafe>=2.0 in /opt/conda/lib/python3.7/site-packages (from jinja2->distributed<=2021.11.2,>=2021.09.1->autogluon.core[all]==0.5.2->autogluon) (2.0.1)\r\n",
      "Requirement already satisfied: importlib-resources>=1.4.0 in /opt/conda/lib/python3.7/site-packages (from jsonschema->ray<1.14,>=1.13->autogluon.core[all]==0.5.2->autogluon) (5.8.0)\r\n",
      "Requirement already satisfied: pyrsistent!=0.17.0,!=0.17.1,!=0.17.2,>=0.14.0 in /opt/conda/lib/python3.7/site-packages (from jsonschema->ray<1.14,>=1.13->autogluon.core[all]==0.5.2->autogluon) (0.18.1)\r\n",
      "Requirement already satisfied: tenacity>=6.2.0 in /opt/conda/lib/python3.7/site-packages (from plotly->catboost<1.1,>=1.0->autogluon.tabular[all]==0.5.2->autogluon) (8.0.1)\r\n",
      "Requirement already satisfied: colorama in /opt/conda/lib/python3.7/site-packages (from sacrebleu->autogluon-contrib-nlp==0.0.1b20220208->autogluon.text==0.5.2->autogluon) (0.4.5)\r\n",
      "Requirement already satisfied: lxml in /opt/conda/lib/python3.7/site-packages (from sacrebleu->autogluon-contrib-nlp==0.0.1b20220208->autogluon.text==0.5.2->autogluon) (4.9.1)\r\n",
      "Requirement already satisfied: platformdirs<3,>=2 in /opt/conda/lib/python3.7/site-packages (from virtualenv->ray<1.14,>=1.13->autogluon.core[all]==0.5.2->autogluon) (2.5.1)\r\n",
      "Requirement already satisfied: distlib<1,>=0.3.1 in /opt/conda/lib/python3.7/site-packages (from virtualenv->ray<1.14,>=1.13->autogluon.core[all]==0.5.2->autogluon) (0.3.4)\r\n",
      "Requirement already satisfied: pymeeus<=1,>=0.3.13 in /opt/conda/lib/python3.7/site-packages (from convertdate>=2.3.0->holidays>=0.9->gluonts<0.10.0,>=0.8.0->autogluon.timeseries[all]==0.5.2->autogluon) (0.5.11)\r\n",
      "Requirement already satisfied: cachetools<5.0,>=2.0.0 in /opt/conda/lib/python3.7/site-packages (from google-auth<2,>=1.6.3->tensorboard>=2.2.0->pytorch-lightning<1.7.0,>=1.6.0->autogluon.multimodal==0.5.2->autogluon) (4.2.4)\r\n",
      "Requirement already satisfied: rsa<5,>=3.1.4 in /opt/conda/lib/python3.7/site-packages (from google-auth<2,>=1.6.3->tensorboard>=2.2.0->pytorch-lightning<1.7.0,>=1.6.0->autogluon.multimodal==0.5.2->autogluon) (4.8)\r\n",
      "Requirement already satisfied: pyasn1-modules>=0.2.1 in /opt/conda/lib/python3.7/site-packages (from google-auth<2,>=1.6.3->tensorboard>=2.2.0->pytorch-lightning<1.7.0,>=1.6.0->autogluon.multimodal==0.5.2->autogluon) (0.2.7)\r\n",
      "Requirement already satisfied: requests-oauthlib>=0.7.0 in /opt/conda/lib/python3.7/site-packages (from google-auth-oauthlib<0.5,>=0.4.1->tensorboard>=2.2.0->pytorch-lightning<1.7.0,>=1.6.0->autogluon.multimodal==0.5.2->autogluon) (1.3.1)\r\n",
      "Collecting markdown>=2.6.8\r\n",
      "  Downloading Markdown-3.4.1-py3-none-any.whl (93 kB)\r\n",
      "\u001b[2K     \u001b[90m━━━━━━━━━━━━━━━━━━━━━━━━━━━━━━━━━━━━━━━━\u001b[0m \u001b[32m93.3/93.3 kB\u001b[0m \u001b[31m7.1 MB/s\u001b[0m eta \u001b[36m0:00:00\u001b[0m\r\n",
      "\u001b[?25h  Downloading Markdown-3.4-py3-none-any.whl (93 kB)\r\n",
      "\u001b[2K     \u001b[90m━━━━━━━━━━━━━━━━━━━━━━━━━━━━━━━━━━━━━━━━\u001b[0m \u001b[32m93.3/93.3 kB\u001b[0m \u001b[31m7.4 MB/s\u001b[0m eta \u001b[36m0:00:00\u001b[0m\r\n",
      "\u001b[?25h  Downloading Markdown-3.3.6-py3-none-any.whl (97 kB)\r\n",
      "\u001b[2K     \u001b[90m━━━━━━━━━━━━━━━━━━━━━━━━━━━━━━━━━━━━━━━━\u001b[0m \u001b[32m97.8/97.8 kB\u001b[0m \u001b[31m6.9 MB/s\u001b[0m eta \u001b[36m0:00:00\u001b[0m\r\n",
      "\u001b[?25h  Downloading Markdown-3.3.4-py3-none-any.whl (97 kB)\r\n",
      "\u001b[2K     \u001b[90m━━━━━━━━━━━━━━━━━━━━━━━━━━━━━━━━━━━━━━━━\u001b[0m \u001b[32m97.6/97.6 kB\u001b[0m \u001b[31m6.8 MB/s\u001b[0m eta \u001b[36m0:00:00\u001b[0m\r\n",
      "\u001b[?25hRequirement already satisfied: yarl<2.0,>=1.0 in /opt/conda/lib/python3.7/site-packages (from aiohttp->fsspec>=0.6.0->dask<=2021.11.2,>=2021.09.1->autogluon.core[all]==0.5.2->autogluon) (1.7.2)\r\n",
      "Requirement already satisfied: asynctest==0.13.0 in /opt/conda/lib/python3.7/site-packages (from aiohttp->fsspec>=0.6.0->dask<=2021.11.2,>=2021.09.1->autogluon.core[all]==0.5.2->autogluon) (0.13.0)\r\n",
      "Requirement already satisfied: multidict<7.0,>=4.5 in /opt/conda/lib/python3.7/site-packages (from aiohttp->fsspec>=0.6.0->dask<=2021.11.2,>=2021.09.1->autogluon.core[all]==0.5.2->autogluon) (6.0.2)\r\n",
      "Requirement already satisfied: async-timeout<5.0,>=4.0.0a3 in /opt/conda/lib/python3.7/site-packages (from aiohttp->fsspec>=0.6.0->dask<=2021.11.2,>=2021.09.1->autogluon.core[all]==0.5.2->autogluon) (4.0.2)\r\n",
      "Requirement already satisfied: pyasn1<0.5.0,>=0.4.6 in /opt/conda/lib/python3.7/site-packages (from pyasn1-modules>=0.2.1->google-auth<2,>=1.6.3->tensorboard>=2.2.0->pytorch-lightning<1.7.0,>=1.6.0->autogluon.multimodal==0.5.2->autogluon) (0.4.8)\r\n",
      "Requirement already satisfied: oauthlib>=3.0.0 in /opt/conda/lib/python3.7/site-packages (from requests-oauthlib>=0.7.0->google-auth-oauthlib<0.5,>=0.4.1->tensorboard>=2.2.0->pytorch-lightning<1.7.0,>=1.6.0->autogluon.multimodal==0.5.2->autogluon) (3.2.0)\r\n",
      "Building wheels for collected packages: antlr4-python3-runtime, contextvars\r\n",
      "  Building wheel for antlr4-python3-runtime (setup.py) ... \u001b[?25l-\b \b\\\b \bdone\r\n",
      "\u001b[?25h  Created wheel for antlr4-python3-runtime: filename=antlr4_python3_runtime-4.8-py3-none-any.whl size=141230 sha256=e67f14f05f0d60925b991d98ce20ee085f6a891ebbec6dd2d61e8489ca19b59c\r\n",
      "  Stored in directory: /root/.cache/pip/wheels/ca/33/b7/336836125fc9bb4ceaa4376d8abca10ca8bc84ddc824baea6c\r\n",
      "  Building wheel for contextvars (setup.py) ... \u001b[?25l-\b \b\\\b \bdone\r\n",
      "\u001b[?25h  Created wheel for contextvars: filename=contextvars-2.4-py3-none-any.whl size=7681 sha256=1602ae334d6e066ce55011078ddb4cf6cc9056e52e798ebaac82aa68cbd7927f\r\n",
      "  Stored in directory: /root/.cache/pip/wheels/0a/11/79/e70e668095c0bb1f94718af672ef2d35ee7a023fee56ef54d9\r\n",
      "Successfully built antlr4-python3-runtime contextvars\r\n",
      "Installing collected packages: typish, sentencepiece, antlr4-python3-runtime, sacrebleu, psutil, protobuf, Pillow, omegaconf, nptyping, importlib-metadata, immutables, xgboost, torchmetrics, markdown, dask, contextvars, timm, pytorch-metric-learning, nlpaug, gluonts, distributed, sktime, autogluon-contrib-nlp, autogluon.common, autogluon.features, autogluon.core, autogluon.vision, autogluon.timeseries, autogluon.tabular, autogluon.multimodal, autogluon.text, autogluon\r\n",
      "  Attempting uninstall: sentencepiece\r\n",
      "    Found existing installation: sentencepiece 0.1.96\r\n",
      "    Uninstalling sentencepiece-0.1.96:\r\n",
      "      Successfully uninstalled sentencepiece-0.1.96\r\n",
      "  Attempting uninstall: psutil\r\n",
      "    Found existing installation: psutil 5.9.1\r\n",
      "    Uninstalling psutil-5.9.1:\r\n",
      "      Successfully uninstalled psutil-5.9.1\r\n",
      "  Attempting uninstall: protobuf\r\n",
      "    Found existing installation: protobuf 3.19.4\r\n",
      "    Uninstalling protobuf-3.19.4:\r\n",
      "      Successfully uninstalled protobuf-3.19.4\r\n",
      "  Attempting uninstall: Pillow\r\n",
      "    Found existing installation: Pillow 9.1.1\r\n",
      "    Uninstalling Pillow-9.1.1:\r\n",
      "      Successfully uninstalled Pillow-9.1.1\r\n",
      "  Attempting uninstall: importlib-metadata\r\n",
      "    Found existing installation: importlib-metadata 4.12.0\r\n",
      "    Uninstalling importlib-metadata-4.12.0:\r\n",
      "      Successfully uninstalled importlib-metadata-4.12.0\r\n",
      "  Attempting uninstall: xgboost\r\n",
      "    Found existing installation: xgboost 1.6.1\r\n",
      "    Uninstalling xgboost-1.6.1:\r\n",
      "      Successfully uninstalled xgboost-1.6.1\r\n",
      "  Attempting uninstall: torchmetrics\r\n",
      "    Found existing installation: torchmetrics 0.9.2\r\n",
      "    Uninstalling torchmetrics-0.9.2:\r\n",
      "      Successfully uninstalled torchmetrics-0.9.2\r\n",
      "  Attempting uninstall: markdown\r\n",
      "    Found existing installation: Markdown 3.3.7\r\n",
      "    Uninstalling Markdown-3.3.7:\r\n",
      "      Successfully uninstalled Markdown-3.3.7\r\n",
      "  Attempting uninstall: dask\r\n",
      "    Found existing installation: dask 2022.2.0\r\n",
      "    Uninstalling dask-2022.2.0:\r\n",
      "      Successfully uninstalled dask-2022.2.0\r\n",
      "  Attempting uninstall: distributed\r\n",
      "    Found existing installation: distributed 2022.2.0\r\n",
      "    Uninstalling distributed-2022.2.0:\r\n",
      "      Successfully uninstalled distributed-2022.2.0\r\n",
      "  Attempting uninstall: sktime\r\n",
      "    Found existing installation: sktime 0.13.1\r\n",
      "    Uninstalling sktime-0.13.1:\r\n",
      "      Successfully uninstalled sktime-0.13.1\r\n",
      "\u001b[31mERROR: pip's dependency resolver does not currently take into account all the packages that are installed. This behaviour is the source of the following dependency conflicts.\r\n",
      "tensorflow-io 0.21.0 requires tensorflow-io-gcs-filesystem==0.21.0, which is not installed.\r\n",
      "beatrix-jupyterlab 3.1.7 requires google-cloud-bigquery-storage, which is not installed.\r\n",
      "tfx-bsl 1.9.0 requires pyarrow<6,>=1, but you have pyarrow 8.0.0 which is incompatible.\r\n",
      "tfx-bsl 1.9.0 requires tensorflow!=2.0.*,!=2.1.*,!=2.2.*,!=2.3.*,!=2.4.*,!=2.5.*,!=2.6.*,!=2.7.*,!=2.8.*,<3,>=1.15.5, but you have tensorflow 2.6.4 which is incompatible.\r\n",
      "tensorflow 2.6.4 requires absl-py~=0.10, but you have absl-py 1.1.0 which is incompatible.\r\n",
      "tensorflow 2.6.4 requires h5py~=3.1.0, but you have h5py 3.7.0 which is incompatible.\r\n",
      "tensorflow 2.6.4 requires numpy~=1.19.2, but you have numpy 1.21.6 which is incompatible.\r\n",
      "tensorflow 2.6.4 requires six~=1.15.0, but you have six 1.16.0 which is incompatible.\r\n",
      "tensorflow 2.6.4 requires typing-extensions<3.11,>=3.7, but you have typing-extensions 4.1.1 which is incompatible.\r\n",
      "tensorflow 2.6.4 requires wrapt~=1.12.1, but you have wrapt 1.14.1 which is incompatible.\r\n",
      "tensorflow-transform 1.9.0 requires pyarrow<6,>=1, but you have pyarrow 8.0.0 which is incompatible.\r\n",
      "tensorflow-transform 1.9.0 requires tensorflow!=2.0.*,!=2.1.*,!=2.2.*,!=2.3.*,!=2.4.*,!=2.5.*,!=2.6.*,!=2.7.*,!=2.8.*,<2.10,>=1.15.5, but you have tensorflow 2.6.4 which is incompatible.\r\n",
      "tensorflow-serving-api 2.9.0 requires tensorflow<3,>=2.9.0, but you have tensorflow 2.6.4 which is incompatible.\r\n",
      "pycaret 3.0.0rc3 requires psutil>=5.9.0, but you have psutil 5.8.0 which is incompatible.\r\n",
      "pycaret 3.0.0rc3 requires sktime~=0.13.1, but you have sktime 0.11.4 which is incompatible.\r\n",
      "proto-plus 1.20.6 requires protobuf<5.0.0dev,>=3.19.0, but you have protobuf 3.18.1 which is incompatible.\r\n",
      "pdpbox 0.2.1 requires matplotlib==3.1.1, but you have matplotlib 3.5.2 which is incompatible.\r\n",
      "ortools 9.3.10497 requires protobuf>=3.19.4, but you have protobuf 3.18.1 which is incompatible.\r\n",
      "gym 0.25.0 requires importlib-metadata>=4.8.0; python_version < \"3.10\", but you have importlib-metadata 4.2.0 which is incompatible.\r\n",
      "grpcio-status 1.47.0 requires grpcio>=1.47.0, but you have grpcio 1.43.0 which is incompatible.\r\n",
      "google-cloud-vision 2.7.3 requires protobuf<4.0.0dev,>=3.19.0, but you have protobuf 3.18.1 which is incompatible.\r\n",
      "google-cloud-videointelligence 2.7.1 requires protobuf<4.0.0dev,>=3.19.0, but you have protobuf 3.18.1 which is incompatible.\r\n",
      "google-cloud-translate 3.7.4 requires protobuf<4.0.0dev,>=3.19.0, but you have protobuf 3.18.1 which is incompatible.\r\n",
      "google-cloud-tasks 2.9.1 requires protobuf<4.0.0dev,>=3.19.0, but you have protobuf 3.18.1 which is incompatible.\r\n",
      "google-cloud-speech 2.14.1 requires protobuf<4.0.0dev,>=3.19.0, but you have protobuf 3.18.1 which is incompatible.\r\n",
      "google-cloud-spanner 3.15.1 requires protobuf<4.0.0dev,>=3.19.0, but you have protobuf 3.18.1 which is incompatible.\r\n",
      "google-cloud-scheduler 2.6.4 requires protobuf<4.0.0dev,>=3.19.0, but you have protobuf 3.18.1 which is incompatible.\r\n",
      "google-cloud-resource-manager 1.5.1 requires protobuf<4.0.0dev,>=3.19.0, but you have protobuf 3.18.1 which is incompatible.\r\n",
      "google-cloud-pubsub 2.13.0 requires protobuf<4.0.0dev,>=3.19.0, but you have protobuf 3.18.1 which is incompatible.\r\n",
      "google-cloud-monitoring 2.9.2 requires protobuf<4.0.0dev,>=3.19.0, but you have protobuf 3.18.1 which is incompatible.\r\n",
      "google-cloud-logging 3.1.2 requires protobuf<4.0.0dev,>=3.19.0, but you have protobuf 3.18.1 which is incompatible.\r\n",
      "google-cloud-language 2.4.3 requires protobuf<4.0.0dev,>=3.19.0, but you have protobuf 3.18.1 which is incompatible.\r\n",
      "google-cloud-kms 2.11.2 requires protobuf<4.0.0dev,>=3.19.0, but you have protobuf 3.18.1 which is incompatible.\r\n",
      "google-cloud-firestore 2.5.3 requires protobuf<4.0.0dev,>=3.19.0, but you have protobuf 3.18.1 which is incompatible.\r\n",
      "google-cloud-dlp 3.7.1 requires protobuf<4.0.0dev,>=3.19.0, but you have protobuf 3.18.1 which is incompatible.\r\n",
      "google-cloud-datastore 2.7.1 requires protobuf<4.0.0dev,>=3.19.0, but you have protobuf 3.18.1 which is incompatible.\r\n",
      "google-cloud-dataproc 4.0.3 requires protobuf<4.0.0dev,>=3.19.0, but you have protobuf 3.18.1 which is incompatible.\r\n",
      "google-cloud-bigtable 2.10.1 requires protobuf<4.0.0dev,>=3.19.0, but you have protobuf 3.18.1 which is incompatible.\r\n",
      "google-cloud-appengine-logging 1.1.2 requires protobuf<4.0.0dev,>=3.19.0, but you have protobuf 3.18.1 which is incompatible.\r\n",
      "flax 0.5.2 requires rich~=11.1, but you have rich 12.1.0 which is incompatible.\r\n",
      "apache-beam 2.40.0 requires dill<0.3.2,>=0.3.1.1, but you have dill 0.3.5.1 which is incompatible.\r\n",
      "apache-beam 2.40.0 requires pyarrow<8.0.0,>=0.15.1, but you have pyarrow 8.0.0 which is incompatible.\r\n",
      "allennlp 2.10.0 requires protobuf==3.20.0, but you have protobuf 3.18.1 which is incompatible.\r\n",
      "allennlp 2.10.0 requires sentencepiece>=0.1.96, but you have sentencepiece 0.1.95 which is incompatible.\u001b[0m\u001b[31m\r\n",
      "\u001b[0mSuccessfully installed Pillow-9.0.1 antlr4-python3-runtime-4.8 autogluon-0.5.2 autogluon-contrib-nlp-0.0.1b20220208 autogluon.common-0.5.2 autogluon.core-0.5.2 autogluon.features-0.5.2 autogluon.multimodal-0.5.2 autogluon.tabular-0.5.2 autogluon.text-0.5.2 autogluon.timeseries-0.5.2 autogluon.vision-0.5.2 contextvars-2.4 dask-2021.11.2 distributed-2021.11.2 gluonts-0.9.8 immutables-0.18 importlib-metadata-4.2.0 markdown-3.3.4 nlpaug-1.1.10 nptyping-1.4.4 omegaconf-2.1.2 protobuf-3.18.1 psutil-5.8.0 pytorch-metric-learning-1.3.2 sacrebleu-2.2.0 sentencepiece-0.1.95 sktime-0.11.4 timm-0.5.4 torchmetrics-0.7.3 typish-1.9.3 xgboost-1.4.2\r\n",
      "\u001b[33mWARNING: Running pip as the 'root' user can result in broken permissions and conflicting behaviour with the system package manager. It is recommended to use a virtual environment instead: https://pip.pypa.io/warnings/venv\u001b[0m\u001b[33m\r\n",
      "\u001b[0mNote: you may need to restart the kernel to use updated packages.\n"
     ]
    }
   ],
   "source": [
    "pip install autogluon"
   ]
  },
  {
   "cell_type": "code",
   "execution_count": 27,
   "id": "e66ace88",
   "metadata": {
    "execution": {
     "iopub.execute_input": "2022-08-16T16:05:15.156082Z",
     "iopub.status.busy": "2022-08-16T16:05:15.155638Z",
     "iopub.status.idle": "2022-08-16T16:12:16.397854Z",
     "shell.execute_reply": "2022-08-16T16:12:16.396660Z"
    },
    "papermill": {
     "duration": 421.292172,
     "end_time": "2022-08-16T16:12:16.400010",
     "exception": false,
     "start_time": "2022-08-16T16:05:15.107838",
     "status": "completed"
    },
    "tags": []
   },
   "outputs": [
    {
     "name": "stderr",
     "output_type": "stream",
     "text": [
      "No path specified. Models will be saved in: \"AutogluonModels/ag-20220816_160515/\"\n",
      "Beginning AutoGluon training ... Time limit = 420s\n",
      "AutoGluon will save models to \"AutogluonModels/ag-20220816_160515/\"\n",
      "AutoGluon Version:  0.5.2\n",
      "Python Version:     3.7.12\n",
      "Operating System:   Linux\n",
      "Train Data Rows:    100000\n",
      "Train Data Columns: 8\n",
      "Label Column: class\n",
      "Preprocessing data ...\n",
      "Using Feature Generators to preprocess the data ...\n",
      "Fitting AutoMLPipelineFeatureGenerator...\n",
      "\tAvailable Memory:                    16388.25 MB\n",
      "\tTrain Data (Original)  Memory Usage: 6.4 MB (0.0% of available memory)\n",
      "\tInferring data type of each feature based on column values. Set feature_metadata_in to manually specify special dtypes of the features.\n",
      "\tStage 1 Generators:\n",
      "\t\tFitting AsTypeFeatureGenerator...\n",
      "\tStage 2 Generators:\n",
      "\t\tFitting FillNaFeatureGenerator...\n",
      "\tStage 3 Generators:\n",
      "\t\tFitting IdentityFeatureGenerator...\n",
      "\tStage 4 Generators:\n",
      "\t\tFitting DropUniqueFeatureGenerator...\n",
      "\tTypes of features in original data (raw dtype, special dtypes):\n",
      "\t\t('float', []) : 8 | ['alpha', 'delta', 'u', 'g', 'r', ...]\n",
      "\tTypes of features in processed data (raw dtype, special dtypes):\n",
      "\t\t('float', []) : 8 | ['alpha', 'delta', 'u', 'g', 'r', ...]\n",
      "\t0.3s = Fit runtime\n",
      "\t8 features in original data used to generate 8 features in processed data.\n",
      "\tTrain Data (Processed) Memory Usage: 6.4 MB (0.0% of available memory)\n",
      "Data preprocessing and feature engineering runtime = 0.35s ...\n",
      "AutoGluon will gauge predictive performance using evaluation metric: 'mean_squared_error'\n",
      "\tThis metric's sign has been flipped to adhere to being higher_is_better. The metric score can be multiplied by -1 to get the metric value.\n",
      "\tTo change this, specify the eval_metric parameter of Predictor()\n",
      "Automatically generating train/validation split with holdout_frac=0.025, Train Rows: 97500, Val Rows: 2500\n",
      "Fitting 11 L1 models ...\n",
      "Fitting model: KNeighborsUnif ... Training model for up to 419.65s of the 419.65s of remaining time.\n",
      "Intel(R) Extension for Scikit-learn* enabled (https://github.com/intel/scikit-learn-intelex)\n",
      "Intel(R) Extension for Scikit-learn* enabled (https://github.com/intel/scikit-learn-intelex)\n",
      "\t-0.3287\t = Validation score   (-mean_squared_error)\n",
      "\t0.71s\t = Training   runtime\n",
      "\t0.02s\t = Validation runtime\n",
      "Fitting model: KNeighborsDist ... Training model for up to 418.89s of the 418.89s of remaining time.\n",
      "Intel(R) Extension for Scikit-learn* enabled (https://github.com/intel/scikit-learn-intelex)\n",
      "Intel(R) Extension for Scikit-learn* enabled (https://github.com/intel/scikit-learn-intelex)\n",
      "\t-0.3167\t = Validation score   (-mean_squared_error)\n",
      "\t0.16s\t = Training   runtime\n",
      "\t0.01s\t = Validation runtime\n",
      "Fitting model: LightGBMXT ... Training model for up to 418.7s of the 418.69s of remaining time.\n"
     ]
    },
    {
     "name": "stdout",
     "output_type": "stream",
     "text": [
      "[1000]\tvalid_set's l2: 0.0363729\n",
      "[2000]\tvalid_set's l2: 0.0327741\n",
      "[3000]\tvalid_set's l2: 0.0309538\n",
      "[4000]\tvalid_set's l2: 0.0301053\n",
      "[5000]\tvalid_set's l2: 0.0295227\n",
      "[6000]\tvalid_set's l2: 0.0289846\n",
      "[7000]\tvalid_set's l2: 0.0284929\n",
      "[8000]\tvalid_set's l2: 0.0281349\n",
      "[9000]\tvalid_set's l2: 0.0278583\n",
      "[10000]\tvalid_set's l2: 0.0276326\n"
     ]
    },
    {
     "name": "stderr",
     "output_type": "stream",
     "text": [
      "\t-0.0276\t = Validation score   (-mean_squared_error)\n",
      "\t56.12s\t = Training   runtime\n",
      "\t1.12s\t = Validation runtime\n",
      "Fitting model: LightGBM ... Training model for up to 360.17s of the 360.16s of remaining time.\n",
      "\t-0.0222\t = Validation score   (-mean_squared_error)\n",
      "\t3.04s\t = Training   runtime\n",
      "\t0.02s\t = Validation runtime\n",
      "Fitting model: RandomForestMSE ... Training model for up to 357.06s of the 357.05s of remaining time.\n",
      "\t-0.0227\t = Validation score   (-mean_squared_error)\n",
      "\t102.48s\t = Training   runtime\n",
      "\t0.2s\t = Validation runtime\n",
      "Fitting model: CatBoost ... Training model for up to 254.19s of the 254.18s of remaining time.\n",
      "\t-0.0228\t = Validation score   (-mean_squared_error)\n",
      "\t27.8s\t = Training   runtime\n",
      "\t0.01s\t = Validation runtime\n",
      "Fitting model: ExtraTreesMSE ... Training model for up to 226.37s of the 226.37s of remaining time.\n",
      "\t-0.0269\t = Validation score   (-mean_squared_error)\n",
      "\t9.59s\t = Training   runtime\n",
      "\t0.2s\t = Validation runtime\n",
      "Fitting model: NeuralNetFastAI ... Training model for up to 216.29s of the 216.29s of remaining time.\n",
      "No improvement since epoch 4: early stopping\n",
      "\t-0.0509\t = Validation score   (-mean_squared_error)\n",
      "\t92.66s\t = Training   runtime\n",
      "\t0.06s\t = Validation runtime\n",
      "Fitting model: XGBoost ... Training model for up to 123.46s of the 123.45s of remaining time.\n",
      "\t-0.0223\t = Validation score   (-mean_squared_error)\n",
      "\t3.73s\t = Training   runtime\n",
      "\t0.03s\t = Validation runtime\n",
      "Fitting model: NeuralNetTorch ... Training model for up to 119.69s of the 119.68s of remaining time.\n",
      "\tRan out of time, stopping training early. (Stopping on epoch 37)\n",
      "\t-0.0412\t = Validation score   (-mean_squared_error)\n",
      "\t117.3s\t = Training   runtime\n",
      "\t0.04s\t = Validation runtime\n",
      "Fitting model: LightGBMLarge ... Training model for up to 2.34s of the 2.34s of remaining time.\n",
      "\tRan out of time, early stopping on iteration 179. Best iteration is:\n",
      "\t[179]\tvalid_set's l2: 0.0231343\n",
      "\t-0.0231\t = Validation score   (-mean_squared_error)\n",
      "\t2.48s\t = Training   runtime\n",
      "\t0.01s\t = Validation runtime\n",
      "Fitting model: WeightedEnsemble_L2 ... Training model for up to 360.0s of the -0.24s of remaining time.\n",
      "\t-0.021\t = Validation score   (-mean_squared_error)\n",
      "\t0.35s\t = Training   runtime\n",
      "\t0.0s\t = Validation runtime\n",
      "AutoGluon training complete, total runtime = 420.65s ... Best model: \"WeightedEnsemble_L2\"\n",
      "TabularPredictor saved. To load, use: predictor = TabularPredictor.load(\"AutogluonModels/ag-20220816_160515/\")\n"
     ]
    },
    {
     "data": {
      "text/plain": [
       "<autogluon.tabular.predictor.predictor.TabularPredictor at 0x7f0dee131810>"
      ]
     },
     "execution_count": 27,
     "metadata": {},
     "output_type": "execute_result"
    }
   ],
   "source": [
    "from autogluon.tabular import TabularPredictor\n",
    "autogluon_automl = TabularPredictor(label='class', problem_type='regression', eval_metric='mean_squared_error')\n",
    "autogluon_automl.fit(train_data=data, time_limit=7*60)"
   ]
  },
  {
   "cell_type": "code",
   "execution_count": 28,
   "id": "46f6ea92",
   "metadata": {
    "execution": {
     "iopub.execute_input": "2022-08-16T16:12:16.503345Z",
     "iopub.status.busy": "2022-08-16T16:12:16.501659Z",
     "iopub.status.idle": "2022-08-16T16:12:21.540852Z",
     "shell.execute_reply": "2022-08-16T16:12:21.539286Z"
    },
    "papermill": {
     "duration": 5.095014,
     "end_time": "2022-08-16T16:12:21.545422",
     "exception": false,
     "start_time": "2022-08-16T16:12:16.450408",
     "status": "completed"
    },
    "tags": []
   },
   "outputs": [
    {
     "name": "stderr",
     "output_type": "stream",
     "text": [
      "Evaluation: mean_squared_error on test data: -0.009383549061517837\n",
      "\tNote: Scores are always higher_is_better. This metric score can be multiplied by -1 to get the metric value.\n",
      "Evaluations on test data:\n",
      "{\n",
      "    \"mean_squared_error\": -0.009383549061517837,\n",
      "    \"root_mean_squared_error\": -0.09686872075916889,\n",
      "    \"mean_absolute_error\": -0.0281098819771702,\n",
      "    \"r2\": 0.9859342449168238,\n",
      "    \"pearsonr\": 0.9929813481005887,\n",
      "    \"median_absolute_error\": -0.005153459031134844\n",
      "}\n"
     ]
    },
    {
     "data": {
      "text/plain": [
       "{'mean_squared_error': -0.009383549061517837,\n",
       " 'root_mean_squared_error': -0.09686872075916889,\n",
       " 'mean_absolute_error': -0.0281098819771702,\n",
       " 'r2': 0.9859342449168238,\n",
       " 'pearsonr': 0.9929813481005887,\n",
       " 'median_absolute_error': -0.005153459031134844}"
      ]
     },
     "execution_count": 28,
     "metadata": {},
     "output_type": "execute_result"
    }
   ],
   "source": [
    "autogluon_automl.evaluate(data)"
   ]
  },
  {
   "cell_type": "code",
   "execution_count": 29,
   "id": "f65caf84",
   "metadata": {
    "execution": {
     "iopub.execute_input": "2022-08-16T16:12:21.698944Z",
     "iopub.status.busy": "2022-08-16T16:12:21.698547Z",
     "iopub.status.idle": "2022-08-16T16:12:37.340627Z",
     "shell.execute_reply": "2022-08-16T16:12:37.339373Z"
    },
    "papermill": {
     "duration": 15.696913,
     "end_time": "2022-08-16T16:12:37.343667",
     "exception": false,
     "start_time": "2022-08-16T16:12:21.646754",
     "status": "completed"
    },
    "tags": []
   },
   "outputs": [
    {
     "data": {
      "text/plain": [
       "<AxesSubplot:>"
      ]
     },
     "execution_count": 29,
     "metadata": {},
     "output_type": "execute_result"
    },
    {
     "data": {
      "image/png": "[encoded data removed]",
      "text/plain": [
       "<Figure size 1440x864 with 1 Axes>"
      ]
     },
     "metadata": {
      "needs_background": "light"
     },
     "output_type": "display_data"
    }
   ],
   "source": [
    "y_pred = autogluon_automl.predict(X)\n",
    "autogluon_compare = pd.DataFrame(data={'actual': data['class'], 'predicted': y_pred})\n",
    "autogluon_compare.plot(figsize=(20, 12))"
   ]
  },
  {
   "cell_type": "code",
   "execution_count": 30,
   "id": "48d6af21",
   "metadata": {
    "execution": {
     "iopub.execute_input": "2022-08-16T16:12:37.451423Z",
     "iopub.status.busy": "2022-08-16T16:12:37.450656Z",
     "iopub.status.idle": "2022-08-16T16:12:45.532789Z",
     "shell.execute_reply": "2022-08-16T16:12:45.531234Z"
    },
    "papermill": {
     "duration": 8.139965,
     "end_time": "2022-08-16T16:12:45.536295",
     "exception": false,
     "start_time": "2022-08-16T16:12:37.396330",
     "status": "completed"
    },
    "tags": []
   },
   "outputs": [
    {
     "name": "stdout",
     "output_type": "stream",
     "text": [
      "Checking whether there is an H2O instance running at http://localhost:54321 ..... not found.\n",
      "Attempting to start a local H2O server...\n",
      "  Java Version: openjdk version \"11.0.15\" 2022-04-19; OpenJDK Runtime Environment (build 11.0.15+10-Ubuntu-0ubuntu0.20.04.1); OpenJDK 64-Bit Server VM (build 11.0.15+10-Ubuntu-0ubuntu0.20.04.1, mixed mode, sharing)\n",
      "  Starting server from /opt/conda/lib/python3.7/site-packages/h2o/backend/bin/h2o.jar\n",
      "  Ice root: /tmp/tmp9j2fp_ft\n",
      "  JVM stdout: /tmp/tmp9j2fp_ft/h2o_unknownUser_started_from_python.out\n",
      "  JVM stderr: /tmp/tmp9j2fp_ft/h2o_unknownUser_started_from_python.err\n",
      "  Server is running at http://127.0.0.1:54321\n",
      "Connecting to H2O server at http://127.0.0.1:54321 ... successful.\n"
     ]
    },
    {
     "data": {
      "text/html": [
       "<div style=\"overflow:auto\"><table style=\"width:50%\"><tr><td>H2O_cluster_uptime:</td>\n",
       "<td>03 secs</td></tr>\n",
       "<tr><td>H2O_cluster_timezone:</td>\n",
       "<td>Etc/UTC</td></tr>\n",
       "<tr><td>H2O_data_parsing_timezone:</td>\n",
       "<td>UTC</td></tr>\n",
       "<tr><td>H2O_cluster_version:</td>\n",
       "<td>3.36.1.3</td></tr>\n",
       "<tr><td>H2O_cluster_version_age:</td>\n",
       "<td>1 month and 7 days </td></tr>\n",
       "<tr><td>H2O_cluster_name:</td>\n",
       "<td>H2O_from_python_unknownUser_oq2gwv</td></tr>\n",
       "<tr><td>H2O_cluster_total_nodes:</td>\n",
       "<td>1</td></tr>\n",
       "<tr><td>H2O_cluster_free_memory:</td>\n",
       "<td>4.396 Gb</td></tr>\n",
       "<tr><td>H2O_cluster_total_cores:</td>\n",
       "<td>4</td></tr>\n",
       "<tr><td>H2O_cluster_allowed_cores:</td>\n",
       "<td>4</td></tr>\n",
       "<tr><td>H2O_cluster_status:</td>\n",
       "<td>locked, healthy</td></tr>\n",
       "<tr><td>H2O_connection_url:</td>\n",
       "<td>http://127.0.0.1:54321</td></tr>\n",
       "<tr><td>H2O_connection_proxy:</td>\n",
       "<td>{\"http\": null, \"https\": null}</td></tr>\n",
       "<tr><td>H2O_internal_security:</td>\n",
       "<td>False</td></tr>\n",
       "<tr><td>Python_version:</td>\n",
       "<td>3.7.12 final</td></tr></table></div>"
      ],
      "text/plain": [
       "--------------------------  ----------------------------------\n",
       "H2O_cluster_uptime:         03 secs\n",
       "H2O_cluster_timezone:       Etc/UTC\n",
       "H2O_data_parsing_timezone:  UTC\n",
       "H2O_cluster_version:        3.36.1.3\n",
       "H2O_cluster_version_age:    1 month and 7 days\n",
       "H2O_cluster_name:           H2O_from_python_unknownUser_oq2gwv\n",
       "H2O_cluster_total_nodes:    1\n",
       "H2O_cluster_free_memory:    4.396 Gb\n",
       "H2O_cluster_total_cores:    4\n",
       "H2O_cluster_allowed_cores:  4\n",
       "H2O_cluster_status:         locked, healthy\n",
       "H2O_connection_url:         http://127.0.0.1:54321\n",
       "H2O_connection_proxy:       {\"http\": null, \"https\": null}\n",
       "H2O_internal_security:      False\n",
       "Python_version:             3.7.12 final\n",
       "--------------------------  ----------------------------------"
      ]
     },
     "metadata": {},
     "output_type": "display_data"
    }
   ],
   "source": [
    "import h2o\n",
    "from h2o.automl import H2OAutoML\n",
    "h2o.init()"
   ]
  },
  {
   "cell_type": "code",
   "execution_count": 31,
   "id": "8bbc9109",
   "metadata": {
    "execution": {
     "iopub.execute_input": "2022-08-16T16:12:45.694357Z",
     "iopub.status.busy": "2022-08-16T16:12:45.693164Z",
     "iopub.status.idle": "2022-08-16T16:12:49.049105Z",
     "shell.execute_reply": "2022-08-16T16:12:49.047608Z"
    },
    "papermill": {
     "duration": 3.437607,
     "end_time": "2022-08-16T16:12:49.052636",
     "exception": false,
     "start_time": "2022-08-16T16:12:45.615029",
     "status": "completed"
    },
    "tags": []
   },
   "outputs": [
    {
     "name": "stdout",
     "output_type": "stream",
     "text": [
      "Parse progress: |████████████████████████████████████████████████████████████████| (done) 100%\n"
     ]
    }
   ],
   "source": [
    "h2o_frame = h2o.H2OFrame(data)\n",
    "x = h2o_frame.columns\n",
    "y = 'class'\n",
    "x.remove(y)"
   ]
  },
  {
   "cell_type": "code",
   "execution_count": 32,
   "id": "14b72c83",
   "metadata": {
    "execution": {
     "iopub.execute_input": "2022-08-16T16:12:49.174015Z",
     "iopub.status.busy": "2022-08-16T16:12:49.172969Z",
     "iopub.status.idle": "2022-08-16T16:19:52.111522Z",
     "shell.execute_reply": "2022-08-16T16:19:52.110062Z"
    },
    "papermill": {
     "duration": 422.99602,
     "end_time": "2022-08-16T16:19:52.113994",
     "exception": false,
     "start_time": "2022-08-16T16:12:49.117974",
     "status": "completed"
    },
    "tags": []
   },
   "outputs": [
    {
     "name": "stdout",
     "output_type": "stream",
     "text": [
      "AutoML progress: |███████████████████████████████████████████████████████████████| (done) 100%\n",
      "Model Details\n",
      "=============\n",
      "H2OStackedEnsembleEstimator :  Stacked Ensemble\n",
      "Model Key:  StackedEnsemble_AllModels_2_AutoML_1_20220816_161249\n",
      "\n",
      "No model summary for this model\n",
      "\n",
      "ModelMetricsRegressionGLM: stackedensemble\n",
      "** Reported on train data. **\n",
      "\n",
      "MSE: 0.01653073866448128\n",
      "RMSE: 0.12857192020220154\n",
      "MAE: 0.043211647940895714\n",
      "RMSLE: 0.08714292802126032\n",
      "R^2: 0.9752051382266783\n",
      "Mean Residual Deviance: 0.01653073866448128\n",
      "Null degrees of freedom: 9949\n",
      "Residual degrees of freedom: 9943\n",
      "Null deviance: 6633.681629995211\n",
      "Residual deviance: 164.48084971158872\n",
      "AIC: -12567.333323645447\n",
      "\n",
      "ModelMetricsRegressionGLM: stackedensemble\n",
      "** Reported on cross-validation data. **\n",
      "\n",
      "MSE: 0.02063926895824416\n",
      "RMSE: 0.1436637357103182\n",
      "MAE: 0.04655557532013063\n",
      "RMSLE: 0.0971220062332777\n",
      "R^2: 0.9690621426542096\n",
      "Mean Residual Deviance: 0.02063926895824416\n",
      "Null degrees of freedom: 99999\n",
      "Residual degrees of freedom: 99993\n",
      "Null deviance: 66713.07834653425\n",
      "Residual deviance: 2063.926895824416\n",
      "AIC: -104252.26912764073\n",
      "\n",
      "Cross-Validation Metrics Summary: \n"
     ]
    },
    {
     "data": {
      "text/html": [
       "<div>\n",
       "<style scoped>\n",
       "    .dataframe tbody tr th:only-of-type {\n",
       "        vertical-align: middle;\n",
       "    }\n",
       "\n",
       "    .dataframe tbody tr th {\n",
       "        vertical-align: top;\n",
       "    }\n",
       "\n",
       "    .dataframe thead th {\n",
       "        text-align: right;\n",
       "    }\n",
       "</style>\n",
       "<table border=\"1\" class=\"dataframe\">\n",
       "  <thead>\n",
       "    <tr style=\"text-align: right;\">\n",
       "      <th></th>\n",
       "      <th></th>\n",
       "      <th>mean</th>\n",
       "      <th>sd</th>\n",
       "      <th>cv_1_valid</th>\n",
       "      <th>cv_2_valid</th>\n",
       "      <th>cv_3_valid</th>\n",
       "      <th>cv_4_valid</th>\n",
       "      <th>cv_5_valid</th>\n",
       "    </tr>\n",
       "  </thead>\n",
       "  <tbody>\n",
       "    <tr>\n",
       "      <th>0</th>\n",
       "      <td>mae</td>\n",
       "      <td>0.046557</td>\n",
       "      <td>0.001301</td>\n",
       "      <td>0.048672</td>\n",
       "      <td>0.045106</td>\n",
       "      <td>0.046249</td>\n",
       "      <td>0.046251</td>\n",
       "      <td>0.046508</td>\n",
       "    </tr>\n",
       "    <tr>\n",
       "      <th>1</th>\n",
       "      <td>mean_residual_deviance</td>\n",
       "      <td>0.020642</td>\n",
       "      <td>0.001439</td>\n",
       "      <td>0.023089</td>\n",
       "      <td>0.019341</td>\n",
       "      <td>0.019960</td>\n",
       "      <td>0.020297</td>\n",
       "      <td>0.020521</td>\n",
       "    </tr>\n",
       "    <tr>\n",
       "      <th>2</th>\n",
       "      <td>mse</td>\n",
       "      <td>0.020642</td>\n",
       "      <td>0.001439</td>\n",
       "      <td>0.023089</td>\n",
       "      <td>0.019341</td>\n",
       "      <td>0.019960</td>\n",
       "      <td>0.020297</td>\n",
       "      <td>0.020521</td>\n",
       "    </tr>\n",
       "    <tr>\n",
       "      <th>3</th>\n",
       "      <td>null_deviance</td>\n",
       "      <td>13342.615000</td>\n",
       "      <td>135.142790</td>\n",
       "      <td>13167.691000</td>\n",
       "      <td>13328.929000</td>\n",
       "      <td>13531.319000</td>\n",
       "      <td>13284.866000</td>\n",
       "      <td>13400.273000</td>\n",
       "    </tr>\n",
       "    <tr>\n",
       "      <th>4</th>\n",
       "      <td>r2</td>\n",
       "      <td>0.969048</td>\n",
       "      <td>0.002338</td>\n",
       "      <td>0.964986</td>\n",
       "      <td>0.970889</td>\n",
       "      <td>0.970255</td>\n",
       "      <td>0.969642</td>\n",
       "      <td>0.969465</td>\n",
       "    </tr>\n",
       "    <tr>\n",
       "      <th>5</th>\n",
       "      <td>residual_deviance</td>\n",
       "      <td>412.785370</td>\n",
       "      <td>28.040613</td>\n",
       "      <td>460.973570</td>\n",
       "      <td>388.012360</td>\n",
       "      <td>402.480900</td>\n",
       "      <td>403.299770</td>\n",
       "      <td>409.160300</td>\n",
       "    </tr>\n",
       "    <tr>\n",
       "      <th>6</th>\n",
       "      <td>rmse</td>\n",
       "      <td>0.143604</td>\n",
       "      <td>0.004925</td>\n",
       "      <td>0.151951</td>\n",
       "      <td>0.139071</td>\n",
       "      <td>0.141281</td>\n",
       "      <td>0.142467</td>\n",
       "      <td>0.143250</td>\n",
       "    </tr>\n",
       "    <tr>\n",
       "      <th>7</th>\n",
       "      <td>rmsle</td>\n",
       "      <td>0.097091</td>\n",
       "      <td>0.002854</td>\n",
       "      <td>0.101871</td>\n",
       "      <td>0.094188</td>\n",
       "      <td>0.096572</td>\n",
       "      <td>0.096174</td>\n",
       "      <td>0.096652</td>\n",
       "    </tr>\n",
       "  </tbody>\n",
       "</table>\n",
       "</div>"
      ],
      "text/plain": [
       "                                   mean          sd    cv_1_valid  \\\n",
       "0                     mae      0.046557    0.001301      0.048672   \n",
       "1  mean_residual_deviance      0.020642    0.001439      0.023089   \n",
       "2                     mse      0.020642    0.001439      0.023089   \n",
       "3           null_deviance  13342.615000  135.142790  13167.691000   \n",
       "4                      r2      0.969048    0.002338      0.964986   \n",
       "5       residual_deviance    412.785370   28.040613    460.973570   \n",
       "6                    rmse      0.143604    0.004925      0.151951   \n",
       "7                   rmsle      0.097091    0.002854      0.101871   \n",
       "\n",
       "     cv_2_valid    cv_3_valid    cv_4_valid    cv_5_valid  \n",
       "0      0.045106      0.046249      0.046251      0.046508  \n",
       "1      0.019341      0.019960      0.020297      0.020521  \n",
       "2      0.019341      0.019960      0.020297      0.020521  \n",
       "3  13328.929000  13531.319000  13284.866000  13400.273000  \n",
       "4      0.970889      0.970255      0.969642      0.969465  \n",
       "5    388.012360    402.480900    403.299770    409.160300  \n",
       "6      0.139071      0.141281      0.142467      0.143250  \n",
       "7      0.094188      0.096572      0.096174      0.096652  "
      ]
     },
     "metadata": {},
     "output_type": "display_data"
    },
    {
     "data": {
      "text/plain": []
     },
     "execution_count": 32,
     "metadata": {},
     "output_type": "execute_result"
    }
   ],
   "source": [
    "h2o_automl = H2OAutoML(sort_metric='mse', max_runtime_secs=7*60, seed=667)\n",
    "h2o_automl.train(x=x, y=y, training_frame=h2o_frame)"
   ]
  },
  {
   "cell_type": "code",
   "execution_count": 33,
   "id": "94bb7f78",
   "metadata": {
    "execution": {
     "iopub.execute_input": "2022-08-16T16:19:52.229253Z",
     "iopub.status.busy": "2022-08-16T16:19:52.228834Z",
     "iopub.status.idle": "2022-08-16T16:20:24.072530Z",
     "shell.execute_reply": "2022-08-16T16:20:24.071369Z"
    },
    "papermill": {
     "duration": 31.962684,
     "end_time": "2022-08-16T16:20:24.133128",
     "exception": false,
     "start_time": "2022-08-16T16:19:52.170444",
     "status": "completed"
    },
    "tags": []
   },
   "outputs": [
    {
     "data": {
      "text/html": [
       "<table>\n",
       "<thead>\n",
       "<tr><th>model_id                                               </th><th style=\"text-align: right;\">      mse</th><th style=\"text-align: right;\">    rmse</th><th style=\"text-align: right;\">      mae</th><th style=\"text-align: right;\">    rmsle</th><th style=\"text-align: right;\">  mean_residual_deviance</th><th style=\"text-align: right;\">  training_time_ms</th><th style=\"text-align: right;\">  predict_time_per_row_ms</th><th>algo           </th></tr>\n",
       "</thead>\n",
       "<tbody>\n",
       "<tr><td>StackedEnsemble_AllModels_2_AutoML_1_20220816_161249   </td><td style=\"text-align: right;\">0.0206393</td><td style=\"text-align: right;\">0.143664</td><td style=\"text-align: right;\">0.0465556</td><td style=\"text-align: right;\">0.097122 </td><td style=\"text-align: right;\">               0.0206393</td><td style=\"text-align: right;\">              1157</td><td style=\"text-align: right;\">                 0.054182</td><td>StackedEnsemble</td></tr>\n",
       "<tr><td>StackedEnsemble_AllModels_3_AutoML_1_20220816_161249   </td><td style=\"text-align: right;\">0.0206402</td><td style=\"text-align: right;\">0.143667</td><td style=\"text-align: right;\">0.046554 </td><td style=\"text-align: right;\">0.0971212</td><td style=\"text-align: right;\">               0.0206402</td><td style=\"text-align: right;\">              1332</td><td style=\"text-align: right;\">                 0.050736</td><td>StackedEnsemble</td></tr>\n",
       "<tr><td>StackedEnsemble_AllModels_1_AutoML_1_20220816_161249   </td><td style=\"text-align: right;\">0.0206428</td><td style=\"text-align: right;\">0.143676</td><td style=\"text-align: right;\">0.0467061</td><td style=\"text-align: right;\">0.0971347</td><td style=\"text-align: right;\">               0.0206428</td><td style=\"text-align: right;\">              1131</td><td style=\"text-align: right;\">                 0.045866</td><td>StackedEnsemble</td></tr>\n",
       "<tr><td>StackedEnsemble_BestOfFamily_3_AutoML_1_20220816_161249</td><td style=\"text-align: right;\">0.0209312</td><td style=\"text-align: right;\">0.144676</td><td style=\"text-align: right;\">0.0474269</td><td style=\"text-align: right;\">0.0978421</td><td style=\"text-align: right;\">               0.0209312</td><td style=\"text-align: right;\">               725</td><td style=\"text-align: right;\">                 0.017545</td><td>StackedEnsemble</td></tr>\n",
       "<tr><td>StackedEnsemble_BestOfFamily_2_AutoML_1_20220816_161249</td><td style=\"text-align: right;\">0.0209317</td><td style=\"text-align: right;\">0.144678</td><td style=\"text-align: right;\">0.0475303</td><td style=\"text-align: right;\">0.0978182</td><td style=\"text-align: right;\">               0.0209317</td><td style=\"text-align: right;\">               697</td><td style=\"text-align: right;\">                 0.019007</td><td>StackedEnsemble</td></tr>\n",
       "<tr><td>StackedEnsemble_BestOfFamily_1_AutoML_1_20220816_161249</td><td style=\"text-align: right;\">0.0214976</td><td style=\"text-align: right;\">0.146621</td><td style=\"text-align: right;\">0.0533628</td><td style=\"text-align: right;\">0.0993444</td><td style=\"text-align: right;\">               0.0214976</td><td style=\"text-align: right;\">              1155</td><td style=\"text-align: right;\">                 0.023166</td><td>StackedEnsemble</td></tr>\n",
       "<tr><td>GBM_3_AutoML_1_20220816_161249                         </td><td style=\"text-align: right;\">0.0218463</td><td style=\"text-align: right;\">0.147805</td><td style=\"text-align: right;\">0.0544844</td><td style=\"text-align: right;\">0.0998214</td><td style=\"text-align: right;\">               0.0218463</td><td style=\"text-align: right;\">              6692</td><td style=\"text-align: right;\">                 0.015742</td><td>GBM            </td></tr>\n",
       "<tr><td>GBM_1_AutoML_1_20220816_161249                         </td><td style=\"text-align: right;\">0.0219645</td><td style=\"text-align: right;\">0.148204</td><td style=\"text-align: right;\">0.0547139</td><td style=\"text-align: right;\">0.100245 </td><td style=\"text-align: right;\">               0.0219645</td><td style=\"text-align: right;\">             10877</td><td style=\"text-align: right;\">                 0.021692</td><td>GBM            </td></tr>\n",
       "<tr><td>XGBoost_2_AutoML_1_20220816_161249                     </td><td style=\"text-align: right;\">0.0220933</td><td style=\"text-align: right;\">0.148638</td><td style=\"text-align: right;\">0.0454006</td><td style=\"text-align: right;\">0.100774 </td><td style=\"text-align: right;\">               0.0220933</td><td style=\"text-align: right;\">              4477</td><td style=\"text-align: right;\">                 0.002488</td><td>XGBoost        </td></tr>\n",
       "<tr><td>GBM_4_AutoML_1_20220816_161249                         </td><td style=\"text-align: right;\">0.022149 </td><td style=\"text-align: right;\">0.148825</td><td style=\"text-align: right;\">0.0567637</td><td style=\"text-align: right;\">0.100651 </td><td style=\"text-align: right;\">               0.022149 </td><td style=\"text-align: right;\">              8217</td><td style=\"text-align: right;\">                 0.019143</td><td>GBM            </td></tr>\n",
       "</tbody>\n",
       "</table>"
      ]
     },
     "metadata": {},
     "output_type": "display_data"
    },
    {
     "data": {
      "text/plain": []
     },
     "execution_count": 33,
     "metadata": {},
     "output_type": "execute_result"
    }
   ],
   "source": [
    "h2o_models = h2o.automl.get_leaderboard(h2o_automl, extra_columns = \"ALL\")\n",
    "h2o_models"
   ]
  },
  {
   "cell_type": "code",
   "execution_count": 34,
   "id": "5bf868d4",
   "metadata": {
    "execution": {
     "iopub.execute_input": "2022-08-16T16:20:24.251378Z",
     "iopub.status.busy": "2022-08-16T16:20:24.250479Z",
     "iopub.status.idle": "2022-08-16T16:20:32.954327Z",
     "shell.execute_reply": "2022-08-16T16:20:32.953009Z"
    },
    "papermill": {
     "duration": 8.767305,
     "end_time": "2022-08-16T16:20:32.957569",
     "exception": false,
     "start_time": "2022-08-16T16:20:24.190264",
     "status": "completed"
    },
    "tags": []
   },
   "outputs": [
    {
     "name": "stdout",
     "output_type": "stream",
     "text": [
      "Parse progress: |████████████████████████████████████████████████████████████████| (done) 100%\n",
      "stackedensemble prediction progress: |███████████████████████████████████████████| (done) 100%\n",
      "Parse progress: |████████████████████████████████████████████████████████████████| (done) 100%\n"
     ]
    },
    {
     "data": {
      "text/plain": [
       "0.01384186112157157"
      ]
     },
     "execution_count": 34,
     "metadata": {},
     "output_type": "execute_result"
    }
   ],
   "source": [
    "from h2o.model.regression import h2o_mean_squared_error,h2o_explained_variance_score\n",
    "\n",
    "h2o_frame_test = h2o.H2OFrame(data)\n",
    "\n",
    "y_pred = h2o_automl.predict(h2o_frame_test)\n",
    "y_actual = h2o.H2OFrame(data[['class']])\n",
    "\n",
    "h2o_mean_squared_error(y_actual, y_pred)"
   ]
  },
  {
   "cell_type": "code",
   "execution_count": 35,
   "id": "d422e6ea",
   "metadata": {
    "execution": {
     "iopub.execute_input": "2022-08-16T16:20:33.084465Z",
     "iopub.status.busy": "2022-08-16T16:20:33.083900Z",
     "iopub.status.idle": "2022-08-16T16:20:33.498021Z",
     "shell.execute_reply": "2022-08-16T16:20:33.496711Z"
    },
    "papermill": {
     "duration": 0.477363,
     "end_time": "2022-08-16T16:20:33.500677",
     "exception": false,
     "start_time": "2022-08-16T16:20:33.023314",
     "status": "completed"
    },
    "tags": []
   },
   "outputs": [
    {
     "data": {
      "text/plain": [
       "0.9792513238851257"
      ]
     },
     "execution_count": 35,
     "metadata": {},
     "output_type": "execute_result"
    }
   ],
   "source": [
    "h2o_explained_variance_score(y_actual,y_pred)"
   ]
  },
  {
   "cell_type": "code",
   "execution_count": 36,
   "id": "3910cd5f",
   "metadata": {
    "execution": {
     "iopub.execute_input": "2022-08-16T16:20:33.622132Z",
     "iopub.status.busy": "2022-08-16T16:20:33.621059Z",
     "iopub.status.idle": "2022-08-16T16:20:33.866274Z",
     "shell.execute_reply": "2022-08-16T16:20:33.865374Z"
    },
    "papermill": {
     "duration": 0.307216,
     "end_time": "2022-08-16T16:20:33.868505",
     "exception": false,
     "start_time": "2022-08-16T16:20:33.561289",
     "status": "completed"
    },
    "tags": []
   },
   "outputs": [
    {
     "data": {
      "text/plain": [
       "(100000,)"
      ]
     },
     "execution_count": 36,
     "metadata": {},
     "output_type": "execute_result"
    }
   ],
   "source": [
    "y_pred = h2o.as_list(y_pred)\n",
    "y_pred = y_pred.values.flatten()\n",
    "y_pred.shape"
   ]
  },
  {
   "cell_type": "code",
   "execution_count": 37,
   "id": "2e774fd3",
   "metadata": {
    "execution": {
     "iopub.execute_input": "2022-08-16T16:20:33.989407Z",
     "iopub.status.busy": "2022-08-16T16:20:33.988653Z",
     "iopub.status.idle": "2022-08-16T16:20:41.751439Z",
     "shell.execute_reply": "2022-08-16T16:20:41.750441Z"
    },
    "papermill": {
     "duration": 7.826991,
     "end_time": "2022-08-16T16:20:41.753670",
     "exception": false,
     "start_time": "2022-08-16T16:20:33.926679",
     "status": "completed"
    },
    "tags": []
   },
   "outputs": [
    {
     "data": {
      "text/plain": [
       "<AxesSubplot:>"
      ]
     },
     "execution_count": 37,
     "metadata": {},
     "output_type": "execute_result"
    },
    {
     "data": {
      "image/png": "[encoded data removed]",
      "text/plain": [
       "<Figure size 1080x864 with 1 Axes>"
      ]
     },
     "metadata": {
      "needs_background": "light"
     },
     "output_type": "display_data"
    }
   ],
   "source": [
    "h2o_model = pd.DataFrame(data={'actual': data['class'], 'predicted': y_pred})\n",
    "h2o_model.plot(figsize=(15, 12))"
   ]
  }
 ],
 "metadata": {
  "kernelspec": {
   "display_name": "Python 3",
   "language": "python",
   "name": "python3"
  },
  "language_info": {
   "codemirror_mode": {
    "name": "ipython",
    "version": 3
   },
   "file_extension": ".py",
   "mimetype": "text/x-python",
   "name": "python",
   "nbconvert_exporter": "python",
   "pygments_lexer": "ipython3",
   "version": "3.7.12"
  },
  "papermill": {
   "default_parameters": {},
   "duration": 2147.111817,
   "end_time": "2022-08-16T16:20:44.539033",
   "environment_variables": {},
   "exception": null,
   "input_path": "__notebook__.ipynb",
   "output_path": "__notebook__.ipynb",
   "parameters": {},
   "start_time": "2022-08-16T15:44:57.427216",
   "version": "2.3.4"
  },
  "widgets": {
   "application/vnd.jupyter.widget-state+json": {
    "state": {
     "036b69af2b8b40d29dd8287a5a2838d5": {
      "model_module": "@jupyter-widgets/controls",
      "model_module_version": "1.5.0",
      "model_name": "HTMLModel",
      "state": {
       "_dom_classes": [],
       "_model_module": "@jupyter-widgets/controls",
       "_model_module_version": "1.5.0",
       "_model_name": "HTMLModel",
       "_view_count": null,
       "_view_module": "@jupyter-widgets/controls",
       "_view_module_version": "1.5.0",
       "_view_name": "HTMLView",
       "description": "",
       "description_tooltip": null,
       "layout": "IPY_MODEL_1d1e9be9965a402aada7b3e60d0f984e",
       "placeholder": "​",
       "style": "IPY_MODEL_4a581f1c871b42e9b359975ed0be7059",
       "value": " 69/69 [16:35&lt;00:00, 14.48s/it]"
      }
     },
     "0c0c0f2422ff4ff4a87491ea43721291": {
      "model_module": "@jupyter-widgets/controls",
      "model_module_version": "1.5.0",
      "model_name": "HBoxModel",
      "state": {
       "_dom_classes": [],
       "_model_module": "@jupyter-widgets/controls",
       "_model_module_version": "1.5.0",
       "_model_name": "HBoxModel",
       "_view_count": null,
       "_view_module": "@jupyter-widgets/controls",
       "_view_module_version": "1.5.0",
       "_view_name": "HBoxView",
       "box_style": "",
       "children": [
        "IPY_MODEL_e78ff7ce6c784214aa11acb45a67e361",
        "IPY_MODEL_fde30dad9e39465e9d993e4764eec439",
        "IPY_MODEL_036b69af2b8b40d29dd8287a5a2838d5"
       ],
       "layout": "IPY_MODEL_68732d3edeb44fffa06bb30aec232d4e"
      }
     },
     "1d1e9be9965a402aada7b3e60d0f984e": {
      "model_module": "@jupyter-widgets/base",
      "model_module_version": "1.2.0",
      "model_name": "LayoutModel",
      "state": {
       "_model_module": "@jupyter-widgets/base",
       "_model_module_version": "1.2.0",
       "_model_name": "LayoutModel",
       "_view_count": null,
       "_view_module": "@jupyter-widgets/base",
       "_view_module_version": "1.2.0",
       "_view_name": "LayoutView",
       "align_content": null,
       "align_items": null,
       "align_self": null,
       "border": null,
       "bottom": null,
       "display": null,
       "flex": null,
       "flex_flow": null,
       "grid_area": null,
       "grid_auto_columns": null,
       "grid_auto_flow": null,
       "grid_auto_rows": null,
       "grid_column": null,
       "grid_gap": null,
       "grid_row": null,
       "grid_template_areas": null,
       "grid_template_columns": null,
       "grid_template_rows": null,
       "height": null,
       "justify_content": null,
       "justify_items": null,
       "left": null,
       "margin": null,
       "max_height": null,
       "max_width": null,
       "min_height": null,
       "min_width": null,
       "object_fit": null,
       "object_position": null,
       "order": null,
       "overflow": null,
       "overflow_x": null,
       "overflow_y": null,
       "padding": null,
       "right": null,
       "top": null,
       "visibility": null,
       "width": null
      }
     },
     "361494f890454438b140cf78940553f7": {
      "model_module": "@jupyter-widgets/controls",
      "model_module_version": "1.5.0",
      "model_name": "DescriptionStyleModel",
      "state": {
       "_model_module": "@jupyter-widgets/controls",
       "_model_module_version": "1.5.0",
       "_model_name": "DescriptionStyleModel",
       "_view_count": null,
       "_view_module": "@jupyter-widgets/base",
       "_view_module_version": "1.2.0",
       "_view_name": "StyleView",
       "description_width": ""
      }
     },
     "4a581f1c871b42e9b359975ed0be7059": {
      "model_module": "@jupyter-widgets/controls",
      "model_module_version": "1.5.0",
      "model_name": "DescriptionStyleModel",
      "state": {
       "_model_module": "@jupyter-widgets/controls",
       "_model_module_version": "1.5.0",
       "_model_name": "DescriptionStyleModel",
       "_view_count": null,
       "_view_module": "@jupyter-widgets/base",
       "_view_module_version": "1.2.0",
       "_view_name": "StyleView",
       "description_width": ""
      }
     },
     "68732d3edeb44fffa06bb30aec232d4e": {
      "model_module": "@jupyter-widgets/base",
      "model_module_version": "1.2.0",
      "model_name": "LayoutModel",
      "state": {
       "_model_module": "@jupyter-widgets/base",
       "_model_module_version": "1.2.0",
       "_model_name": "LayoutModel",
       "_view_count": null,
       "_view_module": "@jupyter-widgets/base",
       "_view_module_version": "1.2.0",
       "_view_name": "LayoutView",
       "align_content": null,
       "align_items": null,
       "align_self": null,
       "border": null,
       "bottom": null,
       "display": null,
       "flex": null,
       "flex_flow": null,
       "grid_area": null,
       "grid_auto_columns": null,
       "grid_auto_flow": null,
       "grid_auto_rows": null,
       "grid_column": null,
       "grid_gap": null,
       "grid_row": null,
       "grid_template_areas": null,
       "grid_template_columns": null,
       "grid_template_rows": null,
       "height": null,
       "justify_content": null,
       "justify_items": null,
       "left": null,
       "margin": null,
       "max_height": null,
       "max_width": null,
       "min_height": null,
       "min_width": null,
       "object_fit": null,
       "object_position": null,
       "order": null,
       "overflow": null,
       "overflow_x": null,
       "overflow_y": null,
       "padding": null,
       "right": null,
       "top": null,
       "visibility": null,
       "width": null
      }
     },
     "713841ce30a8498ca18ee6e38c213b1e": {
      "model_module": "@jupyter-widgets/controls",
      "model_module_version": "1.5.0",
      "model_name": "ProgressStyleModel",
      "state": {
       "_model_module": "@jupyter-widgets/controls",
       "_model_module_version": "1.5.0",
       "_model_name": "ProgressStyleModel",
       "_view_count": null,
       "_view_module": "@jupyter-widgets/base",
       "_view_module_version": "1.2.0",
       "_view_name": "StyleView",
       "bar_color": null,
       "description_width": ""
      }
     },
     "a6f04a361cda4da18ec7de62c239e83b": {
      "model_module": "@jupyter-widgets/base",
      "model_module_version": "1.2.0",
      "model_name": "LayoutModel",
      "state": {
       "_model_module": "@jupyter-widgets/base",
       "_model_module_version": "1.2.0",
       "_model_name": "LayoutModel",
       "_view_count": null,
       "_view_module": "@jupyter-widgets/base",
       "_view_module_version": "1.2.0",
       "_view_name": "LayoutView",
       "align_content": null,
       "align_items": null,
       "align_self": null,
       "border": null,
       "bottom": null,
       "display": null,
       "flex": null,
       "flex_flow": null,
       "grid_area": null,
       "grid_auto_columns": null,
       "grid_auto_flow": null,
       "grid_auto_rows": null,
       "grid_column": null,
       "grid_gap": null,
       "grid_row": null,
       "grid_template_areas": null,
       "grid_template_columns": null,
       "grid_template_rows": null,
       "height": null,
       "justify_content": null,
       "justify_items": null,
       "left": null,
       "margin": null,
       "max_height": null,
       "max_width": null,
       "min_height": null,
       "min_width": null,
       "object_fit": null,
       "object_position": null,
       "order": null,
       "overflow": null,
       "overflow_x": null,
       "overflow_y": null,
       "padding": null,
       "right": null,
       "top": null,
       "visibility": null,
       "width": null
      }
     },
     "e6ff59622c1a4995b94a13f24ae877cb": {
      "model_module": "@jupyter-widgets/base",
      "model_module_version": "1.2.0",
      "model_name": "LayoutModel",
      "state": {
       "_model_module": "@jupyter-widgets/base",
       "_model_module_version": "1.2.0",
       "_model_name": "LayoutModel",
       "_view_count": null,
       "_view_module": "@jupyter-widgets/base",
       "_view_module_version": "1.2.0",
       "_view_name": "LayoutView",
       "align_content": null,
       "align_items": null,
       "align_self": null,
       "border": null,
       "bottom": null,
       "display": null,
       "flex": null,
       "flex_flow": null,
       "grid_area": null,
       "grid_auto_columns": null,
       "grid_auto_flow": null,
       "grid_auto_rows": null,
       "grid_column": null,
       "grid_gap": null,
       "grid_row": null,
       "grid_template_areas": null,
       "grid_template_columns": null,
       "grid_template_rows": null,
       "height": null,
       "justify_content": null,
       "justify_items": null,
       "left": null,
       "margin": null,
       "max_height": null,
       "max_width": null,
       "min_height": null,
       "min_width": null,
       "object_fit": null,
       "object_position": null,
       "order": null,
       "overflow": null,
       "overflow_x": null,
       "overflow_y": null,
       "padding": null,
       "right": null,
       "top": null,
       "visibility": null,
       "width": null
      }
     },
     "e78ff7ce6c784214aa11acb45a67e361": {
      "model_module": "@jupyter-widgets/controls",
      "model_module_version": "1.5.0",
      "model_name": "HTMLModel",
      "state": {
       "_dom_classes": [],
       "_model_module": "@jupyter-widgets/controls",
       "_model_module_version": "1.5.0",
       "_model_name": "HTMLModel",
       "_view_count": null,
       "_view_module": "@jupyter-widgets/controls",
       "_view_module_version": "1.5.0",
       "_view_name": "HTMLView",
       "description": "",
       "description_tooltip": null,
       "layout": "IPY_MODEL_a6f04a361cda4da18ec7de62c239e83b",
       "placeholder": "​",
       "style": "IPY_MODEL_361494f890454438b140cf78940553f7",
       "value": "Processing: 100%"
      }
     },
     "fde30dad9e39465e9d993e4764eec439": {
      "model_module": "@jupyter-widgets/controls",
      "model_module_version": "1.5.0",
      "model_name": "FloatProgressModel",
      "state": {
       "_dom_classes": [],
       "_model_module": "@jupyter-widgets/controls",
       "_model_module_version": "1.5.0",
       "_model_name": "FloatProgressModel",
       "_view_count": null,
       "_view_module": "@jupyter-widgets/controls",
       "_view_module_version": "1.5.0",
       "_view_name": "ProgressView",
       "bar_style": "",
       "description": "",
       "description_tooltip": null,
       "layout": "IPY_MODEL_e6ff59622c1a4995b94a13f24ae877cb",
       "max": 69.0,
       "min": 0.0,
       "orientation": "horizontal",
       "style": "IPY_MODEL_713841ce30a8498ca18ee6e38c213b1e",
       "value": 69.0
      }
     }
    },
    "version_major": 2,
    "version_minor": 0
   }
  }
 },
 "nbformat": 4,
 "nbformat_minor": 5
}
