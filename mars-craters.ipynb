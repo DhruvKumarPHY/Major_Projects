{
 "cells": [
  {
   "cell_type": "markdown",
   "id": "5f2db9e5",
   "metadata": {
    "papermill": {
     "duration": 0.00923,
     "end_time": "2022-08-14T10:59:03.996567",
     "exception": false,
     "start_time": "2022-08-14T10:59:03.987337",
     "status": "completed"
    },
    "tags": []
   },
   "source": [
    "# Here in this dataset i have predicted the layer numbers that could exist on a martian craters"
   ]
  },
  {
   "cell_type": "code",
   "execution_count": 1,
   "id": "2b18cf2b",
   "metadata": {
    "execution": {
     "iopub.execute_input": "2022-08-14T10:59:04.012792Z",
     "iopub.status.busy": "2022-08-14T10:59:04.012072Z",
     "iopub.status.idle": "2022-08-14T10:59:04.022443Z",
     "shell.execute_reply": "2022-08-14T10:59:04.021627Z"
    },
    "papermill": {
     "duration": 0.02071,
     "end_time": "2022-08-14T10:59:04.024410",
     "exception": false,
     "start_time": "2022-08-14T10:59:04.003700",
     "status": "completed"
    },
    "tags": []
   },
   "outputs": [],
   "source": [
    "import pandas as pd\n",
    "import matplotlib.pyplot as plt"
   ]
  },
  {
   "cell_type": "code",
   "execution_count": 2,
   "id": "d9598097",
   "metadata": {
    "execution": {
     "iopub.execute_input": "2022-08-14T10:59:04.039669Z",
     "iopub.status.busy": "2022-08-14T10:59:04.039121Z",
     "iopub.status.idle": "2022-08-14T10:59:04.636752Z",
     "shell.execute_reply": "2022-08-14T10:59:04.635630Z"
    },
    "papermill": {
     "duration": 0.608183,
     "end_time": "2022-08-14T10:59:04.639573",
     "exception": false,
     "start_time": "2022-08-14T10:59:04.031390",
     "status": "completed"
    },
    "tags": []
   },
   "outputs": [],
   "source": [
    "data = pd.read_csv('../input/mars-crater-study-dataset/Mars Crater info.csv')"
   ]
  },
  {
   "cell_type": "code",
   "execution_count": 3,
   "id": "ebc2366d",
   "metadata": {
    "execution": {
     "iopub.execute_input": "2022-08-14T10:59:04.655645Z",
     "iopub.status.busy": "2022-08-14T10:59:04.654928Z",
     "iopub.status.idle": "2022-08-14T10:59:04.763766Z",
     "shell.execute_reply": "2022-08-14T10:59:04.762659Z"
    },
    "papermill": {
     "duration": 0.119906,
     "end_time": "2022-08-14T10:59:04.766762",
     "exception": false,
     "start_time": "2022-08-14T10:59:04.646856",
     "status": "completed"
    },
    "tags": []
   },
   "outputs": [
    {
     "name": "stdout",
     "output_type": "stream",
     "text": [
      "<class 'pandas.core.frame.DataFrame'>\n",
      "RangeIndex: 384343 entries, 0 to 384342\n",
      "Data columns (total 10 columns):\n",
      " #   Column                  Non-Null Count   Dtype  \n",
      "---  ------                  --------------   -----  \n",
      " 0   CRATER_ID               384343 non-null  object \n",
      " 1   CRATER_NAME             384343 non-null  object \n",
      " 2   LATITUDE_CIRCLE_IMAGE   384343 non-null  float64\n",
      " 3   LONGITUDE_CIRCLE_IMAGE  384343 non-null  float64\n",
      " 4   DIAM_CIRCLE_IMAGE       384343 non-null  float64\n",
      " 5   DEPTH_RIMFLOOR_TOPOG    384343 non-null  float64\n",
      " 6   MORPHOLOGY_EJECTA_1     384343 non-null  object \n",
      " 7   MORPHOLOGY_EJECTA_2     384343 non-null  object \n",
      " 8   MORPHOLOGY_EJECTA_3     384343 non-null  object \n",
      " 9   NUMBER_LAYERS           384343 non-null  int64  \n",
      "dtypes: float64(4), int64(1), object(5)\n",
      "memory usage: 29.3+ MB\n"
     ]
    }
   ],
   "source": [
    "data.info()"
   ]
  },
  {
   "cell_type": "code",
   "execution_count": 4,
   "id": "43ab6472",
   "metadata": {
    "execution": {
     "iopub.execute_input": "2022-08-14T10:59:04.783645Z",
     "iopub.status.busy": "2022-08-14T10:59:04.782708Z",
     "iopub.status.idle": "2022-08-14T10:59:04.803762Z",
     "shell.execute_reply": "2022-08-14T10:59:04.802708Z"
    },
    "papermill": {
     "duration": 0.031067,
     "end_time": "2022-08-14T10:59:04.805836",
     "exception": false,
     "start_time": "2022-08-14T10:59:04.774769",
     "status": "completed"
    },
    "tags": []
   },
   "outputs": [
    {
     "data": {
      "text/html": [
       "<div>\n",
       "<style scoped>\n",
       "    .dataframe tbody tr th:only-of-type {\n",
       "        vertical-align: middle;\n",
       "    }\n",
       "\n",
       "    .dataframe tbody tr th {\n",
       "        vertical-align: top;\n",
       "    }\n",
       "\n",
       "    .dataframe thead th {\n",
       "        text-align: right;\n",
       "    }\n",
       "</style>\n",
       "<table border=\"1\" class=\"dataframe\">\n",
       "  <thead>\n",
       "    <tr style=\"text-align: right;\">\n",
       "      <th></th>\n",
       "      <th>CRATER_ID</th>\n",
       "      <th>CRATER_NAME</th>\n",
       "      <th>LATITUDE_CIRCLE_IMAGE</th>\n",
       "      <th>LONGITUDE_CIRCLE_IMAGE</th>\n",
       "      <th>DIAM_CIRCLE_IMAGE</th>\n",
       "      <th>DEPTH_RIMFLOOR_TOPOG</th>\n",
       "      <th>MORPHOLOGY_EJECTA_1</th>\n",
       "      <th>MORPHOLOGY_EJECTA_2</th>\n",
       "      <th>MORPHOLOGY_EJECTA_3</th>\n",
       "      <th>NUMBER_LAYERS</th>\n",
       "    </tr>\n",
       "  </thead>\n",
       "  <tbody>\n",
       "    <tr>\n",
       "      <th>0</th>\n",
       "      <td>01-000000</td>\n",
       "      <td></td>\n",
       "      <td>84.367</td>\n",
       "      <td>108.746</td>\n",
       "      <td>82.10</td>\n",
       "      <td>0.22</td>\n",
       "      <td></td>\n",
       "      <td></td>\n",
       "      <td></td>\n",
       "      <td>0</td>\n",
       "    </tr>\n",
       "    <tr>\n",
       "      <th>1</th>\n",
       "      <td>01-000001</td>\n",
       "      <td>Korolev</td>\n",
       "      <td>72.760</td>\n",
       "      <td>164.464</td>\n",
       "      <td>82.02</td>\n",
       "      <td>1.97</td>\n",
       "      <td>Rd/MLERS</td>\n",
       "      <td>HuBL</td>\n",
       "      <td></td>\n",
       "      <td>3</td>\n",
       "    </tr>\n",
       "    <tr>\n",
       "      <th>2</th>\n",
       "      <td>01-000002</td>\n",
       "      <td></td>\n",
       "      <td>69.244</td>\n",
       "      <td>-27.240</td>\n",
       "      <td>79.63</td>\n",
       "      <td>0.09</td>\n",
       "      <td></td>\n",
       "      <td></td>\n",
       "      <td></td>\n",
       "      <td>0</td>\n",
       "    </tr>\n",
       "    <tr>\n",
       "      <th>3</th>\n",
       "      <td>01-000003</td>\n",
       "      <td></td>\n",
       "      <td>70.107</td>\n",
       "      <td>160.575</td>\n",
       "      <td>74.81</td>\n",
       "      <td>0.13</td>\n",
       "      <td></td>\n",
       "      <td></td>\n",
       "      <td></td>\n",
       "      <td>0</td>\n",
       "    </tr>\n",
       "    <tr>\n",
       "      <th>4</th>\n",
       "      <td>01-000004</td>\n",
       "      <td></td>\n",
       "      <td>77.996</td>\n",
       "      <td>95.617</td>\n",
       "      <td>73.53</td>\n",
       "      <td>0.11</td>\n",
       "      <td></td>\n",
       "      <td></td>\n",
       "      <td></td>\n",
       "      <td>0</td>\n",
       "    </tr>\n",
       "  </tbody>\n",
       "</table>\n",
       "</div>"
      ],
      "text/plain": [
       "   CRATER_ID CRATER_NAME  LATITUDE_CIRCLE_IMAGE  LONGITUDE_CIRCLE_IMAGE  \\\n",
       "0  01-000000                             84.367                 108.746   \n",
       "1  01-000001     Korolev                 72.760                 164.464   \n",
       "2  01-000002                             69.244                 -27.240   \n",
       "3  01-000003                             70.107                 160.575   \n",
       "4  01-000004                             77.996                  95.617   \n",
       "\n",
       "   DIAM_CIRCLE_IMAGE  DEPTH_RIMFLOOR_TOPOG MORPHOLOGY_EJECTA_1  \\\n",
       "0              82.10                  0.22                       \n",
       "1              82.02                  1.97            Rd/MLERS   \n",
       "2              79.63                  0.09                       \n",
       "3              74.81                  0.13                       \n",
       "4              73.53                  0.11                       \n",
       "\n",
       "  MORPHOLOGY_EJECTA_2 MORPHOLOGY_EJECTA_3  NUMBER_LAYERS  \n",
       "0                                                      0  \n",
       "1                HuBL                                  3  \n",
       "2                                                      0  \n",
       "3                                                      0  \n",
       "4                                                      0  "
      ]
     },
     "execution_count": 4,
     "metadata": {},
     "output_type": "execute_result"
    }
   ],
   "source": [
    "data.head(5)"
   ]
  },
  {
   "cell_type": "code",
   "execution_count": 5,
   "id": "0bf42de8",
   "metadata": {
    "execution": {
     "iopub.execute_input": "2022-08-14T10:59:04.821710Z",
     "iopub.status.busy": "2022-08-14T10:59:04.821398Z",
     "iopub.status.idle": "2022-08-14T10:59:04.827254Z",
     "shell.execute_reply": "2022-08-14T10:59:04.826294Z"
    },
    "papermill": {
     "duration": 0.016345,
     "end_time": "2022-08-14T10:59:04.829375",
     "exception": false,
     "start_time": "2022-08-14T10:59:04.813030",
     "status": "completed"
    },
    "tags": []
   },
   "outputs": [
    {
     "data": {
      "text/plain": [
       "Index(['CRATER_ID', 'CRATER_NAME', 'LATITUDE_CIRCLE_IMAGE',\n",
       "       'LONGITUDE_CIRCLE_IMAGE', 'DIAM_CIRCLE_IMAGE', 'DEPTH_RIMFLOOR_TOPOG',\n",
       "       'MORPHOLOGY_EJECTA_1', 'MORPHOLOGY_EJECTA_2', 'MORPHOLOGY_EJECTA_3',\n",
       "       'NUMBER_LAYERS'],\n",
       "      dtype='object')"
      ]
     },
     "execution_count": 5,
     "metadata": {},
     "output_type": "execute_result"
    }
   ],
   "source": [
    "data.columns"
   ]
  },
  {
   "cell_type": "code",
   "execution_count": 6,
   "id": "b988b07f",
   "metadata": {
    "execution": {
     "iopub.execute_input": "2022-08-14T10:59:04.845247Z",
     "iopub.status.busy": "2022-08-14T10:59:04.844670Z",
     "iopub.status.idle": "2022-08-14T10:59:05.741050Z",
     "shell.execute_reply": "2022-08-14T10:59:05.739879Z"
    },
    "papermill": {
     "duration": 0.907209,
     "end_time": "2022-08-14T10:59:05.743886",
     "exception": false,
     "start_time": "2022-08-14T10:59:04.836677",
     "status": "completed"
    },
    "tags": []
   },
   "outputs": [],
   "source": [
    "from sklearn.preprocessing import LabelEncoder\n",
    "le_CRATER_NAME = LabelEncoder()\n",
    "le_MORPHOLOGY_EJECTA_1 = LabelEncoder()\n",
    "le_MORPHOLOGY_EJECTA_2 = LabelEncoder()\n",
    "le_MORPHOLOGY_EJECTA_3 = LabelEncoder()"
   ]
  },
  {
   "cell_type": "code",
   "execution_count": 7,
   "id": "0002a0d3",
   "metadata": {
    "execution": {
     "iopub.execute_input": "2022-08-14T10:59:05.760276Z",
     "iopub.status.busy": "2022-08-14T10:59:05.759899Z",
     "iopub.status.idle": "2022-08-14T10:59:06.138392Z",
     "shell.execute_reply": "2022-08-14T10:59:06.137229Z"
    },
    "papermill": {
     "duration": 0.389724,
     "end_time": "2022-08-14T10:59:06.141141",
     "exception": false,
     "start_time": "2022-08-14T10:59:05.751417",
     "status": "completed"
    },
    "tags": []
   },
   "outputs": [],
   "source": [
    "data['CRATER_NAME_n'] = le_CRATER_NAME.fit_transform(data['CRATER_NAME'])\n",
    "data['MORPHOLOGY_EJECTA_1_n'] = le_MORPHOLOGY_EJECTA_1.fit_transform(data['MORPHOLOGY_EJECTA_1'])\n",
    "data['MORPHOLOGY_EJECTA_2_n'] = le_MORPHOLOGY_EJECTA_2.fit_transform(data['MORPHOLOGY_EJECTA_2'])\n",
    "data['MORPHOLOGY_EJECTA_3_n'] = le_MORPHOLOGY_EJECTA_2.fit_transform(data['MORPHOLOGY_EJECTA_3'])"
   ]
  },
  {
   "cell_type": "code",
   "execution_count": 8,
   "id": "078c19e0",
   "metadata": {
    "execution": {
     "iopub.execute_input": "2022-08-14T10:59:06.157661Z",
     "iopub.status.busy": "2022-08-14T10:59:06.157057Z",
     "iopub.status.idle": "2022-08-14T10:59:06.260512Z",
     "shell.execute_reply": "2022-08-14T10:59:06.259393Z"
    },
    "papermill": {
     "duration": 0.114385,
     "end_time": "2022-08-14T10:59:06.263096",
     "exception": false,
     "start_time": "2022-08-14T10:59:06.148711",
     "status": "completed"
    },
    "tags": []
   },
   "outputs": [
    {
     "name": "stdout",
     "output_type": "stream",
     "text": [
      "<class 'pandas.core.frame.DataFrame'>\n",
      "RangeIndex: 384343 entries, 0 to 384342\n",
      "Data columns (total 14 columns):\n",
      " #   Column                  Non-Null Count   Dtype  \n",
      "---  ------                  --------------   -----  \n",
      " 0   CRATER_ID               384343 non-null  object \n",
      " 1   CRATER_NAME             384343 non-null  object \n",
      " 2   LATITUDE_CIRCLE_IMAGE   384343 non-null  float64\n",
      " 3   LONGITUDE_CIRCLE_IMAGE  384343 non-null  float64\n",
      " 4   DIAM_CIRCLE_IMAGE       384343 non-null  float64\n",
      " 5   DEPTH_RIMFLOOR_TOPOG    384343 non-null  float64\n",
      " 6   MORPHOLOGY_EJECTA_1     384343 non-null  object \n",
      " 7   MORPHOLOGY_EJECTA_2     384343 non-null  object \n",
      " 8   MORPHOLOGY_EJECTA_3     384343 non-null  object \n",
      " 9   NUMBER_LAYERS           384343 non-null  int64  \n",
      " 10  CRATER_NAME_n           384343 non-null  int64  \n",
      " 11  MORPHOLOGY_EJECTA_1_n   384343 non-null  int64  \n",
      " 12  MORPHOLOGY_EJECTA_2_n   384343 non-null  int64  \n",
      " 13  MORPHOLOGY_EJECTA_3_n   384343 non-null  int64  \n",
      "dtypes: float64(4), int64(5), object(5)\n",
      "memory usage: 41.1+ MB\n"
     ]
    }
   ],
   "source": [
    "data.info()"
   ]
  },
  {
   "cell_type": "code",
   "execution_count": 9,
   "id": "e3dcd0d3",
   "metadata": {
    "execution": {
     "iopub.execute_input": "2022-08-14T10:59:06.280655Z",
     "iopub.status.busy": "2022-08-14T10:59:06.280303Z",
     "iopub.status.idle": "2022-08-14T10:59:06.309915Z",
     "shell.execute_reply": "2022-08-14T10:59:06.308642Z"
    },
    "papermill": {
     "duration": 0.041198,
     "end_time": "2022-08-14T10:59:06.312756",
     "exception": false,
     "start_time": "2022-08-14T10:59:06.271558",
     "status": "completed"
    },
    "tags": []
   },
   "outputs": [],
   "source": [
    "data.drop(data.columns[[0,1,6,7,8]],axis=1,inplace=True)"
   ]
  },
  {
   "cell_type": "code",
   "execution_count": 10,
   "id": "317f9c3f",
   "metadata": {
    "execution": {
     "iopub.execute_input": "2022-08-14T10:59:06.331279Z",
     "iopub.status.busy": "2022-08-14T10:59:06.330880Z",
     "iopub.status.idle": "2022-08-14T10:59:06.354273Z",
     "shell.execute_reply": "2022-08-14T10:59:06.353031Z"
    },
    "papermill": {
     "duration": 0.03531,
     "end_time": "2022-08-14T10:59:06.356656",
     "exception": false,
     "start_time": "2022-08-14T10:59:06.321346",
     "status": "completed"
    },
    "tags": []
   },
   "outputs": [
    {
     "name": "stdout",
     "output_type": "stream",
     "text": [
      "<class 'pandas.core.frame.DataFrame'>\n",
      "RangeIndex: 384343 entries, 0 to 384342\n",
      "Data columns (total 9 columns):\n",
      " #   Column                  Non-Null Count   Dtype  \n",
      "---  ------                  --------------   -----  \n",
      " 0   LATITUDE_CIRCLE_IMAGE   384343 non-null  float64\n",
      " 1   LONGITUDE_CIRCLE_IMAGE  384343 non-null  float64\n",
      " 2   DIAM_CIRCLE_IMAGE       384343 non-null  float64\n",
      " 3   DEPTH_RIMFLOOR_TOPOG    384343 non-null  float64\n",
      " 4   NUMBER_LAYERS           384343 non-null  int64  \n",
      " 5   CRATER_NAME_n           384343 non-null  int64  \n",
      " 6   MORPHOLOGY_EJECTA_1_n   384343 non-null  int64  \n",
      " 7   MORPHOLOGY_EJECTA_2_n   384343 non-null  int64  \n",
      " 8   MORPHOLOGY_EJECTA_3_n   384343 non-null  int64  \n",
      "dtypes: float64(4), int64(5)\n",
      "memory usage: 26.4 MB\n"
     ]
    }
   ],
   "source": [
    "data.info()"
   ]
  },
  {
   "cell_type": "code",
   "execution_count": 11,
   "id": "88bd82bd",
   "metadata": {
    "execution": {
     "iopub.execute_input": "2022-08-14T10:59:06.374441Z",
     "iopub.status.busy": "2022-08-14T10:59:06.374007Z",
     "iopub.status.idle": "2022-08-14T10:59:06.378741Z",
     "shell.execute_reply": "2022-08-14T10:59:06.377736Z"
    },
    "papermill": {
     "duration": 0.015439,
     "end_time": "2022-08-14T10:59:06.380786",
     "exception": false,
     "start_time": "2022-08-14T10:59:06.365347",
     "status": "completed"
    },
    "tags": []
   },
   "outputs": [],
   "source": [
    "y = data['NUMBER_LAYERS']"
   ]
  },
  {
   "cell_type": "code",
   "execution_count": 12,
   "id": "ca7bb937",
   "metadata": {
    "execution": {
     "iopub.execute_input": "2022-08-14T10:59:06.397591Z",
     "iopub.status.busy": "2022-08-14T10:59:06.396544Z",
     "iopub.status.idle": "2022-08-14T10:59:06.415582Z",
     "shell.execute_reply": "2022-08-14T10:59:06.414401Z"
    },
    "papermill": {
     "duration": 0.02983,
     "end_time": "2022-08-14T10:59:06.418010",
     "exception": false,
     "start_time": "2022-08-14T10:59:06.388180",
     "status": "completed"
    },
    "tags": []
   },
   "outputs": [],
   "source": [
    "x = data.drop('NUMBER_LAYERS',axis=1)"
   ]
  },
  {
   "cell_type": "code",
   "execution_count": 13,
   "id": "1c85fc07",
   "metadata": {
    "execution": {
     "iopub.execute_input": "2022-08-14T10:59:06.435413Z",
     "iopub.status.busy": "2022-08-14T10:59:06.435060Z",
     "iopub.status.idle": "2022-08-14T10:59:06.443045Z",
     "shell.execute_reply": "2022-08-14T10:59:06.441887Z"
    },
    "papermill": {
     "duration": 0.019163,
     "end_time": "2022-08-14T10:59:06.445291",
     "exception": false,
     "start_time": "2022-08-14T10:59:06.426128",
     "status": "completed"
    },
    "tags": []
   },
   "outputs": [
    {
     "data": {
      "text/plain": [
       "0         0\n",
       "1         3\n",
       "2         0\n",
       "3         0\n",
       "4         0\n",
       "         ..\n",
       "384338    0\n",
       "384339    0\n",
       "384340    0\n",
       "384341    0\n",
       "384342    0\n",
       "Name: NUMBER_LAYERS, Length: 384343, dtype: int64"
      ]
     },
     "execution_count": 13,
     "metadata": {},
     "output_type": "execute_result"
    }
   ],
   "source": [
    "y"
   ]
  },
  {
   "cell_type": "code",
   "execution_count": 14,
   "id": "f814c6f5",
   "metadata": {
    "execution": {
     "iopub.execute_input": "2022-08-14T10:59:06.461966Z",
     "iopub.status.busy": "2022-08-14T10:59:06.461632Z",
     "iopub.status.idle": "2022-08-14T10:59:06.478618Z",
     "shell.execute_reply": "2022-08-14T10:59:06.477626Z"
    },
    "papermill": {
     "duration": 0.027741,
     "end_time": "2022-08-14T10:59:06.480648",
     "exception": false,
     "start_time": "2022-08-14T10:59:06.452907",
     "status": "completed"
    },
    "tags": []
   },
   "outputs": [
    {
     "data": {
      "text/html": [
       "<div>\n",
       "<style scoped>\n",
       "    .dataframe tbody tr th:only-of-type {\n",
       "        vertical-align: middle;\n",
       "    }\n",
       "\n",
       "    .dataframe tbody tr th {\n",
       "        vertical-align: top;\n",
       "    }\n",
       "\n",
       "    .dataframe thead th {\n",
       "        text-align: right;\n",
       "    }\n",
       "</style>\n",
       "<table border=\"1\" class=\"dataframe\">\n",
       "  <thead>\n",
       "    <tr style=\"text-align: right;\">\n",
       "      <th></th>\n",
       "      <th>LATITUDE_CIRCLE_IMAGE</th>\n",
       "      <th>LONGITUDE_CIRCLE_IMAGE</th>\n",
       "      <th>DIAM_CIRCLE_IMAGE</th>\n",
       "      <th>DEPTH_RIMFLOOR_TOPOG</th>\n",
       "      <th>CRATER_NAME_n</th>\n",
       "      <th>MORPHOLOGY_EJECTA_1_n</th>\n",
       "      <th>MORPHOLOGY_EJECTA_2_n</th>\n",
       "      <th>MORPHOLOGY_EJECTA_3_n</th>\n",
       "    </tr>\n",
       "  </thead>\n",
       "  <tbody>\n",
       "    <tr>\n",
       "      <th>0</th>\n",
       "      <td>84.367</td>\n",
       "      <td>108.746</td>\n",
       "      <td>82.10</td>\n",
       "      <td>0.22</td>\n",
       "      <td>0</td>\n",
       "      <td>0</td>\n",
       "      <td>0</td>\n",
       "      <td>0</td>\n",
       "    </tr>\n",
       "    <tr>\n",
       "      <th>1</th>\n",
       "      <td>72.760</td>\n",
       "      <td>164.464</td>\n",
       "      <td>82.02</td>\n",
       "      <td>1.97</td>\n",
       "      <td>452</td>\n",
       "      <td>118</td>\n",
       "      <td>28</td>\n",
       "      <td>0</td>\n",
       "    </tr>\n",
       "    <tr>\n",
       "      <th>2</th>\n",
       "      <td>69.244</td>\n",
       "      <td>-27.240</td>\n",
       "      <td>79.63</td>\n",
       "      <td>0.09</td>\n",
       "      <td>0</td>\n",
       "      <td>0</td>\n",
       "      <td>0</td>\n",
       "      <td>0</td>\n",
       "    </tr>\n",
       "    <tr>\n",
       "      <th>3</th>\n",
       "      <td>70.107</td>\n",
       "      <td>160.575</td>\n",
       "      <td>74.81</td>\n",
       "      <td>0.13</td>\n",
       "      <td>0</td>\n",
       "      <td>0</td>\n",
       "      <td>0</td>\n",
       "      <td>0</td>\n",
       "    </tr>\n",
       "    <tr>\n",
       "      <th>4</th>\n",
       "      <td>77.996</td>\n",
       "      <td>95.617</td>\n",
       "      <td>73.53</td>\n",
       "      <td>0.11</td>\n",
       "      <td>0</td>\n",
       "      <td>0</td>\n",
       "      <td>0</td>\n",
       "      <td>0</td>\n",
       "    </tr>\n",
       "    <tr>\n",
       "      <th>...</th>\n",
       "      <td>...</td>\n",
       "      <td>...</td>\n",
       "      <td>...</td>\n",
       "      <td>...</td>\n",
       "      <td>...</td>\n",
       "      <td>...</td>\n",
       "      <td>...</td>\n",
       "      <td>...</td>\n",
       "    </tr>\n",
       "    <tr>\n",
       "      <th>384338</th>\n",
       "      <td>-67.138</td>\n",
       "      <td>166.562</td>\n",
       "      <td>1.00</td>\n",
       "      <td>0.00</td>\n",
       "      <td>0</td>\n",
       "      <td>0</td>\n",
       "      <td>0</td>\n",
       "      <td>0</td>\n",
       "    </tr>\n",
       "    <tr>\n",
       "      <th>384339</th>\n",
       "      <td>-73.986</td>\n",
       "      <td>39.069</td>\n",
       "      <td>1.00</td>\n",
       "      <td>0.00</td>\n",
       "      <td>0</td>\n",
       "      <td>0</td>\n",
       "      <td>0</td>\n",
       "      <td>0</td>\n",
       "    </tr>\n",
       "    <tr>\n",
       "      <th>384340</th>\n",
       "      <td>-76.934</td>\n",
       "      <td>5.923</td>\n",
       "      <td>1.00</td>\n",
       "      <td>0.00</td>\n",
       "      <td>0</td>\n",
       "      <td>0</td>\n",
       "      <td>0</td>\n",
       "      <td>0</td>\n",
       "    </tr>\n",
       "    <tr>\n",
       "      <th>384341</th>\n",
       "      <td>-79.415</td>\n",
       "      <td>63.528</td>\n",
       "      <td>1.00</td>\n",
       "      <td>0.00</td>\n",
       "      <td>0</td>\n",
       "      <td>0</td>\n",
       "      <td>0</td>\n",
       "      <td>0</td>\n",
       "    </tr>\n",
       "    <tr>\n",
       "      <th>384342</th>\n",
       "      <td>-79.664</td>\n",
       "      <td>0.991</td>\n",
       "      <td>1.00</td>\n",
       "      <td>0.00</td>\n",
       "      <td>0</td>\n",
       "      <td>0</td>\n",
       "      <td>0</td>\n",
       "      <td>0</td>\n",
       "    </tr>\n",
       "  </tbody>\n",
       "</table>\n",
       "<p>384343 rows × 8 columns</p>\n",
       "</div>"
      ],
      "text/plain": [
       "        LATITUDE_CIRCLE_IMAGE  LONGITUDE_CIRCLE_IMAGE  DIAM_CIRCLE_IMAGE  \\\n",
       "0                      84.367                 108.746              82.10   \n",
       "1                      72.760                 164.464              82.02   \n",
       "2                      69.244                 -27.240              79.63   \n",
       "3                      70.107                 160.575              74.81   \n",
       "4                      77.996                  95.617              73.53   \n",
       "...                       ...                     ...                ...   \n",
       "384338                -67.138                 166.562               1.00   \n",
       "384339                -73.986                  39.069               1.00   \n",
       "384340                -76.934                   5.923               1.00   \n",
       "384341                -79.415                  63.528               1.00   \n",
       "384342                -79.664                   0.991               1.00   \n",
       "\n",
       "        DEPTH_RIMFLOOR_TOPOG  CRATER_NAME_n  MORPHOLOGY_EJECTA_1_n  \\\n",
       "0                       0.22              0                      0   \n",
       "1                       1.97            452                    118   \n",
       "2                       0.09              0                      0   \n",
       "3                       0.13              0                      0   \n",
       "4                       0.11              0                      0   \n",
       "...                      ...            ...                    ...   \n",
       "384338                  0.00              0                      0   \n",
       "384339                  0.00              0                      0   \n",
       "384340                  0.00              0                      0   \n",
       "384341                  0.00              0                      0   \n",
       "384342                  0.00              0                      0   \n",
       "\n",
       "        MORPHOLOGY_EJECTA_2_n  MORPHOLOGY_EJECTA_3_n  \n",
       "0                           0                      0  \n",
       "1                          28                      0  \n",
       "2                           0                      0  \n",
       "3                           0                      0  \n",
       "4                           0                      0  \n",
       "...                       ...                    ...  \n",
       "384338                      0                      0  \n",
       "384339                      0                      0  \n",
       "384340                      0                      0  \n",
       "384341                      0                      0  \n",
       "384342                      0                      0  \n",
       "\n",
       "[384343 rows x 8 columns]"
      ]
     },
     "execution_count": 14,
     "metadata": {},
     "output_type": "execute_result"
    }
   ],
   "source": [
    "x"
   ]
  },
  {
   "cell_type": "code",
   "execution_count": 15,
   "id": "fbae2373",
   "metadata": {
    "execution": {
     "iopub.execute_input": "2022-08-14T10:59:06.498129Z",
     "iopub.status.busy": "2022-08-14T10:59:06.497237Z",
     "iopub.status.idle": "2022-08-14T10:59:06.626490Z",
     "shell.execute_reply": "2022-08-14T10:59:06.625530Z"
    },
    "papermill": {
     "duration": 0.140439,
     "end_time": "2022-08-14T10:59:06.629020",
     "exception": false,
     "start_time": "2022-08-14T10:59:06.488581",
     "status": "completed"
    },
    "tags": []
   },
   "outputs": [],
   "source": [
    "from sklearn.model_selection import train_test_split\n",
    "x_train,x_test,y_train,y_test = train_test_split(x,y,test_size=0.3)"
   ]
  },
  {
   "cell_type": "code",
   "execution_count": 16,
   "id": "fb9e16db",
   "metadata": {
    "execution": {
     "iopub.execute_input": "2022-08-14T10:59:06.647020Z",
     "iopub.status.busy": "2022-08-14T10:59:06.646615Z",
     "iopub.status.idle": "2022-08-14T10:59:06.792388Z",
     "shell.execute_reply": "2022-08-14T10:59:06.791277Z"
    },
    "papermill": {
     "duration": 0.157894,
     "end_time": "2022-08-14T10:59:06.795318",
     "exception": false,
     "start_time": "2022-08-14T10:59:06.637424",
     "status": "completed"
    },
    "tags": []
   },
   "outputs": [],
   "source": [
    "from sklearn import tree\n",
    "l_model = tree.DecisionTreeClassifier()"
   ]
  },
  {
   "cell_type": "code",
   "execution_count": 17,
   "id": "c237718a",
   "metadata": {
    "execution": {
     "iopub.execute_input": "2022-08-14T10:59:06.813566Z",
     "iopub.status.busy": "2022-08-14T10:59:06.812741Z",
     "iopub.status.idle": "2022-08-14T10:59:07.724550Z",
     "shell.execute_reply": "2022-08-14T10:59:07.723637Z"
    },
    "papermill": {
     "duration": 0.924135,
     "end_time": "2022-08-14T10:59:07.727745",
     "exception": false,
     "start_time": "2022-08-14T10:59:06.803610",
     "status": "completed"
    },
    "tags": []
   },
   "outputs": [
    {
     "data": {
      "text/plain": [
       "DecisionTreeClassifier()"
      ]
     },
     "execution_count": 17,
     "metadata": {},
     "output_type": "execute_result"
    }
   ],
   "source": [
    "l_model.fit(x_train,y_train)"
   ]
  },
  {
   "cell_type": "code",
   "execution_count": 18,
   "id": "0fcd3e24",
   "metadata": {
    "execution": {
     "iopub.execute_input": "2022-08-14T10:59:07.750421Z",
     "iopub.status.busy": "2022-08-14T10:59:07.749717Z",
     "iopub.status.idle": "2022-08-14T10:59:07.773789Z",
     "shell.execute_reply": "2022-08-14T10:59:07.772583Z"
    },
    "papermill": {
     "duration": 0.038769,
     "end_time": "2022-08-14T10:59:07.776314",
     "exception": false,
     "start_time": "2022-08-14T10:59:07.737545",
     "status": "completed"
    },
    "tags": []
   },
   "outputs": [
    {
     "data": {
      "text/plain": [
       "0.9989679366538599"
      ]
     },
     "execution_count": 18,
     "metadata": {},
     "output_type": "execute_result"
    }
   ],
   "source": [
    "l_model.score(x_test,y_test)"
   ]
  },
  {
   "cell_type": "code",
   "execution_count": 19,
   "id": "8c696771",
   "metadata": {
    "execution": {
     "iopub.execute_input": "2022-08-14T10:59:07.794706Z",
     "iopub.status.busy": "2022-08-14T10:59:07.794344Z",
     "iopub.status.idle": "2022-08-14T10:59:26.311334Z",
     "shell.execute_reply": "2022-08-14T10:59:26.309363Z"
    },
    "papermill": {
     "duration": 18.528835,
     "end_time": "2022-08-14T10:59:26.313794",
     "exception": false,
     "start_time": "2022-08-14T10:59:07.784959",
     "status": "completed"
    },
    "tags": []
   },
   "outputs": [
    {
     "data": {
      "text/plain": [
       "0.9994015767152633"
      ]
     },
     "execution_count": 19,
     "metadata": {},
     "output_type": "execute_result"
    }
   ],
   "source": [
    "from sklearn.ensemble import RandomForestClassifier\n",
    "r_model = RandomForestClassifier()\n",
    "r_model.fit(x_train,y_train)\n",
    "r_model.score(x_test,y_test)"
   ]
  },
  {
   "cell_type": "code",
   "execution_count": 20,
   "id": "f4b11eaa",
   "metadata": {
    "execution": {
     "iopub.execute_input": "2022-08-14T10:59:26.332669Z",
     "iopub.status.busy": "2022-08-14T10:59:26.331618Z",
     "iopub.status.idle": "2022-08-14T10:59:43.729014Z",
     "shell.execute_reply": "2022-08-14T10:59:43.728221Z"
    },
    "papermill": {
     "duration": 17.408714,
     "end_time": "2022-08-14T10:59:43.731026",
     "exception": false,
     "start_time": "2022-08-14T10:59:26.322312",
     "status": "completed"
    },
    "tags": []
   },
   "outputs": [
    {
     "data": {
      "text/plain": [
       "0.9981353477359652"
      ]
     },
     "execution_count": 20,
     "metadata": {},
     "output_type": "execute_result"
    }
   ],
   "source": [
    "from sklearn.neighbors import KNeighborsClassifier\n",
    "knn = KNeighborsClassifier(n_neighbors=6)\n",
    "knn.fit(x_train, y_train)\n",
    "knn.score(x_test,y_test)"
   ]
  },
  {
   "cell_type": "code",
   "execution_count": 21,
   "id": "a816e22c",
   "metadata": {
    "execution": {
     "iopub.execute_input": "2022-08-14T10:59:43.750293Z",
     "iopub.status.busy": "2022-08-14T10:59:43.749700Z",
     "iopub.status.idle": "2022-08-14T11:00:00.783965Z",
     "shell.execute_reply": "2022-08-14T11:00:00.782885Z"
    },
    "papermill": {
     "duration": 17.046247,
     "end_time": "2022-08-14T11:00:00.786239",
     "exception": false,
     "start_time": "2022-08-14T10:59:43.739992",
     "status": "completed"
    },
    "tags": []
   },
   "outputs": [
    {
     "data": {
      "text/plain": [
       "array([[109407,      2,      1,      1,      0,      0],\n",
       "       [     5,   4677,     10,      5,      0,      0],\n",
       "       [    58,     24,    872,      4,      1,      0],\n",
       "       [    14,     28,     41,    132,      1,      0],\n",
       "       [     2,      2,      1,     14,      0,      0],\n",
       "       [     0,      0,      0,      1,      0,      0]])"
      ]
     },
     "execution_count": 21,
     "metadata": {},
     "output_type": "execute_result"
    }
   ],
   "source": [
    "from sklearn.metrics import confusion_matrix\n",
    "y_pred = knn.predict(x_test)\n",
    "cm = confusion_matrix(y_test, y_pred)\n",
    "cm"
   ]
  },
  {
   "cell_type": "code",
   "execution_count": 22,
   "id": "e8296c77",
   "metadata": {
    "execution": {
     "iopub.execute_input": "2022-08-14T11:00:00.805020Z",
     "iopub.status.busy": "2022-08-14T11:00:00.804629Z",
     "iopub.status.idle": "2022-08-14T11:00:01.325098Z",
     "shell.execute_reply": "2022-08-14T11:00:01.323965Z"
    },
    "papermill": {
     "duration": 0.532312,
     "end_time": "2022-08-14T11:00:01.327367",
     "exception": false,
     "start_time": "2022-08-14T11:00:00.795055",
     "status": "completed"
    },
    "tags": []
   },
   "outputs": [
    {
     "data": {
      "text/plain": [
       "Text(42.0, 0.5, 'Truth')"
      ]
     },
     "execution_count": 22,
     "metadata": {},
     "output_type": "execute_result"
    },
    {
     "data": {
      "image/png": "[encoded data removed]",
      "text/plain": [
       "<Figure size 504x360 with 2 Axes>"
      ]
     },
     "metadata": {
      "needs_background": "light"
     },
     "output_type": "display_data"
    }
   ],
   "source": [
    "%matplotlib inline\n",
    "import matplotlib.pyplot as plt\n",
    "import seaborn as sn\n",
    "plt.figure(figsize=(7,5))\n",
    "sn.heatmap(cm, annot=True)\n",
    "plt.xlabel('Predicted')\n",
    "plt.ylabel('Truth')"
   ]
  },
  {
   "cell_type": "code",
   "execution_count": 23,
   "id": "e82816cf",
   "metadata": {
    "execution": {
     "iopub.execute_input": "2022-08-14T11:00:01.347571Z",
     "iopub.status.busy": "2022-08-14T11:00:01.346718Z",
     "iopub.status.idle": "2022-08-14T11:01:13.548363Z",
     "shell.execute_reply": "2022-08-14T11:01:13.545971Z"
    },
    "papermill": {
     "duration": 72.214954,
     "end_time": "2022-08-14T11:01:13.551483",
     "exception": false,
     "start_time": "2022-08-14T11:00:01.336529",
     "status": "completed"
    },
    "tags": []
   },
   "outputs": [
    {
     "name": "stdout",
     "output_type": "stream",
     "text": [
      "Collecting git+https://github.com/pycaret/pycaret.git\r\n",
      "  Cloning https://github.com/pycaret/pycaret.git to /tmp/pip-req-build-4qfqcmkh\r\n",
      "  Running command git clone --filter=blob:none --quiet https://github.com/pycaret/pycaret.git /tmp/pip-req-build-4qfqcmkh\r\n",
      "  Resolved https://github.com/pycaret/pycaret.git to commit f93e7087a671458a20bed6dd3a8bcca891034cfc\r\n",
      "  Preparing metadata (setup.py) ... \u001b[?25l-\b \bdone\r\n",
      "\u001b[?25hRequirement already satisfied: ipython>=5.5.0 in /opt/conda/lib/python3.7/site-packages (from pycaret==3.0.0rc3) (7.33.0)\r\n",
      "Requirement already satisfied: ipywidgets>=7.6.5 in /opt/conda/lib/python3.7/site-packages (from pycaret==3.0.0rc3) (7.7.1)\r\n",
      "Requirement already satisfied: tqdm>=4.62.0 in /opt/conda/lib/python3.7/site-packages (from pycaret==3.0.0rc3) (4.64.0)\r\n",
      "Requirement already satisfied: numpy<1.23,>=1.21 in /opt/conda/lib/python3.7/site-packages (from pycaret==3.0.0rc3) (1.21.6)\r\n",
      "Requirement already satisfied: pandas<1.5.0,>=1.3.0 in /opt/conda/lib/python3.7/site-packages (from pycaret==3.0.0rc3) (1.3.5)\r\n",
      "Requirement already satisfied: jinja2>=1.2 in /opt/conda/lib/python3.7/site-packages (from pycaret==3.0.0rc3) (3.1.2)\r\n",
      "Requirement already satisfied: scipy<1.9.0 in /opt/conda/lib/python3.7/site-packages (from pycaret==3.0.0rc3) (1.7.3)\r\n",
      "Collecting joblib>=1.1.0\r\n",
      "  Downloading joblib-1.1.0-py2.py3-none-any.whl (306 kB)\r\n",
      "\u001b[2K     \u001b[90m━━━━━━━━━━━━━━━━━━━━━━━━━━━━━━━━━━━━━━━\u001b[0m \u001b[32m307.0/307.0 kB\u001b[0m \u001b[31m1.1 MB/s\u001b[0m eta \u001b[36m0:00:00\u001b[0m\r\n",
      "\u001b[?25hRequirement already satisfied: scikit-learn>=1.0 in /opt/conda/lib/python3.7/site-packages (from pycaret==3.0.0rc3) (1.0.2)\r\n",
      "Collecting pyod>=0.9.8\r\n",
      "  Downloading pyod-1.0.4.tar.gz (134 kB)\r\n",
      "\u001b[2K     \u001b[90m━━━━━━━━━━━━━━━━━━━━━━━━━━━━━━━━━━━━━━━\u001b[0m \u001b[32m134.3/134.3 kB\u001b[0m \u001b[31m5.8 MB/s\u001b[0m eta \u001b[36m0:00:00\u001b[0m\r\n",
      "\u001b[?25h  Preparing metadata (setup.py) ... \u001b[?25l-\b \bdone\r\n",
      "\u001b[?25hRequirement already satisfied: imbalanced-learn>=0.8.1 in /opt/conda/lib/python3.7/site-packages (from pycaret==3.0.0rc3) (0.9.0)\r\n",
      "Requirement already satisfied: category-encoders>=2.4.0 in /opt/conda/lib/python3.7/site-packages (from pycaret==3.0.0rc3) (2.5.0)\r\n",
      "Requirement already satisfied: lightgbm>=3.0.0 in /opt/conda/lib/python3.7/site-packages (from pycaret==3.0.0rc3) (3.3.2)\r\n",
      "Requirement already satisfied: numba~=0.55.0 in /opt/conda/lib/python3.7/site-packages (from pycaret==3.0.0rc3) (0.55.2)\r\n",
      "Requirement already satisfied: requests>=2.27.1 in /opt/conda/lib/python3.7/site-packages (from pycaret==3.0.0rc3) (2.28.1)\r\n",
      "Requirement already satisfied: psutil>=5.9.0 in /opt/conda/lib/python3.7/site-packages (from pycaret==3.0.0rc3) (5.9.1)\r\n",
      "Requirement already satisfied: markupsafe>=2.0.1 in /opt/conda/lib/python3.7/site-packages (from pycaret==3.0.0rc3) (2.0.1)\r\n",
      "Requirement already satisfied: importlib_metadata in /opt/conda/lib/python3.7/site-packages (from pycaret==3.0.0rc3) (4.12.0)\r\n",
      "Requirement already satisfied: matplotlib>=3.3.0 in /opt/conda/lib/python3.7/site-packages (from pycaret==3.0.0rc3) (3.5.2)\r\n",
      "Requirement already satisfied: scikit-plot>=0.3.7 in /opt/conda/lib/python3.7/site-packages (from pycaret==3.0.0rc3) (0.3.7)\r\n",
      "Requirement already satisfied: yellowbrick>=1.4 in /opt/conda/lib/python3.7/site-packages (from pycaret==3.0.0rc3) (1.4)\r\n",
      "Requirement already satisfied: plotly>=5.0.0 in /opt/conda/lib/python3.7/site-packages (from pycaret==3.0.0rc3) (5.9.0)\r\n",
      "Collecting kaleido>=0.2.1\r\n",
      "  Downloading kaleido-0.2.1-py2.py3-none-manylinux1_x86_64.whl (79.9 MB)\r\n",
      "\u001b[2K     \u001b[90m━━━━━━━━━━━━━━━━━━━━━━━━━━━━━━━━━━━━━━━━\u001b[0m \u001b[32m79.9/79.9 MB\u001b[0m \u001b[31m11.2 MB/s\u001b[0m eta \u001b[36m0:00:00\u001b[0m\r\n",
      "\u001b[?25hCollecting schemdraw>=0.14\r\n",
      "  Downloading schemdraw-0.15-py3-none-any.whl (106 kB)\r\n",
      "\u001b[2K     \u001b[90m━━━━━━━━━━━━━━━━━━━━━━━━━━━━━━━━━━━━━━━\u001b[0m \u001b[32m106.8/106.8 kB\u001b[0m \u001b[31m9.6 MB/s\u001b[0m eta \u001b[36m0:00:00\u001b[0m\r\n",
      "\u001b[?25hCollecting plotly-resampler>=0.7.2.2\r\n",
      "  Downloading plotly-resampler-0.8.0.tar.gz (43 kB)\r\n",
      "\u001b[2K     \u001b[90m━━━━━━━━━━━━━━━━━━━━━━━━━━━━━━━━━━━━━━━━\u001b[0m \u001b[32m44.0/44.0 kB\u001b[0m \u001b[31m3.2 MB/s\u001b[0m eta \u001b[36m0:00:00\u001b[0m\r\n",
      "\u001b[?25h  Installing build dependencies ... \u001b[?25l-\b \b\\\b \b|\b \b/\b \b-\b \b\\\b \b|\b \b/\b \b-\b \b\\\b \b|\b \b/\b \b-\b \bdone\r\n",
      "\u001b[?25h  Getting requirements to build wheel ... \u001b[?25ldone\r\n",
      "\u001b[?25h  Preparing metadata (pyproject.toml) ... \u001b[?25ldone\r\n",
      "\u001b[?25hRequirement already satisfied: statsmodels>=0.12.1 in /opt/conda/lib/python3.7/site-packages (from pycaret==3.0.0rc3) (0.13.2)\r\n",
      "Collecting sktime~=0.13.1\r\n",
      "  Downloading sktime-0.13.1-py3-none-any.whl (6.9 MB)\r\n",
      "\u001b[2K     \u001b[90m━━━━━━━━━━━━━━━━━━━━━━━━━━━━━━━━━━━━━━━━\u001b[0m \u001b[32m6.9/6.9 MB\u001b[0m \u001b[31m30.7 MB/s\u001b[0m eta \u001b[36m0:00:00\u001b[0m\r\n",
      "\u001b[?25hCollecting tbats>=1.1.0\r\n",
      "  Downloading tbats-1.1.0-py3-none-any.whl (43 kB)\r\n",
      "\u001b[2K     \u001b[90m━━━━━━━━━━━━━━━━━━━━━━━━━━━━━━━━━━━━━━━━\u001b[0m \u001b[32m43.8/43.8 kB\u001b[0m \u001b[31m3.5 MB/s\u001b[0m eta \u001b[36m0:00:00\u001b[0m\r\n",
      "\u001b[?25hCollecting pmdarima>=1.8.0\r\n",
      "  Downloading pmdarima-1.8.5-cp37-cp37m-manylinux_2_17_x86_64.manylinux2014_x86_64.manylinux_2_24_x86_64.whl (1.4 MB)\r\n",
      "\u001b[2K     \u001b[90m━━━━━━━━━━━━━━━━━━━━━━━━━━━━━━━━━━━━━━━━\u001b[0m \u001b[32m1.4/1.4 MB\u001b[0m \u001b[31m49.9 MB/s\u001b[0m eta \u001b[36m0:00:00\u001b[0m\r\n",
      "\u001b[?25hRequirement already satisfied: patsy>=0.5.1 in /opt/conda/lib/python3.7/site-packages (from category-encoders>=2.4.0->pycaret==3.0.0rc3) (0.5.2)\r\n",
      "Requirement already satisfied: threadpoolctl>=2.0.0 in /opt/conda/lib/python3.7/site-packages (from imbalanced-learn>=0.8.1->pycaret==3.0.0rc3) (3.1.0)\r\n",
      "Requirement already satisfied: pickleshare in /opt/conda/lib/python3.7/site-packages (from ipython>=5.5.0->pycaret==3.0.0rc3) (0.7.5)\r\n",
      "Requirement already satisfied: jedi>=0.16 in /opt/conda/lib/python3.7/site-packages (from ipython>=5.5.0->pycaret==3.0.0rc3) (0.18.1)\r\n",
      "Requirement already satisfied: backcall in /opt/conda/lib/python3.7/site-packages (from ipython>=5.5.0->pycaret==3.0.0rc3) (0.2.0)\r\n",
      "Requirement already satisfied: setuptools>=18.5 in /opt/conda/lib/python3.7/site-packages (from ipython>=5.5.0->pycaret==3.0.0rc3) (59.8.0)\r\n",
      "Requirement already satisfied: decorator in /opt/conda/lib/python3.7/site-packages (from ipython>=5.5.0->pycaret==3.0.0rc3) (5.1.1)\r\n",
      "Requirement already satisfied: pygments in /opt/conda/lib/python3.7/site-packages (from ipython>=5.5.0->pycaret==3.0.0rc3) (2.12.0)\r\n",
      "Requirement already satisfied: prompt-toolkit!=3.0.0,!=3.0.1,<3.1.0,>=2.0.0 in /opt/conda/lib/python3.7/site-packages (from ipython>=5.5.0->pycaret==3.0.0rc3) (3.0.30)\r\n",
      "Requirement already satisfied: pexpect>4.3 in /opt/conda/lib/python3.7/site-packages (from ipython>=5.5.0->pycaret==3.0.0rc3) (4.8.0)\r\n",
      "Requirement already satisfied: traitlets>=4.2 in /opt/conda/lib/python3.7/site-packages (from ipython>=5.5.0->pycaret==3.0.0rc3) (5.3.0)\r\n",
      "Requirement already satisfied: matplotlib-inline in /opt/conda/lib/python3.7/site-packages (from ipython>=5.5.0->pycaret==3.0.0rc3) (0.1.3)\r\n",
      "Requirement already satisfied: jupyterlab-widgets>=1.0.0 in /opt/conda/lib/python3.7/site-packages (from ipywidgets>=7.6.5->pycaret==3.0.0rc3) (1.1.1)\r\n",
      "Requirement already satisfied: ipython-genutils~=0.2.0 in /opt/conda/lib/python3.7/site-packages (from ipywidgets>=7.6.5->pycaret==3.0.0rc3) (0.2.0)\r\n",
      "Requirement already satisfied: ipykernel>=4.5.1 in /opt/conda/lib/python3.7/site-packages (from ipywidgets>=7.6.5->pycaret==3.0.0rc3) (6.15.0)\r\n",
      "Requirement already satisfied: widgetsnbextension~=3.6.0 in /opt/conda/lib/python3.7/site-packages (from ipywidgets>=7.6.5->pycaret==3.0.0rc3) (3.6.1)\r\n",
      "Requirement already satisfied: wheel in /opt/conda/lib/python3.7/site-packages (from lightgbm>=3.0.0->pycaret==3.0.0rc3) (0.37.1)\r\n",
      "Requirement already satisfied: fonttools>=4.22.0 in /opt/conda/lib/python3.7/site-packages (from matplotlib>=3.3.0->pycaret==3.0.0rc3) (4.33.3)\r\n",
      "Requirement already satisfied: python-dateutil>=2.7 in /opt/conda/lib/python3.7/site-packages (from matplotlib>=3.3.0->pycaret==3.0.0rc3) (2.8.2)\r\n",
      "Requirement already satisfied: cycler>=0.10 in /opt/conda/lib/python3.7/site-packages (from matplotlib>=3.3.0->pycaret==3.0.0rc3) (0.11.0)\r\n",
      "Requirement already satisfied: kiwisolver>=1.0.1 in /opt/conda/lib/python3.7/site-packages (from matplotlib>=3.3.0->pycaret==3.0.0rc3) (1.4.3)\r\n",
      "Requirement already satisfied: packaging>=20.0 in /opt/conda/lib/python3.7/site-packages (from matplotlib>=3.3.0->pycaret==3.0.0rc3) (21.3)\r\n",
      "Requirement already satisfied: pyparsing>=2.2.1 in /opt/conda/lib/python3.7/site-packages (from matplotlib>=3.3.0->pycaret==3.0.0rc3) (3.0.9)\r\n",
      "Requirement already satisfied: pillow>=6.2.0 in /opt/conda/lib/python3.7/site-packages (from matplotlib>=3.3.0->pycaret==3.0.0rc3) (9.1.1)\r\n",
      "Requirement already satisfied: llvmlite<0.39,>=0.38.0rc1 in /opt/conda/lib/python3.7/site-packages (from numba~=0.55.0->pycaret==3.0.0rc3) (0.38.1)\r\n",
      "Requirement already satisfied: pytz>=2017.3 in /opt/conda/lib/python3.7/site-packages (from pandas<1.5.0,>=1.3.0->pycaret==3.0.0rc3) (2022.1)\r\n",
      "Requirement already satisfied: tenacity>=6.2.0 in /opt/conda/lib/python3.7/site-packages (from plotly>=5.0.0->pycaret==3.0.0rc3) (8.0.1)\r\n",
      "Collecting jupyter-dash>=0.4.2\r\n",
      "  Downloading jupyter_dash-0.4.2-py3-none-any.whl (23 kB)\r\n",
      "Collecting dash<3.0.0,>=2.2.0\r\n",
      "  Downloading dash-2.6.1-py3-none-any.whl (9.9 MB)\r\n",
      "\u001b[2K     \u001b[90m━━━━━━━━━━━━━━━━━━━━━━━━━━━━━━━━━━━━━━━━\u001b[0m \u001b[32m9.9/9.9 MB\u001b[0m \u001b[31m30.8 MB/s\u001b[0m eta \u001b[36m0:00:00\u001b[0m\r\n",
      "\u001b[?25hCollecting Flask-Cors<4.0.0,>=3.0.10\r\n",
      "  Downloading Flask_Cors-3.0.10-py2.py3-none-any.whl (14 kB)\r\n",
      "Collecting orjson<4.0.0,>=3.7.7\r\n",
      "  Downloading orjson-3.7.11-cp37-cp37m-manylinux_2_28_x86_64.whl (148 kB)\r\n",
      "\u001b[2K     \u001b[90m━━━━━━━━━━━━━━━━━━━━━━━━━━━━━━━━━━━━━━\u001b[0m \u001b[32m148.1/148.1 kB\u001b[0m \u001b[31m11.1 MB/s\u001b[0m eta \u001b[36m0:00:00\u001b[0m\r\n",
      "\u001b[?25hCollecting trace-updater>=0.0.8\r\n",
      "  Downloading trace_updater-0.0.8-py3-none-any.whl (185 kB)\r\n",
      "\u001b[2K     \u001b[90m━━━━━━━━━━━━━━━━━━━━━━━━━━━━━━━━━━━━━━\u001b[0m \u001b[32m185.4/185.4 kB\u001b[0m \u001b[31m15.1 MB/s\u001b[0m eta \u001b[36m0:00:00\u001b[0m\r\n",
      "\u001b[?25hRequirement already satisfied: urllib3 in /opt/conda/lib/python3.7/site-packages (from pmdarima>=1.8.0->pycaret==3.0.0rc3) (1.26.9)\r\n",
      "Requirement already satisfied: Cython!=0.29.18,>=0.29 in /opt/conda/lib/python3.7/site-packages (from pmdarima>=1.8.0->pycaret==3.0.0rc3) (0.29.30)\r\n",
      "Requirement already satisfied: six in /opt/conda/lib/python3.7/site-packages (from pyod>=0.9.8->pycaret==3.0.0rc3) (1.16.0)\r\n",
      "Requirement already satisfied: certifi>=2017.4.17 in /opt/conda/lib/python3.7/site-packages (from requests>=2.27.1->pycaret==3.0.0rc3) (2022.6.15)\r\n",
      "Requirement already satisfied: idna<4,>=2.5 in /opt/conda/lib/python3.7/site-packages (from requests>=2.27.1->pycaret==3.0.0rc3) (3.3)\r\n",
      "Requirement already satisfied: charset-normalizer<3,>=2 in /opt/conda/lib/python3.7/site-packages (from requests>=2.27.1->pycaret==3.0.0rc3) (2.1.0)\r\n",
      "Requirement already satisfied: typing-extensions in /opt/conda/lib/python3.7/site-packages (from schemdraw>=0.14->pycaret==3.0.0rc3) (4.1.1)\r\n",
      "Collecting deprecated>=1.2.13\r\n",
      "  Downloading Deprecated-1.2.13-py2.py3-none-any.whl (9.6 kB)\r\n",
      "Requirement already satisfied: zipp>=0.5 in /opt/conda/lib/python3.7/site-packages (from importlib_metadata->pycaret==3.0.0rc3) (3.8.0)\r\n",
      "Requirement already satisfied: Flask>=1.0.4 in /opt/conda/lib/python3.7/site-packages (from dash<3.0.0,>=2.2.0->plotly-resampler>=0.7.2.2->pycaret==3.0.0rc3) (2.1.3)\r\n",
      "Collecting dash-table==5.0.0\r\n",
      "  Downloading dash_table-5.0.0-py3-none-any.whl (3.9 kB)\r\n",
      "Collecting dash-html-components==2.0.0\r\n",
      "  Downloading dash_html_components-2.0.0-py3-none-any.whl (4.1 kB)\r\n",
      "Collecting flask-compress\r\n",
      "  Downloading Flask_Compress-1.12-py3-none-any.whl (7.9 kB)\r\n",
      "Collecting dash-core-components==2.0.0\r\n",
      "  Downloading dash_core_components-2.0.0-py3-none-any.whl (3.8 kB)\r\n",
      "Requirement already satisfied: wrapt<2,>=1.10 in /opt/conda/lib/python3.7/site-packages (from deprecated>=1.2.13->sktime~=0.13.1->pycaret==3.0.0rc3) (1.14.1)\r\n",
      "Requirement already satisfied: tornado>=6.1 in /opt/conda/lib/python3.7/site-packages (from ipykernel>=4.5.1->ipywidgets>=7.6.5->pycaret==3.0.0rc3) (6.1)\r\n",
      "Requirement already satisfied: jupyter-client>=6.1.12 in /opt/conda/lib/python3.7/site-packages (from ipykernel>=4.5.1->ipywidgets>=7.6.5->pycaret==3.0.0rc3) (7.3.4)\r\n",
      "Requirement already satisfied: pyzmq>=17 in /opt/conda/lib/python3.7/site-packages (from ipykernel>=4.5.1->ipywidgets>=7.6.5->pycaret==3.0.0rc3) (23.2.0)\r\n",
      "Requirement already satisfied: nest-asyncio in /opt/conda/lib/python3.7/site-packages (from ipykernel>=4.5.1->ipywidgets>=7.6.5->pycaret==3.0.0rc3) (1.5.5)\r\n",
      "Requirement already satisfied: debugpy>=1.0 in /opt/conda/lib/python3.7/site-packages (from ipykernel>=4.5.1->ipywidgets>=7.6.5->pycaret==3.0.0rc3) (1.6.0)\r\n",
      "Requirement already satisfied: parso<0.9.0,>=0.8.0 in /opt/conda/lib/python3.7/site-packages (from jedi>=0.16->ipython>=5.5.0->pycaret==3.0.0rc3) (0.8.3)\r\n",
      "Collecting ansi2html\r\n",
      "  Downloading ansi2html-1.8.0-py3-none-any.whl (16 kB)\r\n",
      "Requirement already satisfied: retrying in /opt/conda/lib/python3.7/site-packages (from jupyter-dash>=0.4.2->plotly-resampler>=0.7.2.2->pycaret==3.0.0rc3) (1.3.3)\r\n",
      "Requirement already satisfied: ptyprocess>=0.5 in /opt/conda/lib/python3.7/site-packages (from pexpect>4.3->ipython>=5.5.0->pycaret==3.0.0rc3) (0.7.0)\r\n",
      "Requirement already satisfied: wcwidth in /opt/conda/lib/python3.7/site-packages (from prompt-toolkit!=3.0.0,!=3.0.1,<3.1.0,>=2.0.0->ipython>=5.5.0->pycaret==3.0.0rc3) (0.2.5)\r\n",
      "Requirement already satisfied: notebook>=4.4.1 in /opt/conda/lib/python3.7/site-packages (from widgetsnbextension~=3.6.0->ipywidgets>=7.6.5->pycaret==3.0.0rc3) (6.4.12)\r\n",
      "Requirement already satisfied: click>=8.0 in /opt/conda/lib/python3.7/site-packages (from Flask>=1.0.4->dash<3.0.0,>=2.2.0->plotly-resampler>=0.7.2.2->pycaret==3.0.0rc3) (8.0.4)\r\n",
      "Requirement already satisfied: itsdangerous>=2.0 in /opt/conda/lib/python3.7/site-packages (from Flask>=1.0.4->dash<3.0.0,>=2.2.0->plotly-resampler>=0.7.2.2->pycaret==3.0.0rc3) (2.1.2)\r\n",
      "Requirement already satisfied: Werkzeug>=2.0 in /opt/conda/lib/python3.7/site-packages (from Flask>=1.0.4->dash<3.0.0,>=2.2.0->plotly-resampler>=0.7.2.2->pycaret==3.0.0rc3) (2.1.2)\r\n",
      "Requirement already satisfied: entrypoints in /opt/conda/lib/python3.7/site-packages (from jupyter-client>=6.1.12->ipykernel>=4.5.1->ipywidgets>=7.6.5->pycaret==3.0.0rc3) (0.4)\r\n",
      "Requirement already satisfied: jupyter-core>=4.9.2 in /opt/conda/lib/python3.7/site-packages (from jupyter-client>=6.1.12->ipykernel>=4.5.1->ipywidgets>=7.6.5->pycaret==3.0.0rc3) (4.10.0)\r\n",
      "Requirement already satisfied: Send2Trash>=1.8.0 in /opt/conda/lib/python3.7/site-packages (from notebook>=4.4.1->widgetsnbextension~=3.6.0->ipywidgets>=7.6.5->pycaret==3.0.0rc3) (1.8.0)\r\n",
      "Requirement already satisfied: prometheus-client in /opt/conda/lib/python3.7/site-packages (from notebook>=4.4.1->widgetsnbextension~=3.6.0->ipywidgets>=7.6.5->pycaret==3.0.0rc3) (0.14.1)\r\n",
      "Requirement already satisfied: nbconvert>=5 in /opt/conda/lib/python3.7/site-packages (from notebook>=4.4.1->widgetsnbextension~=3.6.0->ipywidgets>=7.6.5->pycaret==3.0.0rc3) (6.4.5)\r\n",
      "Requirement already satisfied: terminado>=0.8.3 in /opt/conda/lib/python3.7/site-packages (from notebook>=4.4.1->widgetsnbextension~=3.6.0->ipywidgets>=7.6.5->pycaret==3.0.0rc3) (0.15.0)\r\n",
      "Requirement already satisfied: argon2-cffi in /opt/conda/lib/python3.7/site-packages (from notebook>=4.4.1->widgetsnbextension~=3.6.0->ipywidgets>=7.6.5->pycaret==3.0.0rc3) (21.3.0)\r\n",
      "Requirement already satisfied: nbformat in /opt/conda/lib/python3.7/site-packages (from notebook>=4.4.1->widgetsnbextension~=3.6.0->ipywidgets>=7.6.5->pycaret==3.0.0rc3) (5.4.0)\r\n",
      "Collecting brotli\r\n",
      "  Downloading Brotli-1.0.9-cp37-cp37m-manylinux1_x86_64.whl (357 kB)\r\n",
      "\u001b[2K     \u001b[90m━━━━━━━━━━━━━━━━━━━━━━━━━━━━━━━━━━━━━━\u001b[0m \u001b[32m357.2/357.2 kB\u001b[0m \u001b[31m25.6 MB/s\u001b[0m eta \u001b[36m0:00:00\u001b[0m\r\n",
      "\u001b[?25hRequirement already satisfied: pandocfilters>=1.4.1 in /opt/conda/lib/python3.7/site-packages (from nbconvert>=5->notebook>=4.4.1->widgetsnbextension~=3.6.0->ipywidgets>=7.6.5->pycaret==3.0.0rc3) (1.5.0)\r\n",
      "Requirement already satisfied: mistune<2,>=0.8.1 in /opt/conda/lib/python3.7/site-packages (from nbconvert>=5->notebook>=4.4.1->widgetsnbextension~=3.6.0->ipywidgets>=7.6.5->pycaret==3.0.0rc3) (0.8.4)\r\n",
      "Requirement already satisfied: testpath in /opt/conda/lib/python3.7/site-packages (from nbconvert>=5->notebook>=4.4.1->widgetsnbextension~=3.6.0->ipywidgets>=7.6.5->pycaret==3.0.0rc3) (0.6.0)\r\n",
      "Requirement already satisfied: jupyterlab-pygments in /opt/conda/lib/python3.7/site-packages (from nbconvert>=5->notebook>=4.4.1->widgetsnbextension~=3.6.0->ipywidgets>=7.6.5->pycaret==3.0.0rc3) (0.2.2)\r\n",
      "Requirement already satisfied: defusedxml in /opt/conda/lib/python3.7/site-packages (from nbconvert>=5->notebook>=4.4.1->widgetsnbextension~=3.6.0->ipywidgets>=7.6.5->pycaret==3.0.0rc3) (0.7.1)\r\n",
      "Requirement already satisfied: nbclient<0.6.0,>=0.5.0 in /opt/conda/lib/python3.7/site-packages (from nbconvert>=5->notebook>=4.4.1->widgetsnbextension~=3.6.0->ipywidgets>=7.6.5->pycaret==3.0.0rc3) (0.5.13)\r\n",
      "Requirement already satisfied: beautifulsoup4 in /opt/conda/lib/python3.7/site-packages (from nbconvert>=5->notebook>=4.4.1->widgetsnbextension~=3.6.0->ipywidgets>=7.6.5->pycaret==3.0.0rc3) (4.11.1)\r\n",
      "Requirement already satisfied: bleach in /opt/conda/lib/python3.7/site-packages (from nbconvert>=5->notebook>=4.4.1->widgetsnbextension~=3.6.0->ipywidgets>=7.6.5->pycaret==3.0.0rc3) (5.0.1)\r\n",
      "Requirement already satisfied: jsonschema>=2.6 in /opt/conda/lib/python3.7/site-packages (from nbformat->notebook>=4.4.1->widgetsnbextension~=3.6.0->ipywidgets>=7.6.5->pycaret==3.0.0rc3) (4.6.1)\r\n",
      "Requirement already satisfied: fastjsonschema in /opt/conda/lib/python3.7/site-packages (from nbformat->notebook>=4.4.1->widgetsnbextension~=3.6.0->ipywidgets>=7.6.5->pycaret==3.0.0rc3) (2.15.3)\r\n",
      "Requirement already satisfied: argon2-cffi-bindings in /opt/conda/lib/python3.7/site-packages (from argon2-cffi->notebook>=4.4.1->widgetsnbextension~=3.6.0->ipywidgets>=7.6.5->pycaret==3.0.0rc3) (21.2.0)\r\n",
      "Requirement already satisfied: attrs>=17.4.0 in /opt/conda/lib/python3.7/site-packages (from jsonschema>=2.6->nbformat->notebook>=4.4.1->widgetsnbextension~=3.6.0->ipywidgets>=7.6.5->pycaret==3.0.0rc3) (21.4.0)\r\n",
      "Requirement already satisfied: importlib-resources>=1.4.0 in /opt/conda/lib/python3.7/site-packages (from jsonschema>=2.6->nbformat->notebook>=4.4.1->widgetsnbextension~=3.6.0->ipywidgets>=7.6.5->pycaret==3.0.0rc3) (5.8.0)\r\n",
      "Requirement already satisfied: pyrsistent!=0.17.0,!=0.17.1,!=0.17.2,>=0.14.0 in /opt/conda/lib/python3.7/site-packages (from jsonschema>=2.6->nbformat->notebook>=4.4.1->widgetsnbextension~=3.6.0->ipywidgets>=7.6.5->pycaret==3.0.0rc3) (0.18.1)\r\n",
      "Requirement already satisfied: cffi>=1.0.1 in /opt/conda/lib/python3.7/site-packages (from argon2-cffi-bindings->argon2-cffi->notebook>=4.4.1->widgetsnbextension~=3.6.0->ipywidgets>=7.6.5->pycaret==3.0.0rc3) (1.15.0)\r\n",
      "Requirement already satisfied: soupsieve>1.2 in /opt/conda/lib/python3.7/site-packages (from beautifulsoup4->nbconvert>=5->notebook>=4.4.1->widgetsnbextension~=3.6.0->ipywidgets>=7.6.5->pycaret==3.0.0rc3) (2.3.1)\r\n",
      "Requirement already satisfied: webencodings in /opt/conda/lib/python3.7/site-packages (from bleach->nbconvert>=5->notebook>=4.4.1->widgetsnbextension~=3.6.0->ipywidgets>=7.6.5->pycaret==3.0.0rc3) (0.5.1)\r\n",
      "Requirement already satisfied: pycparser in /opt/conda/lib/python3.7/site-packages (from cffi>=1.0.1->argon2-cffi-bindings->argon2-cffi->notebook>=4.4.1->widgetsnbextension~=3.6.0->ipywidgets>=7.6.5->pycaret==3.0.0rc3) (2.21)\r\n",
      "Building wheels for collected packages: pycaret, plotly-resampler, pyod\r\n",
      "  Building wheel for pycaret (setup.py) ... \u001b[?25l-\b \b\\\b \b|\b \b/\b \bdone\r\n",
      "\u001b[?25h  Created wheel for pycaret: filename=pycaret-3.0.0rc3-py3-none-any.whl size=488013 sha256=c8deeb9af26c45fcff3e6bbedff76f67604d5a6a02713ca0089eb33f295f5d5a\r\n",
      "  Stored in directory: /tmp/pip-ephem-wheel-cache-99kvf3tn/wheels/b9/a5/bd/10ded84d9adcdd130cf35f61d6270652b8181e551ed13723a3\r\n",
      "  Building wheel for plotly-resampler (pyproject.toml) ... \u001b[?25l-\b \b\\\b \bdone\r\n",
      "\u001b[?25h  Created wheel for plotly-resampler: filename=plotly_resampler-0.8.0-cp37-cp37m-manylinux_2_31_x86_64.whl size=73679 sha256=306fc4f7790ce29a6cee485e95bd8ff4c72c56034823bf144d5d29ed6c9b7082\r\n",
      "  Stored in directory: /root/.cache/pip/wheels/1d/6a/3e/6922f8fa643f4f07ce23510f52d1f08fd2407ddae04b725042\r\n",
      "  Building wheel for pyod (setup.py) ... \u001b[?25l-\b \b\\\b \bdone\r\n",
      "\u001b[?25h  Created wheel for pyod: filename=pyod-1.0.4-py3-none-any.whl size=165073 sha256=318534e983be4082a54e6b5431189c5e35ce60cd0d7d4870001753f84672eedb\r\n",
      "  Stored in directory: /root/.cache/pip/wheels/3d/48/a8/87d61660791c7e6b0f5c3068da7fb17ade7fdc041e864fe053\r\n",
      "Successfully built pycaret plotly-resampler pyod\r\n",
      "Installing collected packages: trace-updater, kaleido, dash-table, dash-html-components, dash-core-components, brotli, schemdraw, orjson, joblib, deprecated, ansi2html, sktime, pyod, pmdarima, Flask-Cors, flask-compress, tbats, dash, jupyter-dash, plotly-resampler, pycaret\r\n",
      "  Attempting uninstall: orjson\r\n",
      "    Found existing installation: orjson 3.7.5\r\n",
      "    Uninstalling orjson-3.7.5:\r\n",
      "      Successfully uninstalled orjson-3.7.5\r\n",
      "  Attempting uninstall: joblib\r\n",
      "    Found existing installation: joblib 1.0.1\r\n",
      "    Uninstalling joblib-1.0.1:\r\n",
      "      Successfully uninstalled joblib-1.0.1\r\n",
      "\u001b[31mERROR: pip's dependency resolver does not currently take into account all the packages that are installed. This behaviour is the source of the following dependency conflicts.\r\n",
      "pdpbox 0.2.1 requires matplotlib==3.1.1, but you have matplotlib 3.5.2 which is incompatible.\r\n",
      "pandas-profiling 3.1.0 requires joblib~=1.0.1, but you have joblib 1.1.0 which is incompatible.\r\n",
      "apache-beam 2.40.0 requires dill<0.3.2,>=0.3.1.1, but you have dill 0.3.5.1 which is incompatible.\r\n",
      "apache-beam 2.40.0 requires pyarrow<8.0.0,>=0.15.1, but you have pyarrow 8.0.0 which is incompatible.\r\n",
      "allennlp 2.10.0 requires protobuf==3.20.0, but you have protobuf 3.19.4 which is incompatible.\u001b[0m\u001b[31m\r\n",
      "\u001b[0mSuccessfully installed Flask-Cors-3.0.10 ansi2html-1.8.0 brotli-1.0.9 dash-2.6.1 dash-core-components-2.0.0 dash-html-components-2.0.0 dash-table-5.0.0 deprecated-1.2.13 flask-compress-1.12 joblib-1.1.0 jupyter-dash-0.4.2 kaleido-0.2.1 orjson-3.7.11 plotly-resampler-0.8.0 pmdarima-1.8.5 pycaret-3.0.0rc3 pyod-1.0.4 schemdraw-0.15 sktime-0.13.1 tbats-1.1.0 trace-updater-0.0.8\r\n",
      "\u001b[33mWARNING: Running pip as the 'root' user can result in broken permissions and conflicting behaviour with the system package manager. It is recommended to use a virtual environment instead: https://pip.pypa.io/warnings/venv\u001b[0m\u001b[33m\r\n",
      "\u001b[0mNote: you may need to restart the kernel to use updated packages.\n"
     ]
    }
   ],
   "source": [
    "pip install git+https://github.com/pycaret/pycaret.git"
   ]
  },
  {
   "cell_type": "code",
   "execution_count": 24,
   "id": "a759da2a",
   "metadata": {
    "execution": {
     "iopub.execute_input": "2022-08-14T11:01:13.608992Z",
     "iopub.status.busy": "2022-08-14T11:01:13.608437Z",
     "iopub.status.idle": "2022-08-14T11:01:25.095108Z",
     "shell.execute_reply": "2022-08-14T11:01:25.094031Z"
    },
    "papermill": {
     "duration": 11.519136,
     "end_time": "2022-08-14T11:01:25.098509",
     "exception": false,
     "start_time": "2022-08-14T11:01:13.579373",
     "status": "completed"
    },
    "tags": []
   },
   "outputs": [
    {
     "data": {
      "text/html": [
       "<style type='text/css'>\n",
       ".datatable table.frame { margin-bottom: 0; }\n",
       ".datatable table.frame thead { border-bottom: none; }\n",
       ".datatable table.frame tr.coltypes td {  color: #FFFFFF;  line-height: 6px;  padding: 0 0.5em;}\n",
       ".datatable .bool    { background: #DDDD99; }\n",
       ".datatable .object  { background: #565656; }\n",
       ".datatable .int     { background: #5D9E5D; }\n",
       ".datatable .float   { background: #4040CC; }\n",
       ".datatable .str     { background: #CC4040; }\n",
       ".datatable .time    { background: #40CC40; }\n",
       ".datatable .row_index {  background: var(--jp-border-color3);  border-right: 1px solid var(--jp-border-color0);  color: var(--jp-ui-font-color3);  font-size: 9px;}\n",
       ".datatable .frame tbody td { text-align: left; }\n",
       ".datatable .frame tr.coltypes .row_index {  background: var(--jp-border-color0);}\n",
       ".datatable th:nth-child(2) { padding-left: 12px; }\n",
       ".datatable .hellipsis {  color: var(--jp-cell-editor-border-color);}\n",
       ".datatable .vellipsis {  background: var(--jp-layout-color0);  color: var(--jp-cell-editor-border-color);}\n",
       ".datatable .na {  color: var(--jp-cell-editor-border-color);  font-size: 80%;}\n",
       ".datatable .sp {  opacity: 0.25;}\n",
       ".datatable .footer { font-size: 9px; }\n",
       ".datatable .frame_dimensions {  background: var(--jp-border-color3);  border-top: 1px solid var(--jp-border-color0);  color: var(--jp-ui-font-color3);  display: inline-block;  opacity: 0.6;  padding: 1px 10px 1px 5px;}\n",
       "</style>\n"
      ],
      "text/plain": [
       "<IPython.core.display.HTML object>"
      ]
     },
     "metadata": {},
     "output_type": "display_data"
    },
    {
     "data": {
      "text/html": [
       "<style type=\"text/css\">\n",
       "#T_d6b9b_row7_col1 {\n",
       "  background-color: lightgreen;\n",
       "}\n",
       "</style>\n",
       "<table id=\"T_d6b9b_\">\n",
       "  <thead>\n",
       "    <tr>\n",
       "      <th class=\"blank level0\" >&nbsp;</th>\n",
       "      <th class=\"col_heading level0 col0\" >Description</th>\n",
       "      <th class=\"col_heading level0 col1\" >Value</th>\n",
       "    </tr>\n",
       "  </thead>\n",
       "  <tbody>\n",
       "    <tr>\n",
       "      <th id=\"T_d6b9b_level0_row0\" class=\"row_heading level0 row0\" >0</th>\n",
       "      <td id=\"T_d6b9b_row0_col0\" class=\"data row0 col0\" >Session id</td>\n",
       "      <td id=\"T_d6b9b_row0_col1\" class=\"data row0 col1\" >667</td>\n",
       "    </tr>\n",
       "    <tr>\n",
       "      <th id=\"T_d6b9b_level0_row1\" class=\"row_heading level0 row1\" >1</th>\n",
       "      <td id=\"T_d6b9b_row1_col0\" class=\"data row1 col0\" >Target</td>\n",
       "      <td id=\"T_d6b9b_row1_col1\" class=\"data row1 col1\" >NUMBER_LAYERS</td>\n",
       "    </tr>\n",
       "    <tr>\n",
       "      <th id=\"T_d6b9b_level0_row2\" class=\"row_heading level0 row2\" >2</th>\n",
       "      <td id=\"T_d6b9b_row2_col0\" class=\"data row2 col0\" >Target type</td>\n",
       "      <td id=\"T_d6b9b_row2_col1\" class=\"data row2 col1\" >Regression</td>\n",
       "    </tr>\n",
       "    <tr>\n",
       "      <th id=\"T_d6b9b_level0_row3\" class=\"row_heading level0 row3\" >3</th>\n",
       "      <td id=\"T_d6b9b_row3_col0\" class=\"data row3 col0\" >Data shape</td>\n",
       "      <td id=\"T_d6b9b_row3_col1\" class=\"data row3 col1\" >(384343, 9)</td>\n",
       "    </tr>\n",
       "    <tr>\n",
       "      <th id=\"T_d6b9b_level0_row4\" class=\"row_heading level0 row4\" >4</th>\n",
       "      <td id=\"T_d6b9b_row4_col0\" class=\"data row4 col0\" >Train data shape</td>\n",
       "      <td id=\"T_d6b9b_row4_col1\" class=\"data row4 col1\" >(269040, 9)</td>\n",
       "    </tr>\n",
       "    <tr>\n",
       "      <th id=\"T_d6b9b_level0_row5\" class=\"row_heading level0 row5\" >5</th>\n",
       "      <td id=\"T_d6b9b_row5_col0\" class=\"data row5 col0\" >Test data shape</td>\n",
       "      <td id=\"T_d6b9b_row5_col1\" class=\"data row5 col1\" >(115303, 9)</td>\n",
       "    </tr>\n",
       "    <tr>\n",
       "      <th id=\"T_d6b9b_level0_row6\" class=\"row_heading level0 row6\" >6</th>\n",
       "      <td id=\"T_d6b9b_row6_col0\" class=\"data row6 col0\" >Numeric features</td>\n",
       "      <td id=\"T_d6b9b_row6_col1\" class=\"data row6 col1\" >8</td>\n",
       "    </tr>\n",
       "    <tr>\n",
       "      <th id=\"T_d6b9b_level0_row7\" class=\"row_heading level0 row7\" >7</th>\n",
       "      <td id=\"T_d6b9b_row7_col0\" class=\"data row7 col0\" >Preprocess</td>\n",
       "      <td id=\"T_d6b9b_row7_col1\" class=\"data row7 col1\" >True</td>\n",
       "    </tr>\n",
       "    <tr>\n",
       "      <th id=\"T_d6b9b_level0_row8\" class=\"row_heading level0 row8\" >8</th>\n",
       "      <td id=\"T_d6b9b_row8_col0\" class=\"data row8 col0\" >Imputation type</td>\n",
       "      <td id=\"T_d6b9b_row8_col1\" class=\"data row8 col1\" >simple</td>\n",
       "    </tr>\n",
       "    <tr>\n",
       "      <th id=\"T_d6b9b_level0_row9\" class=\"row_heading level0 row9\" >9</th>\n",
       "      <td id=\"T_d6b9b_row9_col0\" class=\"data row9 col0\" >Numeric imputation</td>\n",
       "      <td id=\"T_d6b9b_row9_col1\" class=\"data row9 col1\" >mean</td>\n",
       "    </tr>\n",
       "    <tr>\n",
       "      <th id=\"T_d6b9b_level0_row10\" class=\"row_heading level0 row10\" >10</th>\n",
       "      <td id=\"T_d6b9b_row10_col0\" class=\"data row10 col0\" >Categorical imputation</td>\n",
       "      <td id=\"T_d6b9b_row10_col1\" class=\"data row10 col1\" >constant</td>\n",
       "    </tr>\n",
       "    <tr>\n",
       "      <th id=\"T_d6b9b_level0_row11\" class=\"row_heading level0 row11\" >11</th>\n",
       "      <td id=\"T_d6b9b_row11_col0\" class=\"data row11 col0\" >Low variance threshold</td>\n",
       "      <td id=\"T_d6b9b_row11_col1\" class=\"data row11 col1\" >0</td>\n",
       "    </tr>\n",
       "    <tr>\n",
       "      <th id=\"T_d6b9b_level0_row12\" class=\"row_heading level0 row12\" >12</th>\n",
       "      <td id=\"T_d6b9b_row12_col0\" class=\"data row12 col0\" >Fold Generator</td>\n",
       "      <td id=\"T_d6b9b_row12_col1\" class=\"data row12 col1\" >KFold</td>\n",
       "    </tr>\n",
       "    <tr>\n",
       "      <th id=\"T_d6b9b_level0_row13\" class=\"row_heading level0 row13\" >13</th>\n",
       "      <td id=\"T_d6b9b_row13_col0\" class=\"data row13 col0\" >Fold Number</td>\n",
       "      <td id=\"T_d6b9b_row13_col1\" class=\"data row13 col1\" >10</td>\n",
       "    </tr>\n",
       "    <tr>\n",
       "      <th id=\"T_d6b9b_level0_row14\" class=\"row_heading level0 row14\" >14</th>\n",
       "      <td id=\"T_d6b9b_row14_col0\" class=\"data row14 col0\" >CPU Jobs</td>\n",
       "      <td id=\"T_d6b9b_row14_col1\" class=\"data row14 col1\" >-1</td>\n",
       "    </tr>\n",
       "    <tr>\n",
       "      <th id=\"T_d6b9b_level0_row15\" class=\"row_heading level0 row15\" >15</th>\n",
       "      <td id=\"T_d6b9b_row15_col0\" class=\"data row15 col0\" >Use GPU</td>\n",
       "      <td id=\"T_d6b9b_row15_col1\" class=\"data row15 col1\" >False</td>\n",
       "    </tr>\n",
       "    <tr>\n",
       "      <th id=\"T_d6b9b_level0_row16\" class=\"row_heading level0 row16\" >16</th>\n",
       "      <td id=\"T_d6b9b_row16_col0\" class=\"data row16 col0\" >Log Experiment</td>\n",
       "      <td id=\"T_d6b9b_row16_col1\" class=\"data row16 col1\" >False</td>\n",
       "    </tr>\n",
       "    <tr>\n",
       "      <th id=\"T_d6b9b_level0_row17\" class=\"row_heading level0 row17\" >17</th>\n",
       "      <td id=\"T_d6b9b_row17_col0\" class=\"data row17 col0\" >Experiment Name</td>\n",
       "      <td id=\"T_d6b9b_row17_col1\" class=\"data row17 col1\" >reg-default-name</td>\n",
       "    </tr>\n",
       "    <tr>\n",
       "      <th id=\"T_d6b9b_level0_row18\" class=\"row_heading level0 row18\" >18</th>\n",
       "      <td id=\"T_d6b9b_row18_col0\" class=\"data row18 col0\" >USI</td>\n",
       "      <td id=\"T_d6b9b_row18_col1\" class=\"data row18 col1\" >9a72</td>\n",
       "    </tr>\n",
       "  </tbody>\n",
       "</table>\n"
      ],
      "text/plain": [
       "<pandas.io.formats.style.Styler at 0x7f2c04b2d650>"
      ]
     },
     "metadata": {},
     "output_type": "display_data"
    }
   ],
   "source": [
    "from pycaret.regression import setup, compare_models, predict_model\n",
    "pycaret_automl = setup(data=data, target = 'NUMBER_LAYERS', session_id=667)"
   ]
  },
  {
   "cell_type": "code",
   "execution_count": 25,
   "id": "592e32d5",
   "metadata": {
    "execution": {
     "iopub.execute_input": "2022-08-14T11:01:25.143722Z",
     "iopub.status.busy": "2022-08-14T11:01:25.142504Z",
     "iopub.status.idle": "2022-08-14T11:08:09.995399Z",
     "shell.execute_reply": "2022-08-14T11:08:09.994468Z"
    },
    "papermill": {
     "duration": 404.877479,
     "end_time": "2022-08-14T11:08:09.997925",
     "exception": false,
     "start_time": "2022-08-14T11:01:25.120446",
     "status": "completed"
    },
    "tags": []
   },
   "outputs": [
    {
     "data": {
      "text/html": [],
      "text/plain": [
       "<IPython.core.display.HTML object>"
      ]
     },
     "metadata": {},
     "output_type": "display_data"
    },
    {
     "data": {
      "text/html": [
       "<style type=\"text/css\">\n",
       "#T_ecdb5_ th {\n",
       "  text-align: left;\n",
       "}\n",
       "#T_ecdb5_row0_col0, #T_ecdb5_row0_col3, #T_ecdb5_row0_col4, #T_ecdb5_row0_col6, #T_ecdb5_row1_col0, #T_ecdb5_row1_col1, #T_ecdb5_row1_col5, #T_ecdb5_row2_col0, #T_ecdb5_row2_col1, #T_ecdb5_row2_col2, #T_ecdb5_row2_col3, #T_ecdb5_row2_col4, #T_ecdb5_row2_col5, #T_ecdb5_row2_col6, #T_ecdb5_row3_col0, #T_ecdb5_row3_col2, #T_ecdb5_row3_col3, #T_ecdb5_row3_col4, #T_ecdb5_row3_col5, #T_ecdb5_row3_col6, #T_ecdb5_row4_col0, #T_ecdb5_row4_col1, #T_ecdb5_row4_col2, #T_ecdb5_row4_col3, #T_ecdb5_row4_col4, #T_ecdb5_row4_col5, #T_ecdb5_row4_col6, #T_ecdb5_row5_col0, #T_ecdb5_row5_col1, #T_ecdb5_row5_col2, #T_ecdb5_row5_col3, #T_ecdb5_row5_col4, #T_ecdb5_row5_col5, #T_ecdb5_row5_col6, #T_ecdb5_row6_col0, #T_ecdb5_row6_col1, #T_ecdb5_row6_col2, #T_ecdb5_row6_col3, #T_ecdb5_row6_col4, #T_ecdb5_row6_col5, #T_ecdb5_row6_col6, #T_ecdb5_row7_col0, #T_ecdb5_row7_col1, #T_ecdb5_row7_col2, #T_ecdb5_row7_col3, #T_ecdb5_row7_col4, #T_ecdb5_row7_col5, #T_ecdb5_row7_col6, #T_ecdb5_row8_col0, #T_ecdb5_row8_col1, #T_ecdb5_row8_col2, #T_ecdb5_row8_col3, #T_ecdb5_row8_col4, #T_ecdb5_row8_col5, #T_ecdb5_row8_col6, #T_ecdb5_row9_col0, #T_ecdb5_row9_col1, #T_ecdb5_row9_col2, #T_ecdb5_row9_col3, #T_ecdb5_row9_col4, #T_ecdb5_row9_col5, #T_ecdb5_row9_col6, #T_ecdb5_row10_col0, #T_ecdb5_row10_col1, #T_ecdb5_row10_col2, #T_ecdb5_row10_col3, #T_ecdb5_row10_col4, #T_ecdb5_row10_col5, #T_ecdb5_row10_col6, #T_ecdb5_row11_col0, #T_ecdb5_row11_col1, #T_ecdb5_row11_col2, #T_ecdb5_row11_col3, #T_ecdb5_row11_col4, #T_ecdb5_row11_col5, #T_ecdb5_row11_col6, #T_ecdb5_row12_col0, #T_ecdb5_row12_col1, #T_ecdb5_row12_col2, #T_ecdb5_row12_col3, #T_ecdb5_row12_col4, #T_ecdb5_row12_col5, #T_ecdb5_row12_col6, #T_ecdb5_row13_col0, #T_ecdb5_row13_col1, #T_ecdb5_row13_col2, #T_ecdb5_row13_col3, #T_ecdb5_row13_col4, #T_ecdb5_row13_col5, #T_ecdb5_row13_col6, #T_ecdb5_row14_col0, #T_ecdb5_row14_col1, #T_ecdb5_row14_col2, #T_ecdb5_row14_col3, #T_ecdb5_row14_col4, #T_ecdb5_row14_col5, #T_ecdb5_row14_col6, #T_ecdb5_row15_col0, #T_ecdb5_row15_col1, #T_ecdb5_row15_col2, #T_ecdb5_row15_col3, #T_ecdb5_row15_col4, #T_ecdb5_row15_col5, #T_ecdb5_row15_col6 {\n",
       "  text-align: left;\n",
       "}\n",
       "#T_ecdb5_row0_col1, #T_ecdb5_row0_col2, #T_ecdb5_row0_col5, #T_ecdb5_row1_col2, #T_ecdb5_row1_col3, #T_ecdb5_row1_col4, #T_ecdb5_row1_col6, #T_ecdb5_row3_col1 {\n",
       "  text-align: left;\n",
       "  background-color: yellow;\n",
       "}\n",
       "#T_ecdb5_row0_col7, #T_ecdb5_row1_col7, #T_ecdb5_row2_col7, #T_ecdb5_row3_col7, #T_ecdb5_row4_col7, #T_ecdb5_row5_col7, #T_ecdb5_row6_col7, #T_ecdb5_row9_col7, #T_ecdb5_row10_col7, #T_ecdb5_row11_col7, #T_ecdb5_row12_col7, #T_ecdb5_row13_col7, #T_ecdb5_row14_col7, #T_ecdb5_row15_col7 {\n",
       "  text-align: left;\n",
       "  background-color: lightgrey;\n",
       "}\n",
       "#T_ecdb5_row7_col7, #T_ecdb5_row8_col7 {\n",
       "  text-align: left;\n",
       "  background-color: yellow;\n",
       "  background-color: lightgrey;\n",
       "}\n",
       "</style>\n",
       "<table id=\"T_ecdb5_\">\n",
       "  <thead>\n",
       "    <tr>\n",
       "      <th class=\"blank level0\" >&nbsp;</th>\n",
       "      <th class=\"col_heading level0 col0\" >Model</th>\n",
       "      <th class=\"col_heading level0 col1\" >MAE</th>\n",
       "      <th class=\"col_heading level0 col2\" >MSE</th>\n",
       "      <th class=\"col_heading level0 col3\" >RMSE</th>\n",
       "      <th class=\"col_heading level0 col4\" >R2</th>\n",
       "      <th class=\"col_heading level0 col5\" >RMSLE</th>\n",
       "      <th class=\"col_heading level0 col6\" >MAPE</th>\n",
       "      <th class=\"col_heading level0 col7\" >TT (Sec)</th>\n",
       "    </tr>\n",
       "  </thead>\n",
       "  <tbody>\n",
       "    <tr>\n",
       "      <th id=\"T_ecdb5_level0_row0\" class=\"row_heading level0 row0\" >et</th>\n",
       "      <td id=\"T_ecdb5_row0_col0\" class=\"data row0 col0\" >Extra Trees Regressor</td>\n",
       "      <td id=\"T_ecdb5_row0_col1\" class=\"data row0 col1\" >0.0009</td>\n",
       "      <td id=\"T_ecdb5_row0_col2\" class=\"data row0 col2\" >0.0005</td>\n",
       "      <td id=\"T_ecdb5_row0_col3\" class=\"data row0 col3\" >0.0227</td>\n",
       "      <td id=\"T_ecdb5_row0_col4\" class=\"data row0 col4\" >0.9944</td>\n",
       "      <td id=\"T_ecdb5_row0_col5\" class=\"data row0 col5\" >0.0074</td>\n",
       "      <td id=\"T_ecdb5_row0_col6\" class=\"data row0 col6\" >0.0099</td>\n",
       "      <td id=\"T_ecdb5_row0_col7\" class=\"data row0 col7\" >3.4110</td>\n",
       "    </tr>\n",
       "    <tr>\n",
       "      <th id=\"T_ecdb5_level0_row1\" class=\"row_heading level0 row1\" >gbr</th>\n",
       "      <td id=\"T_ecdb5_row1_col0\" class=\"data row1 col0\" >Gradient Boosting Regressor</td>\n",
       "      <td id=\"T_ecdb5_row1_col1\" class=\"data row1 col1\" >0.0010</td>\n",
       "      <td id=\"T_ecdb5_row1_col2\" class=\"data row1 col2\" >0.0005</td>\n",
       "      <td id=\"T_ecdb5_row1_col3\" class=\"data row1 col3\" >0.0225</td>\n",
       "      <td id=\"T_ecdb5_row1_col4\" class=\"data row1 col4\" >0.9945</td>\n",
       "      <td id=\"T_ecdb5_row1_col5\" class=\"data row1 col5\" >0.0077</td>\n",
       "      <td id=\"T_ecdb5_row1_col6\" class=\"data row1 col6\" >0.0092</td>\n",
       "      <td id=\"T_ecdb5_row1_col7\" class=\"data row1 col7\" >12.2250</td>\n",
       "    </tr>\n",
       "    <tr>\n",
       "      <th id=\"T_ecdb5_level0_row2\" class=\"row_heading level0 row2\" >rf</th>\n",
       "      <td id=\"T_ecdb5_row2_col0\" class=\"data row2 col0\" >Random Forest Regressor</td>\n",
       "      <td id=\"T_ecdb5_row2_col1\" class=\"data row2 col1\" >0.0010</td>\n",
       "      <td id=\"T_ecdb5_row2_col2\" class=\"data row2 col2\" >0.0006</td>\n",
       "      <td id=\"T_ecdb5_row2_col3\" class=\"data row2 col3\" >0.0245</td>\n",
       "      <td id=\"T_ecdb5_row2_col4\" class=\"data row2 col4\" >0.9934</td>\n",
       "      <td id=\"T_ecdb5_row2_col5\" class=\"data row2 col5\" >0.0089</td>\n",
       "      <td id=\"T_ecdb5_row2_col6\" class=\"data row2 col6\" >0.0095</td>\n",
       "      <td id=\"T_ecdb5_row2_col7\" class=\"data row2 col7\" >12.6830</td>\n",
       "    </tr>\n",
       "    <tr>\n",
       "      <th id=\"T_ecdb5_level0_row3\" class=\"row_heading level0 row3\" >dt</th>\n",
       "      <td id=\"T_ecdb5_row3_col0\" class=\"data row3 col0\" >Decision Tree Regressor</td>\n",
       "      <td id=\"T_ecdb5_row3_col1\" class=\"data row3 col1\" >0.0009</td>\n",
       "      <td id=\"T_ecdb5_row3_col2\" class=\"data row3 col2\" >0.0010</td>\n",
       "      <td id=\"T_ecdb5_row3_col3\" class=\"data row3 col3\" >0.0320</td>\n",
       "      <td id=\"T_ecdb5_row3_col4\" class=\"data row3 col4\" >0.9889</td>\n",
       "      <td id=\"T_ecdb5_row3_col5\" class=\"data row3 col5\" >0.0110</td>\n",
       "      <td id=\"T_ecdb5_row3_col6\" class=\"data row3 col6\" >0.0095</td>\n",
       "      <td id=\"T_ecdb5_row3_col7\" class=\"data row3 col7\" >0.2860</td>\n",
       "    </tr>\n",
       "    <tr>\n",
       "      <th id=\"T_ecdb5_level0_row4\" class=\"row_heading level0 row4\" >knn</th>\n",
       "      <td id=\"T_ecdb5_row4_col0\" class=\"data row4 col0\" >K Neighbors Regressor</td>\n",
       "      <td id=\"T_ecdb5_row4_col1\" class=\"data row4 col1\" >0.0036</td>\n",
       "      <td id=\"T_ecdb5_row4_col2\" class=\"data row4 col2\" >0.0045</td>\n",
       "      <td id=\"T_ecdb5_row4_col3\" class=\"data row4 col3\" >0.0671</td>\n",
       "      <td id=\"T_ecdb5_row4_col4\" class=\"data row4 col4\" >0.9511</td>\n",
       "      <td id=\"T_ecdb5_row4_col5\" class=\"data row4 col5\" >0.0304</td>\n",
       "      <td id=\"T_ecdb5_row4_col6\" class=\"data row4 col6\" >0.0305</td>\n",
       "      <td id=\"T_ecdb5_row4_col7\" class=\"data row4 col7\" >2.3330</td>\n",
       "    </tr>\n",
       "    <tr>\n",
       "      <th id=\"T_ecdb5_level0_row5\" class=\"row_heading level0 row5\" >ada</th>\n",
       "      <td id=\"T_ecdb5_row5_col0\" class=\"data row5 col0\" >AdaBoost Regressor</td>\n",
       "      <td id=\"T_ecdb5_row5_col1\" class=\"data row5 col1\" >0.0284</td>\n",
       "      <td id=\"T_ecdb5_row5_col2\" class=\"data row5 col2\" >0.0110</td>\n",
       "      <td id=\"T_ecdb5_row5_col3\" class=\"data row5 col3\" >0.1027</td>\n",
       "      <td id=\"T_ecdb5_row5_col4\" class=\"data row5 col4\" >0.8813</td>\n",
       "      <td id=\"T_ecdb5_row5_col5\" class=\"data row5 col5\" >0.0547</td>\n",
       "      <td id=\"T_ecdb5_row5_col6\" class=\"data row5 col6\" >0.3267</td>\n",
       "      <td id=\"T_ecdb5_row5_col7\" class=\"data row5 col7\" >5.5160</td>\n",
       "    </tr>\n",
       "    <tr>\n",
       "      <th id=\"T_ecdb5_level0_row6\" class=\"row_heading level0 row6\" >lr</th>\n",
       "      <td id=\"T_ecdb5_row6_col0\" class=\"data row6 col0\" >Linear Regression</td>\n",
       "      <td id=\"T_ecdb5_row6_col1\" class=\"data row6 col1\" >0.0524</td>\n",
       "      <td id=\"T_ecdb5_row6_col2\" class=\"data row6 col2\" >0.0329</td>\n",
       "      <td id=\"T_ecdb5_row6_col3\" class=\"data row6 col3\" >0.1814</td>\n",
       "      <td id=\"T_ecdb5_row6_col4\" class=\"data row6 col4\" >0.6446</td>\n",
       "      <td id=\"T_ecdb5_row6_col5\" class=\"data row6 col5\" >0.0903</td>\n",
       "      <td id=\"T_ecdb5_row6_col6\" class=\"data row6 col6\" >0.4231</td>\n",
       "      <td id=\"T_ecdb5_row6_col7\" class=\"data row6 col7\" >0.7920</td>\n",
       "    </tr>\n",
       "    <tr>\n",
       "      <th id=\"T_ecdb5_level0_row7\" class=\"row_heading level0 row7\" >ridge</th>\n",
       "      <td id=\"T_ecdb5_row7_col0\" class=\"data row7 col0\" >Ridge Regression</td>\n",
       "      <td id=\"T_ecdb5_row7_col1\" class=\"data row7 col1\" >0.0524</td>\n",
       "      <td id=\"T_ecdb5_row7_col2\" class=\"data row7 col2\" >0.0329</td>\n",
       "      <td id=\"T_ecdb5_row7_col3\" class=\"data row7 col3\" >0.1814</td>\n",
       "      <td id=\"T_ecdb5_row7_col4\" class=\"data row7 col4\" >0.6446</td>\n",
       "      <td id=\"T_ecdb5_row7_col5\" class=\"data row7 col5\" >0.0903</td>\n",
       "      <td id=\"T_ecdb5_row7_col6\" class=\"data row7 col6\" >0.4231</td>\n",
       "      <td id=\"T_ecdb5_row7_col7\" class=\"data row7 col7\" >0.0980</td>\n",
       "    </tr>\n",
       "    <tr>\n",
       "      <th id=\"T_ecdb5_level0_row8\" class=\"row_heading level0 row8\" >lar</th>\n",
       "      <td id=\"T_ecdb5_row8_col0\" class=\"data row8 col0\" >Least Angle Regression</td>\n",
       "      <td id=\"T_ecdb5_row8_col1\" class=\"data row8 col1\" >0.0524</td>\n",
       "      <td id=\"T_ecdb5_row8_col2\" class=\"data row8 col2\" >0.0329</td>\n",
       "      <td id=\"T_ecdb5_row8_col3\" class=\"data row8 col3\" >0.1814</td>\n",
       "      <td id=\"T_ecdb5_row8_col4\" class=\"data row8 col4\" >0.6446</td>\n",
       "      <td id=\"T_ecdb5_row8_col5\" class=\"data row8 col5\" >0.0903</td>\n",
       "      <td id=\"T_ecdb5_row8_col6\" class=\"data row8 col6\" >0.4231</td>\n",
       "      <td id=\"T_ecdb5_row8_col7\" class=\"data row8 col7\" >0.0980</td>\n",
       "    </tr>\n",
       "    <tr>\n",
       "      <th id=\"T_ecdb5_level0_row9\" class=\"row_heading level0 row9\" >br</th>\n",
       "      <td id=\"T_ecdb5_row9_col0\" class=\"data row9 col0\" >Bayesian Ridge</td>\n",
       "      <td id=\"T_ecdb5_row9_col1\" class=\"data row9 col1\" >0.0524</td>\n",
       "      <td id=\"T_ecdb5_row9_col2\" class=\"data row9 col2\" >0.0329</td>\n",
       "      <td id=\"T_ecdb5_row9_col3\" class=\"data row9 col3\" >0.1814</td>\n",
       "      <td id=\"T_ecdb5_row9_col4\" class=\"data row9 col4\" >0.6446</td>\n",
       "      <td id=\"T_ecdb5_row9_col5\" class=\"data row9 col5\" >0.0903</td>\n",
       "      <td id=\"T_ecdb5_row9_col6\" class=\"data row9 col6\" >0.4231</td>\n",
       "      <td id=\"T_ecdb5_row9_col7\" class=\"data row9 col7\" >0.1470</td>\n",
       "    </tr>\n",
       "    <tr>\n",
       "      <th id=\"T_ecdb5_level0_row10\" class=\"row_heading level0 row10\" >omp</th>\n",
       "      <td id=\"T_ecdb5_row10_col0\" class=\"data row10 col0\" >Orthogonal Matching Pursuit</td>\n",
       "      <td id=\"T_ecdb5_row10_col1\" class=\"data row10 col1\" >0.0516</td>\n",
       "      <td id=\"T_ecdb5_row10_col2\" class=\"data row10 col2\" >0.0374</td>\n",
       "      <td id=\"T_ecdb5_row10_col3\" class=\"data row10 col3\" >0.1934</td>\n",
       "      <td id=\"T_ecdb5_row10_col4\" class=\"data row10 col4\" >0.5961</td>\n",
       "      <td id=\"T_ecdb5_row10_col5\" class=\"data row10 col5\" >0.0898</td>\n",
       "      <td id=\"T_ecdb5_row10_col6\" class=\"data row10 col6\" >0.5107</td>\n",
       "      <td id=\"T_ecdb5_row10_col7\" class=\"data row10 col7\" >0.0990</td>\n",
       "    </tr>\n",
       "    <tr>\n",
       "      <th id=\"T_ecdb5_level0_row11\" class=\"row_heading level0 row11\" >en</th>\n",
       "      <td id=\"T_ecdb5_row11_col0\" class=\"data row11 col0\" >Elastic Net</td>\n",
       "      <td id=\"T_ecdb5_row11_col1\" class=\"data row11 col1\" >0.0529</td>\n",
       "      <td id=\"T_ecdb5_row11_col2\" class=\"data row11 col2\" >0.0379</td>\n",
       "      <td id=\"T_ecdb5_row11_col3\" class=\"data row11 col3\" >0.1947</td>\n",
       "      <td id=\"T_ecdb5_row11_col4\" class=\"data row11 col4\" >0.5908</td>\n",
       "      <td id=\"T_ecdb5_row11_col5\" class=\"data row11 col5\" >0.0963</td>\n",
       "      <td id=\"T_ecdb5_row11_col6\" class=\"data row11 col6\" >0.4098</td>\n",
       "      <td id=\"T_ecdb5_row11_col7\" class=\"data row11 col7\" >0.1070</td>\n",
       "    </tr>\n",
       "    <tr>\n",
       "      <th id=\"T_ecdb5_level0_row12\" class=\"row_heading level0 row12\" >huber</th>\n",
       "      <td id=\"T_ecdb5_row12_col0\" class=\"data row12 col0\" >Huber Regressor</td>\n",
       "      <td id=\"T_ecdb5_row12_col1\" class=\"data row12 col1\" >0.0350</td>\n",
       "      <td id=\"T_ecdb5_row12_col2\" class=\"data row12 col2\" >0.0388</td>\n",
       "      <td id=\"T_ecdb5_row12_col3\" class=\"data row12 col3\" >0.1969</td>\n",
       "      <td id=\"T_ecdb5_row12_col4\" class=\"data row12 col4\" >0.5815</td>\n",
       "      <td id=\"T_ecdb5_row12_col5\" class=\"data row12 col5\" >0.0879</td>\n",
       "      <td id=\"T_ecdb5_row12_col6\" class=\"data row12 col6\" >0.5210</td>\n",
       "      <td id=\"T_ecdb5_row12_col7\" class=\"data row12 col7\" >1.4000</td>\n",
       "    </tr>\n",
       "    <tr>\n",
       "      <th id=\"T_ecdb5_level0_row13\" class=\"row_heading level0 row13\" >lasso</th>\n",
       "      <td id=\"T_ecdb5_row13_col0\" class=\"data row13 col0\" >Lasso Regression</td>\n",
       "      <td id=\"T_ecdb5_row13_col1\" class=\"data row13 col1\" >0.0599</td>\n",
       "      <td id=\"T_ecdb5_row13_col2\" class=\"data row13 col2\" >0.0444</td>\n",
       "      <td id=\"T_ecdb5_row13_col3\" class=\"data row13 col3\" >0.2106</td>\n",
       "      <td id=\"T_ecdb5_row13_col4\" class=\"data row13 col4\" >0.5210</td>\n",
       "      <td id=\"T_ecdb5_row13_col5\" class=\"data row13 col5\" >0.1094</td>\n",
       "      <td id=\"T_ecdb5_row13_col6\" class=\"data row13 col6\" >0.3861</td>\n",
       "      <td id=\"T_ecdb5_row13_col7\" class=\"data row13 col7\" >0.1180</td>\n",
       "    </tr>\n",
       "    <tr>\n",
       "      <th id=\"T_ecdb5_level0_row14\" class=\"row_heading level0 row14\" >llar</th>\n",
       "      <td id=\"T_ecdb5_row14_col0\" class=\"data row14 col0\" >Lasso Least Angle Regression</td>\n",
       "      <td id=\"T_ecdb5_row14_col1\" class=\"data row14 col1\" >0.1232</td>\n",
       "      <td id=\"T_ecdb5_row14_col2\" class=\"data row14 col2\" >0.0926</td>\n",
       "      <td id=\"T_ecdb5_row14_col3\" class=\"data row14 col3\" >0.3043</td>\n",
       "      <td id=\"T_ecdb5_row14_col4\" class=\"data row14 col4\" >-0.0000</td>\n",
       "      <td id=\"T_ecdb5_row14_col5\" class=\"data row14 col5\" >0.1825</td>\n",
       "      <td id=\"T_ecdb5_row14_col6\" class=\"data row14 col6\" >0.9426</td>\n",
       "      <td id=\"T_ecdb5_row14_col7\" class=\"data row14 col7\" >0.1000</td>\n",
       "    </tr>\n",
       "    <tr>\n",
       "      <th id=\"T_ecdb5_level0_row15\" class=\"row_heading level0 row15\" >par</th>\n",
       "      <td id=\"T_ecdb5_row15_col0\" class=\"data row15 col0\" >Passive Aggressive Regressor</td>\n",
       "      <td id=\"T_ecdb5_row15_col1\" class=\"data row15 col1\" >0.1518</td>\n",
       "      <td id=\"T_ecdb5_row15_col2\" class=\"data row15 col2\" >0.1868</td>\n",
       "      <td id=\"T_ecdb5_row15_col3\" class=\"data row15 col3\" >0.3865</td>\n",
       "      <td id=\"T_ecdb5_row15_col4\" class=\"data row15 col4\" >-1.0048</td>\n",
       "      <td id=\"T_ecdb5_row15_col5\" class=\"data row15 col5\" >0.1796</td>\n",
       "      <td id=\"T_ecdb5_row15_col6\" class=\"data row15 col6\" >1.1370</td>\n",
       "      <td id=\"T_ecdb5_row15_col7\" class=\"data row15 col7\" >0.1660</td>\n",
       "    </tr>\n",
       "  </tbody>\n",
       "</table>\n"
      ],
      "text/plain": [
       "<pandas.io.formats.style.Styler at 0x7f2c021e6210>"
      ]
     },
     "metadata": {},
     "output_type": "display_data"
    },
    {
     "data": {
      "application/vnd.jupyter.widget-view+json": {
       "model_id": "6bdd73e135ae4e8aa7e18d1f2e1997c1",
       "version_major": 2,
       "version_minor": 0
      },
      "text/plain": [
       "Processing:   0%|          | 0/85 [00:00<?, ?it/s]"
      ]
     },
     "metadata": {},
     "output_type": "display_data"
    }
   ],
   "source": [
    "pycaret_models = compare_models(sort='MSE', budget_time=5)"
   ]
  },
  {
   "cell_type": "code",
   "execution_count": 26,
   "id": "663e7065",
   "metadata": {
    "execution": {
     "iopub.execute_input": "2022-08-14T11:08:10.043235Z",
     "iopub.status.busy": "2022-08-14T11:08:10.042834Z",
     "iopub.status.idle": "2022-08-14T11:08:10.048653Z",
     "shell.execute_reply": "2022-08-14T11:08:10.047487Z"
    },
    "papermill": {
     "duration": 0.03127,
     "end_time": "2022-08-14T11:08:10.050856",
     "exception": false,
     "start_time": "2022-08-14T11:08:10.019586",
     "status": "completed"
    },
    "tags": []
   },
   "outputs": [
    {
     "name": "stdout",
     "output_type": "stream",
     "text": [
      "ExtraTreesRegressor(n_jobs=-1, random_state=667)\n"
     ]
    }
   ],
   "source": [
    "print(pycaret_models)"
   ]
  },
  {
   "cell_type": "code",
   "execution_count": 27,
   "id": "7aa6411b",
   "metadata": {
    "execution": {
     "iopub.execute_input": "2022-08-14T11:08:10.095351Z",
     "iopub.status.busy": "2022-08-14T11:08:10.094987Z",
     "iopub.status.idle": "2022-08-14T11:08:13.474353Z",
     "shell.execute_reply": "2022-08-14T11:08:13.473247Z"
    },
    "papermill": {
     "duration": 3.404347,
     "end_time": "2022-08-14T11:08:13.476686",
     "exception": false,
     "start_time": "2022-08-14T11:08:10.072339",
     "status": "completed"
    },
    "tags": []
   },
   "outputs": [
    {
     "data": {
      "text/plain": [
       "0.9941859629566736"
      ]
     },
     "execution_count": 27,
     "metadata": {},
     "output_type": "execute_result"
    }
   ],
   "source": [
    "from sklearn.ensemble import ExtraTreesRegressor\n",
    "model_ex = ExtraTreesRegressor(n_jobs=-1, random_state=667)\n",
    "model_ex.fit(x_train,y_train)\n",
    "model_ex.score(x_test,y_test)"
   ]
  },
  {
   "cell_type": "code",
   "execution_count": 28,
   "id": "ef722680",
   "metadata": {
    "execution": {
     "iopub.execute_input": "2022-08-14T11:08:13.521477Z",
     "iopub.status.busy": "2022-08-14T11:08:13.521083Z",
     "iopub.status.idle": "2022-08-14T11:08:17.151621Z",
     "shell.execute_reply": "2022-08-14T11:08:17.150766Z"
    },
    "papermill": {
     "duration": 3.65551,
     "end_time": "2022-08-14T11:08:17.153912",
     "exception": false,
     "start_time": "2022-08-14T11:08:13.498402",
     "status": "completed"
    },
    "tags": []
   },
   "outputs": [
    {
     "data": {
      "text/plain": [
       "<AxesSubplot:>"
      ]
     },
     "execution_count": 28,
     "metadata": {},
     "output_type": "execute_result"
    },
    {
     "data": {
      "image/png": "[encoded data removed]",
      "text/plain": [
       "<Figure size 1440x864 with 1 Axes>"
      ]
     },
     "metadata": {
      "needs_background": "light"
     },
     "output_type": "display_data"
    }
   ],
   "source": [
    "y_pred = model_ex.predict(x)\n",
    "ex = pd.DataFrame(data={'actual': data['NUMBER_LAYERS'], 'predicted': y_pred})\n",
    "ex.plot(figsize=(20, 12))"
   ]
  },
  {
   "cell_type": "code",
   "execution_count": null,
   "id": "788414d9",
   "metadata": {
    "papermill": {
     "duration": 0.023078,
     "end_time": "2022-08-14T11:08:17.199946",
     "exception": false,
     "start_time": "2022-08-14T11:08:17.176868",
     "status": "completed"
    },
    "tags": []
   },
   "outputs": [],
   "source": []
  }
 ],
 "metadata": {
  "kernelspec": {
   "display_name": "Python 3",
   "language": "python",
   "name": "python3"
  },
  "language_info": {
   "codemirror_mode": {
    "name": "ipython",
    "version": 3
   },
   "file_extension": ".py",
   "mimetype": "text/x-python",
   "name": "python",
   "nbconvert_exporter": "python",
   "pygments_lexer": "ipython3",
   "version": "3.7.12"
  },
  "papermill": {
   "default_parameters": {},
   "duration": 564.043531,
   "end_time": "2022-08-14T11:08:19.850546",
   "environment_variables": {},
   "exception": null,
   "input_path": "__notebook__.ipynb",
   "output_path": "__notebook__.ipynb",
   "parameters": {},
   "start_time": "2022-08-14T10:58:55.807015",
   "version": "2.3.4"
  },
  "widgets": {
   "application/vnd.jupyter.widget-state+json": {
    "state": {
     "057377c8e63149ef87f66c2df89c8eed": {
      "model_module": "@jupyter-widgets/controls",
      "model_module_version": "1.5.0",
      "model_name": "DescriptionStyleModel",
      "state": {
       "_model_module": "@jupyter-widgets/controls",
       "_model_module_version": "1.5.0",
       "_model_name": "DescriptionStyleModel",
       "_view_count": null,
       "_view_module": "@jupyter-widgets/base",
       "_view_module_version": "1.2.0",
       "_view_name": "StyleView",
       "description_width": ""
      }
     },
     "114982df38d949838a9e41e7877c2e8a": {
      "model_module": "@jupyter-widgets/base",
      "model_module_version": "1.2.0",
      "model_name": "LayoutModel",
      "state": {
       "_model_module": "@jupyter-widgets/base",
       "_model_module_version": "1.2.0",
       "_model_name": "LayoutModel",
       "_view_count": null,
       "_view_module": "@jupyter-widgets/base",
       "_view_module_version": "1.2.0",
       "_view_name": "LayoutView",
       "align_content": null,
       "align_items": null,
       "align_self": null,
       "border": null,
       "bottom": null,
       "display": null,
       "flex": null,
       "flex_flow": null,
       "grid_area": null,
       "grid_auto_columns": null,
       "grid_auto_flow": null,
       "grid_auto_rows": null,
       "grid_column": null,
       "grid_gap": null,
       "grid_row": null,
       "grid_template_areas": null,
       "grid_template_columns": null,
       "grid_template_rows": null,
       "height": null,
       "justify_content": null,
       "justify_items": null,
       "left": null,
       "margin": null,
       "max_height": null,
       "max_width": null,
       "min_height": null,
       "min_width": null,
       "object_fit": null,
       "object_position": null,
       "order": null,
       "overflow": null,
       "overflow_x": null,
       "overflow_y": null,
       "padding": null,
       "right": null,
       "top": null,
       "visibility": null,
       "width": null
      }
     },
     "2867a15b9af14ce68c79e1a155c702b9": {
      "model_module": "@jupyter-widgets/controls",
      "model_module_version": "1.5.0",
      "model_name": "DescriptionStyleModel",
      "state": {
       "_model_module": "@jupyter-widgets/controls",
       "_model_module_version": "1.5.0",
       "_model_name": "DescriptionStyleModel",
       "_view_count": null,
       "_view_module": "@jupyter-widgets/base",
       "_view_module_version": "1.2.0",
       "_view_name": "StyleView",
       "description_width": ""
      }
     },
     "57d17f3d1adc474da4fc42e33c76ea41": {
      "model_module": "@jupyter-widgets/controls",
      "model_module_version": "1.5.0",
      "model_name": "HTMLModel",
      "state": {
       "_dom_classes": [],
       "_model_module": "@jupyter-widgets/controls",
       "_model_module_version": "1.5.0",
       "_model_name": "HTMLModel",
       "_view_count": null,
       "_view_module": "@jupyter-widgets/controls",
       "_view_module_version": "1.5.0",
       "_view_name": "HTMLView",
       "description": "",
       "description_tooltip": null,
       "layout": "IPY_MODEL_fbdecb60832c41aa92cfd5556e169f99",
       "placeholder": "​",
       "style": "IPY_MODEL_057377c8e63149ef87f66c2df89c8eed",
       "value": " 69/85 [06:44&lt;03:33, 13.33s/it]"
      }
     },
     "6bdd73e135ae4e8aa7e18d1f2e1997c1": {
      "model_module": "@jupyter-widgets/controls",
      "model_module_version": "1.5.0",
      "model_name": "HBoxModel",
      "state": {
       "_dom_classes": [],
       "_model_module": "@jupyter-widgets/controls",
       "_model_module_version": "1.5.0",
       "_model_name": "HBoxModel",
       "_view_count": null,
       "_view_module": "@jupyter-widgets/controls",
       "_view_module_version": "1.5.0",
       "_view_name": "HBoxView",
       "box_style": "",
       "children": [
        "IPY_MODEL_876b3bd34eb24e438bde6e3e52cd16fb",
        "IPY_MODEL_cba14e3061d341ca8b95d58b365c36ed",
        "IPY_MODEL_57d17f3d1adc474da4fc42e33c76ea41"
       ],
       "layout": "IPY_MODEL_114982df38d949838a9e41e7877c2e8a"
      }
     },
     "876b3bd34eb24e438bde6e3e52cd16fb": {
      "model_module": "@jupyter-widgets/controls",
      "model_module_version": "1.5.0",
      "model_name": "HTMLModel",
      "state": {
       "_dom_classes": [],
       "_model_module": "@jupyter-widgets/controls",
       "_model_module_version": "1.5.0",
       "_model_name": "HTMLModel",
       "_view_count": null,
       "_view_module": "@jupyter-widgets/controls",
       "_view_module_version": "1.5.0",
       "_view_name": "HTMLView",
       "description": "",
       "description_tooltip": null,
       "layout": "IPY_MODEL_d035ec5cb668438ab1d6dbef0eafe0ac",
       "placeholder": "​",
       "style": "IPY_MODEL_2867a15b9af14ce68c79e1a155c702b9",
       "value": "Processing:  81%"
      }
     },
     "c15df14da07749fb80c4c30e336e1428": {
      "model_module": "@jupyter-widgets/controls",
      "model_module_version": "1.5.0",
      "model_name": "ProgressStyleModel",
      "state": {
       "_model_module": "@jupyter-widgets/controls",
       "_model_module_version": "1.5.0",
       "_model_name": "ProgressStyleModel",
       "_view_count": null,
       "_view_module": "@jupyter-widgets/base",
       "_view_module_version": "1.2.0",
       "_view_name": "StyleView",
       "bar_color": null,
       "description_width": ""
      }
     },
     "cba14e3061d341ca8b95d58b365c36ed": {
      "model_module": "@jupyter-widgets/controls",
      "model_module_version": "1.5.0",
      "model_name": "FloatProgressModel",
      "state": {
       "_dom_classes": [],
       "_model_module": "@jupyter-widgets/controls",
       "_model_module_version": "1.5.0",
       "_model_name": "FloatProgressModel",
       "_view_count": null,
       "_view_module": "@jupyter-widgets/controls",
       "_view_module_version": "1.5.0",
       "_view_name": "ProgressView",
       "bar_style": "danger",
       "description": "",
       "description_tooltip": null,
       "layout": "IPY_MODEL_e79c04af1a8a4430bbd8b9067eebb523",
       "max": 85.0,
       "min": 0.0,
       "orientation": "horizontal",
       "style": "IPY_MODEL_c15df14da07749fb80c4c30e336e1428",
       "value": 69.0
      }
     },
     "d035ec5cb668438ab1d6dbef0eafe0ac": {
      "model_module": "@jupyter-widgets/base",
      "model_module_version": "1.2.0",
      "model_name": "LayoutModel",
      "state": {
       "_model_module": "@jupyter-widgets/base",
       "_model_module_version": "1.2.0",
       "_model_name": "LayoutModel",
       "_view_count": null,
       "_view_module": "@jupyter-widgets/base",
       "_view_module_version": "1.2.0",
       "_view_name": "LayoutView",
       "align_content": null,
       "align_items": null,
       "align_self": null,
       "border": null,
       "bottom": null,
       "display": null,
       "flex": null,
       "flex_flow": null,
       "grid_area": null,
       "grid_auto_columns": null,
       "grid_auto_flow": null,
       "grid_auto_rows": null,
       "grid_column": null,
       "grid_gap": null,
       "grid_row": null,
       "grid_template_areas": null,
       "grid_template_columns": null,
       "grid_template_rows": null,
       "height": null,
       "justify_content": null,
       "justify_items": null,
       "left": null,
       "margin": null,
       "max_height": null,
       "max_width": null,
       "min_height": null,
       "min_width": null,
       "object_fit": null,
       "object_position": null,
       "order": null,
       "overflow": null,
       "overflow_x": null,
       "overflow_y": null,
       "padding": null,
       "right": null,
       "top": null,
       "visibility": null,
       "width": null
      }
     },
     "e79c04af1a8a4430bbd8b9067eebb523": {
      "model_module": "@jupyter-widgets/base",
      "model_module_version": "1.2.0",
      "model_name": "LayoutModel",
      "state": {
       "_model_module": "@jupyter-widgets/base",
       "_model_module_version": "1.2.0",
       "_model_name": "LayoutModel",
       "_view_count": null,
       "_view_module": "@jupyter-widgets/base",
       "_view_module_version": "1.2.0",
       "_view_name": "LayoutView",
       "align_content": null,
       "align_items": null,
       "align_self": null,
       "border": null,
       "bottom": null,
       "display": null,
       "flex": null,
       "flex_flow": null,
       "grid_area": null,
       "grid_auto_columns": null,
       "grid_auto_flow": null,
       "grid_auto_rows": null,
       "grid_column": null,
       "grid_gap": null,
       "grid_row": null,
       "grid_template_areas": null,
       "grid_template_columns": null,
       "grid_template_rows": null,
       "height": null,
       "justify_content": null,
       "justify_items": null,
       "left": null,
       "margin": null,
       "max_height": null,
       "max_width": null,
       "min_height": null,
       "min_width": null,
       "object_fit": null,
       "object_position": null,
       "order": null,
       "overflow": null,
       "overflow_x": null,
       "overflow_y": null,
       "padding": null,
       "right": null,
       "top": null,
       "visibility": null,
       "width": null
      }
     },
     "fbdecb60832c41aa92cfd5556e169f99": {
      "model_module": "@jupyter-widgets/base",
      "model_module_version": "1.2.0",
      "model_name": "LayoutModel",
      "state": {
       "_model_module": "@jupyter-widgets/base",
       "_model_module_version": "1.2.0",
       "_model_name": "LayoutModel",
       "_view_count": null,
       "_view_module": "@jupyter-widgets/base",
       "_view_module_version": "1.2.0",
       "_view_name": "LayoutView",
       "align_content": null,
       "align_items": null,
       "align_self": null,
       "border": null,
       "bottom": null,
       "display": null,
       "flex": null,
       "flex_flow": null,
       "grid_area": null,
       "grid_auto_columns": null,
       "grid_auto_flow": null,
       "grid_auto_rows": null,
       "grid_column": null,
       "grid_gap": null,
       "grid_row": null,
       "grid_template_areas": null,
       "grid_template_columns": null,
       "grid_template_rows": null,
       "height": null,
       "justify_content": null,
       "justify_items": null,
       "left": null,
       "margin": null,
       "max_height": null,
       "max_width": null,
       "min_height": null,
       "min_width": null,
       "object_fit": null,
       "object_position": null,
       "order": null,
       "overflow": null,
       "overflow_x": null,
       "overflow_y": null,
       "padding": null,
       "right": null,
       "top": null,
       "visibility": null,
       "width": null
      }
     }
    },
    "version_major": 2,
    "version_minor": 0
   }
  }
 },
 "nbformat": 4,
 "nbformat_minor": 5
}
