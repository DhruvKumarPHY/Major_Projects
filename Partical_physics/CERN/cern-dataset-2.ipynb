{
 "cells": [
  {
   "cell_type": "code",
   "execution_count": 1,
   "id": "fa923797",
   "metadata": {
    "execution": {
     "iopub.execute_input": "2022-08-16T13:25:15.541552Z",
     "iopub.status.busy": "2022-08-16T13:25:15.541042Z",
     "iopub.status.idle": "2022-08-16T13:25:15.553227Z",
     "shell.execute_reply": "2022-08-16T13:25:15.551979Z"
    },
    "papermill": {
     "duration": 0.027969,
     "end_time": "2022-08-16T13:25:15.555890",
     "exception": false,
     "start_time": "2022-08-16T13:25:15.527921",
     "status": "completed"
    },
    "tags": []
   },
   "outputs": [],
   "source": [
    "import numpy as np # linear algebra\n",
    "import pandas as pd "
   ]
  },
  {
   "cell_type": "markdown",
   "id": "3386a949",
   "metadata": {
    "papermill": {
     "duration": 0.008174,
     "end_time": "2022-08-16T13:25:15.572850",
     "exception": false,
     "start_time": "2022-08-16T13:25:15.564676",
     "status": "completed"
    },
    "tags": []
   },
   "source": [
    "# About Dataset\n",
    "## Context\n",
    "\n",
    "This dataset contains 100k dielectron events in the invariant mass range 2-110 GeV for use in outreach and education. These data were selected for use in education and outreach and contain a subset of the total event information. The selection criteria may be different from that used in CMS physics results.\n",
    "\n",
    "## Content\n",
    "\n",
    "1) Run: The run number of the event.  \n",
    "2) Event: The event number.  \n",
    "3, 11) E1, E2: The total energy of the electron (GeV) for electrons 1 and 2.   \n",
    "4, 5, 6, 12, 13, 14) px1,py1,pz1,px2,py2,pz2: The components of the momemtum of the electron 1 and 2 (GeV).   \n",
    "7, 15) pt1, pt2: The transverse momentum of the electron 1 and 2 (GeV).   \n",
    "8, 16) eta1, eta2: The pseudorapidity of the electron 1 and 2.   \n",
    "9, 17) phi1, phi2: The phi angle of the electron 1 and 2 (rad).   \n",
    "10, 18) Q1, Q2: The charge of the electron 1 and 2.    \n",
    "19) M: The invariant mass of two electrons (GeV).   \n",
    "\n",
    "## Acknowledgements\n",
    "\n",
    "Cite as: McCauley, Thomas; (2014). https://opendata.cern.ch/record/304\n",
    "\n",
    "## Inspiration\n",
    "\n",
    "The data was taken from the CERN Open Data Portal: https://opendata.cern.ch/\n",
    "The open data are released under the Creative Commons CC0 waiver. Neither CMS nor CERN endorse any works, scientific or otherwise, produced using these data. All releases will have a unique DOI that you are requested to cite in any applications or publications."
   ]
  },
  {
   "cell_type": "code",
   "execution_count": 2,
   "id": "7e73b5d2",
   "metadata": {
    "execution": {
     "iopub.execute_input": "2022-08-16T13:25:15.591927Z",
     "iopub.status.busy": "2022-08-16T13:25:15.591483Z",
     "iopub.status.idle": "2022-08-16T13:25:16.058502Z",
     "shell.execute_reply": "2022-08-16T13:25:16.057117Z"
    },
    "papermill": {
     "duration": 0.48004,
     "end_time": "2022-08-16T13:25:16.061530",
     "exception": false,
     "start_time": "2022-08-16T13:25:15.581490",
     "status": "completed"
    },
    "tags": []
   },
   "outputs": [],
   "source": [
    "data = pd.read_csv('../input/cern-electron-collision-data/dielectron.csv')"
   ]
  },
  {
   "cell_type": "code",
   "execution_count": 3,
   "id": "70a67fa9",
   "metadata": {
    "execution": {
     "iopub.execute_input": "2022-08-16T13:25:16.081680Z",
     "iopub.status.busy": "2022-08-16T13:25:16.081271Z",
     "iopub.status.idle": "2022-08-16T13:25:16.117249Z",
     "shell.execute_reply": "2022-08-16T13:25:16.116006Z"
    },
    "papermill": {
     "duration": 0.049375,
     "end_time": "2022-08-16T13:25:16.120200",
     "exception": false,
     "start_time": "2022-08-16T13:25:16.070825",
     "status": "completed"
    },
    "tags": []
   },
   "outputs": [
    {
     "name": "stdout",
     "output_type": "stream",
     "text": [
      "<class 'pandas.core.frame.DataFrame'>\n",
      "RangeIndex: 100000 entries, 0 to 99999\n",
      "Data columns (total 19 columns):\n",
      " #   Column  Non-Null Count   Dtype  \n",
      "---  ------  --------------   -----  \n",
      " 0   Run     100000 non-null  int64  \n",
      " 1   Event   100000 non-null  int64  \n",
      " 2   E1      100000 non-null  float64\n",
      " 3   px1     100000 non-null  float64\n",
      " 4   py1     100000 non-null  float64\n",
      " 5   pz1     100000 non-null  float64\n",
      " 6   pt1     100000 non-null  float64\n",
      " 7   eta1    100000 non-null  float64\n",
      " 8   phi1    100000 non-null  float64\n",
      " 9   Q1      100000 non-null  int64  \n",
      " 10  E2      100000 non-null  float64\n",
      " 11  px2     100000 non-null  float64\n",
      " 12  py2     100000 non-null  float64\n",
      " 13  pz2     100000 non-null  float64\n",
      " 14  pt2     100000 non-null  float64\n",
      " 15  eta2    100000 non-null  float64\n",
      " 16  phi2    100000 non-null  float64\n",
      " 17  Q2      100000 non-null  int64  \n",
      " 18  M       99915 non-null   float64\n",
      "dtypes: float64(15), int64(4)\n",
      "memory usage: 14.5 MB\n"
     ]
    }
   ],
   "source": [
    "data.info()"
   ]
  },
  {
   "cell_type": "code",
   "execution_count": 4,
   "id": "09af66c6",
   "metadata": {
    "execution": {
     "iopub.execute_input": "2022-08-16T13:25:16.139231Z",
     "iopub.status.busy": "2022-08-16T13:25:16.138781Z",
     "iopub.status.idle": "2022-08-16T13:25:16.150583Z",
     "shell.execute_reply": "2022-08-16T13:25:16.149515Z"
    },
    "papermill": {
     "duration": 0.024081,
     "end_time": "2022-08-16T13:25:16.153044",
     "exception": false,
     "start_time": "2022-08-16T13:25:16.128963",
     "status": "completed"
    },
    "tags": []
   },
   "outputs": [],
   "source": [
    "# there are some data points which are missing in 'M' column so I am hoing to fill in by the median value of the column\n",
    "data['M'].fillna(data['M'].median(),inplace=True)"
   ]
  },
  {
   "cell_type": "code",
   "execution_count": 5,
   "id": "e2ab9828",
   "metadata": {
    "execution": {
     "iopub.execute_input": "2022-08-16T13:25:16.172407Z",
     "iopub.status.busy": "2022-08-16T13:25:16.171668Z",
     "iopub.status.idle": "2022-08-16T13:25:16.202794Z",
     "shell.execute_reply": "2022-08-16T13:25:16.201350Z"
    },
    "papermill": {
     "duration": 0.043766,
     "end_time": "2022-08-16T13:25:16.205447",
     "exception": false,
     "start_time": "2022-08-16T13:25:16.161681",
     "status": "completed"
    },
    "tags": []
   },
   "outputs": [
    {
     "data": {
      "text/html": [
       "<div>\n",
       "<style scoped>\n",
       "    .dataframe tbody tr th:only-of-type {\n",
       "        vertical-align: middle;\n",
       "    }\n",
       "\n",
       "    .dataframe tbody tr th {\n",
       "        vertical-align: top;\n",
       "    }\n",
       "\n",
       "    .dataframe thead th {\n",
       "        text-align: right;\n",
       "    }\n",
       "</style>\n",
       "<table border=\"1\" class=\"dataframe\">\n",
       "  <thead>\n",
       "    <tr style=\"text-align: right;\">\n",
       "      <th></th>\n",
       "      <th>Run</th>\n",
       "      <th>Event</th>\n",
       "      <th>E1</th>\n",
       "      <th>px1</th>\n",
       "      <th>py1</th>\n",
       "      <th>pz1</th>\n",
       "      <th>pt1</th>\n",
       "      <th>eta1</th>\n",
       "      <th>phi1</th>\n",
       "      <th>Q1</th>\n",
       "      <th>E2</th>\n",
       "      <th>px2</th>\n",
       "      <th>py2</th>\n",
       "      <th>pz2</th>\n",
       "      <th>pt2</th>\n",
       "      <th>eta2</th>\n",
       "      <th>phi2</th>\n",
       "      <th>Q2</th>\n",
       "      <th>M</th>\n",
       "    </tr>\n",
       "  </thead>\n",
       "  <tbody>\n",
       "    <tr>\n",
       "      <th>0</th>\n",
       "      <td>147115</td>\n",
       "      <td>366639895</td>\n",
       "      <td>58.71410</td>\n",
       "      <td>-7.31132</td>\n",
       "      <td>10.531000</td>\n",
       "      <td>-57.29740</td>\n",
       "      <td>12.82020</td>\n",
       "      <td>-2.20267</td>\n",
       "      <td>2.17766</td>\n",
       "      <td>1</td>\n",
       "      <td>11.2836</td>\n",
       "      <td>-1.032340</td>\n",
       "      <td>-1.88066</td>\n",
       "      <td>-11.0778</td>\n",
       "      <td>2.14537</td>\n",
       "      <td>-2.344030</td>\n",
       "      <td>-2.072810</td>\n",
       "      <td>-1</td>\n",
       "      <td>8.94841</td>\n",
       "    </tr>\n",
       "    <tr>\n",
       "      <th>1</th>\n",
       "      <td>147115</td>\n",
       "      <td>366704169</td>\n",
       "      <td>6.61188</td>\n",
       "      <td>-4.15213</td>\n",
       "      <td>-0.579855</td>\n",
       "      <td>-5.11278</td>\n",
       "      <td>4.19242</td>\n",
       "      <td>-1.02842</td>\n",
       "      <td>-3.00284</td>\n",
       "      <td>-1</td>\n",
       "      <td>17.1492</td>\n",
       "      <td>-11.713500</td>\n",
       "      <td>5.04474</td>\n",
       "      <td>11.4647</td>\n",
       "      <td>12.75360</td>\n",
       "      <td>0.808077</td>\n",
       "      <td>2.734920</td>\n",
       "      <td>1</td>\n",
       "      <td>15.89300</td>\n",
       "    </tr>\n",
       "    <tr>\n",
       "      <th>2</th>\n",
       "      <td>147115</td>\n",
       "      <td>367112316</td>\n",
       "      <td>25.54190</td>\n",
       "      <td>-11.48090</td>\n",
       "      <td>2.041680</td>\n",
       "      <td>22.72460</td>\n",
       "      <td>11.66100</td>\n",
       "      <td>1.42048</td>\n",
       "      <td>2.96560</td>\n",
       "      <td>1</td>\n",
       "      <td>15.8203</td>\n",
       "      <td>-1.472800</td>\n",
       "      <td>2.25895</td>\n",
       "      <td>-15.5888</td>\n",
       "      <td>2.69667</td>\n",
       "      <td>-2.455080</td>\n",
       "      <td>2.148570</td>\n",
       "      <td>1</td>\n",
       "      <td>38.38770</td>\n",
       "    </tr>\n",
       "    <tr>\n",
       "      <th>3</th>\n",
       "      <td>147115</td>\n",
       "      <td>366952149</td>\n",
       "      <td>65.39590</td>\n",
       "      <td>7.51214</td>\n",
       "      <td>11.887100</td>\n",
       "      <td>63.86620</td>\n",
       "      <td>14.06190</td>\n",
       "      <td>2.21838</td>\n",
       "      <td>1.00721</td>\n",
       "      <td>1</td>\n",
       "      <td>25.1273</td>\n",
       "      <td>4.087860</td>\n",
       "      <td>2.59641</td>\n",
       "      <td>24.6563</td>\n",
       "      <td>4.84272</td>\n",
       "      <td>2.330210</td>\n",
       "      <td>0.565865</td>\n",
       "      <td>-1</td>\n",
       "      <td>3.72862</td>\n",
       "    </tr>\n",
       "    <tr>\n",
       "      <th>4</th>\n",
       "      <td>147115</td>\n",
       "      <td>366523212</td>\n",
       "      <td>61.45040</td>\n",
       "      <td>2.95284</td>\n",
       "      <td>-14.622700</td>\n",
       "      <td>-59.61210</td>\n",
       "      <td>14.91790</td>\n",
       "      <td>-2.09375</td>\n",
       "      <td>-1.37154</td>\n",
       "      <td>-1</td>\n",
       "      <td>13.8871</td>\n",
       "      <td>-0.277757</td>\n",
       "      <td>-2.42560</td>\n",
       "      <td>-13.6708</td>\n",
       "      <td>2.44145</td>\n",
       "      <td>-2.423700</td>\n",
       "      <td>-1.684810</td>\n",
       "      <td>-1</td>\n",
       "      <td>2.74718</td>\n",
       "    </tr>\n",
       "  </tbody>\n",
       "</table>\n",
       "</div>"
      ],
      "text/plain": [
       "      Run      Event        E1      px1         py1       pz1       pt1  \\\n",
       "0  147115  366639895  58.71410  -7.31132  10.531000 -57.29740  12.82020   \n",
       "1  147115  366704169   6.61188  -4.15213  -0.579855  -5.11278   4.19242   \n",
       "2  147115  367112316  25.54190 -11.48090   2.041680  22.72460  11.66100   \n",
       "3  147115  366952149  65.39590   7.51214  11.887100  63.86620  14.06190   \n",
       "4  147115  366523212  61.45040   2.95284 -14.622700 -59.61210  14.91790   \n",
       "\n",
       "      eta1     phi1  Q1       E2        px2      py2      pz2       pt2  \\\n",
       "0 -2.20267  2.17766   1  11.2836  -1.032340 -1.88066 -11.0778   2.14537   \n",
       "1 -1.02842 -3.00284  -1  17.1492 -11.713500  5.04474  11.4647  12.75360   \n",
       "2  1.42048  2.96560   1  15.8203  -1.472800  2.25895 -15.5888   2.69667   \n",
       "3  2.21838  1.00721   1  25.1273   4.087860  2.59641  24.6563   4.84272   \n",
       "4 -2.09375 -1.37154  -1  13.8871  -0.277757 -2.42560 -13.6708   2.44145   \n",
       "\n",
       "       eta2      phi2  Q2         M  \n",
       "0 -2.344030 -2.072810  -1   8.94841  \n",
       "1  0.808077  2.734920   1  15.89300  \n",
       "2 -2.455080  2.148570   1  38.38770  \n",
       "3  2.330210  0.565865  -1   3.72862  \n",
       "4 -2.423700 -1.684810  -1   2.74718  "
      ]
     },
     "execution_count": 5,
     "metadata": {},
     "output_type": "execute_result"
    }
   ],
   "source": [
    "data.head(5)"
   ]
  },
  {
   "cell_type": "code",
   "execution_count": 6,
   "id": "bde422ee",
   "metadata": {
    "execution": {
     "iopub.execute_input": "2022-08-16T13:25:16.226010Z",
     "iopub.status.busy": "2022-08-16T13:25:16.225256Z",
     "iopub.status.idle": "2022-08-16T13:25:16.231627Z",
     "shell.execute_reply": "2022-08-16T13:25:16.230540Z"
    },
    "papermill": {
     "duration": 0.019193,
     "end_time": "2022-08-16T13:25:16.234013",
     "exception": false,
     "start_time": "2022-08-16T13:25:16.214820",
     "status": "completed"
    },
    "tags": []
   },
   "outputs": [],
   "source": [
    "data['Total Energy'] = data['E1'] + data['E2']"
   ]
  },
  {
   "cell_type": "code",
   "execution_count": 7,
   "id": "26cef2c9",
   "metadata": {
    "execution": {
     "iopub.execute_input": "2022-08-16T13:25:16.255407Z",
     "iopub.status.busy": "2022-08-16T13:25:16.254643Z",
     "iopub.status.idle": "2022-08-16T13:25:16.261176Z",
     "shell.execute_reply": "2022-08-16T13:25:16.260348Z"
    },
    "papermill": {
     "duration": 0.019284,
     "end_time": "2022-08-16T13:25:16.263336",
     "exception": false,
     "start_time": "2022-08-16T13:25:16.244052",
     "status": "completed"
    },
    "tags": []
   },
   "outputs": [
    {
     "data": {
      "text/plain": [
       "'\\nfrom pandas_profiling import ProfileReport\\nprofile = ProfileReport(data,title=\"Electron Collision Report\",explorative=True)\\nprofile.to_notebook_iframe()\\n'"
      ]
     },
     "execution_count": 7,
     "metadata": {},
     "output_type": "execute_result"
    }
   ],
   "source": [
    "'''\n",
    "from pandas_profiling import ProfileReport\n",
    "profile = ProfileReport(data,title=\"Electron Collision Report\",explorative=True)\n",
    "profile.to_notebook_iframe()\n",
    "'''"
   ]
  },
  {
   "cell_type": "code",
   "execution_count": 8,
   "id": "fe170651",
   "metadata": {
    "execution": {
     "iopub.execute_input": "2022-08-16T13:25:16.284194Z",
     "iopub.status.busy": "2022-08-16T13:25:16.283420Z",
     "iopub.status.idle": "2022-08-16T13:25:16.302143Z",
     "shell.execute_reply": "2022-08-16T13:25:16.301039Z"
    },
    "papermill": {
     "duration": 0.032141,
     "end_time": "2022-08-16T13:25:16.304918",
     "exception": false,
     "start_time": "2022-08-16T13:25:16.272777",
     "status": "completed"
    },
    "tags": []
   },
   "outputs": [],
   "source": [
    "# Here, for the data set i will try to predict the  (M: The invariant mass of two electrons (GeV)) for the given parameters\n",
    "data.drop(['Run','Event'],axis=1,inplace=True)"
   ]
  },
  {
   "cell_type": "code",
   "execution_count": 9,
   "id": "40f1af13",
   "metadata": {
    "execution": {
     "iopub.execute_input": "2022-08-16T13:25:16.325792Z",
     "iopub.status.busy": "2022-08-16T13:25:16.325042Z",
     "iopub.status.idle": "2022-08-16T13:25:16.342742Z",
     "shell.execute_reply": "2022-08-16T13:25:16.341782Z"
    },
    "papermill": {
     "duration": 0.031944,
     "end_time": "2022-08-16T13:25:16.345931",
     "exception": false,
     "start_time": "2022-08-16T13:25:16.313987",
     "status": "completed"
    },
    "tags": []
   },
   "outputs": [
    {
     "name": "stdout",
     "output_type": "stream",
     "text": [
      "<class 'pandas.core.frame.DataFrame'>\n",
      "RangeIndex: 100000 entries, 0 to 99999\n",
      "Data columns (total 18 columns):\n",
      " #   Column        Non-Null Count   Dtype  \n",
      "---  ------        --------------   -----  \n",
      " 0   E1            100000 non-null  float64\n",
      " 1   px1           100000 non-null  float64\n",
      " 2   py1           100000 non-null  float64\n",
      " 3   pz1           100000 non-null  float64\n",
      " 4   pt1           100000 non-null  float64\n",
      " 5   eta1          100000 non-null  float64\n",
      " 6   phi1          100000 non-null  float64\n",
      " 7   Q1            100000 non-null  int64  \n",
      " 8   E2            100000 non-null  float64\n",
      " 9   px2           100000 non-null  float64\n",
      " 10  py2           100000 non-null  float64\n",
      " 11  pz2           100000 non-null  float64\n",
      " 12  pt2           100000 non-null  float64\n",
      " 13  eta2          100000 non-null  float64\n",
      " 14  phi2          100000 non-null  float64\n",
      " 15  Q2            100000 non-null  int64  \n",
      " 16  M             100000 non-null  float64\n",
      " 17  Total Energy  100000 non-null  float64\n",
      "dtypes: float64(16), int64(2)\n",
      "memory usage: 13.7 MB\n"
     ]
    }
   ],
   "source": [
    "data.info()"
   ]
  },
  {
   "cell_type": "code",
   "execution_count": 10,
   "id": "ab19fbd1",
   "metadata": {
    "execution": {
     "iopub.execute_input": "2022-08-16T13:25:16.367092Z",
     "iopub.status.busy": "2022-08-16T13:25:16.366462Z",
     "iopub.status.idle": "2022-08-16T13:25:16.379273Z",
     "shell.execute_reply": "2022-08-16T13:25:16.377944Z"
    },
    "papermill": {
     "duration": 0.026401,
     "end_time": "2022-08-16T13:25:16.382330",
     "exception": false,
     "start_time": "2022-08-16T13:25:16.355929",
     "status": "completed"
    },
    "tags": []
   },
   "outputs": [],
   "source": [
    "data2 = data.copy()"
   ]
  },
  {
   "cell_type": "code",
   "execution_count": 11,
   "id": "98610d82",
   "metadata": {
    "execution": {
     "iopub.execute_input": "2022-08-16T13:25:16.402848Z",
     "iopub.status.busy": "2022-08-16T13:25:16.402037Z",
     "iopub.status.idle": "2022-08-16T13:25:17.671432Z",
     "shell.execute_reply": "2022-08-16T13:25:17.670264Z"
    },
    "papermill": {
     "duration": 1.282499,
     "end_time": "2022-08-16T13:25:17.674066",
     "exception": false,
     "start_time": "2022-08-16T13:25:16.391567",
     "status": "completed"
    },
    "tags": []
   },
   "outputs": [],
   "source": [
    "from sklearn.preprocessing import StandardScaler\n",
    "scaler=StandardScaler()\n",
    "scaled_data=scaler.fit_transform(data)"
   ]
  },
  {
   "cell_type": "code",
   "execution_count": 12,
   "id": "0d9d4f3c",
   "metadata": {
    "execution": {
     "iopub.execute_input": "2022-08-16T13:25:17.694752Z",
     "iopub.status.busy": "2022-08-16T13:25:17.693513Z",
     "iopub.status.idle": "2022-08-16T13:25:17.702602Z",
     "shell.execute_reply": "2022-08-16T13:25:17.701638Z"
    },
    "papermill": {
     "duration": 0.021852,
     "end_time": "2022-08-16T13:25:17.705037",
     "exception": false,
     "start_time": "2022-08-16T13:25:17.683185",
     "status": "completed"
    },
    "tags": []
   },
   "outputs": [],
   "source": [
    "y = data['M']\n",
    "x = data.drop('M',axis=1)"
   ]
  },
  {
   "cell_type": "code",
   "execution_count": 13,
   "id": "91672b77",
   "metadata": {
    "execution": {
     "iopub.execute_input": "2022-08-16T13:25:17.725714Z",
     "iopub.status.busy": "2022-08-16T13:25:17.724973Z",
     "iopub.status.idle": "2022-08-16T13:25:17.828712Z",
     "shell.execute_reply": "2022-08-16T13:25:17.827337Z"
    },
    "papermill": {
     "duration": 0.117205,
     "end_time": "2022-08-16T13:25:17.831645",
     "exception": false,
     "start_time": "2022-08-16T13:25:17.714440",
     "status": "completed"
    },
    "tags": []
   },
   "outputs": [],
   "source": [
    "from sklearn.model_selection import train_test_split\n",
    "x_train,x_test,y_train,y_test = train_test_split(x,y,test_size=0.2)"
   ]
  },
  {
   "cell_type": "code",
   "execution_count": 14,
   "id": "d928e8c4",
   "metadata": {
    "execution": {
     "iopub.execute_input": "2022-08-16T13:25:17.852155Z",
     "iopub.status.busy": "2022-08-16T13:25:17.851772Z",
     "iopub.status.idle": "2022-08-16T13:25:17.858515Z",
     "shell.execute_reply": "2022-08-16T13:25:17.857371Z"
    },
    "papermill": {
     "duration": 0.020215,
     "end_time": "2022-08-16T13:25:17.861332",
     "exception": false,
     "start_time": "2022-08-16T13:25:17.841117",
     "status": "completed"
    },
    "tags": []
   },
   "outputs": [
    {
     "data": {
      "text/plain": [
       "'\\n# K nearest neighbors\\n\\nfrom sklearn.neighbors import KNeighborsRegressor\\n\\nknn = KNeighborsRegressor() # Define classifier\\nknn.fit(x_train, y_train) # Train model\\nknn.score(x_test,y_test)\\n'"
      ]
     },
     "execution_count": 14,
     "metadata": {},
     "output_type": "execute_result"
    }
   ],
   "source": [
    "'''\n",
    "# K nearest neighbors\n",
    "\n",
    "from sklearn.neighbors import KNeighborsRegressor\n",
    "\n",
    "knn = KNeighborsRegressor() # Define classifier\n",
    "knn.fit(x_train, y_train) # Train model\n",
    "knn.score(x_test,y_test)\n",
    "'''"
   ]
  },
  {
   "cell_type": "code",
   "execution_count": 15,
   "id": "f1e8f6b2",
   "metadata": {
    "execution": {
     "iopub.execute_input": "2022-08-16T13:25:17.882023Z",
     "iopub.status.busy": "2022-08-16T13:25:17.881201Z",
     "iopub.status.idle": "2022-08-16T13:25:17.889040Z",
     "shell.execute_reply": "2022-08-16T13:25:17.887627Z"
    },
    "papermill": {
     "duration": 0.021109,
     "end_time": "2022-08-16T13:25:17.891590",
     "exception": false,
     "start_time": "2022-08-16T13:25:17.870481",
     "status": "completed"
    },
    "tags": []
   },
   "outputs": [
    {
     "data": {
      "text/plain": [
       "'\\n# Random forest\\nfrom sklearn.ensemble import RandomForestRegressor\\n\\nrf = RandomForestRegressor() # Define classifier\\nrf.fit(x_train, y_train) # Train model\\nrf.score(x_test,y_test)\\n'"
      ]
     },
     "execution_count": 15,
     "metadata": {},
     "output_type": "execute_result"
    }
   ],
   "source": [
    "'''\n",
    "# Random forest\n",
    "from sklearn.ensemble import RandomForestRegressor\n",
    "\n",
    "rf = RandomForestRegressor() # Define classifier\n",
    "rf.fit(x_train, y_train) # Train model\n",
    "rf.score(x_test,y_test)\n",
    "'''"
   ]
  },
  {
   "cell_type": "code",
   "execution_count": 16,
   "id": "7df6637a",
   "metadata": {
    "execution": {
     "iopub.execute_input": "2022-08-16T13:25:17.913099Z",
     "iopub.status.busy": "2022-08-16T13:25:17.912355Z",
     "iopub.status.idle": "2022-08-16T13:26:25.918622Z",
     "shell.execute_reply": "2022-08-16T13:26:25.917043Z"
    },
    "papermill": {
     "duration": 68.044304,
     "end_time": "2022-08-16T13:26:25.945510",
     "exception": false,
     "start_time": "2022-08-16T13:25:17.901206",
     "status": "completed"
    },
    "tags": []
   },
   "outputs": [
    {
     "data": {
      "text/plain": [
       "0.9943665056967811"
      ]
     },
     "execution_count": 16,
     "metadata": {},
     "output_type": "execute_result"
    }
   ],
   "source": [
    "\n",
    "#Neural network\n",
    "\n",
    "from sklearn.neural_network import MLPRegressor\n",
    "\n",
    "mlp = MLPRegressor(alpha=1, max_iter=1000)\n",
    "mlp.fit(x_train, y_train)\n",
    "mlp.score(x_test,y_test)\n"
   ]
  },
  {
   "cell_type": "code",
   "execution_count": 17,
   "id": "5ab35473",
   "metadata": {
    "execution": {
     "iopub.execute_input": "2022-08-16T13:26:25.996638Z",
     "iopub.status.busy": "2022-08-16T13:26:25.995883Z",
     "iopub.status.idle": "2022-08-16T13:26:26.202289Z",
     "shell.execute_reply": "2022-08-16T13:26:26.200702Z"
    },
    "papermill": {
     "duration": 0.237707,
     "end_time": "2022-08-16T13:26:26.207221",
     "exception": false,
     "start_time": "2022-08-16T13:26:25.969514",
     "status": "completed"
    },
    "tags": []
   },
   "outputs": [
    {
     "name": "stderr",
     "output_type": "stream",
     "text": [
      "/opt/conda/lib/python3.7/site-packages/ipykernel_launcher.py:3: SettingWithCopyWarning: \n",
      "A value is trying to be set on a copy of a slice from a DataFrame.\n",
      "Try using .loc[row_indexer,col_indexer] = value instead\n",
      "\n",
      "See the caveats in the documentation: https://pandas.pydata.org/pandas-docs/stable/user_guide/indexing.html#returning-a-view-versus-a-copy\n",
      "  This is separate from the ipykernel package so we can avoid doing imports until\n"
     ]
    },
    {
     "data": {
      "text/html": [
       "<div>\n",
       "<style scoped>\n",
       "    .dataframe tbody tr th:only-of-type {\n",
       "        vertical-align: middle;\n",
       "    }\n",
       "\n",
       "    .dataframe tbody tr th {\n",
       "        vertical-align: top;\n",
       "    }\n",
       "\n",
       "    .dataframe thead th {\n",
       "        text-align: right;\n",
       "    }\n",
       "</style>\n",
       "<table border=\"1\" class=\"dataframe\">\n",
       "  <thead>\n",
       "    <tr style=\"text-align: right;\">\n",
       "      <th></th>\n",
       "      <th>Total Energy</th>\n",
       "      <th>M</th>\n",
       "      <th>Prediction</th>\n",
       "    </tr>\n",
       "  </thead>\n",
       "  <tbody>\n",
       "    <tr>\n",
       "      <th>0</th>\n",
       "      <td>69.99770</td>\n",
       "      <td>8.94841</td>\n",
       "      <td>9.515125</td>\n",
       "    </tr>\n",
       "    <tr>\n",
       "      <th>1</th>\n",
       "      <td>23.76108</td>\n",
       "      <td>15.89300</td>\n",
       "      <td>15.006882</td>\n",
       "    </tr>\n",
       "    <tr>\n",
       "      <th>2</th>\n",
       "      <td>41.36220</td>\n",
       "      <td>38.38770</td>\n",
       "      <td>38.034260</td>\n",
       "    </tr>\n",
       "  </tbody>\n",
       "</table>\n",
       "</div>"
      ],
      "text/plain": [
       "   Total Energy         M  Prediction\n",
       "0      69.99770   8.94841    9.515125\n",
       "1      23.76108  15.89300   15.006882\n",
       "2      41.36220  38.38770   38.034260"
      ]
     },
     "execution_count": 17,
     "metadata": {},
     "output_type": "execute_result"
    }
   ],
   "source": [
    "data3 = data2[['Total Energy','M']]\n",
    "y_pred = mlp.predict(x)\n",
    "data3['Prediction'] = y_pred\n",
    "data3.head(3)"
   ]
  },
  {
   "cell_type": "code",
   "execution_count": 18,
   "id": "9de44370",
   "metadata": {
    "execution": {
     "iopub.execute_input": "2022-08-16T13:26:26.262186Z",
     "iopub.status.busy": "2022-08-16T13:26:26.261463Z",
     "iopub.status.idle": "2022-08-16T13:26:27.957725Z",
     "shell.execute_reply": "2022-08-16T13:26:27.956282Z"
    },
    "papermill": {
     "duration": 1.728817,
     "end_time": "2022-08-16T13:26:27.962374",
     "exception": false,
     "start_time": "2022-08-16T13:26:26.233557",
     "status": "completed"
    },
    "tags": []
   },
   "outputs": [
    {
     "data": {
      "image/png": "[encoded data removed]",
      "text/plain": [
       "<Figure size 1440x1080 with 1 Axes>"
      ]
     },
     "metadata": {
      "needs_background": "light"
     },
     "output_type": "display_data"
    }
   ],
   "source": [
    "import matplotlib.pyplot as plt\n",
    "plt.figure(figsize=(20,15))\n",
    "plt.scatter(data3['Total Energy'],data3['M'],label='Actual')\n",
    "plt.scatter(data3['Total Energy'],data3['Prediction'],label='Predicted',color='r',marker='.')\n",
    "plt.title(\"LHC Predicted Readings \")\n",
    "plt.xlabel(\"Total Energy\")\n",
    "plt.ylabel(\"M (The invariant mass of two electrons)\")\n",
    "plt.legend()\n",
    "plt.show()\n"
   ]
  },
  {
   "cell_type": "code",
   "execution_count": 19,
   "id": "4b45a7ab",
   "metadata": {
    "execution": {
     "iopub.execute_input": "2022-08-16T13:26:27.994208Z",
     "iopub.status.busy": "2022-08-16T13:26:27.993417Z",
     "iopub.status.idle": "2022-08-16T13:27:34.027864Z",
     "shell.execute_reply": "2022-08-16T13:27:34.026548Z"
    },
    "papermill": {
     "duration": 66.053528,
     "end_time": "2022-08-16T13:27:34.030489",
     "exception": false,
     "start_time": "2022-08-16T13:26:27.976961",
     "status": "completed"
    },
    "tags": []
   },
   "outputs": [
    {
     "name": "stdout",
     "output_type": "stream",
     "text": [
      "Collecting git+https://github.com/pycaret/pycaret.git\r\n",
      "  Cloning https://github.com/pycaret/pycaret.git to /tmp/pip-req-build-2d8k34hh\r\n",
      "  Running command git clone --filter=blob:none --quiet https://github.com/pycaret/pycaret.git /tmp/pip-req-build-2d8k34hh\r\n",
      "  Resolved https://github.com/pycaret/pycaret.git to commit f93e7087a671458a20bed6dd3a8bcca891034cfc\r\n",
      "  Preparing metadata (setup.py) ... \u001b[?25l-\b \bdone\r\n",
      "\u001b[?25hRequirement already satisfied: ipython>=5.5.0 in /opt/conda/lib/python3.7/site-packages (from pycaret==3.0.0rc3) (7.33.0)\r\n",
      "Requirement already satisfied: ipywidgets>=7.6.5 in /opt/conda/lib/python3.7/site-packages (from pycaret==3.0.0rc3) (7.7.1)\r\n",
      "Requirement already satisfied: tqdm>=4.62.0 in /opt/conda/lib/python3.7/site-packages (from pycaret==3.0.0rc3) (4.64.0)\r\n",
      "Requirement already satisfied: numpy<1.23,>=1.21 in /opt/conda/lib/python3.7/site-packages (from pycaret==3.0.0rc3) (1.21.6)\r\n",
      "Requirement already satisfied: pandas<1.5.0,>=1.3.0 in /opt/conda/lib/python3.7/site-packages (from pycaret==3.0.0rc3) (1.3.5)\r\n",
      "Requirement already satisfied: jinja2>=1.2 in /opt/conda/lib/python3.7/site-packages (from pycaret==3.0.0rc3) (3.1.2)\r\n",
      "Requirement already satisfied: scipy<1.9.0 in /opt/conda/lib/python3.7/site-packages (from pycaret==3.0.0rc3) (1.7.3)\r\n",
      "Collecting joblib>=1.1.0\r\n",
      "  Downloading joblib-1.1.0-py2.py3-none-any.whl (306 kB)\r\n",
      "\u001b[2K     \u001b[90m━━━━━━━━━━━━━━━━━━━━━━━━━━━━━━━━━━━━━━━\u001b[0m \u001b[32m307.0/307.0 kB\u001b[0m \u001b[31m5.9 MB/s\u001b[0m eta \u001b[36m0:00:00\u001b[0m\r\n",
      "\u001b[?25hRequirement already satisfied: scikit-learn>=1.0 in /opt/conda/lib/python3.7/site-packages (from pycaret==3.0.0rc3) (1.0.2)\r\n",
      "Collecting pyod>=0.9.8\r\n",
      "  Downloading pyod-1.0.4.tar.gz (134 kB)\r\n",
      "\u001b[2K     \u001b[90m━━━━━━━━━━━━━━━━━━━━━━━━━━━━━━━━━━━━━━━\u001b[0m \u001b[32m134.3/134.3 kB\u001b[0m \u001b[31m9.0 MB/s\u001b[0m eta \u001b[36m0:00:00\u001b[0m\r\n",
      "\u001b[?25h  Preparing metadata (setup.py) ... \u001b[?25l-\b \bdone\r\n",
      "\u001b[?25hRequirement already satisfied: imbalanced-learn>=0.8.1 in /opt/conda/lib/python3.7/site-packages (from pycaret==3.0.0rc3) (0.9.0)\r\n",
      "Requirement already satisfied: category-encoders>=2.4.0 in /opt/conda/lib/python3.7/site-packages (from pycaret==3.0.0rc3) (2.5.0)\r\n",
      "Requirement already satisfied: lightgbm>=3.0.0 in /opt/conda/lib/python3.7/site-packages (from pycaret==3.0.0rc3) (3.3.2)\r\n",
      "Requirement already satisfied: numba~=0.55.0 in /opt/conda/lib/python3.7/site-packages (from pycaret==3.0.0rc3) (0.55.2)\r\n",
      "Requirement already satisfied: requests>=2.27.1 in /opt/conda/lib/python3.7/site-packages (from pycaret==3.0.0rc3) (2.28.1)\r\n",
      "Requirement already satisfied: psutil>=5.9.0 in /opt/conda/lib/python3.7/site-packages (from pycaret==3.0.0rc3) (5.9.1)\r\n",
      "Requirement already satisfied: markupsafe>=2.0.1 in /opt/conda/lib/python3.7/site-packages (from pycaret==3.0.0rc3) (2.0.1)\r\n",
      "Requirement already satisfied: importlib_metadata in /opt/conda/lib/python3.7/site-packages (from pycaret==3.0.0rc3) (4.12.0)\r\n",
      "Requirement already satisfied: matplotlib>=3.3.0 in /opt/conda/lib/python3.7/site-packages (from pycaret==3.0.0rc3) (3.5.2)\r\n",
      "Requirement already satisfied: scikit-plot>=0.3.7 in /opt/conda/lib/python3.7/site-packages (from pycaret==3.0.0rc3) (0.3.7)\r\n",
      "Requirement already satisfied: yellowbrick>=1.4 in /opt/conda/lib/python3.7/site-packages (from pycaret==3.0.0rc3) (1.4)\r\n",
      "Requirement already satisfied: plotly>=5.0.0 in /opt/conda/lib/python3.7/site-packages (from pycaret==3.0.0rc3) (5.9.0)\r\n",
      "Collecting kaleido>=0.2.1\r\n",
      "  Downloading kaleido-0.2.1-py2.py3-none-manylinux1_x86_64.whl (79.9 MB)\r\n",
      "\u001b[2K     \u001b[90m━━━━━━━━━━━━━━━━━━━━━━━━━━━━━━━━━━━━━━━━\u001b[0m \u001b[32m79.9/79.9 MB\u001b[0m \u001b[31m13.1 MB/s\u001b[0m eta \u001b[36m0:00:00\u001b[0m\r\n",
      "\u001b[?25hCollecting schemdraw>=0.14\r\n",
      "  Downloading schemdraw-0.15-py3-none-any.whl (106 kB)\r\n",
      "\u001b[2K     \u001b[90m━━━━━━━━━━━━━━━━━━━━━━━━━━━━━━━━━━━━━━━\u001b[0m \u001b[32m106.8/106.8 kB\u001b[0m \u001b[31m7.9 MB/s\u001b[0m eta \u001b[36m0:00:00\u001b[0m\r\n",
      "\u001b[?25hCollecting plotly-resampler>=0.7.2.2\r\n",
      "  Downloading plotly-resampler-0.8.0.tar.gz (43 kB)\r\n",
      "\u001b[2K     \u001b[90m━━━━━━━━━━━━━━━━━━━━━━━━━━━━━━━━━━━━━━━━\u001b[0m \u001b[32m44.0/44.0 kB\u001b[0m \u001b[31m2.7 MB/s\u001b[0m eta \u001b[36m0:00:00\u001b[0m\r\n",
      "\u001b[?25h  Installing build dependencies ... \u001b[?25l-\b \b\\\b \b|\b \b/\b \b-\b \b\\\b \b|\b \b/\b \b-\b \bdone\r\n",
      "\u001b[?25h  Getting requirements to build wheel ... \u001b[?25ldone\r\n",
      "\u001b[?25h  Preparing metadata (pyproject.toml) ... \u001b[?25ldone\r\n",
      "\u001b[?25hRequirement already satisfied: statsmodels>=0.12.1 in /opt/conda/lib/python3.7/site-packages (from pycaret==3.0.0rc3) (0.13.2)\r\n",
      "Collecting sktime~=0.13.1\r\n",
      "  Downloading sktime-0.13.1-py3-none-any.whl (6.9 MB)\r\n",
      "\u001b[2K     \u001b[90m━━━━━━━━━━━━━━━━━━━━━━━━━━━━━━━━━━━━━━━━\u001b[0m \u001b[32m6.9/6.9 MB\u001b[0m \u001b[31m62.0 MB/s\u001b[0m eta \u001b[36m0:00:00\u001b[0m\r\n",
      "\u001b[?25hCollecting tbats>=1.1.0\r\n",
      "  Downloading tbats-1.1.0-py3-none-any.whl (43 kB)\r\n",
      "\u001b[2K     \u001b[90m━━━━━━━━━━━━━━━━━━━━━━━━━━━━━━━━━━━━━━━━\u001b[0m \u001b[32m43.8/43.8 kB\u001b[0m \u001b[31m2.8 MB/s\u001b[0m eta \u001b[36m0:00:00\u001b[0m\r\n",
      "\u001b[?25hCollecting pmdarima>=1.8.0\r\n",
      "  Downloading pmdarima-1.8.5-cp37-cp37m-manylinux_2_17_x86_64.manylinux2014_x86_64.manylinux_2_24_x86_64.whl (1.4 MB)\r\n",
      "\u001b[2K     \u001b[90m━━━━━━━━━━━━━━━━━━━━━━━━━━━━━━━━━━━━━━━━\u001b[0m \u001b[32m1.4/1.4 MB\u001b[0m \u001b[31m46.4 MB/s\u001b[0m eta \u001b[36m0:00:00\u001b[0m\r\n",
      "\u001b[?25hRequirement already satisfied: patsy>=0.5.1 in /opt/conda/lib/python3.7/site-packages (from category-encoders>=2.4.0->pycaret==3.0.0rc3) (0.5.2)\r\n",
      "Requirement already satisfied: threadpoolctl>=2.0.0 in /opt/conda/lib/python3.7/site-packages (from imbalanced-learn>=0.8.1->pycaret==3.0.0rc3) (3.1.0)\r\n",
      "Requirement already satisfied: backcall in /opt/conda/lib/python3.7/site-packages (from ipython>=5.5.0->pycaret==3.0.0rc3) (0.2.0)\r\n",
      "Requirement already satisfied: pexpect>4.3 in /opt/conda/lib/python3.7/site-packages (from ipython>=5.5.0->pycaret==3.0.0rc3) (4.8.0)\r\n",
      "Requirement already satisfied: pickleshare in /opt/conda/lib/python3.7/site-packages (from ipython>=5.5.0->pycaret==3.0.0rc3) (0.7.5)\r\n",
      "Requirement already satisfied: setuptools>=18.5 in /opt/conda/lib/python3.7/site-packages (from ipython>=5.5.0->pycaret==3.0.0rc3) (59.8.0)\r\n",
      "Requirement already satisfied: decorator in /opt/conda/lib/python3.7/site-packages (from ipython>=5.5.0->pycaret==3.0.0rc3) (5.1.1)\r\n",
      "Requirement already satisfied: pygments in /opt/conda/lib/python3.7/site-packages (from ipython>=5.5.0->pycaret==3.0.0rc3) (2.12.0)\r\n",
      "Requirement already satisfied: traitlets>=4.2 in /opt/conda/lib/python3.7/site-packages (from ipython>=5.5.0->pycaret==3.0.0rc3) (5.3.0)\r\n",
      "Requirement already satisfied: jedi>=0.16 in /opt/conda/lib/python3.7/site-packages (from ipython>=5.5.0->pycaret==3.0.0rc3) (0.18.1)\r\n",
      "Requirement already satisfied: prompt-toolkit!=3.0.0,!=3.0.1,<3.1.0,>=2.0.0 in /opt/conda/lib/python3.7/site-packages (from ipython>=5.5.0->pycaret==3.0.0rc3) (3.0.30)\r\n",
      "Requirement already satisfied: matplotlib-inline in /opt/conda/lib/python3.7/site-packages (from ipython>=5.5.0->pycaret==3.0.0rc3) (0.1.3)\r\n",
      "Requirement already satisfied: widgetsnbextension~=3.6.0 in /opt/conda/lib/python3.7/site-packages (from ipywidgets>=7.6.5->pycaret==3.0.0rc3) (3.6.1)\r\n",
      "Requirement already satisfied: ipykernel>=4.5.1 in /opt/conda/lib/python3.7/site-packages (from ipywidgets>=7.6.5->pycaret==3.0.0rc3) (6.15.0)\r\n",
      "Requirement already satisfied: jupyterlab-widgets>=1.0.0 in /opt/conda/lib/python3.7/site-packages (from ipywidgets>=7.6.5->pycaret==3.0.0rc3) (1.1.1)\r\n",
      "Requirement already satisfied: ipython-genutils~=0.2.0 in /opt/conda/lib/python3.7/site-packages (from ipywidgets>=7.6.5->pycaret==3.0.0rc3) (0.2.0)\r\n",
      "Requirement already satisfied: wheel in /opt/conda/lib/python3.7/site-packages (from lightgbm>=3.0.0->pycaret==3.0.0rc3) (0.37.1)\r\n",
      "Requirement already satisfied: fonttools>=4.22.0 in /opt/conda/lib/python3.7/site-packages (from matplotlib>=3.3.0->pycaret==3.0.0rc3) (4.33.3)\r\n",
      "Requirement already satisfied: python-dateutil>=2.7 in /opt/conda/lib/python3.7/site-packages (from matplotlib>=3.3.0->pycaret==3.0.0rc3) (2.8.2)\r\n",
      "Requirement already satisfied: packaging>=20.0 in /opt/conda/lib/python3.7/site-packages (from matplotlib>=3.3.0->pycaret==3.0.0rc3) (21.3)\r\n",
      "Requirement already satisfied: cycler>=0.10 in /opt/conda/lib/python3.7/site-packages (from matplotlib>=3.3.0->pycaret==3.0.0rc3) (0.11.0)\r\n",
      "Requirement already satisfied: pyparsing>=2.2.1 in /opt/conda/lib/python3.7/site-packages (from matplotlib>=3.3.0->pycaret==3.0.0rc3) (3.0.9)\r\n",
      "Requirement already satisfied: pillow>=6.2.0 in /opt/conda/lib/python3.7/site-packages (from matplotlib>=3.3.0->pycaret==3.0.0rc3) (9.1.1)\r\n",
      "Requirement already satisfied: kiwisolver>=1.0.1 in /opt/conda/lib/python3.7/site-packages (from matplotlib>=3.3.0->pycaret==3.0.0rc3) (1.4.3)\r\n",
      "Requirement already satisfied: llvmlite<0.39,>=0.38.0rc1 in /opt/conda/lib/python3.7/site-packages (from numba~=0.55.0->pycaret==3.0.0rc3) (0.38.1)\r\n",
      "Requirement already satisfied: pytz>=2017.3 in /opt/conda/lib/python3.7/site-packages (from pandas<1.5.0,>=1.3.0->pycaret==3.0.0rc3) (2022.1)\r\n",
      "Requirement already satisfied: tenacity>=6.2.0 in /opt/conda/lib/python3.7/site-packages (from plotly>=5.0.0->pycaret==3.0.0rc3) (8.0.1)\r\n",
      "Collecting trace-updater>=0.0.8\r\n",
      "  Downloading trace_updater-0.0.8-py3-none-any.whl (185 kB)\r\n",
      "\u001b[2K     \u001b[90m━━━━━━━━━━━━━━━━━━━━━━━━━━━━━━━━━━━━━━\u001b[0m \u001b[32m185.4/185.4 kB\u001b[0m \u001b[31m13.1 MB/s\u001b[0m eta \u001b[36m0:00:00\u001b[0m\r\n",
      "\u001b[?25hCollecting dash<3.0.0,>=2.2.0\r\n",
      "  Downloading dash-2.6.1-py3-none-any.whl (9.9 MB)\r\n",
      "\u001b[2K     \u001b[90m━━━━━━━━━━━━━━━━━━━━━━━━━━━━━━━━━━━━━━━━\u001b[0m \u001b[32m9.9/9.9 MB\u001b[0m \u001b[31m58.2 MB/s\u001b[0m eta \u001b[36m0:00:00\u001b[0m\r\n",
      "\u001b[?25hCollecting orjson<4.0.0,>=3.7.7\r\n",
      "  Downloading orjson-3.7.12-cp37-cp37m-manylinux_2_28_x86_64.whl (147 kB)\r\n",
      "\u001b[2K     \u001b[90m━━━━━━━━━━━━━━━━━━━━━━━━━━━━━━━━━━━━━━\u001b[0m \u001b[32m148.0/148.0 kB\u001b[0m \u001b[31m10.4 MB/s\u001b[0m eta \u001b[36m0:00:00\u001b[0m\r\n",
      "\u001b[?25hCollecting Flask-Cors<4.0.0,>=3.0.10\r\n",
      "  Downloading Flask_Cors-3.0.10-py2.py3-none-any.whl (14 kB)\r\n",
      "Collecting jupyter-dash>=0.4.2\r\n",
      "  Downloading jupyter_dash-0.4.2-py3-none-any.whl (23 kB)\r\n",
      "Requirement already satisfied: urllib3 in /opt/conda/lib/python3.7/site-packages (from pmdarima>=1.8.0->pycaret==3.0.0rc3) (1.26.9)\r\n",
      "Requirement already satisfied: Cython!=0.29.18,>=0.29 in /opt/conda/lib/python3.7/site-packages (from pmdarima>=1.8.0->pycaret==3.0.0rc3) (0.29.30)\r\n",
      "Requirement already satisfied: six in /opt/conda/lib/python3.7/site-packages (from pyod>=0.9.8->pycaret==3.0.0rc3) (1.16.0)\r\n",
      "Requirement already satisfied: idna<4,>=2.5 in /opt/conda/lib/python3.7/site-packages (from requests>=2.27.1->pycaret==3.0.0rc3) (3.3)\r\n",
      "Requirement already satisfied: certifi>=2017.4.17 in /opt/conda/lib/python3.7/site-packages (from requests>=2.27.1->pycaret==3.0.0rc3) (2022.6.15)\r\n",
      "Requirement already satisfied: charset-normalizer<3,>=2 in /opt/conda/lib/python3.7/site-packages (from requests>=2.27.1->pycaret==3.0.0rc3) (2.1.0)\r\n",
      "Requirement already satisfied: typing-extensions in /opt/conda/lib/python3.7/site-packages (from schemdraw>=0.14->pycaret==3.0.0rc3) (4.1.1)\r\n",
      "Collecting deprecated>=1.2.13\r\n",
      "  Downloading Deprecated-1.2.13-py2.py3-none-any.whl (9.6 kB)\r\n",
      "Requirement already satisfied: zipp>=0.5 in /opt/conda/lib/python3.7/site-packages (from importlib_metadata->pycaret==3.0.0rc3) (3.8.0)\r\n",
      "Collecting dash-table==5.0.0\r\n",
      "  Downloading dash_table-5.0.0-py3-none-any.whl (3.9 kB)\r\n",
      "Collecting dash-core-components==2.0.0\r\n",
      "  Downloading dash_core_components-2.0.0-py3-none-any.whl (3.8 kB)\r\n",
      "Collecting dash-html-components==2.0.0\r\n",
      "  Downloading dash_html_components-2.0.0-py3-none-any.whl (4.1 kB)\r\n",
      "Collecting flask-compress\r\n",
      "  Downloading Flask_Compress-1.12-py3-none-any.whl (7.9 kB)\r\n",
      "Requirement already satisfied: Flask>=1.0.4 in /opt/conda/lib/python3.7/site-packages (from dash<3.0.0,>=2.2.0->plotly-resampler>=0.7.2.2->pycaret==3.0.0rc3) (2.1.3)\r\n",
      "Requirement already satisfied: wrapt<2,>=1.10 in /opt/conda/lib/python3.7/site-packages (from deprecated>=1.2.13->sktime~=0.13.1->pycaret==3.0.0rc3) (1.14.1)\r\n",
      "Requirement already satisfied: pyzmq>=17 in /opt/conda/lib/python3.7/site-packages (from ipykernel>=4.5.1->ipywidgets>=7.6.5->pycaret==3.0.0rc3) (23.2.0)\r\n",
      "Requirement already satisfied: tornado>=6.1 in /opt/conda/lib/python3.7/site-packages (from ipykernel>=4.5.1->ipywidgets>=7.6.5->pycaret==3.0.0rc3) (6.1)\r\n",
      "Requirement already satisfied: debugpy>=1.0 in /opt/conda/lib/python3.7/site-packages (from ipykernel>=4.5.1->ipywidgets>=7.6.5->pycaret==3.0.0rc3) (1.6.0)\r\n",
      "Requirement already satisfied: nest-asyncio in /opt/conda/lib/python3.7/site-packages (from ipykernel>=4.5.1->ipywidgets>=7.6.5->pycaret==3.0.0rc3) (1.5.5)\r\n",
      "Requirement already satisfied: jupyter-client>=6.1.12 in /opt/conda/lib/python3.7/site-packages (from ipykernel>=4.5.1->ipywidgets>=7.6.5->pycaret==3.0.0rc3) (7.3.4)\r\n",
      "Requirement already satisfied: parso<0.9.0,>=0.8.0 in /opt/conda/lib/python3.7/site-packages (from jedi>=0.16->ipython>=5.5.0->pycaret==3.0.0rc3) (0.8.3)\r\n",
      "Collecting ansi2html\r\n",
      "  Downloading ansi2html-1.8.0-py3-none-any.whl (16 kB)\r\n",
      "Requirement already satisfied: retrying in /opt/conda/lib/python3.7/site-packages (from jupyter-dash>=0.4.2->plotly-resampler>=0.7.2.2->pycaret==3.0.0rc3) (1.3.3)\r\n",
      "Requirement already satisfied: ptyprocess>=0.5 in /opt/conda/lib/python3.7/site-packages (from pexpect>4.3->ipython>=5.5.0->pycaret==3.0.0rc3) (0.7.0)\r\n",
      "Requirement already satisfied: wcwidth in /opt/conda/lib/python3.7/site-packages (from prompt-toolkit!=3.0.0,!=3.0.1,<3.1.0,>=2.0.0->ipython>=5.5.0->pycaret==3.0.0rc3) (0.2.5)\r\n",
      "Requirement already satisfied: notebook>=4.4.1 in /opt/conda/lib/python3.7/site-packages (from widgetsnbextension~=3.6.0->ipywidgets>=7.6.5->pycaret==3.0.0rc3) (6.4.12)\r\n",
      "Requirement already satisfied: click>=8.0 in /opt/conda/lib/python3.7/site-packages (from Flask>=1.0.4->dash<3.0.0,>=2.2.0->plotly-resampler>=0.7.2.2->pycaret==3.0.0rc3) (8.0.4)\r\n",
      "Requirement already satisfied: itsdangerous>=2.0 in /opt/conda/lib/python3.7/site-packages (from Flask>=1.0.4->dash<3.0.0,>=2.2.0->plotly-resampler>=0.7.2.2->pycaret==3.0.0rc3) (2.1.2)\r\n",
      "Requirement already satisfied: Werkzeug>=2.0 in /opt/conda/lib/python3.7/site-packages (from Flask>=1.0.4->dash<3.0.0,>=2.2.0->plotly-resampler>=0.7.2.2->pycaret==3.0.0rc3) (2.1.2)\r\n",
      "Requirement already satisfied: jupyter-core>=4.9.2 in /opt/conda/lib/python3.7/site-packages (from jupyter-client>=6.1.12->ipykernel>=4.5.1->ipywidgets>=7.6.5->pycaret==3.0.0rc3) (4.10.0)\r\n",
      "Requirement already satisfied: entrypoints in /opt/conda/lib/python3.7/site-packages (from jupyter-client>=6.1.12->ipykernel>=4.5.1->ipywidgets>=7.6.5->pycaret==3.0.0rc3) (0.4)\r\n",
      "Requirement already satisfied: Send2Trash>=1.8.0 in /opt/conda/lib/python3.7/site-packages (from notebook>=4.4.1->widgetsnbextension~=3.6.0->ipywidgets>=7.6.5->pycaret==3.0.0rc3) (1.8.0)\r\n",
      "Requirement already satisfied: nbformat in /opt/conda/lib/python3.7/site-packages (from notebook>=4.4.1->widgetsnbextension~=3.6.0->ipywidgets>=7.6.5->pycaret==3.0.0rc3) (5.4.0)\r\n",
      "Requirement already satisfied: terminado>=0.8.3 in /opt/conda/lib/python3.7/site-packages (from notebook>=4.4.1->widgetsnbextension~=3.6.0->ipywidgets>=7.6.5->pycaret==3.0.0rc3) (0.15.0)\r\n",
      "Requirement already satisfied: prometheus-client in /opt/conda/lib/python3.7/site-packages (from notebook>=4.4.1->widgetsnbextension~=3.6.0->ipywidgets>=7.6.5->pycaret==3.0.0rc3) (0.14.1)\r\n",
      "Requirement already satisfied: argon2-cffi in /opt/conda/lib/python3.7/site-packages (from notebook>=4.4.1->widgetsnbextension~=3.6.0->ipywidgets>=7.6.5->pycaret==3.0.0rc3) (21.3.0)\r\n",
      "Requirement already satisfied: nbconvert>=5 in /opt/conda/lib/python3.7/site-packages (from notebook>=4.4.1->widgetsnbextension~=3.6.0->ipywidgets>=7.6.5->pycaret==3.0.0rc3) (6.4.5)\r\n",
      "Collecting brotli\r\n",
      "  Downloading Brotli-1.0.9-cp37-cp37m-manylinux1_x86_64.whl (357 kB)\r\n",
      "\u001b[2K     \u001b[90m━━━━━━━━━━━━━━━━━━━━━━━━━━━━━━━━━━━━━━\u001b[0m \u001b[32m357.2/357.2 kB\u001b[0m \u001b[31m20.9 MB/s\u001b[0m eta \u001b[36m0:00:00\u001b[0m\r\n",
      "\u001b[?25hRequirement already satisfied: mistune<2,>=0.8.1 in /opt/conda/lib/python3.7/site-packages (from nbconvert>=5->notebook>=4.4.1->widgetsnbextension~=3.6.0->ipywidgets>=7.6.5->pycaret==3.0.0rc3) (0.8.4)\r\n",
      "Requirement already satisfied: testpath in /opt/conda/lib/python3.7/site-packages (from nbconvert>=5->notebook>=4.4.1->widgetsnbextension~=3.6.0->ipywidgets>=7.6.5->pycaret==3.0.0rc3) (0.6.0)\r\n",
      "Requirement already satisfied: pandocfilters>=1.4.1 in /opt/conda/lib/python3.7/site-packages (from nbconvert>=5->notebook>=4.4.1->widgetsnbextension~=3.6.0->ipywidgets>=7.6.5->pycaret==3.0.0rc3) (1.5.0)\r\n",
      "Requirement already satisfied: defusedxml in /opt/conda/lib/python3.7/site-packages (from nbconvert>=5->notebook>=4.4.1->widgetsnbextension~=3.6.0->ipywidgets>=7.6.5->pycaret==3.0.0rc3) (0.7.1)\r\n",
      "Requirement already satisfied: nbclient<0.6.0,>=0.5.0 in /opt/conda/lib/python3.7/site-packages (from nbconvert>=5->notebook>=4.4.1->widgetsnbextension~=3.6.0->ipywidgets>=7.6.5->pycaret==3.0.0rc3) (0.5.13)\r\n",
      "Requirement already satisfied: bleach in /opt/conda/lib/python3.7/site-packages (from nbconvert>=5->notebook>=4.4.1->widgetsnbextension~=3.6.0->ipywidgets>=7.6.5->pycaret==3.0.0rc3) (5.0.1)\r\n",
      "Requirement already satisfied: jupyterlab-pygments in /opt/conda/lib/python3.7/site-packages (from nbconvert>=5->notebook>=4.4.1->widgetsnbextension~=3.6.0->ipywidgets>=7.6.5->pycaret==3.0.0rc3) (0.2.2)\r\n",
      "Requirement already satisfied: beautifulsoup4 in /opt/conda/lib/python3.7/site-packages (from nbconvert>=5->notebook>=4.4.1->widgetsnbextension~=3.6.0->ipywidgets>=7.6.5->pycaret==3.0.0rc3) (4.11.1)\r\n",
      "Requirement already satisfied: jsonschema>=2.6 in /opt/conda/lib/python3.7/site-packages (from nbformat->notebook>=4.4.1->widgetsnbextension~=3.6.0->ipywidgets>=7.6.5->pycaret==3.0.0rc3) (4.6.1)\r\n",
      "Requirement already satisfied: fastjsonschema in /opt/conda/lib/python3.7/site-packages (from nbformat->notebook>=4.4.1->widgetsnbextension~=3.6.0->ipywidgets>=7.6.5->pycaret==3.0.0rc3) (2.15.3)\r\n",
      "Requirement already satisfied: argon2-cffi-bindings in /opt/conda/lib/python3.7/site-packages (from argon2-cffi->notebook>=4.4.1->widgetsnbextension~=3.6.0->ipywidgets>=7.6.5->pycaret==3.0.0rc3) (21.2.0)\r\n",
      "Requirement already satisfied: pyrsistent!=0.17.0,!=0.17.1,!=0.17.2,>=0.14.0 in /opt/conda/lib/python3.7/site-packages (from jsonschema>=2.6->nbformat->notebook>=4.4.1->widgetsnbextension~=3.6.0->ipywidgets>=7.6.5->pycaret==3.0.0rc3) (0.18.1)\r\n",
      "Requirement already satisfied: importlib-resources>=1.4.0 in /opt/conda/lib/python3.7/site-packages (from jsonschema>=2.6->nbformat->notebook>=4.4.1->widgetsnbextension~=3.6.0->ipywidgets>=7.6.5->pycaret==3.0.0rc3) (5.8.0)\r\n",
      "Requirement already satisfied: attrs>=17.4.0 in /opt/conda/lib/python3.7/site-packages (from jsonschema>=2.6->nbformat->notebook>=4.4.1->widgetsnbextension~=3.6.0->ipywidgets>=7.6.5->pycaret==3.0.0rc3) (21.4.0)\r\n",
      "Requirement already satisfied: cffi>=1.0.1 in /opt/conda/lib/python3.7/site-packages (from argon2-cffi-bindings->argon2-cffi->notebook>=4.4.1->widgetsnbextension~=3.6.0->ipywidgets>=7.6.5->pycaret==3.0.0rc3) (1.15.0)\r\n",
      "Requirement already satisfied: soupsieve>1.2 in /opt/conda/lib/python3.7/site-packages (from beautifulsoup4->nbconvert>=5->notebook>=4.4.1->widgetsnbextension~=3.6.0->ipywidgets>=7.6.5->pycaret==3.0.0rc3) (2.3.1)\r\n",
      "Requirement already satisfied: webencodings in /opt/conda/lib/python3.7/site-packages (from bleach->nbconvert>=5->notebook>=4.4.1->widgetsnbextension~=3.6.0->ipywidgets>=7.6.5->pycaret==3.0.0rc3) (0.5.1)\r\n",
      "Requirement already satisfied: pycparser in /opt/conda/lib/python3.7/site-packages (from cffi>=1.0.1->argon2-cffi-bindings->argon2-cffi->notebook>=4.4.1->widgetsnbextension~=3.6.0->ipywidgets>=7.6.5->pycaret==3.0.0rc3) (2.21)\r\n",
      "Building wheels for collected packages: pycaret, plotly-resampler, pyod\r\n",
      "  Building wheel for pycaret (setup.py) ... \u001b[?25l-\b \b\\\b \b|\b \b/\b \b-\b \bdone\r\n",
      "\u001b[?25h  Created wheel for pycaret: filename=pycaret-3.0.0rc3-py3-none-any.whl size=488013 sha256=e012b0c7721bf847cdbf74fdae5a3bbd8865103c27ad10b5c4d3314c205100d3\r\n",
      "  Stored in directory: /tmp/pip-ephem-wheel-cache-c2391pph/wheels/b9/a5/bd/10ded84d9adcdd130cf35f61d6270652b8181e551ed13723a3\r\n",
      "  Building wheel for plotly-resampler (pyproject.toml) ... \u001b[?25l-\b \b\\\b \bdone\r\n",
      "\u001b[?25h  Created wheel for plotly-resampler: filename=plotly_resampler-0.8.0-cp37-cp37m-manylinux_2_31_x86_64.whl size=73681 sha256=d91eec5285c085970e334ecbfb972e475f72376efae2354dbcd9144f2b38e79f\r\n",
      "  Stored in directory: /root/.cache/pip/wheels/1d/6a/3e/6922f8fa643f4f07ce23510f52d1f08fd2407ddae04b725042\r\n",
      "  Building wheel for pyod (setup.py) ... \u001b[?25l-\b \b\\\b \b|\b \bdone\r\n",
      "\u001b[?25h  Created wheel for pyod: filename=pyod-1.0.4-py3-none-any.whl size=165073 sha256=3132bf11ca9df843376ead469885582443903a920bf74a0769990d7cd77e24f1\r\n",
      "  Stored in directory: /root/.cache/pip/wheels/3d/48/a8/87d61660791c7e6b0f5c3068da7fb17ade7fdc041e864fe053\r\n",
      "Successfully built pycaret plotly-resampler pyod\r\n",
      "Installing collected packages: trace-updater, kaleido, dash-table, dash-html-components, dash-core-components, brotli, schemdraw, orjson, joblib, deprecated, ansi2html, sktime, pyod, pmdarima, Flask-Cors, flask-compress, tbats, dash, jupyter-dash, plotly-resampler, pycaret\r\n",
      "  Attempting uninstall: orjson\r\n",
      "    Found existing installation: orjson 3.7.5\r\n",
      "    Uninstalling orjson-3.7.5:\r\n",
      "      Successfully uninstalled orjson-3.7.5\r\n",
      "  Attempting uninstall: joblib\r\n",
      "    Found existing installation: joblib 1.0.1\r\n",
      "    Uninstalling joblib-1.0.1:\r\n",
      "      Successfully uninstalled joblib-1.0.1\r\n",
      "\u001b[31mERROR: pip's dependency resolver does not currently take into account all the packages that are installed. This behaviour is the source of the following dependency conflicts.\r\n",
      "pdpbox 0.2.1 requires matplotlib==3.1.1, but you have matplotlib 3.5.2 which is incompatible.\r\n",
      "pandas-profiling 3.1.0 requires joblib~=1.0.1, but you have joblib 1.1.0 which is incompatible.\r\n",
      "apache-beam 2.40.0 requires dill<0.3.2,>=0.3.1.1, but you have dill 0.3.5.1 which is incompatible.\r\n",
      "apache-beam 2.40.0 requires pyarrow<8.0.0,>=0.15.1, but you have pyarrow 8.0.0 which is incompatible.\r\n",
      "allennlp 2.10.0 requires protobuf==3.20.0, but you have protobuf 3.19.4 which is incompatible.\u001b[0m\u001b[31m\r\n",
      "\u001b[0mSuccessfully installed Flask-Cors-3.0.10 ansi2html-1.8.0 brotli-1.0.9 dash-2.6.1 dash-core-components-2.0.0 dash-html-components-2.0.0 dash-table-5.0.0 deprecated-1.2.13 flask-compress-1.12 joblib-1.1.0 jupyter-dash-0.4.2 kaleido-0.2.1 orjson-3.7.12 plotly-resampler-0.8.0 pmdarima-1.8.5 pycaret-3.0.0rc3 pyod-1.0.4 schemdraw-0.15 sktime-0.13.1 tbats-1.1.0 trace-updater-0.0.8\r\n",
      "\u001b[33mWARNING: Running pip as the 'root' user can result in broken permissions and conflicting behaviour with the system package manager. It is recommended to use a virtual environment instead: https://pip.pypa.io/warnings/venv\u001b[0m\u001b[33m\r\n",
      "\u001b[0mNote: you may need to restart the kernel to use updated packages.\n"
     ]
    }
   ],
   "source": [
    "pip install git+https://github.com/pycaret/pycaret.git"
   ]
  },
  {
   "cell_type": "code",
   "execution_count": 20,
   "id": "8796ac59",
   "metadata": {
    "execution": {
     "iopub.execute_input": "2022-08-16T13:27:34.079885Z",
     "iopub.status.busy": "2022-08-16T13:27:34.079449Z",
     "iopub.status.idle": "2022-08-16T13:27:45.630772Z",
     "shell.execute_reply": "2022-08-16T13:27:45.629072Z"
    },
    "papermill": {
     "duration": 11.583978,
     "end_time": "2022-08-16T13:27:45.638134",
     "exception": false,
     "start_time": "2022-08-16T13:27:34.054156",
     "status": "completed"
    },
    "tags": []
   },
   "outputs": [
    {
     "data": {
      "text/html": [
       "<style type='text/css'>\n",
       ".datatable table.frame { margin-bottom: 0; }\n",
       ".datatable table.frame thead { border-bottom: none; }\n",
       ".datatable table.frame tr.coltypes td {  color: #FFFFFF;  line-height: 6px;  padding: 0 0.5em;}\n",
       ".datatable .bool    { background: #DDDD99; }\n",
       ".datatable .object  { background: #565656; }\n",
       ".datatable .int     { background: #5D9E5D; }\n",
       ".datatable .float   { background: #4040CC; }\n",
       ".datatable .str     { background: #CC4040; }\n",
       ".datatable .time    { background: #40CC40; }\n",
       ".datatable .row_index {  background: var(--jp-border-color3);  border-right: 1px solid var(--jp-border-color0);  color: var(--jp-ui-font-color3);  font-size: 9px;}\n",
       ".datatable .frame tbody td { text-align: left; }\n",
       ".datatable .frame tr.coltypes .row_index {  background: var(--jp-border-color0);}\n",
       ".datatable th:nth-child(2) { padding-left: 12px; }\n",
       ".datatable .hellipsis {  color: var(--jp-cell-editor-border-color);}\n",
       ".datatable .vellipsis {  background: var(--jp-layout-color0);  color: var(--jp-cell-editor-border-color);}\n",
       ".datatable .na {  color: var(--jp-cell-editor-border-color);  font-size: 80%;}\n",
       ".datatable .sp {  opacity: 0.25;}\n",
       ".datatable .footer { font-size: 9px; }\n",
       ".datatable .frame_dimensions {  background: var(--jp-border-color3);  border-top: 1px solid var(--jp-border-color0);  color: var(--jp-ui-font-color3);  display: inline-block;  opacity: 0.6;  padding: 1px 10px 1px 5px;}\n",
       "</style>\n"
      ],
      "text/plain": [
       "<IPython.core.display.HTML object>"
      ]
     },
     "metadata": {},
     "output_type": "display_data"
    },
    {
     "data": {
      "text/html": [
       "<style type=\"text/css\">\n",
       "#T_a294c_row7_col1 {\n",
       "  background-color: lightgreen;\n",
       "}\n",
       "</style>\n",
       "<table id=\"T_a294c_\">\n",
       "  <thead>\n",
       "    <tr>\n",
       "      <th class=\"blank level0\" >&nbsp;</th>\n",
       "      <th class=\"col_heading level0 col0\" >Description</th>\n",
       "      <th class=\"col_heading level0 col1\" >Value</th>\n",
       "    </tr>\n",
       "  </thead>\n",
       "  <tbody>\n",
       "    <tr>\n",
       "      <th id=\"T_a294c_level0_row0\" class=\"row_heading level0 row0\" >0</th>\n",
       "      <td id=\"T_a294c_row0_col0\" class=\"data row0 col0\" >Session id</td>\n",
       "      <td id=\"T_a294c_row0_col1\" class=\"data row0 col1\" >669</td>\n",
       "    </tr>\n",
       "    <tr>\n",
       "      <th id=\"T_a294c_level0_row1\" class=\"row_heading level0 row1\" >1</th>\n",
       "      <td id=\"T_a294c_row1_col0\" class=\"data row1 col0\" >Target</td>\n",
       "      <td id=\"T_a294c_row1_col1\" class=\"data row1 col1\" >M</td>\n",
       "    </tr>\n",
       "    <tr>\n",
       "      <th id=\"T_a294c_level0_row2\" class=\"row_heading level0 row2\" >2</th>\n",
       "      <td id=\"T_a294c_row2_col0\" class=\"data row2 col0\" >Target type</td>\n",
       "      <td id=\"T_a294c_row2_col1\" class=\"data row2 col1\" >Regression</td>\n",
       "    </tr>\n",
       "    <tr>\n",
       "      <th id=\"T_a294c_level0_row3\" class=\"row_heading level0 row3\" >3</th>\n",
       "      <td id=\"T_a294c_row3_col0\" class=\"data row3 col0\" >Data shape</td>\n",
       "      <td id=\"T_a294c_row3_col1\" class=\"data row3 col1\" >(100000, 18)</td>\n",
       "    </tr>\n",
       "    <tr>\n",
       "      <th id=\"T_a294c_level0_row4\" class=\"row_heading level0 row4\" >4</th>\n",
       "      <td id=\"T_a294c_row4_col0\" class=\"data row4 col0\" >Train data shape</td>\n",
       "      <td id=\"T_a294c_row4_col1\" class=\"data row4 col1\" >(69999, 18)</td>\n",
       "    </tr>\n",
       "    <tr>\n",
       "      <th id=\"T_a294c_level0_row5\" class=\"row_heading level0 row5\" >5</th>\n",
       "      <td id=\"T_a294c_row5_col0\" class=\"data row5 col0\" >Test data shape</td>\n",
       "      <td id=\"T_a294c_row5_col1\" class=\"data row5 col1\" >(30001, 18)</td>\n",
       "    </tr>\n",
       "    <tr>\n",
       "      <th id=\"T_a294c_level0_row6\" class=\"row_heading level0 row6\" >6</th>\n",
       "      <td id=\"T_a294c_row6_col0\" class=\"data row6 col0\" >Numeric features</td>\n",
       "      <td id=\"T_a294c_row6_col1\" class=\"data row6 col1\" >17</td>\n",
       "    </tr>\n",
       "    <tr>\n",
       "      <th id=\"T_a294c_level0_row7\" class=\"row_heading level0 row7\" >7</th>\n",
       "      <td id=\"T_a294c_row7_col0\" class=\"data row7 col0\" >Preprocess</td>\n",
       "      <td id=\"T_a294c_row7_col1\" class=\"data row7 col1\" >True</td>\n",
       "    </tr>\n",
       "    <tr>\n",
       "      <th id=\"T_a294c_level0_row8\" class=\"row_heading level0 row8\" >8</th>\n",
       "      <td id=\"T_a294c_row8_col0\" class=\"data row8 col0\" >Imputation type</td>\n",
       "      <td id=\"T_a294c_row8_col1\" class=\"data row8 col1\" >simple</td>\n",
       "    </tr>\n",
       "    <tr>\n",
       "      <th id=\"T_a294c_level0_row9\" class=\"row_heading level0 row9\" >9</th>\n",
       "      <td id=\"T_a294c_row9_col0\" class=\"data row9 col0\" >Numeric imputation</td>\n",
       "      <td id=\"T_a294c_row9_col1\" class=\"data row9 col1\" >mean</td>\n",
       "    </tr>\n",
       "    <tr>\n",
       "      <th id=\"T_a294c_level0_row10\" class=\"row_heading level0 row10\" >10</th>\n",
       "      <td id=\"T_a294c_row10_col0\" class=\"data row10 col0\" >Categorical imputation</td>\n",
       "      <td id=\"T_a294c_row10_col1\" class=\"data row10 col1\" >constant</td>\n",
       "    </tr>\n",
       "    <tr>\n",
       "      <th id=\"T_a294c_level0_row11\" class=\"row_heading level0 row11\" >11</th>\n",
       "      <td id=\"T_a294c_row11_col0\" class=\"data row11 col0\" >Low variance threshold</td>\n",
       "      <td id=\"T_a294c_row11_col1\" class=\"data row11 col1\" >0</td>\n",
       "    </tr>\n",
       "    <tr>\n",
       "      <th id=\"T_a294c_level0_row12\" class=\"row_heading level0 row12\" >12</th>\n",
       "      <td id=\"T_a294c_row12_col0\" class=\"data row12 col0\" >Fold Generator</td>\n",
       "      <td id=\"T_a294c_row12_col1\" class=\"data row12 col1\" >KFold</td>\n",
       "    </tr>\n",
       "    <tr>\n",
       "      <th id=\"T_a294c_level0_row13\" class=\"row_heading level0 row13\" >13</th>\n",
       "      <td id=\"T_a294c_row13_col0\" class=\"data row13 col0\" >Fold Number</td>\n",
       "      <td id=\"T_a294c_row13_col1\" class=\"data row13 col1\" >10</td>\n",
       "    </tr>\n",
       "    <tr>\n",
       "      <th id=\"T_a294c_level0_row14\" class=\"row_heading level0 row14\" >14</th>\n",
       "      <td id=\"T_a294c_row14_col0\" class=\"data row14 col0\" >CPU Jobs</td>\n",
       "      <td id=\"T_a294c_row14_col1\" class=\"data row14 col1\" >-1</td>\n",
       "    </tr>\n",
       "    <tr>\n",
       "      <th id=\"T_a294c_level0_row15\" class=\"row_heading level0 row15\" >15</th>\n",
       "      <td id=\"T_a294c_row15_col0\" class=\"data row15 col0\" >Use GPU</td>\n",
       "      <td id=\"T_a294c_row15_col1\" class=\"data row15 col1\" >False</td>\n",
       "    </tr>\n",
       "    <tr>\n",
       "      <th id=\"T_a294c_level0_row16\" class=\"row_heading level0 row16\" >16</th>\n",
       "      <td id=\"T_a294c_row16_col0\" class=\"data row16 col0\" >Log Experiment</td>\n",
       "      <td id=\"T_a294c_row16_col1\" class=\"data row16 col1\" >False</td>\n",
       "    </tr>\n",
       "    <tr>\n",
       "      <th id=\"T_a294c_level0_row17\" class=\"row_heading level0 row17\" >17</th>\n",
       "      <td id=\"T_a294c_row17_col0\" class=\"data row17 col0\" >Experiment Name</td>\n",
       "      <td id=\"T_a294c_row17_col1\" class=\"data row17 col1\" >reg-default-name</td>\n",
       "    </tr>\n",
       "    <tr>\n",
       "      <th id=\"T_a294c_level0_row18\" class=\"row_heading level0 row18\" >18</th>\n",
       "      <td id=\"T_a294c_row18_col0\" class=\"data row18 col0\" >USI</td>\n",
       "      <td id=\"T_a294c_row18_col1\" class=\"data row18 col1\" >df3b</td>\n",
       "    </tr>\n",
       "  </tbody>\n",
       "</table>\n"
      ],
      "text/plain": [
       "<pandas.io.formats.style.Styler at 0x7f6dd4b0c290>"
      ]
     },
     "metadata": {},
     "output_type": "display_data"
    }
   ],
   "source": [
    "from pycaret.regression import setup, compare_models, predict_model\n",
    "pycaret_automl = setup(data=data, target = 'M', session_id=669)"
   ]
  },
  {
   "cell_type": "code",
   "execution_count": 21,
   "id": "052f1008",
   "metadata": {
    "execution": {
     "iopub.execute_input": "2022-08-16T13:27:45.712843Z",
     "iopub.status.busy": "2022-08-16T13:27:45.711825Z",
     "iopub.status.idle": "2022-08-16T13:37:54.366714Z",
     "shell.execute_reply": "2022-08-16T13:37:54.365560Z"
    },
    "papermill": {
     "duration": 608.688624,
     "end_time": "2022-08-16T13:37:54.369734",
     "exception": false,
     "start_time": "2022-08-16T13:27:45.681110",
     "status": "completed"
    },
    "tags": []
   },
   "outputs": [
    {
     "data": {
      "text/html": [],
      "text/plain": [
       "<IPython.core.display.HTML object>"
      ]
     },
     "metadata": {},
     "output_type": "display_data"
    },
    {
     "data": {
      "text/html": [
       "<style type=\"text/css\">\n",
       "#T_a7133_ th {\n",
       "  text-align: left;\n",
       "}\n",
       "#T_a7133_row0_col0, #T_a7133_row0_col5, #T_a7133_row0_col6, #T_a7133_row1_col0, #T_a7133_row1_col1, #T_a7133_row1_col2, #T_a7133_row1_col3, #T_a7133_row1_col4, #T_a7133_row2_col0, #T_a7133_row2_col1, #T_a7133_row2_col2, #T_a7133_row2_col3, #T_a7133_row2_col4, #T_a7133_row2_col5, #T_a7133_row2_col6, #T_a7133_row3_col0, #T_a7133_row3_col1, #T_a7133_row3_col2, #T_a7133_row3_col3, #T_a7133_row3_col4, #T_a7133_row3_col5, #T_a7133_row3_col6, #T_a7133_row4_col0, #T_a7133_row4_col1, #T_a7133_row4_col2, #T_a7133_row4_col3, #T_a7133_row4_col4, #T_a7133_row4_col5, #T_a7133_row4_col6, #T_a7133_row5_col0, #T_a7133_row5_col1, #T_a7133_row5_col2, #T_a7133_row5_col3, #T_a7133_row5_col4, #T_a7133_row5_col5, #T_a7133_row5_col6, #T_a7133_row6_col0, #T_a7133_row6_col1, #T_a7133_row6_col2, #T_a7133_row6_col3, #T_a7133_row6_col4, #T_a7133_row6_col5, #T_a7133_row6_col6, #T_a7133_row7_col0, #T_a7133_row7_col1, #T_a7133_row7_col2, #T_a7133_row7_col3, #T_a7133_row7_col4, #T_a7133_row7_col5, #T_a7133_row7_col6, #T_a7133_row8_col0, #T_a7133_row8_col1, #T_a7133_row8_col2, #T_a7133_row8_col3, #T_a7133_row8_col4, #T_a7133_row8_col5, #T_a7133_row8_col6, #T_a7133_row9_col0, #T_a7133_row9_col1, #T_a7133_row9_col2, #T_a7133_row9_col3, #T_a7133_row9_col4, #T_a7133_row9_col5, #T_a7133_row9_col6, #T_a7133_row10_col0, #T_a7133_row10_col1, #T_a7133_row10_col2, #T_a7133_row10_col3, #T_a7133_row10_col4, #T_a7133_row10_col5, #T_a7133_row10_col6, #T_a7133_row11_col0, #T_a7133_row11_col1, #T_a7133_row11_col2, #T_a7133_row11_col3, #T_a7133_row11_col4, #T_a7133_row11_col5, #T_a7133_row11_col6, #T_a7133_row12_col0, #T_a7133_row12_col1, #T_a7133_row12_col2, #T_a7133_row12_col3, #T_a7133_row12_col4, #T_a7133_row12_col5, #T_a7133_row12_col6 {\n",
       "  text-align: left;\n",
       "}\n",
       "#T_a7133_row0_col1, #T_a7133_row0_col2, #T_a7133_row0_col3, #T_a7133_row0_col4, #T_a7133_row1_col5, #T_a7133_row1_col6 {\n",
       "  text-align: left;\n",
       "  background-color: yellow;\n",
       "}\n",
       "#T_a7133_row0_col7, #T_a7133_row1_col7, #T_a7133_row2_col7, #T_a7133_row3_col7, #T_a7133_row4_col7, #T_a7133_row5_col7, #T_a7133_row6_col7, #T_a7133_row7_col7, #T_a7133_row9_col7, #T_a7133_row10_col7, #T_a7133_row11_col7, #T_a7133_row12_col7 {\n",
       "  text-align: left;\n",
       "  background-color: lightgrey;\n",
       "}\n",
       "#T_a7133_row8_col7 {\n",
       "  text-align: left;\n",
       "  background-color: yellow;\n",
       "  background-color: lightgrey;\n",
       "}\n",
       "</style>\n",
       "<table id=\"T_a7133_\">\n",
       "  <thead>\n",
       "    <tr>\n",
       "      <th class=\"blank level0\" >&nbsp;</th>\n",
       "      <th class=\"col_heading level0 col0\" >Model</th>\n",
       "      <th class=\"col_heading level0 col1\" >MAE</th>\n",
       "      <th class=\"col_heading level0 col2\" >MSE</th>\n",
       "      <th class=\"col_heading level0 col3\" >RMSE</th>\n",
       "      <th class=\"col_heading level0 col4\" >R2</th>\n",
       "      <th class=\"col_heading level0 col5\" >RMSLE</th>\n",
       "      <th class=\"col_heading level0 col6\" >MAPE</th>\n",
       "      <th class=\"col_heading level0 col7\" >TT (Sec)</th>\n",
       "    </tr>\n",
       "  </thead>\n",
       "  <tbody>\n",
       "    <tr>\n",
       "      <th id=\"T_a7133_level0_row0\" class=\"row_heading level0 row0\" >rf</th>\n",
       "      <td id=\"T_a7133_row0_col0\" class=\"data row0 col0\" >Random Forest Regressor</td>\n",
       "      <td id=\"T_a7133_row0_col1\" class=\"data row0 col1\" >4.1873</td>\n",
       "      <td id=\"T_a7133_row0_col2\" class=\"data row0 col2\" >39.6132</td>\n",
       "      <td id=\"T_a7133_row0_col3\" class=\"data row0 col3\" >6.2914</td>\n",
       "      <td id=\"T_a7133_row0_col4\" class=\"data row0 col4\" >0.9376</td>\n",
       "      <td id=\"T_a7133_row0_col5\" class=\"data row0 col5\" >0.3661</td>\n",
       "      <td id=\"T_a7133_row0_col6\" class=\"data row0 col6\" >0.3649</td>\n",
       "      <td id=\"T_a7133_row0_col7\" class=\"data row0 col7\" >45.7630</td>\n",
       "    </tr>\n",
       "    <tr>\n",
       "      <th id=\"T_a7133_level0_row1\" class=\"row_heading level0 row1\" >knn</th>\n",
       "      <td id=\"T_a7133_row1_col0\" class=\"data row1 col0\" >K Neighbors Regressor</td>\n",
       "      <td id=\"T_a7133_row1_col1\" class=\"data row1 col1\" >4.1958</td>\n",
       "      <td id=\"T_a7133_row1_col2\" class=\"data row1 col2\" >44.1419</td>\n",
       "      <td id=\"T_a7133_row1_col3\" class=\"data row1 col3\" >6.6414</td>\n",
       "      <td id=\"T_a7133_row1_col4\" class=\"data row1 col4\" >0.9304</td>\n",
       "      <td id=\"T_a7133_row1_col5\" class=\"data row1 col5\" >0.3301</td>\n",
       "      <td id=\"T_a7133_row1_col6\" class=\"data row1 col6\" >0.2942</td>\n",
       "      <td id=\"T_a7133_row1_col7\" class=\"data row1 col7\" >6.3530</td>\n",
       "    </tr>\n",
       "    <tr>\n",
       "      <th id=\"T_a7133_level0_row2\" class=\"row_heading level0 row2\" >dt</th>\n",
       "      <td id=\"T_a7133_row2_col0\" class=\"data row2 col0\" >Decision Tree Regressor</td>\n",
       "      <td id=\"T_a7133_row2_col1\" class=\"data row2 col1\" >6.5923</td>\n",
       "      <td id=\"T_a7133_row2_col2\" class=\"data row2 col2\" >156.8289</td>\n",
       "      <td id=\"T_a7133_row2_col3\" class=\"data row2 col3\" >12.4574</td>\n",
       "      <td id=\"T_a7133_row2_col4\" class=\"data row2 col4\" >0.7530</td>\n",
       "      <td id=\"T_a7133_row2_col5\" class=\"data row2 col5\" >0.5498</td>\n",
       "      <td id=\"T_a7133_row2_col6\" class=\"data row2 col6\" >0.4798</td>\n",
       "      <td id=\"T_a7133_row2_col7\" class=\"data row2 col7\" >0.8500</td>\n",
       "    </tr>\n",
       "    <tr>\n",
       "      <th id=\"T_a7133_level0_row3\" class=\"row_heading level0 row3\" >lasso</th>\n",
       "      <td id=\"T_a7133_row3_col0\" class=\"data row3 col0\" >Lasso Regression</td>\n",
       "      <td id=\"T_a7133_row3_col1\" class=\"data row3 col1\" >14.1879</td>\n",
       "      <td id=\"T_a7133_row3_col2\" class=\"data row3 col2\" >377.9467</td>\n",
       "      <td id=\"T_a7133_row3_col3\" class=\"data row3 col3\" >19.4388</td>\n",
       "      <td id=\"T_a7133_row3_col4\" class=\"data row3 col4\" >0.4045</td>\n",
       "      <td id=\"T_a7133_row3_col5\" class=\"data row3 col5\" >0.7359</td>\n",
       "      <td id=\"T_a7133_row3_col6\" class=\"data row3 col6\" >1.0615</td>\n",
       "      <td id=\"T_a7133_row3_col7\" class=\"data row3 col7\" >0.1220</td>\n",
       "    </tr>\n",
       "    <tr>\n",
       "      <th id=\"T_a7133_level0_row4\" class=\"row_heading level0 row4\" >en</th>\n",
       "      <td id=\"T_a7133_row4_col0\" class=\"data row4 col0\" >Elastic Net</td>\n",
       "      <td id=\"T_a7133_row4_col1\" class=\"data row4 col1\" >14.1861</td>\n",
       "      <td id=\"T_a7133_row4_col2\" class=\"data row4 col2\" >377.9501</td>\n",
       "      <td id=\"T_a7133_row4_col3\" class=\"data row4 col3\" >19.4388</td>\n",
       "      <td id=\"T_a7133_row4_col4\" class=\"data row4 col4\" >0.4045</td>\n",
       "      <td id=\"T_a7133_row4_col5\" class=\"data row4 col5\" >0.7358</td>\n",
       "      <td id=\"T_a7133_row4_col6\" class=\"data row4 col6\" >1.0612</td>\n",
       "      <td id=\"T_a7133_row4_col7\" class=\"data row4 col7\" >0.1590</td>\n",
       "    </tr>\n",
       "    <tr>\n",
       "      <th id=\"T_a7133_level0_row5\" class=\"row_heading level0 row5\" >br</th>\n",
       "      <td id=\"T_a7133_row5_col0\" class=\"data row5 col0\" >Bayesian Ridge</td>\n",
       "      <td id=\"T_a7133_row5_col1\" class=\"data row5 col1\" >14.1667</td>\n",
       "      <td id=\"T_a7133_row5_col2\" class=\"data row5 col2\" >377.9928</td>\n",
       "      <td id=\"T_a7133_row5_col3\" class=\"data row5 col3\" >19.4399</td>\n",
       "      <td id=\"T_a7133_row5_col4\" class=\"data row5 col4\" >0.4045</td>\n",
       "      <td id=\"T_a7133_row5_col5\" class=\"data row5 col5\" >0.7357</td>\n",
       "      <td id=\"T_a7133_row5_col6\" class=\"data row5 col6\" >1.0593</td>\n",
       "      <td id=\"T_a7133_row5_col7\" class=\"data row5 col7\" >0.0740</td>\n",
       "    </tr>\n",
       "    <tr>\n",
       "      <th id=\"T_a7133_level0_row6\" class=\"row_heading level0 row6\" >lr</th>\n",
       "      <td id=\"T_a7133_row6_col0\" class=\"data row6 col0\" >Linear Regression</td>\n",
       "      <td id=\"T_a7133_row6_col1\" class=\"data row6 col1\" >14.1629</td>\n",
       "      <td id=\"T_a7133_row6_col2\" class=\"data row6 col2\" >377.9953</td>\n",
       "      <td id=\"T_a7133_row6_col3\" class=\"data row6 col3\" >19.4400</td>\n",
       "      <td id=\"T_a7133_row6_col4\" class=\"data row6 col4\" >0.4045</td>\n",
       "      <td id=\"T_a7133_row6_col5\" class=\"data row6 col5\" >0.7355</td>\n",
       "      <td id=\"T_a7133_row6_col6\" class=\"data row6 col6\" >1.0586</td>\n",
       "      <td id=\"T_a7133_row6_col7\" class=\"data row6 col7\" >0.9050</td>\n",
       "    </tr>\n",
       "    <tr>\n",
       "      <th id=\"T_a7133_level0_row7\" class=\"row_heading level0 row7\" >ridge</th>\n",
       "      <td id=\"T_a7133_row7_col0\" class=\"data row7 col0\" >Ridge Regression</td>\n",
       "      <td id=\"T_a7133_row7_col1\" class=\"data row7 col1\" >14.1654</td>\n",
       "      <td id=\"T_a7133_row7_col2\" class=\"data row7 col2\" >377.9985</td>\n",
       "      <td id=\"T_a7133_row7_col3\" class=\"data row7 col3\" >19.4401</td>\n",
       "      <td id=\"T_a7133_row7_col4\" class=\"data row7 col4\" >0.4045</td>\n",
       "      <td id=\"T_a7133_row7_col5\" class=\"data row7 col5\" >0.7356</td>\n",
       "      <td id=\"T_a7133_row7_col6\" class=\"data row7 col6\" >1.0592</td>\n",
       "      <td id=\"T_a7133_row7_col7\" class=\"data row7 col7\" >0.0610</td>\n",
       "    </tr>\n",
       "    <tr>\n",
       "      <th id=\"T_a7133_level0_row8\" class=\"row_heading level0 row8\" >lar</th>\n",
       "      <td id=\"T_a7133_row8_col0\" class=\"data row8 col0\" >Least Angle Regression</td>\n",
       "      <td id=\"T_a7133_row8_col1\" class=\"data row8 col1\" >14.1654</td>\n",
       "      <td id=\"T_a7133_row8_col2\" class=\"data row8 col2\" >377.9985</td>\n",
       "      <td id=\"T_a7133_row8_col3\" class=\"data row8 col3\" >19.4401</td>\n",
       "      <td id=\"T_a7133_row8_col4\" class=\"data row8 col4\" >0.4045</td>\n",
       "      <td id=\"T_a7133_row8_col5\" class=\"data row8 col5\" >0.7356</td>\n",
       "      <td id=\"T_a7133_row8_col6\" class=\"data row8 col6\" >1.0592</td>\n",
       "      <td id=\"T_a7133_row8_col7\" class=\"data row8 col7\" >0.0600</td>\n",
       "    </tr>\n",
       "    <tr>\n",
       "      <th id=\"T_a7133_level0_row9\" class=\"row_heading level0 row9\" >huber</th>\n",
       "      <td id=\"T_a7133_row9_col0\" class=\"data row9 col0\" >Huber Regressor</td>\n",
       "      <td id=\"T_a7133_row9_col1\" class=\"data row9 col1\" >13.3622</td>\n",
       "      <td id=\"T_a7133_row9_col2\" class=\"data row9 col2\" >394.8912</td>\n",
       "      <td id=\"T_a7133_row9_col3\" class=\"data row9 col3\" >19.8690</td>\n",
       "      <td id=\"T_a7133_row9_col4\" class=\"data row9 col4\" >0.3779</td>\n",
       "      <td id=\"T_a7133_row9_col5\" class=\"data row9 col5\" >0.7171</td>\n",
       "      <td id=\"T_a7133_row9_col6\" class=\"data row9 col6\" >0.8724</td>\n",
       "      <td id=\"T_a7133_row9_col7\" class=\"data row9 col7\" >0.7920</td>\n",
       "    </tr>\n",
       "    <tr>\n",
       "      <th id=\"T_a7133_level0_row10\" class=\"row_heading level0 row10\" >omp</th>\n",
       "      <td id=\"T_a7133_row10_col0\" class=\"data row10 col0\" >Orthogonal Matching Pursuit</td>\n",
       "      <td id=\"T_a7133_row10_col1\" class=\"data row10 col1\" >16.9890</td>\n",
       "      <td id=\"T_a7133_row10_col2\" class=\"data row10 col2\" >495.2366</td>\n",
       "      <td id=\"T_a7133_row10_col3\" class=\"data row10 col3\" >22.2515</td>\n",
       "      <td id=\"T_a7133_row10_col4\" class=\"data row10 col4\" >0.2199</td>\n",
       "      <td id=\"T_a7133_row10_col5\" class=\"data row10 col5\" >0.7963</td>\n",
       "      <td id=\"T_a7133_row10_col6\" class=\"data row10 col6\" >1.2540</td>\n",
       "      <td id=\"T_a7133_row10_col7\" class=\"data row10 col7\" >0.0670</td>\n",
       "    </tr>\n",
       "    <tr>\n",
       "      <th id=\"T_a7133_level0_row11\" class=\"row_heading level0 row11\" >llar</th>\n",
       "      <td id=\"T_a7133_row11_col0\" class=\"data row11 col0\" >Lasso Least Angle Regression</td>\n",
       "      <td id=\"T_a7133_row11_col1\" class=\"data row11 col1\" >19.5225</td>\n",
       "      <td id=\"T_a7133_row11_col2\" class=\"data row11 col2\" >634.8000</td>\n",
       "      <td id=\"T_a7133_row11_col3\" class=\"data row11 col3\" >25.1937</td>\n",
       "      <td id=\"T_a7133_row11_col4\" class=\"data row11 col4\" >-0.0001</td>\n",
       "      <td id=\"T_a7133_row11_col5\" class=\"data row11 col5\" >0.8981</td>\n",
       "      <td id=\"T_a7133_row11_col6\" class=\"data row11 col6\" >1.4899</td>\n",
       "      <td id=\"T_a7133_row11_col7\" class=\"data row11 col7\" >0.0610</td>\n",
       "    </tr>\n",
       "    <tr>\n",
       "      <th id=\"T_a7133_level0_row12\" class=\"row_heading level0 row12\" >par</th>\n",
       "      <td id=\"T_a7133_row12_col0\" class=\"data row12 col0\" >Passive Aggressive Regressor</td>\n",
       "      <td id=\"T_a7133_row12_col1\" class=\"data row12 col1\" >20.8722</td>\n",
       "      <td id=\"T_a7133_row12_col2\" class=\"data row12 col2\" >924.7905</td>\n",
       "      <td id=\"T_a7133_row12_col3\" class=\"data row12 col3\" >29.7255</td>\n",
       "      <td id=\"T_a7133_row12_col4\" class=\"data row12 col4\" >-0.4543</td>\n",
       "      <td id=\"T_a7133_row12_col5\" class=\"data row12 col5\" >0.9978</td>\n",
       "      <td id=\"T_a7133_row12_col6\" class=\"data row12 col6\" >1.3403</td>\n",
       "      <td id=\"T_a7133_row12_col7\" class=\"data row12 col7\" >0.1050</td>\n",
       "    </tr>\n",
       "  </tbody>\n",
       "</table>\n"
      ],
      "text/plain": [
       "<pandas.io.formats.style.Styler at 0x7f6dd4f815d0>"
      ]
     },
     "metadata": {},
     "output_type": "display_data"
    },
    {
     "data": {
      "application/vnd.jupyter.widget-view+json": {
       "model_id": "dd84a8951fdb4e798ce6c0f19fe37b45",
       "version_major": 2,
       "version_minor": 0
      },
      "text/plain": [
       "Processing:   0%|          | 0/85 [00:00<?, ?it/s]"
      ]
     },
     "metadata": {},
     "output_type": "display_data"
    }
   ],
   "source": [
    "pycaret_models = compare_models(sort='MSE', budget_time=5)"
   ]
  },
  {
   "cell_type": "code",
   "execution_count": 22,
   "id": "b71eaaed",
   "metadata": {
    "execution": {
     "iopub.execute_input": "2022-08-16T13:37:54.423558Z",
     "iopub.status.busy": "2022-08-16T13:37:54.423109Z",
     "iopub.status.idle": "2022-08-16T13:37:54.429253Z",
     "shell.execute_reply": "2022-08-16T13:37:54.428212Z"
    },
    "papermill": {
     "duration": 0.036045,
     "end_time": "2022-08-16T13:37:54.431574",
     "exception": false,
     "start_time": "2022-08-16T13:37:54.395529",
     "status": "completed"
    },
    "tags": []
   },
   "outputs": [
    {
     "name": "stdout",
     "output_type": "stream",
     "text": [
      "RandomForestRegressor(n_jobs=-1, random_state=669)\n"
     ]
    }
   ],
   "source": [
    "print(pycaret_models)"
   ]
  },
  {
   "cell_type": "code",
   "execution_count": 23,
   "id": "472c8adb",
   "metadata": {
    "execution": {
     "iopub.execute_input": "2022-08-16T13:37:54.486802Z",
     "iopub.status.busy": "2022-08-16T13:37:54.485932Z",
     "iopub.status.idle": "2022-08-16T13:38:53.513519Z",
     "shell.execute_reply": "2022-08-16T13:38:53.511966Z"
    },
    "papermill": {
     "duration": 59.081007,
     "end_time": "2022-08-16T13:38:53.539013",
     "exception": false,
     "start_time": "2022-08-16T13:37:54.458006",
     "status": "completed"
    },
    "tags": []
   },
   "outputs": [
    {
     "data": {
      "text/plain": [
       "0.9434759806106012"
      ]
     },
     "execution_count": 23,
     "metadata": {},
     "output_type": "execute_result"
    }
   ],
   "source": [
    "from sklearn.ensemble import RandomForestRegressor\n",
    "model_2 = RandomForestRegressor(n_jobs=-1, random_state=669)\n",
    "model_2.fit(x_train,y_train)\n",
    "model_2.score(x_test,y_test)"
   ]
  },
  {
   "cell_type": "code",
   "execution_count": 24,
   "id": "c14777d8",
   "metadata": {
    "execution": {
     "iopub.execute_input": "2022-08-16T13:38:53.592631Z",
     "iopub.status.busy": "2022-08-16T13:38:53.591781Z",
     "iopub.status.idle": "2022-08-16T13:40:02.370763Z",
     "shell.execute_reply": "2022-08-16T13:40:02.369132Z"
    },
    "papermill": {
     "duration": 68.80902,
     "end_time": "2022-08-16T13:40:02.373456",
     "exception": false,
     "start_time": "2022-08-16T13:38:53.564436",
     "status": "completed"
    },
    "tags": []
   },
   "outputs": [
    {
     "name": "stdout",
     "output_type": "stream",
     "text": [
      "Collecting autogluon\r\n",
      "  Downloading autogluon-0.5.2-py3-none-any.whl (9.6 kB)\r\n",
      "Collecting autogluon.text==0.5.2\r\n",
      "  Downloading autogluon.text-0.5.2-py3-none-any.whl (61 kB)\r\n",
      "\u001b[2K     \u001b[90m━━━━━━━━━━━━━━━━━━━━━━━━━━━━━━━━━━━━━━━━\u001b[0m \u001b[32m61.9/61.9 kB\u001b[0m \u001b[31m2.5 MB/s\u001b[0m eta \u001b[36m0:00:00\u001b[0m\r\n",
      "\u001b[?25hCollecting autogluon.tabular[all]==0.5.2\r\n",
      "  Downloading autogluon.tabular-0.5.2-py3-none-any.whl (274 kB)\r\n",
      "\u001b[2K     \u001b[90m━━━━━━━━━━━━━━━━━━━━━━━━━━━━━━━━━━━━━━━\u001b[0m \u001b[32m274.2/274.2 kB\u001b[0m \u001b[31m9.2 MB/s\u001b[0m eta \u001b[36m0:00:00\u001b[0m\r\n",
      "\u001b[?25hCollecting autogluon.multimodal==0.5.2\r\n",
      "  Downloading autogluon.multimodal-0.5.2-py3-none-any.whl (149 kB)\r\n",
      "\u001b[2K     \u001b[90m━━━━━━━━━━━━━━━━━━━━━━━━━━━━━━━━━━━━━━━\u001b[0m \u001b[32m149.4/149.4 kB\u001b[0m \u001b[31m9.3 MB/s\u001b[0m eta \u001b[36m0:00:00\u001b[0m\r\n",
      "\u001b[?25hCollecting autogluon.features==0.5.2\r\n",
      "  Downloading autogluon.features-0.5.2-py3-none-any.whl (59 kB)\r\n",
      "\u001b[2K     \u001b[90m━━━━━━━━━━━━━━━━━━━━━━━━━━━━━━━━━━━━━━━━\u001b[0m \u001b[32m59.4/59.4 kB\u001b[0m \u001b[31m3.8 MB/s\u001b[0m eta \u001b[36m0:00:00\u001b[0m\r\n",
      "\u001b[?25hCollecting autogluon.timeseries[all]==0.5.2\r\n",
      "  Downloading autogluon.timeseries-0.5.2-py3-none-any.whl (65 kB)\r\n",
      "\u001b[2K     \u001b[90m━━━━━━━━━━━━━━━━━━━━━━━━━━━━━━━━━━━━━━━━\u001b[0m \u001b[32m65.4/65.4 kB\u001b[0m \u001b[31m3.4 MB/s\u001b[0m eta \u001b[36m0:00:00\u001b[0m\r\n",
      "\u001b[?25hCollecting autogluon.vision==0.5.2\r\n",
      "  Downloading autogluon.vision-0.5.2-py3-none-any.whl (48 kB)\r\n",
      "\u001b[2K     \u001b[90m━━━━━━━━━━━━━━━━━━━━━━━━━━━━━━━━━━━━━━━━\u001b[0m \u001b[32m48.8/48.8 kB\u001b[0m \u001b[31m3.0 MB/s\u001b[0m eta \u001b[36m0:00:00\u001b[0m\r\n",
      "\u001b[?25hCollecting autogluon.core[all]==0.5.2\r\n",
      "  Downloading autogluon.core-0.5.2-py3-none-any.whl (210 kB)\r\n",
      "\u001b[2K     \u001b[90m━━━━━━━━━━━━━━━━━━━━━━━━━━━━━━━━━━━━━━\u001b[0m \u001b[32m210.4/210.4 kB\u001b[0m \u001b[31m13.2 MB/s\u001b[0m eta \u001b[36m0:00:00\u001b[0m\r\n",
      "\u001b[?25hRequirement already satisfied: requests in /opt/conda/lib/python3.7/site-packages (from autogluon.core[all]==0.5.2->autogluon) (2.28.1)\r\n",
      "Requirement already satisfied: scipy<1.8.0,>=1.5.4 in /opt/conda/lib/python3.7/site-packages (from autogluon.core[all]==0.5.2->autogluon) (1.7.3)\r\n",
      "Collecting autogluon.common==0.5.2\r\n",
      "  Downloading autogluon.common-0.5.2-py3-none-any.whl (37 kB)\r\n",
      "Requirement already satisfied: tqdm>=4.38.0 in /opt/conda/lib/python3.7/site-packages (from autogluon.core[all]==0.5.2->autogluon) (4.64.0)\r\n",
      "Requirement already satisfied: matplotlib in /opt/conda/lib/python3.7/site-packages (from autogluon.core[all]==0.5.2->autogluon) (3.5.2)\r\n",
      "Collecting distributed<=2021.11.2,>=2021.09.1\r\n",
      "  Downloading distributed-2021.11.2-py3-none-any.whl (802 kB)\r\n",
      "\u001b[2K     \u001b[90m━━━━━━━━━━━━━━━━━━━━━━━━━━━━━━━━━━━━━━\u001b[0m \u001b[32m802.2/802.2 kB\u001b[0m \u001b[31m25.4 MB/s\u001b[0m eta \u001b[36m0:00:00\u001b[0m\r\n",
      "\u001b[?25hRequirement already satisfied: numpy<1.23,>=1.21 in /opt/conda/lib/python3.7/site-packages (from autogluon.core[all]==0.5.2->autogluon) (1.21.6)\r\n",
      "Requirement already satisfied: boto3 in /opt/conda/lib/python3.7/site-packages (from autogluon.core[all]==0.5.2->autogluon) (1.24.33)\r\n",
      "Requirement already satisfied: scikit-learn<1.1,>=1.0.0 in /opt/conda/lib/python3.7/site-packages (from autogluon.core[all]==0.5.2->autogluon) (1.0.2)\r\n",
      "Collecting dask<=2021.11.2,>=2021.09.1\r\n",
      "  Downloading dask-2021.11.2-py3-none-any.whl (1.0 MB)\r\n",
      "\u001b[2K     \u001b[90m━━━━━━━━━━━━━━━━━━━━━━━━━━━━━━━━━━━━━━━━\u001b[0m \u001b[32m1.0/1.0 MB\u001b[0m \u001b[31m32.0 MB/s\u001b[0m eta \u001b[36m0:00:00\u001b[0m\r\n",
      "\u001b[?25hRequirement already satisfied: pandas!=1.4.0,<1.5,>=1.2.5 in /opt/conda/lib/python3.7/site-packages (from autogluon.core[all]==0.5.2->autogluon) (1.3.5)\r\n",
      "Requirement already satisfied: hyperopt<0.2.8,>=0.2.7 in /opt/conda/lib/python3.7/site-packages (from autogluon.core[all]==0.5.2->autogluon) (0.2.7)\r\n",
      "Requirement already satisfied: ray[tune]<1.14,>=1.13 in /opt/conda/lib/python3.7/site-packages (from autogluon.core[all]==0.5.2->autogluon) (1.13.0)\r\n",
      "Requirement already satisfied: psutil<6,>=5.7.3 in /opt/conda/lib/python3.7/site-packages (from autogluon.features==0.5.2->autogluon) (5.9.1)\r\n",
      "Requirement already satisfied: torch<1.13,>=1.9 in /opt/conda/lib/python3.7/site-packages (from autogluon.multimodal==0.5.2->autogluon) (1.11.0+cpu)\r\n",
      "Collecting nptyping<1.5.0,>=1.4.4\r\n",
      "  Downloading nptyping-1.4.4-py3-none-any.whl (31 kB)\r\n",
      "Collecting pytorch-metric-learning<1.4.0,>=1.3.0\r\n",
      "  Downloading pytorch_metric_learning-1.3.2-py3-none-any.whl (109 kB)\r\n",
      "\u001b[2K     \u001b[90m━━━━━━━━━━━━━━━━━━━━━━━━━━━━━━━━━━━━━━━\u001b[0m \u001b[32m109.4/109.4 kB\u001b[0m \u001b[31m7.2 MB/s\u001b[0m eta \u001b[36m0:00:00\u001b[0m\r\n",
      "\u001b[?25hRequirement already satisfied: nltk<4.0.0,>=3.4.5 in /opt/conda/lib/python3.7/site-packages (from autogluon.multimodal==0.5.2->autogluon) (3.7)\r\n",
      "Collecting protobuf<=3.18.1\r\n",
      "  Downloading protobuf-3.18.1-cp37-cp37m-manylinux_2_17_x86_64.manylinux2014_x86_64.whl (1.1 MB)\r\n",
      "\u001b[2K     \u001b[90m━━━━━━━━━━━━━━━━━━━━━━━━━━━━━━━━━━━━━━━━\u001b[0m \u001b[32m1.1/1.1 MB\u001b[0m \u001b[31m33.0 MB/s\u001b[0m eta \u001b[36m0:00:00\u001b[0m\r\n",
      "\u001b[?25hRequirement already satisfied: sentencepiece<0.2.0,>=0.1.95 in /opt/conda/lib/python3.7/site-packages (from autogluon.multimodal==0.5.2->autogluon) (0.1.96)\r\n",
      "Requirement already satisfied: pytorch-lightning<1.7.0,>=1.6.0 in /opt/conda/lib/python3.7/site-packages (from autogluon.multimodal==0.5.2->autogluon) (1.6.5)\r\n",
      "Requirement already satisfied: scikit-image<0.20.0,>=0.19.1 in /opt/conda/lib/python3.7/site-packages (from autogluon.multimodal==0.5.2->autogluon) (0.19.3)\r\n",
      "Collecting nlpaug<=1.1.10,>=1.1.10\r\n",
      "  Downloading nlpaug-1.1.10-py3-none-any.whl (410 kB)\r\n",
      "\u001b[2K     \u001b[90m━━━━━━━━━━━━━━━━━━━━━━━━━━━━━━━━━━━━━━\u001b[0m \u001b[32m410.8/410.8 kB\u001b[0m \u001b[31m16.7 MB/s\u001b[0m eta \u001b[36m0:00:00\u001b[0m\r\n",
      "\u001b[?25hRequirement already satisfied: torchtext<0.14.0 in /opt/conda/lib/python3.7/site-packages (from autogluon.multimodal==0.5.2->autogluon) (0.12.0)\r\n",
      "Collecting Pillow<9.1.0,>=9.0.1\r\n",
      "  Downloading Pillow-9.0.1-cp37-cp37m-manylinux_2_17_x86_64.manylinux2014_x86_64.whl (4.3 MB)\r\n",
      "\u001b[2K     \u001b[90m━━━━━━━━━━━━━━━━━━━━━━━━━━━━━━━━━━━━━━━━\u001b[0m \u001b[32m4.3/4.3 MB\u001b[0m \u001b[31m41.5 MB/s\u001b[0m eta \u001b[36m0:00:00\u001b[0m\r\n",
      "\u001b[?25hRequirement already satisfied: smart-open<5.3.0,>=5.2.1 in /opt/conda/lib/python3.7/site-packages (from autogluon.multimodal==0.5.2->autogluon) (5.2.1)\r\n",
      "Collecting torchmetrics<0.8.0,>=0.7.2\r\n",
      "  Downloading torchmetrics-0.7.3-py3-none-any.whl (398 kB)\r\n",
      "\u001b[2K     \u001b[90m━━━━━━━━━━━━━━━━━━━━━━━━━━━━━━━━━━━━━━\u001b[0m \u001b[32m398.2/398.2 kB\u001b[0m \u001b[31m23.5 MB/s\u001b[0m eta \u001b[36m0:00:00\u001b[0m\r\n",
      "\u001b[?25hRequirement already satisfied: fairscale<=0.4.6,>=0.4.5 in /opt/conda/lib/python3.7/site-packages (from autogluon.multimodal==0.5.2->autogluon) (0.4.6)\r\n",
      "Requirement already satisfied: transformers<4.21.0,>=4.18.0 in /opt/conda/lib/python3.7/site-packages (from autogluon.multimodal==0.5.2->autogluon) (4.20.1)\r\n",
      "Collecting omegaconf<2.2.0,>=2.1.1\r\n",
      "  Downloading omegaconf-2.1.2-py3-none-any.whl (74 kB)\r\n",
      "\u001b[2K     \u001b[90m━━━━━━━━━━━━━━━━━━━━━━━━━━━━━━━━━━━━━━━━\u001b[0m \u001b[32m74.7/74.7 kB\u001b[0m \u001b[31m5.2 MB/s\u001b[0m eta \u001b[36m0:00:00\u001b[0m\r\n",
      "\u001b[?25hCollecting timm<0.6.0\r\n",
      "  Downloading timm-0.5.4-py3-none-any.whl (431 kB)\r\n",
      "\u001b[2K     \u001b[90m━━━━━━━━━━━━━━━━━━━━━━━━━━━━━━━━━━━━━━\u001b[0m \u001b[32m431.5/431.5 kB\u001b[0m \u001b[31m24.3 MB/s\u001b[0m eta \u001b[36m0:00:00\u001b[0m\r\n",
      "\u001b[?25hRequirement already satisfied: torchvision<0.14.0 in /opt/conda/lib/python3.7/site-packages (from autogluon.multimodal==0.5.2->autogluon) (0.12.0+cpu)\r\n",
      "Requirement already satisfied: networkx<3.0,>=2.3 in /opt/conda/lib/python3.7/site-packages (from autogluon.tabular[all]==0.5.2->autogluon) (2.5)\r\n",
      "Requirement already satisfied: fastai<2.8,>=2.3.1 in /opt/conda/lib/python3.7/site-packages (from autogluon.tabular[all]==0.5.2->autogluon) (2.7.7)\r\n",
      "Collecting xgboost<1.5,>=1.4\r\n",
      "  Downloading xgboost-1.4.2-py3-none-manylinux2010_x86_64.whl (166.7 MB)\r\n",
      "\u001b[2K     \u001b[90m━━━━━━━━━━━━━━━━━━━━━━━━━━━━━━━━━━━━━━━\u001b[0m \u001b[32m166.7/166.7 MB\u001b[0m \u001b[31m5.1 MB/s\u001b[0m eta \u001b[36m0:00:00\u001b[0m\r\n",
      "\u001b[?25hRequirement already satisfied: lightgbm<3.4,>=3.3 in /opt/conda/lib/python3.7/site-packages (from autogluon.tabular[all]==0.5.2->autogluon) (3.3.2)\r\n",
      "Requirement already satisfied: catboost<1.1,>=1.0 in /opt/conda/lib/python3.7/site-packages (from autogluon.tabular[all]==0.5.2->autogluon) (1.0.6)\r\n",
      "Collecting autogluon-contrib-nlp==0.0.1b20220208\r\n",
      "  Downloading autogluon_contrib_nlp-0.0.1b20220208-py3-none-any.whl (157 kB)\r\n",
      "\u001b[2K     \u001b[90m━━━━━━━━━━━━━━━━━━━━━━━━━━━━━━━━━━━━━━━\u001b[0m \u001b[32m157.3/157.3 kB\u001b[0m \u001b[31m9.6 MB/s\u001b[0m eta \u001b[36m0:00:00\u001b[0m\r\n",
      "\u001b[?25hCollecting psutil<6,>=5.7.3\r\n",
      "  Downloading psutil-5.8.0-cp37-cp37m-manylinux2010_x86_64.whl (296 kB)\r\n",
      "\u001b[2K     \u001b[90m━━━━━━━━━━━━━━━━━━━━━━━━━━━━━━━━━━━━━━\u001b[0m \u001b[32m296.3/296.3 kB\u001b[0m \u001b[31m16.8 MB/s\u001b[0m eta \u001b[36m0:00:00\u001b[0m\r\n",
      "\u001b[?25hCollecting gluonts<0.10.0,>=0.8.0\r\n",
      "  Downloading gluonts-0.9.8-py3-none-any.whl (2.8 MB)\r\n",
      "\u001b[2K     \u001b[90m━━━━━━━━━━━━━━━━━━━━━━━━━━━━━━━━━━━━━━━━\u001b[0m \u001b[32m2.8/2.8 MB\u001b[0m \u001b[31m49.0 MB/s\u001b[0m eta \u001b[36m0:00:00\u001b[0m\r\n",
      "\u001b[?25hRequirement already satisfied: pmdarima~=1.8.2 in /opt/conda/lib/python3.7/site-packages (from autogluon.timeseries[all]==0.5.2->autogluon) (1.8.5)\r\n",
      "Requirement already satisfied: tbats~=1.1 in /opt/conda/lib/python3.7/site-packages (from autogluon.timeseries[all]==0.5.2->autogluon) (1.1.0)\r\n",
      "Collecting sktime~=0.11.4\r\n",
      "  Downloading sktime-0.11.4-py3-none-any.whl (6.7 MB)\r\n",
      "\u001b[2K     \u001b[90m━━━━━━━━━━━━━━━━━━━━━━━━━━━━━━━━━━━━━━━━\u001b[0m \u001b[32m6.7/6.7 MB\u001b[0m \u001b[31m59.1 MB/s\u001b[0m eta \u001b[36m0:00:00\u001b[0m\r\n",
      "\u001b[?25hRequirement already satisfied: gluoncv<0.10.6,>=0.10.5 in /opt/conda/lib/python3.7/site-packages (from autogluon.vision==0.5.2->autogluon) (0.10.5.post0)\r\n",
      "Requirement already satisfied: sacremoses>=0.0.38 in /opt/conda/lib/python3.7/site-packages (from autogluon-contrib-nlp==0.0.1b20220208->autogluon.text==0.5.2->autogluon) (0.0.53)\r\n",
      "Collecting sacrebleu\r\n",
      "  Downloading sacrebleu-2.2.0-py3-none-any.whl (116 kB)\r\n",
      "\u001b[2K     \u001b[90m━━━━━━━━━━━━━━━━━━━━━━━━━━━━━━━━━━━━━━━\u001b[0m \u001b[32m116.6/116.6 kB\u001b[0m \u001b[31m7.3 MB/s\u001b[0m eta \u001b[36m0:00:00\u001b[0m\r\n",
      "\u001b[?25hRequirement already satisfied: flake8 in /opt/conda/lib/python3.7/site-packages (from autogluon-contrib-nlp==0.0.1b20220208->autogluon.text==0.5.2->autogluon) (4.0.1)\r\n",
      "Requirement already satisfied: tokenizers>=0.9.4 in /opt/conda/lib/python3.7/site-packages (from autogluon-contrib-nlp==0.0.1b20220208->autogluon.text==0.5.2->autogluon) (0.12.1)\r\n",
      "Collecting contextvars\r\n",
      "  Downloading contextvars-2.4.tar.gz (9.6 kB)\r\n",
      "  Preparing metadata (setup.py) ... \u001b[?25l-\b \bdone\r\n",
      "\u001b[?25hRequirement already satisfied: pyarrow in /opt/conda/lib/python3.7/site-packages (from autogluon-contrib-nlp==0.0.1b20220208->autogluon.text==0.5.2->autogluon) (8.0.0)\r\n",
      "Requirement already satisfied: yacs>=0.1.6 in /opt/conda/lib/python3.7/site-packages (from autogluon-contrib-nlp==0.0.1b20220208->autogluon.text==0.5.2->autogluon) (0.1.8)\r\n",
      "Collecting sentencepiece<0.2.0,>=0.1.95\r\n",
      "  Downloading sentencepiece-0.1.95-cp37-cp37m-manylinux2014_x86_64.whl (1.2 MB)\r\n",
      "\u001b[2K     \u001b[90m━━━━━━━━━━━━━━━━━━━━━━━━━━━━━━━━━━━━━━━━\u001b[0m \u001b[32m1.2/1.2 MB\u001b[0m \u001b[31m40.2 MB/s\u001b[0m eta \u001b[36m0:00:00\u001b[0m\r\n",
      "\u001b[?25hRequirement already satisfied: regex in /opt/conda/lib/python3.7/site-packages (from autogluon-contrib-nlp==0.0.1b20220208->autogluon.text==0.5.2->autogluon) (2021.11.10)\r\n",
      "Requirement already satisfied: graphviz in /opt/conda/lib/python3.7/site-packages (from catboost<1.1,>=1.0->autogluon.tabular[all]==0.5.2->autogluon) (0.8.4)\r\n",
      "Requirement already satisfied: plotly in /opt/conda/lib/python3.7/site-packages (from catboost<1.1,>=1.0->autogluon.tabular[all]==0.5.2->autogluon) (5.9.0)\r\n",
      "Requirement already satisfied: six in /opt/conda/lib/python3.7/site-packages (from catboost<1.1,>=1.0->autogluon.tabular[all]==0.5.2->autogluon) (1.16.0)\r\n",
      "Requirement already satisfied: cloudpickle>=1.1.1 in /opt/conda/lib/python3.7/site-packages (from dask<=2021.11.2,>=2021.09.1->autogluon.core[all]==0.5.2->autogluon) (2.1.0)\r\n",
      "Requirement already satisfied: partd>=0.3.10 in /opt/conda/lib/python3.7/site-packages (from dask<=2021.11.2,>=2021.09.1->autogluon.core[all]==0.5.2->autogluon) (1.2.0)\r\n",
      "Requirement already satisfied: toolz>=0.8.2 in /opt/conda/lib/python3.7/site-packages (from dask<=2021.11.2,>=2021.09.1->autogluon.core[all]==0.5.2->autogluon) (0.11.2)\r\n",
      "Requirement already satisfied: pyyaml in /opt/conda/lib/python3.7/site-packages (from dask<=2021.11.2,>=2021.09.1->autogluon.core[all]==0.5.2->autogluon) (6.0)\r\n",
      "Requirement already satisfied: packaging>=20.0 in /opt/conda/lib/python3.7/site-packages (from dask<=2021.11.2,>=2021.09.1->autogluon.core[all]==0.5.2->autogluon) (21.3)\r\n",
      "Requirement already satisfied: fsspec>=0.6.0 in /opt/conda/lib/python3.7/site-packages (from dask<=2021.11.2,>=2021.09.1->autogluon.core[all]==0.5.2->autogluon) (2022.5.0)\r\n",
      "Requirement already satisfied: zict>=0.1.3 in /opt/conda/lib/python3.7/site-packages (from distributed<=2021.11.2,>=2021.09.1->autogluon.core[all]==0.5.2->autogluon) (2.2.0)\r\n",
      "Requirement already satisfied: click>=6.6 in /opt/conda/lib/python3.7/site-packages (from distributed<=2021.11.2,>=2021.09.1->autogluon.core[all]==0.5.2->autogluon) (8.0.4)\r\n",
      "Requirement already satisfied: setuptools in /opt/conda/lib/python3.7/site-packages (from distributed<=2021.11.2,>=2021.09.1->autogluon.core[all]==0.5.2->autogluon) (59.8.0)\r\n",
      "Requirement already satisfied: tornado>=5 in /opt/conda/lib/python3.7/site-packages (from distributed<=2021.11.2,>=2021.09.1->autogluon.core[all]==0.5.2->autogluon) (6.1)\r\n",
      "Requirement already satisfied: jinja2 in /opt/conda/lib/python3.7/site-packages (from distributed<=2021.11.2,>=2021.09.1->autogluon.core[all]==0.5.2->autogluon) (3.1.2)\r\n",
      "Requirement already satisfied: msgpack>=0.6.0 in /opt/conda/lib/python3.7/site-packages (from distributed<=2021.11.2,>=2021.09.1->autogluon.core[all]==0.5.2->autogluon) (1.0.4)\r\n",
      "Requirement already satisfied: sortedcontainers!=2.0.0,!=2.0.1 in /opt/conda/lib/python3.7/site-packages (from distributed<=2021.11.2,>=2021.09.1->autogluon.core[all]==0.5.2->autogluon) (2.4.0)\r\n",
      "Requirement already satisfied: tblib>=1.6.0 in /opt/conda/lib/python3.7/site-packages (from distributed<=2021.11.2,>=2021.09.1->autogluon.core[all]==0.5.2->autogluon) (1.7.0)\r\n",
      "Requirement already satisfied: fastprogress>=0.2.4 in /opt/conda/lib/python3.7/site-packages (from fastai<2.8,>=2.3.1->autogluon.tabular[all]==0.5.2->autogluon) (1.0.2)\r\n",
      "Requirement already satisfied: fastdownload<2,>=0.0.5 in /opt/conda/lib/python3.7/site-packages (from fastai<2.8,>=2.3.1->autogluon.tabular[all]==0.5.2->autogluon) (0.0.7)\r\n",
      "Requirement already satisfied: pip in /opt/conda/lib/python3.7/site-packages (from fastai<2.8,>=2.3.1->autogluon.tabular[all]==0.5.2->autogluon) (22.1.2)\r\n",
      "Requirement already satisfied: spacy<4 in /opt/conda/lib/python3.7/site-packages (from fastai<2.8,>=2.3.1->autogluon.tabular[all]==0.5.2->autogluon) (3.3.1)\r\n",
      "Requirement already satisfied: fastcore<1.6,>=1.4.5 in /opt/conda/lib/python3.7/site-packages (from fastai<2.8,>=2.3.1->autogluon.tabular[all]==0.5.2->autogluon) (1.5.6)\r\n",
      "Requirement already satisfied: opencv-python in /opt/conda/lib/python3.7/site-packages (from gluoncv<0.10.6,>=0.10.5->autogluon.vision==0.5.2->autogluon) (4.5.4.60)\r\n",
      "Requirement already satisfied: autocfg in /opt/conda/lib/python3.7/site-packages (from gluoncv<0.10.6,>=0.10.5->autogluon.vision==0.5.2->autogluon) (0.0.8)\r\n",
      "Requirement already satisfied: portalocker in /opt/conda/lib/python3.7/site-packages (from gluoncv<0.10.6,>=0.10.5->autogluon.vision==0.5.2->autogluon) (2.5.1)\r\n",
      "Requirement already satisfied: pydantic~=1.1 in /opt/conda/lib/python3.7/site-packages (from gluonts<0.10.0,>=0.8.0->autogluon.timeseries[all]==0.5.2->autogluon) (1.8.2)\r\n",
      "Requirement already satisfied: typing-extensions~=4.0 in /opt/conda/lib/python3.7/site-packages (from gluonts<0.10.0,>=0.8.0->autogluon.timeseries[all]==0.5.2->autogluon) (4.1.1)\r\n",
      "Requirement already satisfied: holidays>=0.9 in /opt/conda/lib/python3.7/site-packages (from gluonts<0.10.0,>=0.8.0->autogluon.timeseries[all]==0.5.2->autogluon) (0.14.2)\r\n",
      "Requirement already satisfied: future in /opt/conda/lib/python3.7/site-packages (from hyperopt<0.2.8,>=0.2.7->autogluon.core[all]==0.5.2->autogluon) (0.18.2)\r\n",
      "Requirement already satisfied: py4j in /opt/conda/lib/python3.7/site-packages (from hyperopt<0.2.8,>=0.2.7->autogluon.core[all]==0.5.2->autogluon) (0.10.9.5)\r\n",
      "Requirement already satisfied: wheel in /opt/conda/lib/python3.7/site-packages (from lightgbm<3.4,>=3.3->autogluon.tabular[all]==0.5.2->autogluon) (0.37.1)\r\n",
      "Requirement already satisfied: fonttools>=4.22.0 in /opt/conda/lib/python3.7/site-packages (from matplotlib->autogluon.core[all]==0.5.2->autogluon) (4.33.3)\r\n",
      "Requirement already satisfied: python-dateutil>=2.7 in /opt/conda/lib/python3.7/site-packages (from matplotlib->autogluon.core[all]==0.5.2->autogluon) (2.8.2)\r\n",
      "Requirement already satisfied: kiwisolver>=1.0.1 in /opt/conda/lib/python3.7/site-packages (from matplotlib->autogluon.core[all]==0.5.2->autogluon) (1.4.3)\r\n",
      "Requirement already satisfied: cycler>=0.10 in /opt/conda/lib/python3.7/site-packages (from matplotlib->autogluon.core[all]==0.5.2->autogluon) (0.11.0)\r\n",
      "Requirement already satisfied: pyparsing>=2.2.1 in /opt/conda/lib/python3.7/site-packages (from matplotlib->autogluon.core[all]==0.5.2->autogluon) (3.0.9)\r\n",
      "Requirement already satisfied: decorator>=4.3.0 in /opt/conda/lib/python3.7/site-packages (from networkx<3.0,>=2.3->autogluon.tabular[all]==0.5.2->autogluon) (5.1.1)\r\n",
      "Requirement already satisfied: joblib in /opt/conda/lib/python3.7/site-packages (from nltk<4.0.0,>=3.4.5->autogluon.multimodal==0.5.2->autogluon) (1.1.0)\r\n",
      "Collecting typish>=1.7.0\r\n",
      "  Downloading typish-1.9.3-py3-none-any.whl (45 kB)\r\n",
      "\u001b[2K     \u001b[90m━━━━━━━━━━━━━━━━━━━━━━━━━━━━━━━━━━━━━━━━\u001b[0m \u001b[32m45.1/45.1 kB\u001b[0m \u001b[31m3.3 MB/s\u001b[0m eta \u001b[36m0:00:00\u001b[0m\r\n",
      "\u001b[?25hCollecting antlr4-python3-runtime==4.8\r\n",
      "  Downloading antlr4-python3-runtime-4.8.tar.gz (112 kB)\r\n",
      "\u001b[2K     \u001b[90m━━━━━━━━━━━━━━━━━━━━━━━━━━━━━━━━━━━━━━━\u001b[0m \u001b[32m112.4/112.4 kB\u001b[0m \u001b[31m7.8 MB/s\u001b[0m eta \u001b[36m0:00:00\u001b[0m\r\n",
      "\u001b[?25h  Preparing metadata (setup.py) ... \u001b[?25l-\b \bdone\r\n",
      "\u001b[?25hRequirement already satisfied: pytz>=2017.3 in /opt/conda/lib/python3.7/site-packages (from pandas!=1.4.0,<1.5,>=1.2.5->autogluon.core[all]==0.5.2->autogluon) (2022.1)\r\n",
      "Requirement already satisfied: urllib3 in /opt/conda/lib/python3.7/site-packages (from pmdarima~=1.8.2->autogluon.timeseries[all]==0.5.2->autogluon) (1.26.9)\r\n",
      "Requirement already satisfied: statsmodels!=0.12.0,>=0.11 in /opt/conda/lib/python3.7/site-packages (from pmdarima~=1.8.2->autogluon.timeseries[all]==0.5.2->autogluon) (0.13.2)\r\n",
      "Requirement already satisfied: Cython!=0.29.18,>=0.29 in /opt/conda/lib/python3.7/site-packages (from pmdarima~=1.8.2->autogluon.timeseries[all]==0.5.2->autogluon) (0.29.30)\r\n",
      "Requirement already satisfied: tensorboard>=2.2.0 in /opt/conda/lib/python3.7/site-packages (from pytorch-lightning<1.7.0,>=1.6.0->autogluon.multimodal==0.5.2->autogluon) (2.6.0)\r\n",
      "Requirement already satisfied: pyDeprecate>=0.3.1 in /opt/conda/lib/python3.7/site-packages (from pytorch-lightning<1.7.0,>=1.6.0->autogluon.multimodal==0.5.2->autogluon) (0.3.2)\r\n",
      "Requirement already satisfied: filelock in /opt/conda/lib/python3.7/site-packages (from ray[tune]<1.14,>=1.13->autogluon.core[all]==0.5.2->autogluon) (3.7.1)\r\n",
      "Requirement already satisfied: aiosignal in /opt/conda/lib/python3.7/site-packages (from ray[tune]<1.14,>=1.13->autogluon.core[all]==0.5.2->autogluon) (1.2.0)\r\n",
      "Requirement already satisfied: virtualenv in /opt/conda/lib/python3.7/site-packages (from ray[tune]<1.14,>=1.13->autogluon.core[all]==0.5.2->autogluon) (20.15.1)\r\n",
      "Requirement already satisfied: grpcio<=1.43.0,>=1.28.1 in /opt/conda/lib/python3.7/site-packages (from ray[tune]<1.14,>=1.13->autogluon.core[all]==0.5.2->autogluon) (1.43.0)\r\n",
      "Requirement already satisfied: frozenlist in /opt/conda/lib/python3.7/site-packages (from ray[tune]<1.14,>=1.13->autogluon.core[all]==0.5.2->autogluon) (1.3.0)\r\n",
      "Requirement already satisfied: jsonschema in /opt/conda/lib/python3.7/site-packages (from ray[tune]<1.14,>=1.13->autogluon.core[all]==0.5.2->autogluon) (4.6.1)\r\n",
      "Requirement already satisfied: attrs in /opt/conda/lib/python3.7/site-packages (from ray[tune]<1.14,>=1.13->autogluon.core[all]==0.5.2->autogluon) (21.4.0)\r\n",
      "Requirement already satisfied: tensorboardX>=1.9 in /opt/conda/lib/python3.7/site-packages (from ray[tune]<1.14,>=1.13->autogluon.core[all]==0.5.2->autogluon) (2.5.1)\r\n",
      "Requirement already satisfied: tabulate in /opt/conda/lib/python3.7/site-packages (from ray[tune]<1.14,>=1.13->autogluon.core[all]==0.5.2->autogluon) (0.8.10)\r\n",
      "Requirement already satisfied: charset-normalizer<3,>=2 in /opt/conda/lib/python3.7/site-packages (from requests->autogluon.core[all]==0.5.2->autogluon) (2.1.0)\r\n",
      "Requirement already satisfied: certifi>=2017.4.17 in /opt/conda/lib/python3.7/site-packages (from requests->autogluon.core[all]==0.5.2->autogluon) (2022.6.15)\r\n",
      "Requirement already satisfied: idna<4,>=2.5 in /opt/conda/lib/python3.7/site-packages (from requests->autogluon.core[all]==0.5.2->autogluon) (3.3)\r\n",
      "Requirement already satisfied: PyWavelets>=1.1.1 in /opt/conda/lib/python3.7/site-packages (from scikit-image<0.20.0,>=0.19.1->autogluon.multimodal==0.5.2->autogluon) (1.3.0)\r\n",
      "Requirement already satisfied: tifffile>=2019.7.26 in /opt/conda/lib/python3.7/site-packages (from scikit-image<0.20.0,>=0.19.1->autogluon.multimodal==0.5.2->autogluon) (2021.11.2)\r\n",
      "Requirement already satisfied: imageio>=2.4.1 in /opt/conda/lib/python3.7/site-packages (from scikit-image<0.20.0,>=0.19.1->autogluon.multimodal==0.5.2->autogluon) (2.19.3)\r\n",
      "Requirement already satisfied: threadpoolctl>=2.0.0 in /opt/conda/lib/python3.7/site-packages (from scikit-learn<1.1,>=1.0.0->autogluon.core[all]==0.5.2->autogluon) (3.1.0)\r\n",
      "Requirement already satisfied: numba>=0.53 in /opt/conda/lib/python3.7/site-packages (from sktime~=0.11.4->autogluon.timeseries[all]==0.5.2->autogluon) (0.55.2)\r\n",
      "Requirement already satisfied: deprecated>=1.2.13 in /opt/conda/lib/python3.7/site-packages (from sktime~=0.11.4->autogluon.timeseries[all]==0.5.2->autogluon) (1.2.13)\r\n",
      "Requirement already satisfied: importlib-metadata in /opt/conda/lib/python3.7/site-packages (from transformers<4.21.0,>=4.18.0->autogluon.multimodal==0.5.2->autogluon) (4.12.0)\r\n",
      "Requirement already satisfied: huggingface-hub<1.0,>=0.1.0 in /opt/conda/lib/python3.7/site-packages (from transformers<4.21.0,>=4.18.0->autogluon.multimodal==0.5.2->autogluon) (0.8.1)\r\n",
      "Requirement already satisfied: s3transfer<0.7.0,>=0.6.0 in /opt/conda/lib/python3.7/site-packages (from boto3->autogluon.core[all]==0.5.2->autogluon) (0.6.0)\r\n",
      "Requirement already satisfied: botocore<1.28.0,>=1.27.33 in /opt/conda/lib/python3.7/site-packages (from boto3->autogluon.core[all]==0.5.2->autogluon) (1.27.33)\r\n",
      "Requirement already satisfied: jmespath<2.0.0,>=0.7.1 in /opt/conda/lib/python3.7/site-packages (from boto3->autogluon.core[all]==0.5.2->autogluon) (1.0.1)\r\n",
      "Requirement already satisfied: wrapt<2,>=1.10 in /opt/conda/lib/python3.7/site-packages (from deprecated>=1.2.13->sktime~=0.11.4->autogluon.timeseries[all]==0.5.2->autogluon) (1.14.1)\r\n",
      "Requirement already satisfied: aiohttp in /opt/conda/lib/python3.7/site-packages (from fsspec>=0.6.0->dask<=2021.11.2,>=2021.09.1->autogluon.core[all]==0.5.2->autogluon) (3.8.1)\r\n",
      "Requirement already satisfied: korean-lunar-calendar in /opt/conda/lib/python3.7/site-packages (from holidays>=0.9->gluonts<0.10.0,>=0.8.0->autogluon.timeseries[all]==0.5.2->autogluon) (0.2.1)\r\n",
      "Requirement already satisfied: hijri-converter in /opt/conda/lib/python3.7/site-packages (from holidays>=0.9->gluonts<0.10.0,>=0.8.0->autogluon.timeseries[all]==0.5.2->autogluon) (2.2.4)\r\n",
      "Requirement already satisfied: convertdate>=2.3.0 in /opt/conda/lib/python3.7/site-packages (from holidays>=0.9->gluonts<0.10.0,>=0.8.0->autogluon.timeseries[all]==0.5.2->autogluon) (2.4.0)\r\n",
      "Requirement already satisfied: llvmlite<0.39,>=0.38.0rc1 in /opt/conda/lib/python3.7/site-packages (from numba>=0.53->sktime~=0.11.4->autogluon.timeseries[all]==0.5.2->autogluon) (0.38.1)\r\n",
      "Requirement already satisfied: locket in /opt/conda/lib/python3.7/site-packages (from partd>=0.3.10->dask<=2021.11.2,>=2021.09.1->autogluon.core[all]==0.5.2->autogluon) (1.0.0)\r\n",
      "Requirement already satisfied: murmurhash<1.1.0,>=0.28.0 in /opt/conda/lib/python3.7/site-packages (from spacy<4->fastai<2.8,>=2.3.1->autogluon.tabular[all]==0.5.2->autogluon) (1.0.7)\r\n",
      "Requirement already satisfied: spacy-loggers<2.0.0,>=1.0.0 in /opt/conda/lib/python3.7/site-packages (from spacy<4->fastai<2.8,>=2.3.1->autogluon.tabular[all]==0.5.2->autogluon) (1.0.3)\r\n",
      "Requirement already satisfied: spacy-legacy<3.1.0,>=3.0.9 in /opt/conda/lib/python3.7/site-packages (from spacy<4->fastai<2.8,>=2.3.1->autogluon.tabular[all]==0.5.2->autogluon) (3.0.9)\r\n",
      "Requirement already satisfied: srsly<3.0.0,>=2.4.3 in /opt/conda/lib/python3.7/site-packages (from spacy<4->fastai<2.8,>=2.3.1->autogluon.tabular[all]==0.5.2->autogluon) (2.4.3)\r\n",
      "Requirement already satisfied: typer<0.5.0,>=0.3.0 in /opt/conda/lib/python3.7/site-packages (from spacy<4->fastai<2.8,>=2.3.1->autogluon.tabular[all]==0.5.2->autogluon) (0.4.2)\r\n",
      "Requirement already satisfied: catalogue<2.1.0,>=2.0.6 in /opt/conda/lib/python3.7/site-packages (from spacy<4->fastai<2.8,>=2.3.1->autogluon.tabular[all]==0.5.2->autogluon) (2.0.7)\r\n",
      "Requirement already satisfied: thinc<8.1.0,>=8.0.14 in /opt/conda/lib/python3.7/site-packages (from spacy<4->fastai<2.8,>=2.3.1->autogluon.tabular[all]==0.5.2->autogluon) (8.0.17)\r\n",
      "Requirement already satisfied: pathy>=0.3.5 in /opt/conda/lib/python3.7/site-packages (from spacy<4->fastai<2.8,>=2.3.1->autogluon.tabular[all]==0.5.2->autogluon) (0.6.2)\r\n",
      "Requirement already satisfied: preshed<3.1.0,>=3.0.2 in /opt/conda/lib/python3.7/site-packages (from spacy<4->fastai<2.8,>=2.3.1->autogluon.tabular[all]==0.5.2->autogluon) (3.0.6)\r\n",
      "Requirement already satisfied: blis<0.8.0,>=0.4.0 in /opt/conda/lib/python3.7/site-packages (from spacy<4->fastai<2.8,>=2.3.1->autogluon.tabular[all]==0.5.2->autogluon) (0.7.8)\r\n",
      "Requirement already satisfied: wasabi<1.1.0,>=0.9.1 in /opt/conda/lib/python3.7/site-packages (from spacy<4->fastai<2.8,>=2.3.1->autogluon.tabular[all]==0.5.2->autogluon) (0.9.1)\r\n",
      "Requirement already satisfied: langcodes<4.0.0,>=3.2.0 in /opt/conda/lib/python3.7/site-packages (from spacy<4->fastai<2.8,>=2.3.1->autogluon.tabular[all]==0.5.2->autogluon) (3.3.0)\r\n",
      "Requirement already satisfied: cymem<2.1.0,>=2.0.2 in /opt/conda/lib/python3.7/site-packages (from spacy<4->fastai<2.8,>=2.3.1->autogluon.tabular[all]==0.5.2->autogluon) (2.0.6)\r\n",
      "Requirement already satisfied: patsy>=0.5.2 in /opt/conda/lib/python3.7/site-packages (from statsmodels!=0.12.0,>=0.11->pmdarima~=1.8.2->autogluon.timeseries[all]==0.5.2->autogluon) (0.5.2)\r\n",
      "Requirement already satisfied: absl-py>=0.4 in /opt/conda/lib/python3.7/site-packages (from tensorboard>=2.2.0->pytorch-lightning<1.7.0,>=1.6.0->autogluon.multimodal==0.5.2->autogluon) (1.1.0)\r\n",
      "Requirement already satisfied: google-auth<2,>=1.6.3 in /opt/conda/lib/python3.7/site-packages (from tensorboard>=2.2.0->pytorch-lightning<1.7.0,>=1.6.0->autogluon.multimodal==0.5.2->autogluon) (1.35.0)\r\n",
      "Requirement already satisfied: google-auth-oauthlib<0.5,>=0.4.1 in /opt/conda/lib/python3.7/site-packages (from tensorboard>=2.2.0->pytorch-lightning<1.7.0,>=1.6.0->autogluon.multimodal==0.5.2->autogluon) (0.4.6)\r\n",
      "Requirement already satisfied: tensorboard-data-server<0.7.0,>=0.6.0 in /opt/conda/lib/python3.7/site-packages (from tensorboard>=2.2.0->pytorch-lightning<1.7.0,>=1.6.0->autogluon.multimodal==0.5.2->autogluon) (0.6.1)\r\n",
      "Requirement already satisfied: werkzeug>=0.11.15 in /opt/conda/lib/python3.7/site-packages (from tensorboard>=2.2.0->pytorch-lightning<1.7.0,>=1.6.0->autogluon.multimodal==0.5.2->autogluon) (2.1.2)\r\n",
      "Requirement already satisfied: tensorboard-plugin-wit>=1.6.0 in /opt/conda/lib/python3.7/site-packages (from tensorboard>=2.2.0->pytorch-lightning<1.7.0,>=1.6.0->autogluon.multimodal==0.5.2->autogluon) (1.8.1)\r\n",
      "Requirement already satisfied: markdown>=2.6.8 in /opt/conda/lib/python3.7/site-packages (from tensorboard>=2.2.0->pytorch-lightning<1.7.0,>=1.6.0->autogluon.multimodal==0.5.2->autogluon) (3.3.7)\r\n",
      "Requirement already satisfied: heapdict in /opt/conda/lib/python3.7/site-packages (from zict>=0.1.3->distributed<=2021.11.2,>=2021.09.1->autogluon.core[all]==0.5.2->autogluon) (1.0.1)\r\n",
      "Collecting immutables>=0.9\r\n",
      "  Downloading immutables-0.18-cp37-cp37m-manylinux_2_5_x86_64.manylinux1_x86_64.manylinux_2_17_x86_64.manylinux2014_x86_64.whl (116 kB)\r\n",
      "\u001b[2K     \u001b[90m━━━━━━━━━━━━━━━━━━━━━━━━━━━━━━━━━━━━━━━\u001b[0m \u001b[32m116.5/116.5 kB\u001b[0m \u001b[31m8.6 MB/s\u001b[0m eta \u001b[36m0:00:00\u001b[0m\r\n",
      "\u001b[?25hRequirement already satisfied: pycodestyle<2.9.0,>=2.8.0 in /opt/conda/lib/python3.7/site-packages (from flake8->autogluon-contrib-nlp==0.0.1b20220208->autogluon.text==0.5.2->autogluon) (2.8.0)\r\n",
      "Requirement already satisfied: mccabe<0.7.0,>=0.6.0 in /opt/conda/lib/python3.7/site-packages (from flake8->autogluon-contrib-nlp==0.0.1b20220208->autogluon.text==0.5.2->autogluon) (0.6.1)\r\n",
      "Collecting importlib-metadata\r\n",
      "  Downloading importlib_metadata-4.2.0-py3-none-any.whl (16 kB)\r\n",
      "Requirement already satisfied: pyflakes<2.5.0,>=2.4.0 in /opt/conda/lib/python3.7/site-packages (from flake8->autogluon-contrib-nlp==0.0.1b20220208->autogluon.text==0.5.2->autogluon) (2.4.0)\r\n",
      "Requirement already satisfied: zipp>=0.5 in /opt/conda/lib/python3.7/site-packages (from importlib-metadata->transformers<4.21.0,>=4.18.0->autogluon.multimodal==0.5.2->autogluon) (3.8.0)\r\n",
      "Requirement already satisfied: MarkupSafe>=2.0 in /opt/conda/lib/python3.7/site-packages (from jinja2->distributed<=2021.11.2,>=2021.09.1->autogluon.core[all]==0.5.2->autogluon) (2.0.1)\r\n",
      "Requirement already satisfied: pyrsistent!=0.17.0,!=0.17.1,!=0.17.2,>=0.14.0 in /opt/conda/lib/python3.7/site-packages (from jsonschema->ray[tune]<1.14,>=1.13->autogluon.core[all]==0.5.2->autogluon) (0.18.1)\r\n",
      "Requirement already satisfied: importlib-resources>=1.4.0 in /opt/conda/lib/python3.7/site-packages (from jsonschema->ray[tune]<1.14,>=1.13->autogluon.core[all]==0.5.2->autogluon) (5.8.0)\r\n",
      "Requirement already satisfied: tenacity>=6.2.0 in /opt/conda/lib/python3.7/site-packages (from plotly->catboost<1.1,>=1.0->autogluon.tabular[all]==0.5.2->autogluon) (8.0.1)\r\n",
      "Requirement already satisfied: lxml in /opt/conda/lib/python3.7/site-packages (from sacrebleu->autogluon-contrib-nlp==0.0.1b20220208->autogluon.text==0.5.2->autogluon) (4.9.1)\r\n",
      "Requirement already satisfied: colorama in /opt/conda/lib/python3.7/site-packages (from sacrebleu->autogluon-contrib-nlp==0.0.1b20220208->autogluon.text==0.5.2->autogluon) (0.4.5)\r\n",
      "Requirement already satisfied: platformdirs<3,>=2 in /opt/conda/lib/python3.7/site-packages (from virtualenv->ray[tune]<1.14,>=1.13->autogluon.core[all]==0.5.2->autogluon) (2.5.1)\r\n",
      "Requirement already satisfied: distlib<1,>=0.3.1 in /opt/conda/lib/python3.7/site-packages (from virtualenv->ray[tune]<1.14,>=1.13->autogluon.core[all]==0.5.2->autogluon) (0.3.4)\r\n",
      "Requirement already satisfied: pymeeus<=1,>=0.3.13 in /opt/conda/lib/python3.7/site-packages (from convertdate>=2.3.0->holidays>=0.9->gluonts<0.10.0,>=0.8.0->autogluon.timeseries[all]==0.5.2->autogluon) (0.5.11)\r\n",
      "Requirement already satisfied: pyasn1-modules>=0.2.1 in /opt/conda/lib/python3.7/site-packages (from google-auth<2,>=1.6.3->tensorboard>=2.2.0->pytorch-lightning<1.7.0,>=1.6.0->autogluon.multimodal==0.5.2->autogluon) (0.2.7)\r\n",
      "Requirement already satisfied: rsa<5,>=3.1.4 in /opt/conda/lib/python3.7/site-packages (from google-auth<2,>=1.6.3->tensorboard>=2.2.0->pytorch-lightning<1.7.0,>=1.6.0->autogluon.multimodal==0.5.2->autogluon) (4.8)\r\n",
      "Requirement already satisfied: cachetools<5.0,>=2.0.0 in /opt/conda/lib/python3.7/site-packages (from google-auth<2,>=1.6.3->tensorboard>=2.2.0->pytorch-lightning<1.7.0,>=1.6.0->autogluon.multimodal==0.5.2->autogluon) (4.2.4)\r\n",
      "Requirement already satisfied: requests-oauthlib>=0.7.0 in /opt/conda/lib/python3.7/site-packages (from google-auth-oauthlib<0.5,>=0.4.1->tensorboard>=2.2.0->pytorch-lightning<1.7.0,>=1.6.0->autogluon.multimodal==0.5.2->autogluon) (1.3.1)\r\n",
      "Collecting markdown>=2.6.8\r\n",
      "  Downloading Markdown-3.4.1-py3-none-any.whl (93 kB)\r\n",
      "\u001b[2K     \u001b[90m━━━━━━━━━━━━━━━━━━━━━━━━━━━━━━━━━━━━━━━━\u001b[0m \u001b[32m93.3/93.3 kB\u001b[0m \u001b[31m6.3 MB/s\u001b[0m eta \u001b[36m0:00:00\u001b[0m\r\n",
      "\u001b[?25h  Downloading Markdown-3.4-py3-none-any.whl (93 kB)\r\n",
      "\u001b[2K     \u001b[90m━━━━━━━━━━━━━━━━━━━━━━━━━━━━━━━━━━━━━━━━\u001b[0m \u001b[32m93.3/93.3 kB\u001b[0m \u001b[31m6.0 MB/s\u001b[0m eta \u001b[36m0:00:00\u001b[0m\r\n",
      "\u001b[?25h  Downloading Markdown-3.3.6-py3-none-any.whl (97 kB)\r\n",
      "\u001b[2K     \u001b[90m━━━━━━━━━━━━━━━━━━━━━━━━━━━━━━━━━━━━━━━━\u001b[0m \u001b[32m97.8/97.8 kB\u001b[0m \u001b[31m6.6 MB/s\u001b[0m eta \u001b[36m0:00:00\u001b[0m\r\n",
      "\u001b[?25h  Downloading Markdown-3.3.4-py3-none-any.whl (97 kB)\r\n",
      "\u001b[2K     \u001b[90m━━━━━━━━━━━━━━━━━━━━━━━━━━━━━━━━━━━━━━━━\u001b[0m \u001b[32m97.6/97.6 kB\u001b[0m \u001b[31m6.9 MB/s\u001b[0m eta \u001b[36m0:00:00\u001b[0m\r\n",
      "\u001b[?25hRequirement already satisfied: multidict<7.0,>=4.5 in /opt/conda/lib/python3.7/site-packages (from aiohttp->fsspec>=0.6.0->dask<=2021.11.2,>=2021.09.1->autogluon.core[all]==0.5.2->autogluon) (6.0.2)\r\n",
      "Requirement already satisfied: asynctest==0.13.0 in /opt/conda/lib/python3.7/site-packages (from aiohttp->fsspec>=0.6.0->dask<=2021.11.2,>=2021.09.1->autogluon.core[all]==0.5.2->autogluon) (0.13.0)\r\n",
      "Requirement already satisfied: yarl<2.0,>=1.0 in /opt/conda/lib/python3.7/site-packages (from aiohttp->fsspec>=0.6.0->dask<=2021.11.2,>=2021.09.1->autogluon.core[all]==0.5.2->autogluon) (1.7.2)\r\n",
      "Requirement already satisfied: async-timeout<5.0,>=4.0.0a3 in /opt/conda/lib/python3.7/site-packages (from aiohttp->fsspec>=0.6.0->dask<=2021.11.2,>=2021.09.1->autogluon.core[all]==0.5.2->autogluon) (4.0.2)\r\n",
      "Requirement already satisfied: pyasn1<0.5.0,>=0.4.6 in /opt/conda/lib/python3.7/site-packages (from pyasn1-modules>=0.2.1->google-auth<2,>=1.6.3->tensorboard>=2.2.0->pytorch-lightning<1.7.0,>=1.6.0->autogluon.multimodal==0.5.2->autogluon) (0.4.8)\r\n",
      "Requirement already satisfied: oauthlib>=3.0.0 in /opt/conda/lib/python3.7/site-packages (from requests-oauthlib>=0.7.0->google-auth-oauthlib<0.5,>=0.4.1->tensorboard>=2.2.0->pytorch-lightning<1.7.0,>=1.6.0->autogluon.multimodal==0.5.2->autogluon) (3.2.0)\r\n",
      "Building wheels for collected packages: antlr4-python3-runtime, contextvars\r\n",
      "  Building wheel for antlr4-python3-runtime (setup.py) ... \u001b[?25l-\b \b\\\b \bdone\r\n",
      "\u001b[?25h  Created wheel for antlr4-python3-runtime: filename=antlr4_python3_runtime-4.8-py3-none-any.whl size=141230 sha256=b22d9b6e9e3a8a4431e3bef76d037fd7202d313379a7b2e3753801637494dabc\r\n",
      "  Stored in directory: /root/.cache/pip/wheels/ca/33/b7/336836125fc9bb4ceaa4376d8abca10ca8bc84ddc824baea6c\r\n",
      "  Building wheel for contextvars (setup.py) ... \u001b[?25l-\b \b\\\b \bdone\r\n",
      "\u001b[?25h  Created wheel for contextvars: filename=contextvars-2.4-py3-none-any.whl size=7681 sha256=7cc4596a9f62f604b926045f0dcb2127bea1a858b40bd978f199c1e53e016e04\r\n",
      "  Stored in directory: /root/.cache/pip/wheels/0a/11/79/e70e668095c0bb1f94718af672ef2d35ee7a023fee56ef54d9\r\n",
      "Successfully built antlr4-python3-runtime contextvars\r\n",
      "Installing collected packages: typish, sentencepiece, antlr4-python3-runtime, sacrebleu, psutil, protobuf, Pillow, omegaconf, nptyping, importlib-metadata, immutables, xgboost, torchmetrics, markdown, dask, contextvars, timm, pytorch-metric-learning, nlpaug, gluonts, distributed, sktime, autogluon-contrib-nlp, autogluon.common, autogluon.features, autogluon.core, autogluon.vision, autogluon.timeseries, autogluon.tabular, autogluon.multimodal, autogluon.text, autogluon\r\n",
      "  Attempting uninstall: sentencepiece\r\n",
      "    Found existing installation: sentencepiece 0.1.96\r\n",
      "    Uninstalling sentencepiece-0.1.96:\r\n",
      "      Successfully uninstalled sentencepiece-0.1.96\r\n",
      "  Attempting uninstall: psutil\r\n",
      "    Found existing installation: psutil 5.9.1\r\n",
      "    Uninstalling psutil-5.9.1:\r\n",
      "      Successfully uninstalled psutil-5.9.1\r\n",
      "  Attempting uninstall: protobuf\r\n",
      "    Found existing installation: protobuf 3.19.4\r\n",
      "    Uninstalling protobuf-3.19.4:\r\n",
      "      Successfully uninstalled protobuf-3.19.4\r\n",
      "  Attempting uninstall: Pillow\r\n",
      "    Found existing installation: Pillow 9.1.1\r\n",
      "    Uninstalling Pillow-9.1.1:\r\n",
      "      Successfully uninstalled Pillow-9.1.1\r\n",
      "  Attempting uninstall: importlib-metadata\r\n",
      "    Found existing installation: importlib-metadata 4.12.0\r\n",
      "    Uninstalling importlib-metadata-4.12.0:\r\n",
      "      Successfully uninstalled importlib-metadata-4.12.0\r\n",
      "  Attempting uninstall: xgboost\r\n",
      "    Found existing installation: xgboost 1.6.1\r\n",
      "    Uninstalling xgboost-1.6.1:\r\n",
      "      Successfully uninstalled xgboost-1.6.1\r\n",
      "  Attempting uninstall: torchmetrics\r\n",
      "    Found existing installation: torchmetrics 0.9.2\r\n",
      "    Uninstalling torchmetrics-0.9.2:\r\n",
      "      Successfully uninstalled torchmetrics-0.9.2\r\n",
      "  Attempting uninstall: markdown\r\n",
      "    Found existing installation: Markdown 3.3.7\r\n",
      "    Uninstalling Markdown-3.3.7:\r\n",
      "      Successfully uninstalled Markdown-3.3.7\r\n",
      "  Attempting uninstall: dask\r\n",
      "    Found existing installation: dask 2022.2.0\r\n",
      "    Uninstalling dask-2022.2.0:\r\n",
      "      Successfully uninstalled dask-2022.2.0\r\n",
      "  Attempting uninstall: distributed\r\n",
      "    Found existing installation: distributed 2022.2.0\r\n",
      "    Uninstalling distributed-2022.2.0:\r\n",
      "      Successfully uninstalled distributed-2022.2.0\r\n",
      "  Attempting uninstall: sktime\r\n",
      "    Found existing installation: sktime 0.13.1\r\n",
      "    Uninstalling sktime-0.13.1:\r\n",
      "      Successfully uninstalled sktime-0.13.1\r\n",
      "\u001b[31mERROR: pip's dependency resolver does not currently take into account all the packages that are installed. This behaviour is the source of the following dependency conflicts.\r\n",
      "tensorflow-io 0.21.0 requires tensorflow-io-gcs-filesystem==0.21.0, which is not installed.\r\n",
      "beatrix-jupyterlab 3.1.7 requires google-cloud-bigquery-storage, which is not installed.\r\n",
      "tfx-bsl 1.9.0 requires pyarrow<6,>=1, but you have pyarrow 8.0.0 which is incompatible.\r\n",
      "tfx-bsl 1.9.0 requires tensorflow!=2.0.*,!=2.1.*,!=2.2.*,!=2.3.*,!=2.4.*,!=2.5.*,!=2.6.*,!=2.7.*,!=2.8.*,<3,>=1.15.5, but you have tensorflow 2.6.4 which is incompatible.\r\n",
      "tensorflow 2.6.4 requires absl-py~=0.10, but you have absl-py 1.1.0 which is incompatible.\r\n",
      "tensorflow 2.6.4 requires h5py~=3.1.0, but you have h5py 3.7.0 which is incompatible.\r\n",
      "tensorflow 2.6.4 requires numpy~=1.19.2, but you have numpy 1.21.6 which is incompatible.\r\n",
      "tensorflow 2.6.4 requires six~=1.15.0, but you have six 1.16.0 which is incompatible.\r\n",
      "tensorflow 2.6.4 requires typing-extensions<3.11,>=3.7, but you have typing-extensions 4.1.1 which is incompatible.\r\n",
      "tensorflow 2.6.4 requires wrapt~=1.12.1, but you have wrapt 1.14.1 which is incompatible.\r\n",
      "tensorflow-transform 1.9.0 requires pyarrow<6,>=1, but you have pyarrow 8.0.0 which is incompatible.\r\n",
      "tensorflow-transform 1.9.0 requires tensorflow!=2.0.*,!=2.1.*,!=2.2.*,!=2.3.*,!=2.4.*,!=2.5.*,!=2.6.*,!=2.7.*,!=2.8.*,<2.10,>=1.15.5, but you have tensorflow 2.6.4 which is incompatible.\r\n",
      "tensorflow-serving-api 2.9.0 requires tensorflow<3,>=2.9.0, but you have tensorflow 2.6.4 which is incompatible.\r\n",
      "pycaret 3.0.0rc3 requires psutil>=5.9.0, but you have psutil 5.8.0 which is incompatible.\r\n",
      "pycaret 3.0.0rc3 requires sktime~=0.13.1, but you have sktime 0.11.4 which is incompatible.\r\n",
      "proto-plus 1.20.6 requires protobuf<5.0.0dev,>=3.19.0, but you have protobuf 3.18.1 which is incompatible.\r\n",
      "pdpbox 0.2.1 requires matplotlib==3.1.1, but you have matplotlib 3.5.2 which is incompatible.\r\n",
      "ortools 9.3.10497 requires protobuf>=3.19.4, but you have protobuf 3.18.1 which is incompatible.\r\n",
      "gym 0.25.0 requires importlib-metadata>=4.8.0; python_version < \"3.10\", but you have importlib-metadata 4.2.0 which is incompatible.\r\n",
      "grpcio-status 1.47.0 requires grpcio>=1.47.0, but you have grpcio 1.43.0 which is incompatible.\r\n",
      "google-cloud-vision 2.7.3 requires protobuf<4.0.0dev,>=3.19.0, but you have protobuf 3.18.1 which is incompatible.\r\n",
      "google-cloud-videointelligence 2.7.1 requires protobuf<4.0.0dev,>=3.19.0, but you have protobuf 3.18.1 which is incompatible.\r\n",
      "google-cloud-translate 3.7.4 requires protobuf<4.0.0dev,>=3.19.0, but you have protobuf 3.18.1 which is incompatible.\r\n",
      "google-cloud-tasks 2.9.1 requires protobuf<4.0.0dev,>=3.19.0, but you have protobuf 3.18.1 which is incompatible.\r\n",
      "google-cloud-speech 2.14.1 requires protobuf<4.0.0dev,>=3.19.0, but you have protobuf 3.18.1 which is incompatible.\r\n",
      "google-cloud-spanner 3.15.1 requires protobuf<4.0.0dev,>=3.19.0, but you have protobuf 3.18.1 which is incompatible.\r\n",
      "google-cloud-scheduler 2.6.4 requires protobuf<4.0.0dev,>=3.19.0, but you have protobuf 3.18.1 which is incompatible.\r\n",
      "google-cloud-resource-manager 1.5.1 requires protobuf<4.0.0dev,>=3.19.0, but you have protobuf 3.18.1 which is incompatible.\r\n",
      "google-cloud-pubsub 2.13.0 requires protobuf<4.0.0dev,>=3.19.0, but you have protobuf 3.18.1 which is incompatible.\r\n",
      "google-cloud-monitoring 2.9.2 requires protobuf<4.0.0dev,>=3.19.0, but you have protobuf 3.18.1 which is incompatible.\r\n",
      "google-cloud-logging 3.1.2 requires protobuf<4.0.0dev,>=3.19.0, but you have protobuf 3.18.1 which is incompatible.\r\n",
      "google-cloud-language 2.4.3 requires protobuf<4.0.0dev,>=3.19.0, but you have protobuf 3.18.1 which is incompatible.\r\n",
      "google-cloud-kms 2.11.2 requires protobuf<4.0.0dev,>=3.19.0, but you have protobuf 3.18.1 which is incompatible.\r\n",
      "google-cloud-firestore 2.5.3 requires protobuf<4.0.0dev,>=3.19.0, but you have protobuf 3.18.1 which is incompatible.\r\n",
      "google-cloud-dlp 3.7.1 requires protobuf<4.0.0dev,>=3.19.0, but you have protobuf 3.18.1 which is incompatible.\r\n",
      "google-cloud-datastore 2.7.1 requires protobuf<4.0.0dev,>=3.19.0, but you have protobuf 3.18.1 which is incompatible.\r\n",
      "google-cloud-dataproc 4.0.3 requires protobuf<4.0.0dev,>=3.19.0, but you have protobuf 3.18.1 which is incompatible.\r\n",
      "google-cloud-bigtable 2.10.1 requires protobuf<4.0.0dev,>=3.19.0, but you have protobuf 3.18.1 which is incompatible.\r\n",
      "google-cloud-appengine-logging 1.1.2 requires protobuf<4.0.0dev,>=3.19.0, but you have protobuf 3.18.1 which is incompatible.\r\n",
      "flax 0.5.2 requires rich~=11.1, but you have rich 12.1.0 which is incompatible.\r\n",
      "apache-beam 2.40.0 requires dill<0.3.2,>=0.3.1.1, but you have dill 0.3.5.1 which is incompatible.\r\n",
      "apache-beam 2.40.0 requires pyarrow<8.0.0,>=0.15.1, but you have pyarrow 8.0.0 which is incompatible.\r\n",
      "allennlp 2.10.0 requires protobuf==3.20.0, but you have protobuf 3.18.1 which is incompatible.\r\n",
      "allennlp 2.10.0 requires sentencepiece>=0.1.96, but you have sentencepiece 0.1.95 which is incompatible.\u001b[0m\u001b[31m\r\n",
      "\u001b[0mSuccessfully installed Pillow-9.0.1 antlr4-python3-runtime-4.8 autogluon-0.5.2 autogluon-contrib-nlp-0.0.1b20220208 autogluon.common-0.5.2 autogluon.core-0.5.2 autogluon.features-0.5.2 autogluon.multimodal-0.5.2 autogluon.tabular-0.5.2 autogluon.text-0.5.2 autogluon.timeseries-0.5.2 autogluon.vision-0.5.2 contextvars-2.4 dask-2021.11.2 distributed-2021.11.2 gluonts-0.9.8 immutables-0.18 importlib-metadata-4.2.0 markdown-3.3.4 nlpaug-1.1.10 nptyping-1.4.4 omegaconf-2.1.2 protobuf-3.18.1 psutil-5.8.0 pytorch-metric-learning-1.3.2 sacrebleu-2.2.0 sentencepiece-0.1.95 sktime-0.11.4 timm-0.5.4 torchmetrics-0.7.3 typish-1.9.3 xgboost-1.4.2\r\n",
      "\u001b[33mWARNING: Running pip as the 'root' user can result in broken permissions and conflicting behaviour with the system package manager. It is recommended to use a virtual environment instead: https://pip.pypa.io/warnings/venv\u001b[0m\u001b[33m\r\n",
      "\u001b[0mNote: you may need to restart the kernel to use updated packages.\n"
     ]
    }
   ],
   "source": [
    "pip install autogluon"
   ]
  },
  {
   "cell_type": "code",
   "execution_count": 25,
   "id": "99a17f6e",
   "metadata": {
    "execution": {
     "iopub.execute_input": "2022-08-16T13:40:02.454455Z",
     "iopub.status.busy": "2022-08-16T13:40:02.453979Z",
     "iopub.status.idle": "2022-08-16T13:47:03.534877Z",
     "shell.execute_reply": "2022-08-16T13:47:03.533488Z"
    },
    "papermill": {
     "duration": 421.124885,
     "end_time": "2022-08-16T13:47:03.537351",
     "exception": false,
     "start_time": "2022-08-16T13:40:02.412466",
     "status": "completed"
    },
    "tags": []
   },
   "outputs": [
    {
     "name": "stderr",
     "output_type": "stream",
     "text": [
      "No path specified. Models will be saved in: \"AutogluonModels/ag-20220816_134003/\"\n",
      "Beginning AutoGluon training ... Time limit = 420s\n",
      "AutoGluon will save models to \"AutogluonModels/ag-20220816_134003/\"\n",
      "AutoGluon Version:  0.5.2\n",
      "Python Version:     3.7.12\n",
      "Operating System:   Linux\n",
      "Train Data Rows:    100000\n",
      "Train Data Columns: 17\n",
      "Label Column: M\n",
      "Preprocessing data ...\n",
      "Using Feature Generators to preprocess the data ...\n",
      "Fitting AutoMLPipelineFeatureGenerator...\n",
      "\tAvailable Memory:                    15488.58 MB\n",
      "\tTrain Data (Original)  Memory Usage: 13.6 MB (0.1% of available memory)\n",
      "\tInferring data type of each feature based on column values. Set feature_metadata_in to manually specify special dtypes of the features.\n",
      "\tStage 1 Generators:\n",
      "\t\tFitting AsTypeFeatureGenerator...\n",
      "\t\t\tNote: Converting 2 features to boolean dtype as they only contain 2 unique values.\n",
      "\tStage 2 Generators:\n",
      "\t\tFitting FillNaFeatureGenerator...\n",
      "\tStage 3 Generators:\n",
      "\t\tFitting IdentityFeatureGenerator...\n",
      "\tStage 4 Generators:\n",
      "\t\tFitting DropUniqueFeatureGenerator...\n",
      "\tTypes of features in original data (raw dtype, special dtypes):\n",
      "\t\t('float', []) : 15 | ['E1', 'px1 ', 'py1', 'pz1', 'pt1', ...]\n",
      "\t\t('int', [])   :  2 | ['Q1', 'Q2']\n",
      "\tTypes of features in processed data (raw dtype, special dtypes):\n",
      "\t\t('float', [])     : 15 | ['E1', 'px1 ', 'py1', 'pz1', 'pt1', ...]\n",
      "\t\t('int', ['bool']) :  2 | ['Q1', 'Q2']\n",
      "\t0.5s = Fit runtime\n",
      "\t17 features in original data used to generate 17 features in processed data.\n",
      "\tTrain Data (Processed) Memory Usage: 12.2 MB (0.1% of available memory)\n",
      "Data preprocessing and feature engineering runtime = 0.53s ...\n",
      "AutoGluon will gauge predictive performance using evaluation metric: 'mean_squared_error'\n",
      "\tThis metric's sign has been flipped to adhere to being higher_is_better. The metric score can be multiplied by -1 to get the metric value.\n",
      "\tTo change this, specify the eval_metric parameter of Predictor()\n",
      "Automatically generating train/validation split with holdout_frac=0.025, Train Rows: 97500, Val Rows: 2500\n",
      "Fitting 11 L1 models ...\n",
      "Fitting model: KNeighborsUnif ... Training model for up to 419.47s of the 419.47s of remaining time.\n",
      "Intel(R) Extension for Scikit-learn* enabled (https://github.com/intel/scikit-learn-intelex)\n",
      "Intel(R) Extension for Scikit-learn* enabled (https://github.com/intel/scikit-learn-intelex)\n",
      "\t-39.9071\t = Validation score   (-mean_squared_error)\n",
      "\t0.72s\t = Training   runtime\n",
      "\t0.4s\t = Validation runtime\n",
      "Fitting model: KNeighborsDist ... Training model for up to 418.32s of the 418.31s of remaining time.\n",
      "Intel(R) Extension for Scikit-learn* enabled (https://github.com/intel/scikit-learn-intelex)\n",
      "Intel(R) Extension for Scikit-learn* enabled (https://github.com/intel/scikit-learn-intelex)\n",
      "\t-37.7193\t = Validation score   (-mean_squared_error)\n",
      "\t0.17s\t = Training   runtime\n",
      "\t0.38s\t = Validation runtime\n",
      "Fitting model: LightGBMXT ... Training model for up to 417.74s of the 417.73s of remaining time.\n"
     ]
    },
    {
     "name": "stdout",
     "output_type": "stream",
     "text": [
      "[1000]\tvalid_set's l2: 6.40339\n",
      "[2000]\tvalid_set's l2: 4.64087\n",
      "[3000]\tvalid_set's l2: 3.99181\n",
      "[4000]\tvalid_set's l2: 3.62967\n",
      "[5000]\tvalid_set's l2: 3.41575\n",
      "[6000]\tvalid_set's l2: 3.26248\n",
      "[7000]\tvalid_set's l2: 3.14935\n",
      "[8000]\tvalid_set's l2: 3.06844\n",
      "[9000]\tvalid_set's l2: 2.99941\n",
      "[10000]\tvalid_set's l2: 2.9447\n"
     ]
    },
    {
     "name": "stderr",
     "output_type": "stream",
     "text": [
      "\t-2.9447\t = Validation score   (-mean_squared_error)\n",
      "\t85.1s\t = Training   runtime\n",
      "\t1.19s\t = Validation runtime\n",
      "Fitting model: LightGBM ... Training model for up to 330.18s of the 330.18s of remaining time.\n"
     ]
    },
    {
     "name": "stdout",
     "output_type": "stream",
     "text": [
      "[1000]\tvalid_set's l2: 7.11061\n",
      "[2000]\tvalid_set's l2: 4.7724\n",
      "[3000]\tvalid_set's l2: 3.95586\n",
      "[4000]\tvalid_set's l2: 3.66084\n",
      "[5000]\tvalid_set's l2: 3.38966\n",
      "[6000]\tvalid_set's l2: 3.24007\n",
      "[7000]\tvalid_set's l2: 3.16966\n",
      "[8000]\tvalid_set's l2: 3.11498\n",
      "[9000]\tvalid_set's l2: 3.07093\n",
      "[10000]\tvalid_set's l2: 3.04411\n"
     ]
    },
    {
     "name": "stderr",
     "output_type": "stream",
     "text": [
      "\t-3.0441\t = Validation score   (-mean_squared_error)\n",
      "\t80.8s\t = Training   runtime\n",
      "\t0.9s\t = Validation runtime\n",
      "Fitting model: RandomForestMSE ... Training model for up to 247.22s of the 247.21s of remaining time.\n",
      "\t-31.9121\t = Validation score   (-mean_squared_error)\n",
      "\t210.08s\t = Training   runtime\n",
      "\t0.2s\t = Validation runtime\n",
      "Fitting model: CatBoost ... Training model for up to 34.65s of the 34.65s of remaining time.\n",
      "\tRan out of time, early stopping on iteration 1724.\n",
      "\t-5.2683\t = Validation score   (-mean_squared_error)\n",
      "\t34.75s\t = Training   runtime\n",
      "\t0.01s\t = Validation runtime\n",
      "Fitting model: WeightedEnsemble_L2 ... Training model for up to 360.0s of the -0.14s of remaining time.\n",
      "\t-2.2961\t = Validation score   (-mean_squared_error)\n",
      "\t0.21s\t = Training   runtime\n",
      "\t0.0s\t = Validation runtime\n",
      "AutoGluon training complete, total runtime = 420.43s ... Best model: \"WeightedEnsemble_L2\"\n",
      "TabularPredictor saved. To load, use: predictor = TabularPredictor.load(\"AutogluonModels/ag-20220816_134003/\")\n"
     ]
    },
    {
     "data": {
      "text/plain": [
       "<autogluon.tabular.predictor.predictor.TabularPredictor at 0x7f6df176e2d0>"
      ]
     },
     "execution_count": 25,
     "metadata": {},
     "output_type": "execute_result"
    }
   ],
   "source": [
    "from autogluon.tabular import TabularPredictor\n",
    "autogluon_automl = TabularPredictor(label='M', problem_type='regression', eval_metric='mean_squared_error')\n",
    "autogluon_automl.fit(train_data=data, time_limit=7*60)"
   ]
  },
  {
   "cell_type": "code",
   "execution_count": 26,
   "id": "88d9ee9e",
   "metadata": {
    "execution": {
     "iopub.execute_input": "2022-08-16T13:47:03.628549Z",
     "iopub.status.busy": "2022-08-16T13:47:03.627625Z",
     "iopub.status.idle": "2022-08-16T13:47:03.656272Z",
     "shell.execute_reply": "2022-08-16T13:47:03.655314Z"
    },
    "papermill": {
     "duration": 0.076922,
     "end_time": "2022-08-16T13:47:03.658613",
     "exception": false,
     "start_time": "2022-08-16T13:47:03.581691",
     "status": "completed"
    },
    "tags": []
   },
   "outputs": [
    {
     "name": "stdout",
     "output_type": "stream",
     "text": [
      "                 model  score_val  pred_time_val    fit_time  pred_time_val_marginal  fit_time_marginal  stack_level  can_infer  fit_order\n",
      "0  WeightedEnsemble_L2  -2.296142       2.105529  200.865024                0.000675           0.210383            2       True          7\n",
      "1           LightGBMXT  -2.944701       1.190326   85.096261                1.190326          85.096261            1       True          3\n",
      "2             LightGBM  -3.044110       0.900280   80.804476                0.900280          80.804476            1       True          4\n",
      "3             CatBoost  -5.268252       0.014248   34.753902                0.014248          34.753902            1       True          6\n",
      "4      RandomForestMSE -31.912106       0.204815  210.081921                0.204815         210.081921            1       True          5\n",
      "5       KNeighborsDist -37.719306       0.381605    0.169774                0.381605           0.169774            1       True          2\n",
      "6       KNeighborsUnif -39.907067       0.399801    0.717198                0.399801           0.717198            1       True          1\n"
     ]
    },
    {
     "data": {
      "text/html": [
       "<div>\n",
       "<style scoped>\n",
       "    .dataframe tbody tr th:only-of-type {\n",
       "        vertical-align: middle;\n",
       "    }\n",
       "\n",
       "    .dataframe tbody tr th {\n",
       "        vertical-align: top;\n",
       "    }\n",
       "\n",
       "    .dataframe thead th {\n",
       "        text-align: right;\n",
       "    }\n",
       "</style>\n",
       "<table border=\"1\" class=\"dataframe\">\n",
       "  <thead>\n",
       "    <tr style=\"text-align: right;\">\n",
       "      <th></th>\n",
       "      <th>model</th>\n",
       "      <th>score_val</th>\n",
       "      <th>pred_time_val</th>\n",
       "      <th>fit_time</th>\n",
       "      <th>pred_time_val_marginal</th>\n",
       "      <th>fit_time_marginal</th>\n",
       "      <th>stack_level</th>\n",
       "      <th>can_infer</th>\n",
       "      <th>fit_order</th>\n",
       "    </tr>\n",
       "  </thead>\n",
       "  <tbody>\n",
       "    <tr>\n",
       "      <th>0</th>\n",
       "      <td>WeightedEnsemble_L2</td>\n",
       "      <td>-2.296142</td>\n",
       "      <td>2.105529</td>\n",
       "      <td>200.865024</td>\n",
       "      <td>0.000675</td>\n",
       "      <td>0.210383</td>\n",
       "      <td>2</td>\n",
       "      <td>True</td>\n",
       "      <td>7</td>\n",
       "    </tr>\n",
       "    <tr>\n",
       "      <th>1</th>\n",
       "      <td>LightGBMXT</td>\n",
       "      <td>-2.944701</td>\n",
       "      <td>1.190326</td>\n",
       "      <td>85.096261</td>\n",
       "      <td>1.190326</td>\n",
       "      <td>85.096261</td>\n",
       "      <td>1</td>\n",
       "      <td>True</td>\n",
       "      <td>3</td>\n",
       "    </tr>\n",
       "    <tr>\n",
       "      <th>2</th>\n",
       "      <td>LightGBM</td>\n",
       "      <td>-3.044110</td>\n",
       "      <td>0.900280</td>\n",
       "      <td>80.804476</td>\n",
       "      <td>0.900280</td>\n",
       "      <td>80.804476</td>\n",
       "      <td>1</td>\n",
       "      <td>True</td>\n",
       "      <td>4</td>\n",
       "    </tr>\n",
       "    <tr>\n",
       "      <th>3</th>\n",
       "      <td>CatBoost</td>\n",
       "      <td>-5.268252</td>\n",
       "      <td>0.014248</td>\n",
       "      <td>34.753902</td>\n",
       "      <td>0.014248</td>\n",
       "      <td>34.753902</td>\n",
       "      <td>1</td>\n",
       "      <td>True</td>\n",
       "      <td>6</td>\n",
       "    </tr>\n",
       "    <tr>\n",
       "      <th>4</th>\n",
       "      <td>RandomForestMSE</td>\n",
       "      <td>-31.912106</td>\n",
       "      <td>0.204815</td>\n",
       "      <td>210.081921</td>\n",
       "      <td>0.204815</td>\n",
       "      <td>210.081921</td>\n",
       "      <td>1</td>\n",
       "      <td>True</td>\n",
       "      <td>5</td>\n",
       "    </tr>\n",
       "    <tr>\n",
       "      <th>5</th>\n",
       "      <td>KNeighborsDist</td>\n",
       "      <td>-37.719306</td>\n",
       "      <td>0.381605</td>\n",
       "      <td>0.169774</td>\n",
       "      <td>0.381605</td>\n",
       "      <td>0.169774</td>\n",
       "      <td>1</td>\n",
       "      <td>True</td>\n",
       "      <td>2</td>\n",
       "    </tr>\n",
       "    <tr>\n",
       "      <th>6</th>\n",
       "      <td>KNeighborsUnif</td>\n",
       "      <td>-39.907067</td>\n",
       "      <td>0.399801</td>\n",
       "      <td>0.717198</td>\n",
       "      <td>0.399801</td>\n",
       "      <td>0.717198</td>\n",
       "      <td>1</td>\n",
       "      <td>True</td>\n",
       "      <td>1</td>\n",
       "    </tr>\n",
       "  </tbody>\n",
       "</table>\n",
       "</div>"
      ],
      "text/plain": [
       "                 model  score_val  pred_time_val    fit_time  \\\n",
       "0  WeightedEnsemble_L2  -2.296142       2.105529  200.865024   \n",
       "1           LightGBMXT  -2.944701       1.190326   85.096261   \n",
       "2             LightGBM  -3.044110       0.900280   80.804476   \n",
       "3             CatBoost  -5.268252       0.014248   34.753902   \n",
       "4      RandomForestMSE -31.912106       0.204815  210.081921   \n",
       "5       KNeighborsDist -37.719306       0.381605    0.169774   \n",
       "6       KNeighborsUnif -39.907067       0.399801    0.717198   \n",
       "\n",
       "   pred_time_val_marginal  fit_time_marginal  stack_level  can_infer  \\\n",
       "0                0.000675           0.210383            2       True   \n",
       "1                1.190326          85.096261            1       True   \n",
       "2                0.900280          80.804476            1       True   \n",
       "3                0.014248          34.753902            1       True   \n",
       "4                0.204815         210.081921            1       True   \n",
       "5                0.381605           0.169774            1       True   \n",
       "6                0.399801           0.717198            1       True   \n",
       "\n",
       "   fit_order  \n",
       "0          7  \n",
       "1          3  \n",
       "2          4  \n",
       "3          6  \n",
       "4          5  \n",
       "5          2  \n",
       "6          1  "
      ]
     },
     "execution_count": 26,
     "metadata": {},
     "output_type": "execute_result"
    }
   ],
   "source": [
    "autogluon_automl.leaderboard()"
   ]
  },
  {
   "cell_type": "code",
   "execution_count": 27,
   "id": "2d9c3b91",
   "metadata": {
    "execution": {
     "iopub.execute_input": "2022-08-16T13:47:03.752104Z",
     "iopub.status.busy": "2022-08-16T13:47:03.751649Z",
     "iopub.status.idle": "2022-08-16T13:48:28.983428Z",
     "shell.execute_reply": "2022-08-16T13:48:28.981777Z"
    },
    "papermill": {
     "duration": 85.375551,
     "end_time": "2022-08-16T13:48:29.079853",
     "exception": false,
     "start_time": "2022-08-16T13:47:03.704302",
     "status": "completed"
    },
    "tags": []
   },
   "outputs": [
    {
     "name": "stderr",
     "output_type": "stream",
     "text": [
      "Evaluation: mean_squared_error on test data: -0.45584201552884873\n",
      "\tNote: Scores are always higher_is_better. This metric score can be multiplied by -1 to get the metric value.\n",
      "Evaluations on test data:\n",
      "{\n",
      "    \"mean_squared_error\": -0.45584201552884873,\n",
      "    \"root_mean_squared_error\": -0.6751607331064572,\n",
      "    \"mean_absolute_error\": -0.45015964970852096,\n",
      "    \"r2\": 0.9992848124068835,\n",
      "    \"pearsonr\": 0.9996424047585384,\n",
      "    \"median_absolute_error\": -0.34368342285156306\n",
      "}\n"
     ]
    },
    {
     "data": {
      "text/plain": [
       "{'mean_squared_error': -0.45584201552884873,\n",
       " 'root_mean_squared_error': -0.6751607331064572,\n",
       " 'mean_absolute_error': -0.45015964970852096,\n",
       " 'r2': 0.9992848124068835,\n",
       " 'pearsonr': 0.9996424047585384,\n",
       " 'median_absolute_error': -0.34368342285156306}"
      ]
     },
     "execution_count": 27,
     "metadata": {},
     "output_type": "execute_result"
    }
   ],
   "source": [
    "autogluon_automl.evaluate(data)"
   ]
  },
  {
   "cell_type": "code",
   "execution_count": 28,
   "id": "c771fa3f",
   "metadata": {
    "execution": {
     "iopub.execute_input": "2022-08-16T13:48:29.176517Z",
     "iopub.status.busy": "2022-08-16T13:48:29.176066Z",
     "iopub.status.idle": "2022-08-16T13:50:16.732464Z",
     "shell.execute_reply": "2022-08-16T13:50:16.729373Z"
    },
    "papermill": {
     "duration": 107.608005,
     "end_time": "2022-08-16T13:50:16.735304",
     "exception": false,
     "start_time": "2022-08-16T13:48:29.127299",
     "status": "completed"
    },
    "tags": []
   },
   "outputs": [
    {
     "data": {
      "text/plain": [
       "<AxesSubplot:>"
      ]
     },
     "execution_count": 28,
     "metadata": {},
     "output_type": "execute_result"
    },
    {
     "data": {
      "image/png": "[encoded data removed]",
      "text/plain": [
       "<Figure size 1440x864 with 1 Axes>"
      ]
     },
     "metadata": {
      "needs_background": "light"
     },
     "output_type": "display_data"
    }
   ],
   "source": [
    "y_pred = autogluon_automl.predict(x)\n",
    "autogluon_compare = pd.DataFrame(data={'actual': data['M'], 'predicted': y_pred})\n",
    "autogluon_compare.plot(figsize=(20, 12))"
   ]
  },
  {
   "cell_type": "code",
   "execution_count": 29,
   "id": "d35d8548",
   "metadata": {
    "execution": {
     "iopub.execute_input": "2022-08-16T13:50:16.831613Z",
     "iopub.status.busy": "2022-08-16T13:50:16.831120Z",
     "iopub.status.idle": "2022-08-16T13:50:25.890295Z",
     "shell.execute_reply": "2022-08-16T13:50:25.888701Z"
    },
    "papermill": {
     "duration": 9.111604,
     "end_time": "2022-08-16T13:50:25.893994",
     "exception": false,
     "start_time": "2022-08-16T13:50:16.782390",
     "status": "completed"
    },
    "tags": []
   },
   "outputs": [
    {
     "name": "stdout",
     "output_type": "stream",
     "text": [
      "Checking whether there is an H2O instance running at http://localhost:54321 ..... not found.\n",
      "Attempting to start a local H2O server...\n",
      "  Java Version: openjdk version \"11.0.15\" 2022-04-19; OpenJDK Runtime Environment (build 11.0.15+10-Ubuntu-0ubuntu0.20.04.1); OpenJDK 64-Bit Server VM (build 11.0.15+10-Ubuntu-0ubuntu0.20.04.1, mixed mode, sharing)\n",
      "  Starting server from /opt/conda/lib/python3.7/site-packages/h2o/backend/bin/h2o.jar\n",
      "  Ice root: /tmp/tmpkg0ipn5t\n",
      "  JVM stdout: /tmp/tmpkg0ipn5t/h2o_unknownUser_started_from_python.out\n",
      "  JVM stderr: /tmp/tmpkg0ipn5t/h2o_unknownUser_started_from_python.err\n",
      "  Server is running at http://127.0.0.1:54321\n",
      "Connecting to H2O server at http://127.0.0.1:54321 ... successful.\n"
     ]
    },
    {
     "data": {
      "text/html": [
       "<div style=\"overflow:auto\"><table style=\"width:50%\"><tr><td>H2O_cluster_uptime:</td>\n",
       "<td>03 secs</td></tr>\n",
       "<tr><td>H2O_cluster_timezone:</td>\n",
       "<td>Etc/UTC</td></tr>\n",
       "<tr><td>H2O_data_parsing_timezone:</td>\n",
       "<td>UTC</td></tr>\n",
       "<tr><td>H2O_cluster_version:</td>\n",
       "<td>3.36.1.3</td></tr>\n",
       "<tr><td>H2O_cluster_version_age:</td>\n",
       "<td>1 month and 7 days </td></tr>\n",
       "<tr><td>H2O_cluster_name:</td>\n",
       "<td>H2O_from_python_unknownUser_oq2gwv</td></tr>\n",
       "<tr><td>H2O_cluster_total_nodes:</td>\n",
       "<td>1</td></tr>\n",
       "<tr><td>H2O_cluster_free_memory:</td>\n",
       "<td>4.396 Gb</td></tr>\n",
       "<tr><td>H2O_cluster_total_cores:</td>\n",
       "<td>4</td></tr>\n",
       "<tr><td>H2O_cluster_allowed_cores:</td>\n",
       "<td>4</td></tr>\n",
       "<tr><td>H2O_cluster_status:</td>\n",
       "<td>locked, healthy</td></tr>\n",
       "<tr><td>H2O_connection_url:</td>\n",
       "<td>http://127.0.0.1:54321</td></tr>\n",
       "<tr><td>H2O_connection_proxy:</td>\n",
       "<td>{\"http\": null, \"https\": null}</td></tr>\n",
       "<tr><td>H2O_internal_security:</td>\n",
       "<td>False</td></tr>\n",
       "<tr><td>Python_version:</td>\n",
       "<td>3.7.12 final</td></tr></table></div>"
      ],
      "text/plain": [
       "--------------------------  ----------------------------------\n",
       "H2O_cluster_uptime:         03 secs\n",
       "H2O_cluster_timezone:       Etc/UTC\n",
       "H2O_data_parsing_timezone:  UTC\n",
       "H2O_cluster_version:        3.36.1.3\n",
       "H2O_cluster_version_age:    1 month and 7 days\n",
       "H2O_cluster_name:           H2O_from_python_unknownUser_oq2gwv\n",
       "H2O_cluster_total_nodes:    1\n",
       "H2O_cluster_free_memory:    4.396 Gb\n",
       "H2O_cluster_total_cores:    4\n",
       "H2O_cluster_allowed_cores:  4\n",
       "H2O_cluster_status:         locked, healthy\n",
       "H2O_connection_url:         http://127.0.0.1:54321\n",
       "H2O_connection_proxy:       {\"http\": null, \"https\": null}\n",
       "H2O_internal_security:      False\n",
       "Python_version:             3.7.12 final\n",
       "--------------------------  ----------------------------------"
      ]
     },
     "metadata": {},
     "output_type": "display_data"
    }
   ],
   "source": [
    "import h2o\n",
    "from h2o.automl import H2OAutoML\n",
    "h2o.init()"
   ]
  },
  {
   "cell_type": "code",
   "execution_count": 30,
   "id": "90a0f9b9",
   "metadata": {
    "execution": {
     "iopub.execute_input": "2022-08-16T13:50:26.008091Z",
     "iopub.status.busy": "2022-08-16T13:50:26.006551Z",
     "iopub.status.idle": "2022-08-16T13:50:30.752985Z",
     "shell.execute_reply": "2022-08-16T13:50:30.744228Z"
    },
    "papermill": {
     "duration": 4.801068,
     "end_time": "2022-08-16T13:50:30.756796",
     "exception": false,
     "start_time": "2022-08-16T13:50:25.955728",
     "status": "completed"
    },
    "tags": []
   },
   "outputs": [
    {
     "name": "stdout",
     "output_type": "stream",
     "text": [
      "Parse progress: |████████████████████████████████████████████████████████████████| (done) 100%\n"
     ]
    }
   ],
   "source": [
    "h2o_frame = h2o.H2OFrame(data)\n",
    "x = h2o_frame.columns\n",
    "y = 'M'\n",
    "x.remove(y)"
   ]
  },
  {
   "cell_type": "code",
   "execution_count": 31,
   "id": "f5f1d00d",
   "metadata": {
    "execution": {
     "iopub.execute_input": "2022-08-16T13:50:30.864133Z",
     "iopub.status.busy": "2022-08-16T13:50:30.863696Z",
     "iopub.status.idle": "2022-08-16T13:55:33.134320Z",
     "shell.execute_reply": "2022-08-16T13:55:33.133235Z"
    },
    "papermill": {
     "duration": 302.407944,
     "end_time": "2022-08-16T13:55:33.215746",
     "exception": false,
     "start_time": "2022-08-16T13:50:30.807802",
     "status": "completed"
    },
    "tags": []
   },
   "outputs": [
    {
     "name": "stdout",
     "output_type": "stream",
     "text": [
      "AutoML progress: |███████████████████████████████████████████████████████████████| (done) 100%\n",
      "Model Details\n",
      "=============\n",
      "H2OStackedEnsembleEstimator :  Stacked Ensemble\n",
      "Model Key:  StackedEnsemble_BestOfFamily_2_AutoML_1_20220816_135030\n",
      "\n",
      "No model summary for this model\n",
      "\n",
      "ModelMetricsRegressionGLM: stackedensemble\n",
      "** Reported on train data. **\n",
      "\n",
      "MSE: 4.440466525928968\n",
      "RMSE: 2.1072414493666756\n",
      "MAE: 1.387389215961505\n",
      "RMSLE: 0.1457197495114692\n",
      "R^2: 0.9930801727325539\n",
      "Mean Residual Deviance: 4.440466525928968\n",
      "Null degrees of freedom: 9950\n",
      "Residual degrees of freedom: 9948\n",
      "Null deviance: 6385576.988712682\n",
      "Residual deviance: 44187.08239951916\n",
      "AIC: 43082.26191838449\n",
      "\n",
      "ModelMetricsRegressionGLM: stackedensemble\n",
      "** Reported on cross-validation data. **\n",
      "\n",
      "MSE: 8.97745036789035\n",
      "RMSE: 2.9962393709265536\n",
      "MAE: 1.8633779191087363\n",
      "RMSLE: 0.19719332989024946\n",
      "R^2: 0.9859149422314927\n",
      "Mean Residual Deviance: 8.97745036789035\n",
      "Null degrees of freedom: 99999\n",
      "Residual degrees of freedom: 99997\n",
      "Null deviance: 63738745.45382348\n",
      "Residual deviance: 897745.0367890351\n",
      "AIC: 503267.2985012064\n",
      "\n",
      "Cross-Validation Metrics Summary: \n"
     ]
    },
    {
     "data": {
      "text/html": [
       "<div>\n",
       "<style scoped>\n",
       "    .dataframe tbody tr th:only-of-type {\n",
       "        vertical-align: middle;\n",
       "    }\n",
       "\n",
       "    .dataframe tbody tr th {\n",
       "        vertical-align: top;\n",
       "    }\n",
       "\n",
       "    .dataframe thead th {\n",
       "        text-align: right;\n",
       "    }\n",
       "</style>\n",
       "<table border=\"1\" class=\"dataframe\">\n",
       "  <thead>\n",
       "    <tr style=\"text-align: right;\">\n",
       "      <th></th>\n",
       "      <th></th>\n",
       "      <th>mean</th>\n",
       "      <th>sd</th>\n",
       "      <th>cv_1_valid</th>\n",
       "      <th>cv_2_valid</th>\n",
       "      <th>cv_3_valid</th>\n",
       "      <th>cv_4_valid</th>\n",
       "      <th>cv_5_valid</th>\n",
       "    </tr>\n",
       "  </thead>\n",
       "  <tbody>\n",
       "    <tr>\n",
       "      <th>0</th>\n",
       "      <td>mae</td>\n",
       "      <td>1.863567e+00</td>\n",
       "      <td>0.023367</td>\n",
       "      <td>1.859322e+00</td>\n",
       "      <td>1.834101e+00</td>\n",
       "      <td>1.863079e+00</td>\n",
       "      <td>1.861787e+00</td>\n",
       "      <td>1.899545e+00</td>\n",
       "    </tr>\n",
       "    <tr>\n",
       "      <th>1</th>\n",
       "      <td>mean_residual_deviance</td>\n",
       "      <td>8.977925e+00</td>\n",
       "      <td>0.504324</td>\n",
       "      <td>8.925574e+00</td>\n",
       "      <td>8.267993e+00</td>\n",
       "      <td>8.852610e+00</td>\n",
       "      <td>9.196994e+00</td>\n",
       "      <td>9.646455e+00</td>\n",
       "    </tr>\n",
       "    <tr>\n",
       "      <th>2</th>\n",
       "      <td>mse</td>\n",
       "      <td>8.977925e+00</td>\n",
       "      <td>0.504324</td>\n",
       "      <td>8.925574e+00</td>\n",
       "      <td>8.267993e+00</td>\n",
       "      <td>8.852610e+00</td>\n",
       "      <td>9.196994e+00</td>\n",
       "      <td>9.646455e+00</td>\n",
       "    </tr>\n",
       "    <tr>\n",
       "      <th>3</th>\n",
       "      <td>null_deviance</td>\n",
       "      <td>1.274775e+07</td>\n",
       "      <td>161772.270000</td>\n",
       "      <td>1.298030e+07</td>\n",
       "      <td>1.276751e+07</td>\n",
       "      <td>1.268330e+07</td>\n",
       "      <td>1.277299e+07</td>\n",
       "      <td>1.253463e+07</td>\n",
       "    </tr>\n",
       "    <tr>\n",
       "      <th>4</th>\n",
       "      <td>r2</td>\n",
       "      <td>9.859099e-01</td>\n",
       "      <td>0.000861</td>\n",
       "      <td>9.862710e-01</td>\n",
       "      <td>9.870107e-01</td>\n",
       "      <td>9.859248e-01</td>\n",
       "      <td>9.856881e-01</td>\n",
       "      <td>9.846549e-01</td>\n",
       "    </tr>\n",
       "    <tr>\n",
       "      <th>5</th>\n",
       "      <td>residual_deviance</td>\n",
       "      <td>1.795328e+05</td>\n",
       "      <td>9550.411000</td>\n",
       "      <td>1.781812e+05</td>\n",
       "      <td>1.658394e+05</td>\n",
       "      <td>1.785129e+05</td>\n",
       "      <td>1.827995e+05</td>\n",
       "      <td>1.923310e+05</td>\n",
       "    </tr>\n",
       "    <tr>\n",
       "      <th>6</th>\n",
       "      <td>rmse</td>\n",
       "      <td>2.995369e+00</td>\n",
       "      <td>0.084341</td>\n",
       "      <td>2.987570e+00</td>\n",
       "      <td>2.875412e+00</td>\n",
       "      <td>2.975334e+00</td>\n",
       "      <td>3.032655e+00</td>\n",
       "      <td>3.105874e+00</td>\n",
       "    </tr>\n",
       "    <tr>\n",
       "      <th>7</th>\n",
       "      <td>rmsle</td>\n",
       "      <td>1.971845e-01</td>\n",
       "      <td>0.004978</td>\n",
       "      <td>1.915190e-01</td>\n",
       "      <td>1.933561e-01</td>\n",
       "      <td>1.981294e-01</td>\n",
       "      <td>1.987282e-01</td>\n",
       "      <td>2.041897e-01</td>\n",
       "    </tr>\n",
       "  </tbody>\n",
       "</table>\n",
       "</div>"
      ],
      "text/plain": [
       "                                   mean             sd    cv_1_valid  \\\n",
       "0                     mae  1.863567e+00       0.023367  1.859322e+00   \n",
       "1  mean_residual_deviance  8.977925e+00       0.504324  8.925574e+00   \n",
       "2                     mse  8.977925e+00       0.504324  8.925574e+00   \n",
       "3           null_deviance  1.274775e+07  161772.270000  1.298030e+07   \n",
       "4                      r2  9.859099e-01       0.000861  9.862710e-01   \n",
       "5       residual_deviance  1.795328e+05    9550.411000  1.781812e+05   \n",
       "6                    rmse  2.995369e+00       0.084341  2.987570e+00   \n",
       "7                   rmsle  1.971845e-01       0.004978  1.915190e-01   \n",
       "\n",
       "     cv_2_valid    cv_3_valid    cv_4_valid    cv_5_valid  \n",
       "0  1.834101e+00  1.863079e+00  1.861787e+00  1.899545e+00  \n",
       "1  8.267993e+00  8.852610e+00  9.196994e+00  9.646455e+00  \n",
       "2  8.267993e+00  8.852610e+00  9.196994e+00  9.646455e+00  \n",
       "3  1.276751e+07  1.268330e+07  1.277299e+07  1.253463e+07  \n",
       "4  9.870107e-01  9.859248e-01  9.856881e-01  9.846549e-01  \n",
       "5  1.658394e+05  1.785129e+05  1.827995e+05  1.923310e+05  \n",
       "6  2.875412e+00  2.975334e+00  3.032655e+00  3.105874e+00  \n",
       "7  1.933561e-01  1.981294e-01  1.987282e-01  2.041897e-01  "
      ]
     },
     "metadata": {},
     "output_type": "display_data"
    },
    {
     "data": {
      "text/plain": []
     },
     "execution_count": 31,
     "metadata": {},
     "output_type": "execute_result"
    }
   ],
   "source": [
    "h2o_automl = H2OAutoML(sort_metric='mse', max_runtime_secs=5*60, seed=667)\n",
    "h2o_automl.train(x=x, y=y, training_frame=h2o_frame)"
   ]
  },
  {
   "cell_type": "code",
   "execution_count": 32,
   "id": "e328dd6a",
   "metadata": {
    "execution": {
     "iopub.execute_input": "2022-08-16T13:55:33.376471Z",
     "iopub.status.busy": "2022-08-16T13:55:33.375424Z",
     "iopub.status.idle": "2022-08-16T13:55:50.641797Z",
     "shell.execute_reply": "2022-08-16T13:55:50.640478Z"
    },
    "papermill": {
     "duration": 17.349113,
     "end_time": "2022-08-16T13:55:50.644302",
     "exception": false,
     "start_time": "2022-08-16T13:55:33.295189",
     "status": "completed"
    },
    "tags": []
   },
   "outputs": [
    {
     "data": {
      "text/html": [
       "<table>\n",
       "<thead>\n",
       "<tr><th>model_id                                               </th><th style=\"text-align: right;\">     mse</th><th style=\"text-align: right;\">   rmse</th><th style=\"text-align: right;\">    mae</th><th style=\"text-align: right;\">     rmsle</th><th style=\"text-align: right;\">  mean_residual_deviance</th><th style=\"text-align: right;\">  training_time_ms</th><th style=\"text-align: right;\">  predict_time_per_row_ms</th><th>algo           </th></tr>\n",
       "</thead>\n",
       "<tbody>\n",
       "<tr><td>StackedEnsemble_BestOfFamily_2_AutoML_1_20220816_135030</td><td style=\"text-align: right;\"> 8.97745</td><td style=\"text-align: right;\">2.99624</td><td style=\"text-align: right;\">1.86338</td><td style=\"text-align: right;\">  0.197193</td><td style=\"text-align: right;\">                 8.97745</td><td style=\"text-align: right;\">               916</td><td style=\"text-align: right;\">                 0.04031 </td><td>StackedEnsemble</td></tr>\n",
       "<tr><td>StackedEnsemble_AllModels_1_AutoML_1_20220816_135030   </td><td style=\"text-align: right;\"> 8.9778 </td><td style=\"text-align: right;\">2.9963 </td><td style=\"text-align: right;\">1.86343</td><td style=\"text-align: right;\">  0.197197</td><td style=\"text-align: right;\">                 8.9778 </td><td style=\"text-align: right;\">              1010</td><td style=\"text-align: right;\">                 0.041543</td><td>StackedEnsemble</td></tr>\n",
       "<tr><td>StackedEnsemble_BestOfFamily_1_AutoML_1_20220816_135030</td><td style=\"text-align: right;\"> 8.9789 </td><td style=\"text-align: right;\">2.99648</td><td style=\"text-align: right;\">1.8635 </td><td style=\"text-align: right;\">  0.197201</td><td style=\"text-align: right;\">                 8.9789 </td><td style=\"text-align: right;\">              1158</td><td style=\"text-align: right;\">                 0.035854</td><td>StackedEnsemble</td></tr>\n",
       "<tr><td>GBM_1_AutoML_1_20220816_135030                         </td><td style=\"text-align: right;\"> 9.80828</td><td style=\"text-align: right;\">3.13182</td><td style=\"text-align: right;\">1.96321</td><td style=\"text-align: right;\">  0.202485</td><td style=\"text-align: right;\">                 9.80828</td><td style=\"text-align: right;\">             21427</td><td style=\"text-align: right;\">                 0.033656</td><td>GBM            </td></tr>\n",
       "<tr><td>XGBoost_1_AutoML_1_20220816_135030                     </td><td style=\"text-align: right;\">17.9824 </td><td style=\"text-align: right;\">4.24056</td><td style=\"text-align: right;\">2.80952</td><td style=\"text-align: right;\">nan       </td><td style=\"text-align: right;\">                17.9824 </td><td style=\"text-align: right;\">             13344</td><td style=\"text-align: right;\">                 0.003591</td><td>XGBoost        </td></tr>\n",
       "<tr><td>XGBoost_2_AutoML_1_20220816_135030                     </td><td style=\"text-align: right;\">40.2978 </td><td style=\"text-align: right;\">6.34805</td><td style=\"text-align: right;\">4.38938</td><td style=\"text-align: right;\">nan       </td><td style=\"text-align: right;\">                40.2978 </td><td style=\"text-align: right;\">              2288</td><td style=\"text-align: right;\">                 0.000756</td><td>XGBoost        </td></tr>\n",
       "<tr><td>DeepLearning_1_AutoML_1_20220816_135030                </td><td style=\"text-align: right;\">43.0648 </td><td style=\"text-align: right;\">6.56238</td><td style=\"text-align: right;\">4.86101</td><td style=\"text-align: right;\">nan       </td><td style=\"text-align: right;\">                43.0648 </td><td style=\"text-align: right;\">                97</td><td style=\"text-align: right;\">                 0.001166</td><td>DeepLearning   </td></tr>\n",
       "<tr><td>DRF_1_AutoML_1_20220816_135030                         </td><td style=\"text-align: right;\">65.3734 </td><td style=\"text-align: right;\">8.08538</td><td style=\"text-align: right;\">5.03867</td><td style=\"text-align: right;\">  0.415913</td><td style=\"text-align: right;\">                65.3734 </td><td style=\"text-align: right;\">               895</td><td style=\"text-align: right;\">                 0.000497</td><td>DRF            </td></tr>\n",
       "<tr><td>XRT_1_AutoML_1_20220816_135030                         </td><td style=\"text-align: right;\">83.0317 </td><td style=\"text-align: right;\">9.11217</td><td style=\"text-align: right;\">5.43257</td><td style=\"text-align: right;\">  0.464304</td><td style=\"text-align: right;\">                83.0317 </td><td style=\"text-align: right;\">              1115</td><td style=\"text-align: right;\">                 0.000521</td><td>DRF            </td></tr>\n",
       "<tr><td>GBM_4_AutoML_1_20220816_135030                         </td><td style=\"text-align: right;\">96.8189 </td><td style=\"text-align: right;\">9.83966</td><td style=\"text-align: right;\">7.35447</td><td style=\"text-align: right;\">  0.518101</td><td style=\"text-align: right;\">                96.8189 </td><td style=\"text-align: right;\">              1880</td><td style=\"text-align: right;\">                 0.002961</td><td>GBM            </td></tr>\n",
       "</tbody>\n",
       "</table>"
      ]
     },
     "metadata": {},
     "output_type": "display_data"
    },
    {
     "data": {
      "text/plain": []
     },
     "execution_count": 32,
     "metadata": {},
     "output_type": "execute_result"
    }
   ],
   "source": [
    "h2o_models = h2o.automl.get_leaderboard(h2o_automl, extra_columns = \"ALL\")\n",
    "h2o_models"
   ]
  },
  {
   "cell_type": "code",
   "execution_count": 33,
   "id": "69a4bc78",
   "metadata": {
    "execution": {
     "iopub.execute_input": "2022-08-16T13:55:50.755201Z",
     "iopub.status.busy": "2022-08-16T13:55:50.753826Z",
     "iopub.status.idle": "2022-08-16T13:55:58.536380Z",
     "shell.execute_reply": "2022-08-16T13:55:58.534850Z"
    },
    "papermill": {
     "duration": 7.841925,
     "end_time": "2022-08-16T13:55:58.540067",
     "exception": false,
     "start_time": "2022-08-16T13:55:50.698142",
     "status": "completed"
    },
    "tags": []
   },
   "outputs": [
    {
     "name": "stdout",
     "output_type": "stream",
     "text": [
      "Parse progress: |████████████████████████████████████████████████████████████████| (done) 100%\n",
      "stackedensemble prediction progress: |███████████████████████████████████████████| (done) 100%\n",
      "Parse progress: |████████████████████████████████████████████████████████████████| (done) 100%\n"
     ]
    },
    {
     "data": {
      "text/plain": [
       "4.4819184659916855"
      ]
     },
     "execution_count": 33,
     "metadata": {},
     "output_type": "execute_result"
    }
   ],
   "source": [
    "from h2o.model.regression import h2o_mean_squared_error,h2o_explained_variance_score\n",
    "\n",
    "h2o_frame_test = h2o.H2OFrame(data)\n",
    "\n",
    "y_pred = h2o_automl.predict(h2o_frame_test)\n",
    "y_actual = h2o.H2OFrame(data[['M']])\n",
    "\n",
    "h2o_mean_squared_error(y_actual, y_pred)"
   ]
  },
  {
   "cell_type": "code",
   "execution_count": 34,
   "id": "2784b9dc",
   "metadata": {
    "execution": {
     "iopub.execute_input": "2022-08-16T13:55:58.656350Z",
     "iopub.status.busy": "2022-08-16T13:55:58.655924Z",
     "iopub.status.idle": "2022-08-16T13:55:59.106102Z",
     "shell.execute_reply": "2022-08-16T13:55:59.104847Z"
    },
    "papermill": {
     "duration": 0.507681,
     "end_time": "2022-08-16T13:55:59.108617",
     "exception": false,
     "start_time": "2022-08-16T13:55:58.600936",
     "status": "completed"
    },
    "tags": []
   },
   "outputs": [
    {
     "data": {
      "text/plain": [
       "0.9929681609827423"
      ]
     },
     "execution_count": 34,
     "metadata": {},
     "output_type": "execute_result"
    }
   ],
   "source": [
    "h2o_explained_variance_score(y_actual,y_pred)"
   ]
  },
  {
   "cell_type": "code",
   "execution_count": 35,
   "id": "c512e4c0",
   "metadata": {
    "execution": {
     "iopub.execute_input": "2022-08-16T13:55:59.216488Z",
     "iopub.status.busy": "2022-08-16T13:55:59.215287Z",
     "iopub.status.idle": "2022-08-16T13:55:59.472432Z",
     "shell.execute_reply": "2022-08-16T13:55:59.471341Z"
    },
    "papermill": {
     "duration": 0.31433,
     "end_time": "2022-08-16T13:55:59.475435",
     "exception": false,
     "start_time": "2022-08-16T13:55:59.161105",
     "status": "completed"
    },
    "tags": []
   },
   "outputs": [
    {
     "data": {
      "text/plain": [
       "(100000,)"
      ]
     },
     "execution_count": 35,
     "metadata": {},
     "output_type": "execute_result"
    }
   ],
   "source": [
    "y_pred = h2o.as_list(y_pred)\n",
    "y_pred = y_pred.values.flatten()\n",
    "y_pred.shape"
   ]
  },
  {
   "cell_type": "code",
   "execution_count": 36,
   "id": "d7842cf7",
   "metadata": {
    "execution": {
     "iopub.execute_input": "2022-08-16T13:55:59.589410Z",
     "iopub.status.busy": "2022-08-16T13:55:59.588593Z",
     "iopub.status.idle": "2022-08-16T13:56:04.822252Z",
     "shell.execute_reply": "2022-08-16T13:56:04.820576Z"
    },
    "papermill": {
     "duration": 5.292792,
     "end_time": "2022-08-16T13:56:04.825618",
     "exception": false,
     "start_time": "2022-08-16T13:55:59.532826",
     "status": "completed"
    },
    "tags": []
   },
   "outputs": [
    {
     "data": {
      "text/plain": [
       "<AxesSubplot:>"
      ]
     },
     "execution_count": 36,
     "metadata": {},
     "output_type": "execute_result"
    },
    {
     "data": {
      "image/png": "[encoded data removed]",
      "text/plain": [
       "<Figure size 1080x864 with 1 Axes>"
      ]
     },
     "metadata": {
      "needs_background": "light"
     },
     "output_type": "display_data"
    }
   ],
   "source": [
    "h2o_model = pd.DataFrame(data={'actual': data['M'], 'predicted': y_pred})\n",
    "h2o_model.plot(figsize=(15, 12))"
   ]
  },
  {
   "cell_type": "code",
   "execution_count": null,
   "id": "30736f0b",
   "metadata": {
    "papermill": {
     "duration": 0.057296,
     "end_time": "2022-08-16T13:56:04.947613",
     "exception": false,
     "start_time": "2022-08-16T13:56:04.890317",
     "status": "completed"
    },
    "tags": []
   },
   "outputs": [],
   "source": []
  },
  {
   "cell_type": "code",
   "execution_count": null,
   "id": "19822f33",
   "metadata": {
    "papermill": {
     "duration": 0.055248,
     "end_time": "2022-08-16T13:56:05.057801",
     "exception": false,
     "start_time": "2022-08-16T13:56:05.002553",
     "status": "completed"
    },
    "tags": []
   },
   "outputs": [],
   "source": []
  }
 ],
 "metadata": {
  "kernelspec": {
   "display_name": "Python 3",
   "language": "python",
   "name": "python3"
  },
  "language_info": {
   "codemirror_mode": {
    "name": "ipython",
    "version": 3
   },
   "file_extension": ".py",
   "mimetype": "text/x-python",
   "name": "python",
   "nbconvert_exporter": "python",
   "pygments_lexer": "ipython3",
   "version": "3.7.12"
  },
  "papermill": {
   "default_parameters": {},
   "duration": 1861.668831,
   "end_time": "2022-08-16T13:56:07.841901",
   "environment_variables": {},
   "exception": null,
   "input_path": "__notebook__.ipynb",
   "output_path": "__notebook__.ipynb",
   "parameters": {},
   "start_time": "2022-08-16T13:25:06.173070",
   "version": "2.3.4"
  },
  "widgets": {
   "application/vnd.jupyter.widget-state+json": {
    "state": {
     "0a46e4a745aa44d1b5c64fa36c730c47": {
      "model_module": "@jupyter-widgets/controls",
      "model_module_version": "1.5.0",
      "model_name": "HTMLModel",
      "state": {
       "_dom_classes": [],
       "_model_module": "@jupyter-widgets/controls",
       "_model_module_version": "1.5.0",
       "_model_name": "HTMLModel",
       "_view_count": null,
       "_view_module": "@jupyter-widgets/controls",
       "_view_module_version": "1.5.0",
       "_view_name": "HTMLView",
       "description": "",
       "description_tooltip": null,
       "layout": "IPY_MODEL_b3368a8b10d34f57b6ae06eab146ca51",
       "placeholder": "​",
       "style": "IPY_MODEL_b189ede51469438e8b362b87cf418d55",
       "value": "Processing:  67%"
      }
     },
     "0f463b3fb7c147f58e0bf0d48072d587": {
      "model_module": "@jupyter-widgets/base",
      "model_module_version": "1.2.0",
      "model_name": "LayoutModel",
      "state": {
       "_model_module": "@jupyter-widgets/base",
       "_model_module_version": "1.2.0",
       "_model_name": "LayoutModel",
       "_view_count": null,
       "_view_module": "@jupyter-widgets/base",
       "_view_module_version": "1.2.0",
       "_view_name": "LayoutView",
       "align_content": null,
       "align_items": null,
       "align_self": null,
       "border": null,
       "bottom": null,
       "display": null,
       "flex": null,
       "flex_flow": null,
       "grid_area": null,
       "grid_auto_columns": null,
       "grid_auto_flow": null,
       "grid_auto_rows": null,
       "grid_column": null,
       "grid_gap": null,
       "grid_row": null,
       "grid_template_areas": null,
       "grid_template_columns": null,
       "grid_template_rows": null,
       "height": null,
       "justify_content": null,
       "justify_items": null,
       "left": null,
       "margin": null,
       "max_height": null,
       "max_width": null,
       "min_height": null,
       "min_width": null,
       "object_fit": null,
       "object_position": null,
       "order": null,
       "overflow": null,
       "overflow_x": null,
       "overflow_y": null,
       "padding": null,
       "right": null,
       "top": null,
       "visibility": null,
       "width": null
      }
     },
     "2cad3df1e5334441bfe419e9fb306dd6": {
      "model_module": "@jupyter-widgets/base",
      "model_module_version": "1.2.0",
      "model_name": "LayoutModel",
      "state": {
       "_model_module": "@jupyter-widgets/base",
       "_model_module_version": "1.2.0",
       "_model_name": "LayoutModel",
       "_view_count": null,
       "_view_module": "@jupyter-widgets/base",
       "_view_module_version": "1.2.0",
       "_view_name": "LayoutView",
       "align_content": null,
       "align_items": null,
       "align_self": null,
       "border": null,
       "bottom": null,
       "display": null,
       "flex": null,
       "flex_flow": null,
       "grid_area": null,
       "grid_auto_columns": null,
       "grid_auto_flow": null,
       "grid_auto_rows": null,
       "grid_column": null,
       "grid_gap": null,
       "grid_row": null,
       "grid_template_areas": null,
       "grid_template_columns": null,
       "grid_template_rows": null,
       "height": null,
       "justify_content": null,
       "justify_items": null,
       "left": null,
       "margin": null,
       "max_height": null,
       "max_width": null,
       "min_height": null,
       "min_width": null,
       "object_fit": null,
       "object_position": null,
       "order": null,
       "overflow": null,
       "overflow_x": null,
       "overflow_y": null,
       "padding": null,
       "right": null,
       "top": null,
       "visibility": null,
       "width": null
      }
     },
     "5b497e9416694fef9c9ae429cbcc1ae0": {
      "model_module": "@jupyter-widgets/base",
      "model_module_version": "1.2.0",
      "model_name": "LayoutModel",
      "state": {
       "_model_module": "@jupyter-widgets/base",
       "_model_module_version": "1.2.0",
       "_model_name": "LayoutModel",
       "_view_count": null,
       "_view_module": "@jupyter-widgets/base",
       "_view_module_version": "1.2.0",
       "_view_name": "LayoutView",
       "align_content": null,
       "align_items": null,
       "align_self": null,
       "border": null,
       "bottom": null,
       "display": null,
       "flex": null,
       "flex_flow": null,
       "grid_area": null,
       "grid_auto_columns": null,
       "grid_auto_flow": null,
       "grid_auto_rows": null,
       "grid_column": null,
       "grid_gap": null,
       "grid_row": null,
       "grid_template_areas": null,
       "grid_template_columns": null,
       "grid_template_rows": null,
       "height": null,
       "justify_content": null,
       "justify_items": null,
       "left": null,
       "margin": null,
       "max_height": null,
       "max_width": null,
       "min_height": null,
       "min_width": null,
       "object_fit": null,
       "object_position": null,
       "order": null,
       "overflow": null,
       "overflow_x": null,
       "overflow_y": null,
       "padding": null,
       "right": null,
       "top": null,
       "visibility": null,
       "width": null
      }
     },
     "658b138c1d6e46528ec0ef308f2b9deb": {
      "model_module": "@jupyter-widgets/controls",
      "model_module_version": "1.5.0",
      "model_name": "ProgressStyleModel",
      "state": {
       "_model_module": "@jupyter-widgets/controls",
       "_model_module_version": "1.5.0",
       "_model_name": "ProgressStyleModel",
       "_view_count": null,
       "_view_module": "@jupyter-widgets/base",
       "_view_module_version": "1.2.0",
       "_view_name": "StyleView",
       "bar_color": null,
       "description_width": ""
      }
     },
     "8ac54c1631994071b32f5020d441da09": {
      "model_module": "@jupyter-widgets/controls",
      "model_module_version": "1.5.0",
      "model_name": "HTMLModel",
      "state": {
       "_dom_classes": [],
       "_model_module": "@jupyter-widgets/controls",
       "_model_module_version": "1.5.0",
       "_model_name": "HTMLModel",
       "_view_count": null,
       "_view_module": "@jupyter-widgets/controls",
       "_view_module_version": "1.5.0",
       "_view_name": "HTMLView",
       "description": "",
       "description_tooltip": null,
       "layout": "IPY_MODEL_5b497e9416694fef9c9ae429cbcc1ae0",
       "placeholder": "​",
       "style": "IPY_MODEL_8acd356bc9ec489db6c25efc32ec07a3",
       "value": " 57/85 [10:08&lt;19:57, 42.76s/it]"
      }
     },
     "8acd356bc9ec489db6c25efc32ec07a3": {
      "model_module": "@jupyter-widgets/controls",
      "model_module_version": "1.5.0",
      "model_name": "DescriptionStyleModel",
      "state": {
       "_model_module": "@jupyter-widgets/controls",
       "_model_module_version": "1.5.0",
       "_model_name": "DescriptionStyleModel",
       "_view_count": null,
       "_view_module": "@jupyter-widgets/base",
       "_view_module_version": "1.2.0",
       "_view_name": "StyleView",
       "description_width": ""
      }
     },
     "b189ede51469438e8b362b87cf418d55": {
      "model_module": "@jupyter-widgets/controls",
      "model_module_version": "1.5.0",
      "model_name": "DescriptionStyleModel",
      "state": {
       "_model_module": "@jupyter-widgets/controls",
       "_model_module_version": "1.5.0",
       "_model_name": "DescriptionStyleModel",
       "_view_count": null,
       "_view_module": "@jupyter-widgets/base",
       "_view_module_version": "1.2.0",
       "_view_name": "StyleView",
       "description_width": ""
      }
     },
     "b3368a8b10d34f57b6ae06eab146ca51": {
      "model_module": "@jupyter-widgets/base",
      "model_module_version": "1.2.0",
      "model_name": "LayoutModel",
      "state": {
       "_model_module": "@jupyter-widgets/base",
       "_model_module_version": "1.2.0",
       "_model_name": "LayoutModel",
       "_view_count": null,
       "_view_module": "@jupyter-widgets/base",
       "_view_module_version": "1.2.0",
       "_view_name": "LayoutView",
       "align_content": null,
       "align_items": null,
       "align_self": null,
       "border": null,
       "bottom": null,
       "display": null,
       "flex": null,
       "flex_flow": null,
       "grid_area": null,
       "grid_auto_columns": null,
       "grid_auto_flow": null,
       "grid_auto_rows": null,
       "grid_column": null,
       "grid_gap": null,
       "grid_row": null,
       "grid_template_areas": null,
       "grid_template_columns": null,
       "grid_template_rows": null,
       "height": null,
       "justify_content": null,
       "justify_items": null,
       "left": null,
       "margin": null,
       "max_height": null,
       "max_width": null,
       "min_height": null,
       "min_width": null,
       "object_fit": null,
       "object_position": null,
       "order": null,
       "overflow": null,
       "overflow_x": null,
       "overflow_y": null,
       "padding": null,
       "right": null,
       "top": null,
       "visibility": null,
       "width": null
      }
     },
     "dd84a8951fdb4e798ce6c0f19fe37b45": {
      "model_module": "@jupyter-widgets/controls",
      "model_module_version": "1.5.0",
      "model_name": "HBoxModel",
      "state": {
       "_dom_classes": [],
       "_model_module": "@jupyter-widgets/controls",
       "_model_module_version": "1.5.0",
       "_model_name": "HBoxModel",
       "_view_count": null,
       "_view_module": "@jupyter-widgets/controls",
       "_view_module_version": "1.5.0",
       "_view_name": "HBoxView",
       "box_style": "",
       "children": [
        "IPY_MODEL_0a46e4a745aa44d1b5c64fa36c730c47",
        "IPY_MODEL_fbb6ede1b401422fb6109c5d53222397",
        "IPY_MODEL_8ac54c1631994071b32f5020d441da09"
       ],
       "layout": "IPY_MODEL_2cad3df1e5334441bfe419e9fb306dd6"
      }
     },
     "fbb6ede1b401422fb6109c5d53222397": {
      "model_module": "@jupyter-widgets/controls",
      "model_module_version": "1.5.0",
      "model_name": "FloatProgressModel",
      "state": {
       "_dom_classes": [],
       "_model_module": "@jupyter-widgets/controls",
       "_model_module_version": "1.5.0",
       "_model_name": "FloatProgressModel",
       "_view_count": null,
       "_view_module": "@jupyter-widgets/controls",
       "_view_module_version": "1.5.0",
       "_view_name": "ProgressView",
       "bar_style": "danger",
       "description": "",
       "description_tooltip": null,
       "layout": "IPY_MODEL_0f463b3fb7c147f58e0bf0d48072d587",
       "max": 85.0,
       "min": 0.0,
       "orientation": "horizontal",
       "style": "IPY_MODEL_658b138c1d6e46528ec0ef308f2b9deb",
       "value": 57.0
      }
     }
    },
    "version_major": 2,
    "version_minor": 0
   }
  }
 },
 "nbformat": 4,
 "nbformat_minor": 5
}
